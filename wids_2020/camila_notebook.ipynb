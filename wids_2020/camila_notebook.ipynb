{
 "cells": [
  {
   "cell_type": "markdown",
   "metadata": {
    "id": "rGg5jXQZG7uz"
   },
   "source": [
    "# WIDS Datathon 2020\n",
    "\n",
    "**Paticipantes**: Adriana, Camila, Luiz, Michele\n",
    "\n",
    "**Grupo Kaggle**: Ararajuba\n",
    "\n",
    "**Ponto de atenção**: A variável \"hospital_death\" é a que devemos gerar a probabilidade em nosso modelo. As variáveis que começam com d1_ são exames clínicos acompanhados na primeira 24h do paciente na UTI e as variáveis h1_ são os exames clínicos acompanhados na primeira 1 hora do paciente na UTI, os valores h1_ possuem taxas acima de 90% de nulos em algumas features.\n",
    "\n",
    "Métrica a ser encaminhada no resultado: AUC\n",
    "\n",
    "Tipos de algoritimos comuns: **XGBoost, CatBoost, Random Forest.**\n",
    "\n",
    "**DICA: Separe 5% dos dados para testes antes da subimição**"
   ]
  },
  {
   "cell_type": "markdown",
   "metadata": {
    "id": "MeqPsZ9cSYNQ"
   },
   "source": [
    "### Links/Fontes de informação\n",
    "\n",
    "RISCO EM UTI: http://www.scielo.br/pdf/rbti/v28n3/0103-507X-rbti-28-03-0264.pdf\n",
    "\n",
    "Notebooks da competição:\n",
    "* https://www.kaggle.com/usharengaraju/wids2020-visualizingcategoricalfeatures\n",
    "* https://www.kaggle.com/danofer/feature-selection-with-null-importances-wids\n",
    "\n",
    "**Leitura IMPORTANTE** (MUST-DO): https://dspace.mit.edu/bitstream/handle/1721.1/112844/1015239594-MIT.pdf?sequence=1&isAllowed=y"
   ]
  },
  {
   "cell_type": "markdown",
   "metadata": {
    "id": "JHj9L63bOkTR"
   },
   "source": [
    "## **Setup**"
   ]
  },
  {
   "cell_type": "code",
   "execution_count": null,
   "metadata": {
    "id": "eVD8-QK9GGVR"
   },
   "outputs": [],
   "source": [
    "# Pandas nos permite trabajar con DataFrames\n",
    "import pandas as pd\n",
    "# Para la visualización de datos\n",
    "import plotly.express as px\n",
    "import json\n",
    "import numpy as np\n",
    "import seaborn as sns\n",
    "import matplotlib.pyplot as plt\n",
    "\n",
    "# model\n",
    "from sklearn.impute import SimpleImputer\n",
    "from sklearn.metrics import accuracy_score\n",
    "from sklearn.model_selection import train_test_split\n",
    "from sklearn.ensemble import RandomForestClassifier,GradientBoostingClassifier ,VotingClassifier\n",
    "\n",
    "# roc curve and auc score\n",
    "from sklearn.metrics import roc_curve\n",
    "from sklearn.metrics import roc_auc_score\n",
    "\n",
    "%matplotlib inline\n",
    "%load_ext google.colab.data_table"
   ]
  },
  {
   "cell_type": "code",
   "execution_count": null,
   "metadata": {
    "colab": {
     "base_uri": "https://localhost:8080/",
     "height": 687
    },
    "executionInfo": {
     "elapsed": 16956,
     "status": "ok",
     "timestamp": 1582551770439,
     "user": {
      "displayName": "Ararajuba Data Science Project",
      "photoUrl": "",
      "userId": "02004027308564222829"
     },
     "user_tz": 180
    },
    "id": "f6IihDxNG6qH",
    "outputId": "ac6cf0d5-5bca-4f32-99dc-3a8d635bd104"
   },
   "outputs": [
    {
     "name": "stdout",
     "output_type": "stream",
     "text": [
      "Collecting mglearn\n",
      "\u001b[?25l  Downloading https://files.pythonhosted.org/packages/fb/01/8d3630ecc767c9de96a9c46e055f2a3a5f9e14a47d3d0348a36a5005fe67/mglearn-0.1.7.tar.gz (540kB)\n",
      "\u001b[K     |████████████████████████████████| 542kB 4.2MB/s \n",
      "\u001b[?25hRequirement already satisfied: numpy in /usr/local/lib/python3.6/dist-packages (from mglearn) (1.17.5)\n",
      "Requirement already satisfied: matplotlib in /usr/local/lib/python3.6/dist-packages (from mglearn) (3.1.3)\n",
      "Requirement already satisfied: scikit-learn in /usr/local/lib/python3.6/dist-packages (from mglearn) (0.22.1)\n",
      "Requirement already satisfied: pandas in /usr/local/lib/python3.6/dist-packages (from mglearn) (0.25.3)\n",
      "Requirement already satisfied: pillow in /usr/local/lib/python3.6/dist-packages (from mglearn) (6.2.2)\n",
      "Requirement already satisfied: cycler in /usr/local/lib/python3.6/dist-packages (from mglearn) (0.10.0)\n",
      "Requirement already satisfied: imageio in /usr/local/lib/python3.6/dist-packages (from mglearn) (2.4.1)\n",
      "Requirement already satisfied: pyparsing!=2.0.4,!=2.1.2,!=2.1.6,>=2.0.1 in /usr/local/lib/python3.6/dist-packages (from matplotlib->mglearn) (2.4.6)\n",
      "Requirement already satisfied: python-dateutil>=2.1 in /usr/local/lib/python3.6/dist-packages (from matplotlib->mglearn) (2.6.1)\n",
      "Requirement already satisfied: kiwisolver>=1.0.1 in /usr/local/lib/python3.6/dist-packages (from matplotlib->mglearn) (1.1.0)\n",
      "Requirement already satisfied: joblib>=0.11 in /usr/local/lib/python3.6/dist-packages (from scikit-learn->mglearn) (0.14.1)\n",
      "Requirement already satisfied: scipy>=0.17.0 in /usr/local/lib/python3.6/dist-packages (from scikit-learn->mglearn) (1.4.1)\n",
      "Requirement already satisfied: pytz>=2017.2 in /usr/local/lib/python3.6/dist-packages (from pandas->mglearn) (2018.9)\n",
      "Requirement already satisfied: six in /usr/local/lib/python3.6/dist-packages (from cycler->mglearn) (1.12.0)\n",
      "Requirement already satisfied: setuptools in /usr/local/lib/python3.6/dist-packages (from kiwisolver>=1.0.1->matplotlib->mglearn) (45.1.0)\n",
      "Building wheels for collected packages: mglearn\n",
      "  Building wheel for mglearn (setup.py) ... \u001b[?25l\u001b[?25hdone\n",
      "  Created wheel for mglearn: filename=mglearn-0.1.7-py2.py3-none-any.whl size=582705 sha256=8117a2be6f76aec6daa075f8c19445c7fc9a3610934122db3f25425a3ec13f58\n",
      "  Stored in directory: /root/.cache/pip/wheels/74/cf/8d/04f4932d15854a36726c6210763c7127e62de28f5c8ddfcf3b\n",
      "Successfully built mglearn\n",
      "Installing collected packages: mglearn\n",
      "Successfully installed mglearn-0.1.7\n",
      "Requirement already satisfied: kaggle in /usr/local/lib/python3.6/dist-packages (1.5.6)\n",
      "Requirement already satisfied: python-dateutil in /usr/local/lib/python3.6/dist-packages (from kaggle) (2.6.1)\n",
      "Requirement already satisfied: certifi in /usr/local/lib/python3.6/dist-packages (from kaggle) (2019.11.28)\n",
      "Requirement already satisfied: six>=1.10 in /usr/local/lib/python3.6/dist-packages (from kaggle) (1.12.0)\n",
      "Requirement already satisfied: tqdm in /usr/local/lib/python3.6/dist-packages (from kaggle) (4.28.1)\n",
      "Requirement already satisfied: python-slugify in /usr/local/lib/python3.6/dist-packages (from kaggle) (4.0.0)\n",
      "Requirement already satisfied: requests in /usr/local/lib/python3.6/dist-packages (from kaggle) (2.21.0)\n",
      "Requirement already satisfied: urllib3<1.25,>=1.21.1 in /usr/local/lib/python3.6/dist-packages (from kaggle) (1.24.3)\n",
      "Requirement already satisfied: text-unidecode>=1.3 in /usr/local/lib/python3.6/dist-packages (from python-slugify->kaggle) (1.3)\n",
      "Requirement already satisfied: idna<2.9,>=2.5 in /usr/local/lib/python3.6/dist-packages (from requests->kaggle) (2.8)\n",
      "Requirement already satisfied: chardet<3.1.0,>=3.0.2 in /usr/local/lib/python3.6/dist-packages (from requests->kaggle) (3.0.4)\n"
     ]
    }
   ],
   "source": [
    "!pip install mglearn\n",
    "!pip install kaggle\n",
    "!mkdir ~/.kaggle\n",
    "!touch '/root/.kaggle/kaggle.json'\n",
    "######################################################################################\n",
    "# Copia aquí tu USER NAME y API KEY de kaggle\n",
    "\n",
    "api_token = {\"username\":\"xxxx\",\"key\":\"xxxx\"}\n",
    "######################################################################################\n",
    "\n",
    "\n",
    "with open('/root/.kaggle/kaggle.json', 'w') as file:\n",
    "    json.dump(api_token, file)\n",
    "\n",
    "!chmod 600 /root/.kaggle/kaggle.json"
   ]
  },
  {
   "cell_type": "code",
   "execution_count": null,
   "metadata": {
    "colab": {
     "base_uri": "https://localhost:8080/",
     "height": 186
    },
    "executionInfo": {
     "elapsed": 17243,
     "status": "ok",
     "timestamp": 1582551770733,
     "user": {
      "displayName": "Ararajuba Data Science Project",
      "photoUrl": "",
      "userId": "02004027308564222829"
     },
     "user_tz": 180
    },
    "id": "-5JFnpAbbSlu",
    "outputId": "a390fb0f-310a-4704-a659-0ff3e8034ce9"
   },
   "outputs": [
    {
     "name": "stderr",
     "output_type": "stream",
     "text": [
      "/usr/local/lib/python3.6/dist-packages/sklearn/externals/six.py:31: FutureWarning:\n",
      "\n",
      "The module is deprecated in version 0.21 and will be removed in version 0.23 since we've dropped support for Python 2.7. Please rely on the official version of six (https://pypi.org/project/six/).\n",
      "\n",
      "/usr/local/lib/python3.6/dist-packages/sklearn/externals/joblib/__init__.py:15: FutureWarning:\n",
      "\n",
      "sklearn.externals.joblib is deprecated in 0.21 and will be removed in 0.23. Please import this functionality directly from joblib, which can be installed with: pip install joblib. If this warning is raised when loading pickled models, you may need to re-serialize those models with scikit-learn 0.21+.\n",
      "\n"
     ]
    }
   ],
   "source": [
    "import mglearn"
   ]
  },
  {
   "cell_type": "code",
   "execution_count": null,
   "metadata": {
    "colab": {
     "base_uri": "https://localhost:8080/",
     "height": 156
    },
    "executionInfo": {
     "elapsed": 2419,
     "status": "ok",
     "timestamp": 1582730730518,
     "user": {
      "displayName": "Ararajuba Data Science Project",
      "photoUrl": "",
      "userId": "02004027308564222829"
     },
     "user_tz": 180
    },
    "id": "kbTJuiqmHg8C",
    "outputId": "f9c0f298-0505-438f-a74f-235e24277e46"
   },
   "outputs": [
    {
     "name": "stdout",
     "output_type": "stream",
     "text": [
      "Traceback (most recent call last):\n",
      "  File \"/usr/local/bin/kaggle\", line 5, in <module>\n",
      "    from kaggle.cli import main\n",
      "  File \"/usr/local/lib/python2.7/dist-packages/kaggle/__init__.py\", line 23, in <module>\n",
      "    api.authenticate()\n",
      "  File \"/usr/local/lib/python2.7/dist-packages/kaggle/api/kaggle_api_extended.py\", line 146, in authenticate\n",
      "    self.config_file, self.config_dir))\n",
      "IOError: Could not find kaggle.json. Make sure it's located in /root/.kaggle. Or use the environment method.\n"
     ]
    }
   ],
   "source": [
    "!kaggle competitions download -c widsdatathon2020"
   ]
  },
  {
   "cell_type": "code",
   "execution_count": null,
   "metadata": {
    "colab": {
     "base_uri": "https://localhost:8080/",
     "height": 91
    },
    "executionInfo": {
     "elapsed": 26775,
     "status": "ok",
     "timestamp": 1582551780282,
     "user": {
      "displayName": "Ararajuba Data Science Project",
      "photoUrl": "",
      "userId": "02004027308564222829"
     },
     "user_tz": 180
    },
    "id": "zKqmKtlTHl7D",
    "outputId": "315d4c10-886c-45c6-aa46-ea8d5b49c7e6"
   },
   "outputs": [
    {
     "name": "stdout",
     "output_type": "stream",
     "text": [
      "Archive:  training_v2.csv.zip\n",
      "  inflating: training_v2.csv         \n",
      "Archive:  unlabeled.csv.zip\n",
      "  inflating: unlabeled.csv           \n"
     ]
    }
   ],
   "source": [
    "!unzip -o training_v2.csv.zip \n",
    "!unzip -o unlabeled.csv.zip"
   ]
  },
  {
   "cell_type": "code",
   "execution_count": null,
   "metadata": {
    "colab": {
     "base_uri": "https://localhost:8080/",
     "height": 110
    },
    "executionInfo": {
     "elapsed": 28878,
     "status": "ok",
     "timestamp": 1582551782392,
     "user": {
      "displayName": "Ararajuba Data Science Project",
      "photoUrl": "",
      "userId": "02004027308564222829"
     },
     "user_tz": 180
    },
    "id": "cfrf3dzCHqGV",
    "outputId": "0d0e5600-dbd9-468a-f6bc-e2825c0d5908"
   },
   "outputs": [
    {
     "name": "stdout",
     "output_type": "stream",
     "text": [
      "cache\t\t       training_v2.csv.zip\n",
      "sample_data\t       unlabeled.csv\n",
      "samplesubmission.csv   unlabeled.csv.zip\n",
      "solution_template.csv  WiDS%20Datathon%202020%20Dictionary.csv\n",
      "training_v2.csv\n"
     ]
    }
   ],
   "source": [
    "!ls"
   ]
  },
  {
   "cell_type": "markdown",
   "metadata": {
    "id": "CssoNBYpOprM"
   },
   "source": [
    "## **Exploratório**"
   ]
  },
  {
   "cell_type": "code",
   "execution_count": null,
   "metadata": {
    "id": "vM9Qupe_JzLw"
   },
   "outputs": [],
   "source": [
    "## Funções\n",
    "def ler_arquivos(arquivo):\n",
    "  df = pd.read_csv(arquivo)  \n",
    "  print(\"Dimenções \",arquivo, \"(filas, columnas)  : \", df.shape)\n",
    "  return df\n",
    "\n",
    "def remover_valores(df,column):\n",
    "  df = df[(df[column].notnull())]\n",
    "  print(df.shape)\n",
    "  return df\n",
    "\n",
    "def plot_roc_curve(fpr, tpr):\n",
    "    plt.plot(fpr, tpr, color='orange', label='ROC')\n",
    "    plt.plot([0, 1], [0, 1], color='darkblue', linestyle='--')\n",
    "    plt.xlabel('False Positive Rate')\n",
    "    plt.ylabel('True Positive Rate')\n",
    "    plt.title('Receiver Operating Characteristic (ROC) Curve')\n",
    "    plt.legend()\n",
    "    plt.show()\n",
    "\n",
    "def missing_values(df):\n",
    "  percent_missing_died = df[(df['hospital_death'] == 1) ].isnull().sum() * 100 / len(df)\n",
    "  percent_missing_alive = df[(df['hospital_death'] == 0) ].isnull().sum() * 100 / len(df)\n",
    "  missing_value_df = pd.DataFrame({'column_name': df.columns,\n",
    "                                  'percent_missing_died': percent_missing_died,\n",
    "                                  'percent_missing_alive': percent_missing_alive}).round(2)\n",
    "\n",
    "  missing_value_df.sort_values('percent_missing_died', inplace=True)\n",
    "  return missing_value_df.head(200)\n",
    "\n",
    "def nan_values(df):\n",
    "  percent_missing_died = df[(df['hospital_death'] == 1) ].isna().sum() * 100 / len(df)\n",
    "  percent_missing_alive = df[(df['hospital_death'] == 0) ].isna().sum() * 100 / len(df)\n",
    "  missing_value_df = pd.DataFrame({'column_name': df.columns,\n",
    "                                  'percent_missing_died': percent_missing_died,\n",
    "                                  'percent_missing_alive': percent_missing_alive}).round(2)\n",
    "\n",
    "  missing_value_df.sort_values('percent_missing_died', inplace=True)\n",
    "  return missing_value_df.head(200)\n",
    "\n",
    "def fillnan_mean_ethnicity(df,column):\n",
    "  gc = df.groupby(['ethnicity'],as_index=False).mean().round(2)\n",
    "\n",
    "  for index, row in gc.iterrows():\n",
    "    df.loc[df.ethnicity== row['ethnicity'],column] = df.loc[df.ethnicity== row['ethnicity'],column].fillna(gc[gc['ethnicity'] == row['ethnicity']][column].mean())\n",
    "  return df\n",
    "\n",
    "def fillnan_mean_age(df,column):\n",
    "  if column in df:\n",
    "    gc = df.groupby(['age'],as_index=False).mean().round(2)\n",
    "\n",
    "    for index, row in gc.iterrows():\n",
    "      df.loc[df.age== row['age'],column] = df.loc[df.age== row['age'],column].fillna(gc[gc['age'] == row['age']][column].mean())\n",
    "\n",
    "  return df\n",
    "\n",
    "def fillnan_mean_apache_3j_bodysystem(df,column):\n",
    "  if column in df:\n",
    "    gc = df.groupby(['apache_3j_bodysystem'],as_index=False).mean().round(2)\n",
    "\n",
    "    for index, row in gc.iterrows():\n",
    "      df.loc[df.apache_3j_bodysystem== row['apache_3j_bodysystem'],column] = df.loc[df.apache_3j_bodysystem== row['apache_3j_bodysystem'],column].fillna(gc[gc['apache_3j_bodysystem'] == row['apache_3j_bodysystem']][column].mean())\n",
    "      \n",
    "  return df"
   ]
  },
  {
   "cell_type": "code",
   "execution_count": null,
   "metadata": {
    "colab": {
     "base_uri": "https://localhost:8080/"
    },
    "executionInfo": {
     "elapsed": 4064,
     "status": "ok",
     "timestamp": 1582555858098,
     "user": {
      "displayName": "Ararajuba Data Science Project",
      "photoUrl": "",
      "userId": "02004027308564222829"
     },
     "user_tz": 180
    },
    "id": "3D2SMnJMHsNx",
    "outputId": "92f97c7d-db04-4e7c-c761-904756ca32af"
   },
   "outputs": [
    {
     "name": "stdout",
     "output_type": "stream",
     "text": [
      "Dimenções  training_v2.csv (filas, columnas)  :  (91713, 186)\n",
      "Dimenções  unlabeled.csv (filas, columnas)  :  (39308, 186)\n",
      "Dimenções  samplesubmission.csv (filas, columnas)  :  (3, 2)\n",
      "Dimenções  solution_template.csv (filas, columnas)  :  (39308, 2)\n",
      "Dimenções  WiDS%20Datathon%202020%20Dictionary.csv (filas, columnas)  :  (188, 6)\n"
     ]
    }
   ],
   "source": [
    "df_training = ler_arquivos('training_v2.csv')\n",
    "df_unlabeled = ler_arquivos('unlabeled.csv')\n",
    "df_samplesubmission = ler_arquivos('samplesubmission.csv')\n",
    "df_solution_template = ler_arquivos('solution_template.csv')\n",
    "df_wids_dict = ler_arquivos('WiDS%20Datathon%202020%20Dictionary.csv')"
   ]
  },
  {
   "cell_type": "code",
   "execution_count": null,
   "metadata": {
    "colab": {
     "base_uri": "https://localhost:8080/"
    },
    "executionInfo": {
     "elapsed": 4454,
     "status": "ok",
     "timestamp": 1582555858497,
     "user": {
      "displayName": "Ararajuba Data Science Project",
      "photoUrl": "",
      "userId": "02004027308564222829"
     },
     "user_tz": 180
    },
    "id": "VzaNtddFJ7vy",
    "outputId": "1bd6411e-8041-42ba-f2da-d937b1530bca"
   },
   "outputs": [
    {
     "name": "stdout",
     "output_type": "stream",
     "text": [
      "Features categoricas  ['ethnicity', 'gender', 'hospital_admit_source', 'icu_admit_source', 'icu_stay_type', 'icu_type', 'apache_3j_bodysystem', 'apache_2_bodysystem']\n"
     ]
    }
   ],
   "source": [
    "from IPython.display import display\n",
    "pd.set_option('display.max_columns', 100)\n",
    "pd.options.display.max_columns = 100\n",
    "\n",
    "cat_var = [key for key in dict(df_training.dtypes)\n",
    "             if dict(df_training.dtypes)[key] in ['object'] ]\n",
    "\n",
    "print('Features categoricas ',cat_var)"
   ]
  },
  {
   "cell_type": "code",
   "execution_count": null,
   "metadata": {
    "id": "IgZ2wPdcWncD"
   },
   "outputs": [],
   "source": [
    "replace_map = {'apache_3j_bodysystem': {'Cardiovascular': 1, 'Sepsis': 2, 'Respiratory': 3, 'Neurological': 4,'Gastrointestinal': 5,'Metabolic': 6\n",
    "                                      , 'Trauma': 7, 'Genitourinary ': 8, 'Musculoskeletal/Skin': 9,'Hematological': 10, 'Gynecological': 11}}\n",
    "labels = df_training['apache_3j_bodysystem'].astype('category').cat.categories.tolist()\n",
    "replace_map_comp = {'apache_3j_bodysystem' : {k: v for k,v in zip(labels,list(range(1,len(labels)+1)))}}\n",
    "\n",
    "df_training.replace(replace_map_comp, inplace=True)\n",
    "df_unlabeled.replace(replace_map_comp, inplace=True)"
   ]
  },
  {
   "cell_type": "code",
   "execution_count": null,
   "metadata": {
    "id": "ILV33U-EWCyq"
   },
   "outputs": [],
   "source": [
    "replace_map = {'icu_type': {'Med-Surg ICU': 1, 'MICU': 2, 'Neuro ICU': 3, 'CCU-CTICU': 4, 'SICU': 5, 'Cardiac ICU': 6, 'CSICU': 7, 'CTICU': 8}}\n",
    "labels = df_training['icu_type'].astype('category').cat.categories.tolist()\n",
    "replace_map_comp = {'icu_type' : {k: v for k,v in zip(labels,list(range(1,len(labels)+1)))}}\n",
    "\n",
    "df_training.replace(replace_map_comp, inplace=True)\n",
    "df_unlabeled.replace(replace_map_comp, inplace=True)"
   ]
  },
  {
   "cell_type": "code",
   "execution_count": null,
   "metadata": {
    "id": "8q2votOrV0tP"
   },
   "outputs": [],
   "source": [
    "replace_map = {'icu_stay_type': {'admit': 1, 'transfer': 2, 'readmit': 3}}\n",
    "labels = df_training['icu_stay_type'].astype('category').cat.categories.tolist()\n",
    "replace_map_comp = {'icu_stay_type' : {k: v for k,v in zip(labels,list(range(1,len(labels)+1)))}}\n",
    "\n",
    "df_training.replace(replace_map_comp, inplace=True)\n",
    "df_unlabeled.replace(replace_map_comp, inplace=True)"
   ]
  },
  {
   "cell_type": "code",
   "execution_count": null,
   "metadata": {
    "id": "_vu1IXN5Vh11"
   },
   "outputs": [],
   "source": [
    "replace_map = {'icu_admit_source': {'Accident & Emergency': 1, 'Floor': 2, 'Operating Room / Recovery': 3, 'Other Hospital': 4,'Other ICU': 5}}\n",
    "labels = df_training['icu_admit_source'].astype('category').cat.categories.tolist()\n",
    "replace_map_comp = {'icu_admit_source' : {k: v for k,v in zip(labels,list(range(1,len(labels)+1)))}}\n",
    "\n",
    "df_training.replace(replace_map_comp, inplace=True)\n",
    "df_unlabeled.replace(replace_map_comp, inplace=True)"
   ]
  },
  {
   "cell_type": "code",
   "execution_count": null,
   "metadata": {
    "id": "yq9lGoDBUPm2"
   },
   "outputs": [],
   "source": [
    "replace_map = {'hospital_admit_source': {'Emergency Department': 1, 'Floor': 2, 'Operating Room': 3, 'Direct Admit': 4,'Recovery Room': 5,'Acute Care/Floor': 6,'Other Hospital': 7,'Step-Down Unit (SDU)': 8,'PACU': 9,'Chest Pain Center': 10,'ICU to SDU': 11,'ICU': 12,'Other ICU': 13,'Observation': 14,'Other': 15}}\n",
    "labels = df_training['hospital_admit_source'].astype('category').cat.categories.tolist()\n",
    "replace_map_comp = {'hospital_admit_source' : {k: v for k,v in zip(labels,list(range(1,len(labels)+1)))}}\n",
    "\n",
    "df_training.replace(replace_map_comp, inplace=True)\n",
    "df_unlabeled.replace(replace_map_comp, inplace=True)"
   ]
  },
  {
   "cell_type": "code",
   "execution_count": null,
   "metadata": {
    "id": "dxugr6WAH4e4"
   },
   "outputs": [],
   "source": [
    "replace_map = {'ethnicity': {'Caucasian': 1, 'African American': 2, 'Hispanic': 3, 'Asian': 4,'Native American': 5,'Other/Unknown': 6}}\n",
    "labels = df_training['ethnicity'].astype('category').cat.categories.tolist()\n",
    "replace_map_comp = {'ethnicity' : {k: v for k,v in zip(labels,list(range(1,len(labels)+1)))}}\n",
    "\n",
    "df_training.replace(replace_map_comp, inplace=True)\n",
    "df_unlabeled.replace(replace_map_comp, inplace=True)"
   ]
  },
  {
   "cell_type": "code",
   "execution_count": null,
   "metadata": {
    "id": "OFNUVm6qKqAd"
   },
   "outputs": [],
   "source": [
    "replace_map = {'apache_2_bodysystem': {'Cardiovascular': 1, 'Neurologic': 2, 'Respiratory': 3, 'Gastrointestinal': 4,'Metabolic': 5,'Trauma': 6\n",
    "                                      , 'Renal/Genitourinary': 7, 'Haematologic': 8, 'Undefined Diagnoses': 9,'Undefined diagnoses': 9}}\n",
    "labels = df_training['apache_2_bodysystem'].astype('category').cat.categories.tolist()\n",
    "replace_map_comp = {'apache_2_bodysystem' : {k: v for k,v in zip(labels,list(range(1,len(labels)+1)))}}\n",
    "\n",
    "df_training.replace(replace_map_comp, inplace=True)\n",
    "df_unlabeled.replace(replace_map_comp, inplace=True)"
   ]
  },
  {
   "cell_type": "code",
   "execution_count": null,
   "metadata": {
    "id": "FPjRhm97LViA"
   },
   "outputs": [],
   "source": [
    "replace_map = {'gender': {'M': 0, 'F': 1}}\n",
    "labels = df_training['gender'].astype('category').cat.categories.tolist()\n",
    "replace_map_comp = {'gender' : {k: v for k,v in zip(labels,list(range(1,len(labels)+1)))}}\n",
    "\n",
    "df_training.replace(replace_map_comp, inplace=True)\n",
    "df_unlabeled.replace(replace_map_comp, inplace=True)"
   ]
  },
  {
   "cell_type": "code",
   "execution_count": null,
   "metadata": {
    "colab": {
     "base_uri": "https://localhost:8080/"
    },
    "executionInfo": {
     "elapsed": 5967,
     "status": "ok",
     "timestamp": 1582555860083,
     "user": {
      "displayName": "Ararajuba Data Science Project",
      "photoUrl": "",
      "userId": "02004027308564222829"
     },
     "user_tz": 180
    },
    "id": "zhFAiZgERMqx",
    "outputId": "79ec638e-130e-407b-90e9-68f7e7d56ae0"
   },
   "outputs": [
    {
     "data": {
      "text/plain": [
       "2.0    0.539536\n",
       "1.0    0.460464\n",
       "Name: gender, dtype: float64"
      ]
     },
     "execution_count": 100,
     "metadata": {
      "tags": []
     },
     "output_type": "execute_result"
    }
   ],
   "source": [
    "# Sobrevivente (0) Óbito (1)\n",
    "df_training[\"gender\"].value_counts(normalize=True)"
   ]
  },
  {
   "cell_type": "code",
   "execution_count": null,
   "metadata": {
    "colab": {
     "base_uri": "https://localhost:8080/"
    },
    "executionInfo": {
     "elapsed": 6313,
     "status": "ok",
     "timestamp": 1582555860436,
     "user": {
      "displayName": "Ararajuba Data Science Project",
      "photoUrl": "",
      "userId": "02004027308564222829"
     },
     "user_tz": 180
    },
    "id": "vkIbAQMhoBw4",
    "outputId": "9e313fd4-daa4-4f05-e9a7-78ecdbcb3b84"
   },
   "outputs": [
    {
     "name": "stdout",
     "output_type": "stream",
     "text": [
      "(91688, 186)\n",
      "(91576, 186)\n",
      "(91435, 186)\n",
      "(91337, 186)\n",
      "(89978, 186)\n",
      "(89966, 186)\n",
      "(89966, 186)\n",
      "(89962, 186)\n",
      "(89962, 186)\n",
      "(88411, 186)\n",
      "(84986, 186)\n"
     ]
    }
   ],
   "source": [
    "df_training = remover_valores(df_training,'gender')               # Retira registros sem genero equivalente a 0.01 (obito)\n",
    "df_training = remover_valores(df_training,'icu_admit_source')     # Retira registros sem id de localizacao do atendimento na UTI\n",
    "df_training = remover_valores(df_training,'d1_heartrate_min')     # Retira registros sem informacao de Heart Rate e que continham valores de probabilidade negativos\n",
    "df_training = remover_valores(df_training,'d1_mbp_max')           # Retira registros sem informacao de monitotramento de pressao do sangue pelas primeiras 24hs\n",
    "df_training = remover_valores(df_training,'ethnicity')            # Retira regitros sem coleta de cultura ou nacionalidade do paciente \n",
    "df_training = remover_valores(df_training,'d1_sysbp_max')         # Retira registros sem coleta da pressao arterial simbolica mais alta entre as 24hrs\n",
    "df_training = remover_valores(df_training,'d1_sysbp_min')         # Retira registros sem coleta da pressao arterial simbolica mais baixa entre as 24hrs\n",
    "df_training = remover_valores(df_training,'d1_diasbp_max')        # Retira registros sem coleta da pressao arterial diastolica mais alta entre as 24hrs\n",
    "df_training = remover_valores(df_training,'d1_diasbp_min')        # Retira registros sem coleta da pressao arterial diastolica mais baixa entre as 24hrs\n",
    "df_training = remover_valores(df_training,'apache_3j_bodysystem') # Retira registros sem classificacao de internacao Apache III \n",
    "df_training = remover_valores(df_training,'age')                  # Retira registros sem idade"
   ]
  },
  {
   "cell_type": "code",
   "execution_count": null,
   "metadata": {
    "colab": {
     "base_uri": "https://localhost:8080/"
    },
    "executionInfo": {
     "elapsed": 6307,
     "status": "ok",
     "timestamp": 1582555860437,
     "user": {
      "displayName": "Ararajuba Data Science Project",
      "photoUrl": "",
      "userId": "02004027308564222829"
     },
     "user_tz": 180
    },
    "id": "n_ftpT51XnHJ",
    "outputId": "1dbed3d5-3049-48cb-b8c2-a954553e0448"
   },
   "outputs": [
    {
     "data": {
      "text/plain": [
       "array([68., 77., 25., 81., 19., 67., 59., 70., 45., 72., 80., 48., 65.,\n",
       "       78., 30., 46., 79., 58., 87., 60., 85., 76., 53., 71., 82., 52.,\n",
       "       75., 64., 55., 73., 88., 84., 62., 56., 38., 41., 35., 54., 74.,\n",
       "       49., 86., 51., 63., 61., 47., 33., 89., 50., 36., 69., 57., 22.,\n",
       "       83., 66., 42., 27., 18., 17., 37., 43., 28., 40., 20., 32., 34.,\n",
       "       23., 44., 24., 39., 26., 31., 29., 21., 16.])"
      ]
     },
     "execution_count": 102,
     "metadata": {
      "tags": []
     },
     "output_type": "execute_result"
    }
   ],
   "source": [
    "#print(df_training[\"age\"].value_counts(normalize=True),'\\n')\n",
    "df_training.age.unique()"
   ]
  },
  {
   "cell_type": "code",
   "execution_count": null,
   "metadata": {
    "id": "FMI9G-njO4BI"
   },
   "outputs": [],
   "source": [
    "#Apagar columas sem valores no cross_validation \n",
    "#Todos os registros sao iguais\n",
    "df_training = df_training.drop('readmission_status', 1)"
   ]
  },
  {
   "cell_type": "code",
   "execution_count": null,
   "metadata": {
    "colab": {
     "base_uri": "https://localhost:8080/"
    },
    "executionInfo": {
     "elapsed": 6295,
     "status": "ok",
     "timestamp": 1582555860440,
     "user": {
      "displayName": "Ararajuba Data Science Project",
      "photoUrl": "",
      "userId": "02004027308564222829"
     },
     "user_tz": 180
    },
    "id": "3qVwMTcFnaNh",
    "outputId": "5c04e550-c066-4354-9f95-deebf959266d"
   },
   "outputs": [
    {
     "name": "stdout",
     "output_type": "stream",
     "text": [
      "(84986, 185)\n"
     ]
    }
   ],
   "source": [
    "# Retira registros com probabilidade negativa, representa 153 registros com obito e 1564 alta\n",
    "#df_training = df_training[                                                      \n",
    "#            (df_training['apache_4a_hospital_death_prob'] > 0) \n",
    "#          & (df_training['apache_4a_icu_death_prob'] > 0 )\n",
    "#]\n",
    "print(df_training.shape)"
   ]
  },
  {
   "cell_type": "code",
   "execution_count": null,
   "metadata": {
    "colab": {
     "base_uri": "https://localhost:8080/"
    },
    "executionInfo": {
     "elapsed": 6290,
     "status": "ok",
     "timestamp": 1582555860442,
     "user": {
      "displayName": "Ararajuba Data Science Project",
      "photoUrl": "",
      "userId": "02004027308564222829"
     },
     "user_tz": 180
    },
    "id": "hxC181HNTKNg",
    "outputId": "c9659582-81fe-44bd-b6b0-b2233892e0d3"
   },
   "outputs": [
    {
     "data": {
      "application/vnd.google.colaboratory.module+javascript": "\n      import \"https://ssl.gstatic.com/colaboratory/data_table/84ef27dae82052e3/data_table.js\";\n\n      window.createDataTable({\n        data: [[\"encounter_id\",\n\"encounter_id\",\n{\n            'v': 0.0,\n            'f': \"0.0\",\n        },\n{\n            'v': 0.0,\n            'f': \"0.0\",\n        }],\n [\"ventilated_apache\",\n\"ventilated_apache\",\n{\n            'v': 0.0,\n            'f': \"0.0\",\n        },\n{\n            'v': 0.0,\n            'f': \"0.0\",\n        }],\n [\"d1_diasbp_max\",\n\"d1_diasbp_max\",\n{\n            'v': 0.0,\n            'f': \"0.0\",\n        },\n{\n            'v': 0.0,\n            'f': \"0.0\",\n        }],\n [\"d1_diasbp_min\",\n\"d1_diasbp_min\",\n{\n            'v': 0.0,\n            'f': \"0.0\",\n        },\n{\n            'v': 0.0,\n            'f': \"0.0\",\n        }],\n [\"d1_heartrate_max\",\n\"d1_heartrate_max\",\n{\n            'v': 0.0,\n            'f': \"0.0\",\n        },\n{\n            'v': 0.0,\n            'f': \"0.0\",\n        }],\n [\"d1_heartrate_min\",\n\"d1_heartrate_min\",\n{\n            'v': 0.0,\n            'f': \"0.0\",\n        },\n{\n            'v': 0.0,\n            'f': \"0.0\",\n        }],\n [\"d1_mbp_max\",\n\"d1_mbp_max\",\n{\n            'v': 0.0,\n            'f': \"0.0\",\n        },\n{\n            'v': 0.0,\n            'f': \"0.0\",\n        }],\n [\"d1_mbp_min\",\n\"d1_mbp_min\",\n{\n            'v': 0.0,\n            'f': \"0.0\",\n        },\n{\n            'v': 0.0,\n            'f': \"0.0\",\n        }],\n [\"d1_sysbp_max\",\n\"d1_sysbp_max\",\n{\n            'v': 0.0,\n            'f': \"0.0\",\n        },\n{\n            'v': 0.0,\n            'f': \"0.0\",\n        }],\n [\"intubated_apache\",\n\"intubated_apache\",\n{\n            'v': 0.0,\n            'f': \"0.0\",\n        },\n{\n            'v': 0.0,\n            'f': \"0.0\",\n        }],\n [\"d1_sysbp_min\",\n\"d1_sysbp_min\",\n{\n            'v': 0.0,\n            'f': \"0.0\",\n        },\n{\n            'v': 0.0,\n            'f': \"0.0\",\n        }],\n [\"aids\",\n\"aids\",\n{\n            'v': 0.0,\n            'f': \"0.0\",\n        },\n{\n            'v': 0.0,\n            'f': \"0.0\",\n        }],\n [\"cirrhosis\",\n\"cirrhosis\",\n{\n            'v': 0.0,\n            'f': \"0.0\",\n        },\n{\n            'v': 0.0,\n            'f': \"0.0\",\n        }],\n [\"diabetes_mellitus\",\n\"diabetes_mellitus\",\n{\n            'v': 0.0,\n            'f': \"0.0\",\n        },\n{\n            'v': 0.0,\n            'f': \"0.0\",\n        }],\n [\"hepatic_failure\",\n\"hepatic_failure\",\n{\n            'v': 0.0,\n            'f': \"0.0\",\n        },\n{\n            'v': 0.0,\n            'f': \"0.0\",\n        }],\n [\"immunosuppression\",\n\"immunosuppression\",\n{\n            'v': 0.0,\n            'f': \"0.0\",\n        },\n{\n            'v': 0.0,\n            'f': \"0.0\",\n        }],\n [\"leukemia\",\n\"leukemia\",\n{\n            'v': 0.0,\n            'f': \"0.0\",\n        },\n{\n            'v': 0.0,\n            'f': \"0.0\",\n        }],\n [\"lymphoma\",\n\"lymphoma\",\n{\n            'v': 0.0,\n            'f': \"0.0\",\n        },\n{\n            'v': 0.0,\n            'f': \"0.0\",\n        }],\n [\"solid_tumor_with_metastasis\",\n\"solid_tumor_with_metastasis\",\n{\n            'v': 0.0,\n            'f': \"0.0\",\n        },\n{\n            'v': 0.0,\n            'f': \"0.0\",\n        }],\n [\"apache_3j_bodysystem\",\n\"apache_3j_bodysystem\",\n{\n            'v': 0.0,\n            'f': \"0.0\",\n        },\n{\n            'v': 0.0,\n            'f': \"0.0\",\n        }],\n [\"heart_rate_apache\",\n\"heart_rate_apache\",\n{\n            'v': 0.0,\n            'f': \"0.0\",\n        },\n{\n            'v': 0.02,\n            'f': \"0.02\",\n        }],\n [\"apache_2_bodysystem\",\n\"apache_2_bodysystem\",\n{\n            'v': 0.0,\n            'f': \"0.0\",\n        },\n{\n            'v': 0.0,\n            'f': \"0.0\",\n        }],\n [\"age\",\n\"age\",\n{\n            'v': 0.0,\n            'f': \"0.0\",\n        },\n{\n            'v': 0.0,\n            'f': \"0.0\",\n        }],\n [\"arf_apache\",\n\"arf_apache\",\n{\n            'v': 0.0,\n            'f': \"0.0\",\n        },\n{\n            'v': 0.0,\n            'f': \"0.0\",\n        }],\n [\"gender\",\n\"gender\",\n{\n            'v': 0.0,\n            'f': \"0.0\",\n        },\n{\n            'v': 0.0,\n            'f': \"0.0\",\n        }],\n [\"ethnicity\",\n\"ethnicity\",\n{\n            'v': 0.0,\n            'f': \"0.0\",\n        },\n{\n            'v': 0.0,\n            'f': \"0.0\",\n        }],\n [\"elective_surgery\",\n\"elective_surgery\",\n{\n            'v': 0.0,\n            'f': \"0.0\",\n        },\n{\n            'v': 0.0,\n            'f': \"0.0\",\n        }],\n [\"icu_type\",\n\"icu_type\",\n{\n            'v': 0.0,\n            'f': \"0.0\",\n        },\n{\n            'v': 0.0,\n            'f': \"0.0\",\n        }],\n [\"apache_3j_diagnosis\",\n\"apache_3j_diagnosis\",\n{\n            'v': 0.0,\n            'f': \"0.0\",\n        },\n{\n            'v': 0.0,\n            'f': \"0.0\",\n        }],\n [\"apache_2_diagnosis\",\n\"apache_2_diagnosis\",\n{\n            'v': 0.0,\n            'f': \"0.0\",\n        },\n{\n            'v': 0.0,\n            'f': \"0.0\",\n        }],\n [\"apache_post_operative\",\n\"apache_post_operative\",\n{\n            'v': 0.0,\n            'f': \"0.0\",\n        },\n{\n            'v': 0.0,\n            'f': \"0.0\",\n        }],\n [\"icu_admit_source\",\n\"icu_admit_source\",\n{\n            'v': 0.0,\n            'f': \"0.0\",\n        },\n{\n            'v': 0.0,\n            'f': \"0.0\",\n        }],\n [\"icu_id\",\n\"icu_id\",\n{\n            'v': 0.0,\n            'f': \"0.0\",\n        },\n{\n            'v': 0.0,\n            'f': \"0.0\",\n        }],\n [\"pre_icu_los_days\",\n\"pre_icu_los_days\",\n{\n            'v': 0.0,\n            'f': \"0.0\",\n        },\n{\n            'v': 0.0,\n            'f': \"0.0\",\n        }],\n [\"hospital_death\",\n\"hospital_death\",\n{\n            'v': 0.0,\n            'f': \"0.0\",\n        },\n{\n            'v': 0.0,\n            'f': \"0.0\",\n        }],\n [\"hospital_id\",\n\"hospital_id\",\n{\n            'v': 0.0,\n            'f': \"0.0\",\n        },\n{\n            'v': 0.0,\n            'f': \"0.0\",\n        }],\n [\"patient_id\",\n\"patient_id\",\n{\n            'v': 0.0,\n            'f': \"0.0\",\n        },\n{\n            'v': 0.0,\n            'f': \"0.0\",\n        }],\n [\"icu_stay_type\",\n\"icu_stay_type\",\n{\n            'v': 0.0,\n            'f': \"0.0\",\n        },\n{\n            'v': 0.0,\n            'f': \"0.0\",\n        }],\n [\"map_apache\",\n\"map_apache\",\n{\n            'v': 0.01,\n            'f': \"0.01\",\n        },\n{\n            'v': 0.07,\n            'f': \"0.07\",\n        }],\n [\"gcs_unable_apache\",\n\"gcs_unable_apache\",\n{\n            'v': 0.02,\n            'f': \"0.02\",\n        },\n{\n            'v': 0.12,\n            'f': \"0.12\",\n        }],\n [\"d1_spo2_max\",\n\"d1_spo2_max\",\n{\n            'v': 0.02,\n            'f': \"0.02\",\n        },\n{\n            'v': 0.16,\n            'f': \"0.16\",\n        }],\n [\"resprate_apache\",\n\"resprate_apache\",\n{\n            'v': 0.02,\n            'f': \"0.02\",\n        },\n{\n            'v': 0.42,\n            'f': \"0.42\",\n        }],\n [\"d1_spo2_min\",\n\"d1_spo2_min\",\n{\n            'v': 0.02,\n            'f': \"0.02\",\n        },\n{\n            'v': 0.16,\n            'f': \"0.16\",\n        }],\n [\"d1_resprate_min\",\n\"d1_resprate_min\",\n{\n            'v': 0.03,\n            'f': \"0.03\",\n        },\n{\n            'v': 0.26,\n            'f': \"0.26\",\n        }],\n [\"d1_resprate_max\",\n\"d1_resprate_max\",\n{\n            'v': 0.03,\n            'f': \"0.03\",\n        },\n{\n            'v': 0.26,\n            'f': \"0.26\",\n        }],\n [\"d1_diasbp_noninvasive_min\",\n\"d1_diasbp_noninvasive_min\",\n{\n            'v': 0.09,\n            'f': \"0.09\",\n        },\n{\n            'v': 0.87,\n            'f': \"0.87\",\n        }],\n [\"d1_sysbp_noninvasive_min\",\n\"d1_sysbp_noninvasive_min\",\n{\n            'v': 0.09,\n            'f': \"0.09\",\n        },\n{\n            'v': 0.86,\n            'f': \"0.86\",\n        }],\n [\"d1_sysbp_noninvasive_max\",\n\"d1_sysbp_noninvasive_max\",\n{\n            'v': 0.09,\n            'f': \"0.09\",\n        },\n{\n            'v': 0.86,\n            'f': \"0.86\",\n        }],\n [\"d1_diasbp_noninvasive_max\",\n\"d1_diasbp_noninvasive_max\",\n{\n            'v': 0.09,\n            'f': \"0.09\",\n        },\n{\n            'v': 0.87,\n            'f': \"0.87\",\n        }],\n [\"d1_mbp_noninvasive_max\",\n\"d1_mbp_noninvasive_max\",\n{\n            'v': 0.11,\n            'f': \"0.11\",\n        },\n{\n            'v': 1.27,\n            'f': \"1.27\",\n        }],\n [\"d1_mbp_noninvasive_min\",\n\"d1_mbp_noninvasive_min\",\n{\n            'v': 0.11,\n            'f': \"0.11\",\n        },\n{\n            'v': 1.27,\n            'f': \"1.27\",\n        }],\n [\"height\",\n\"height\",\n{\n            'v': 0.17,\n            'f': \"0.17\",\n        },\n{\n            'v': 1.09,\n            'f': \"1.09\",\n        }],\n [\"h1_heartrate_max\",\n\"h1_heartrate_max\",\n{\n            'v': 0.19,\n            'f': \"0.19\",\n        },\n{\n            'v': 2.53,\n            'f': \"2.53\",\n        }],\n [\"h1_heartrate_min\",\n\"h1_heartrate_min\",\n{\n            'v': 0.19,\n            'f': \"0.19\",\n        },\n{\n            'v': 2.53,\n            'f': \"2.53\",\n        }],\n [\"gcs_verbal_apache\",\n\"gcs_verbal_apache\",\n{\n            'v': 0.24,\n            'f': \"0.24\",\n        },\n{\n            'v': 0.87,\n            'f': \"0.87\",\n        }],\n [\"gcs_motor_apache\",\n\"gcs_motor_apache\",\n{\n            'v': 0.24,\n            'f': \"0.24\",\n        },\n{\n            'v': 0.87,\n            'f': \"0.87\",\n        }],\n [\"gcs_eyes_apache\",\n\"gcs_eyes_apache\",\n{\n            'v': 0.24,\n            'f': \"0.24\",\n        },\n{\n            'v': 0.87,\n            'f': \"0.87\",\n        }],\n [\"weight\",\n\"weight\",\n{\n            'v': 0.24,\n            'f': \"0.24\",\n        },\n{\n            'v': 2.54,\n            'f': \"2.54\",\n        }],\n [\"h1_diasbp_max\",\n\"h1_diasbp_max\",\n{\n            'v': 0.26,\n            'f': \"0.26\",\n        },\n{\n            'v': 3.34,\n            'f': \"3.34\",\n        }],\n [\"h1_diasbp_min\",\n\"h1_diasbp_min\",\n{\n            'v': 0.26,\n            'f': \"0.26\",\n        },\n{\n            'v': 3.34,\n            'f': \"3.34\",\n        }],\n [\"h1_sysbp_max\",\n\"h1_sysbp_max\",\n{\n            'v': 0.26,\n            'f': \"0.26\",\n        },\n{\n            'v': 3.34,\n            'f': \"3.34\",\n        }],\n [\"h1_sysbp_min\",\n\"h1_sysbp_min\",\n{\n            'v': 0.26,\n            'f': \"0.26\",\n        },\n{\n            'v': 3.34,\n            'f': \"3.34\",\n        }],\n [\"d1_temp_max\",\n\"d1_temp_max\",\n{\n            'v': 0.28,\n            'f': \"0.28\",\n        },\n{\n            'v': 2.06,\n            'f': \"2.06\",\n        }],\n [\"d1_temp_min\",\n\"d1_temp_min\",\n{\n            'v': 0.28,\n            'f': \"0.28\",\n        },\n{\n            'v': 2.06,\n            'f': \"2.06\",\n        }],\n [\"h1_resprate_max\",\n\"h1_resprate_max\",\n{\n            'v': 0.33,\n            'f': \"0.33\",\n        },\n{\n            'v': 4.14,\n            'f': \"4.14\",\n        }],\n [\"h1_mbp_min\",\n\"h1_mbp_min\",\n{\n            'v': 0.33,\n            'f': \"0.33\",\n        },\n{\n            'v': 4.32,\n            'f': \"4.32\",\n        }],\n [\"h1_mbp_max\",\n\"h1_mbp_max\",\n{\n            'v': 0.33,\n            'f': \"0.33\",\n        },\n{\n            'v': 4.32,\n            'f': \"4.32\",\n        }],\n [\"h1_resprate_min\",\n\"h1_resprate_min\",\n{\n            'v': 0.33,\n            'f': \"0.33\",\n        },\n{\n            'v': 4.14,\n            'f': \"4.14\",\n        }],\n [\"h1_spo2_max\",\n\"h1_spo2_max\",\n{\n            'v': 0.36,\n            'f': \"0.36\",\n        },\n{\n            'v': 3.9,\n            'f': \"3.9\",\n        }],\n [\"bmi\",\n\"bmi\",\n{\n            'v': 0.36,\n            'f': \"0.36\",\n        },\n{\n            'v': 3.17,\n            'f': \"3.17\",\n        }],\n [\"h1_spo2_min\",\n\"h1_spo2_min\",\n{\n            'v': 0.36,\n            'f': \"0.36\",\n        },\n{\n            'v': 3.9,\n            'f': \"3.9\",\n        }],\n [\"temp_apache\",\n\"temp_apache\",\n{\n            'v': 0.44,\n            'f': \"0.44\",\n        },\n{\n            'v': 2.98,\n            'f': \"2.98\",\n        }],\n [\"d1_glucose_min\",\n\"d1_glucose_min\",\n{\n            'v': 0.45,\n            'f': \"0.45\",\n        },\n{\n            'v': 5.62,\n            'f': \"5.62\",\n        }],\n [\"d1_glucose_max\",\n\"d1_glucose_max\",\n{\n            'v': 0.45,\n            'f': \"0.45\",\n        },\n{\n            'v': 5.62,\n            'f': \"5.62\",\n        }],\n [\"h1_diasbp_noninvasive_max\",\n\"h1_diasbp_noninvasive_max\",\n{\n            'v': 0.46,\n            'f': \"0.46\",\n        },\n{\n            'v': 7.3,\n            'f': \"7.3\",\n        }],\n [\"h1_diasbp_noninvasive_min\",\n\"h1_diasbp_noninvasive_min\",\n{\n            'v': 0.46,\n            'f': \"0.46\",\n        },\n{\n            'v': 7.3,\n            'f': \"7.3\",\n        }],\n [\"h1_sysbp_noninvasive_min\",\n\"h1_sysbp_noninvasive_min\",\n{\n            'v': 0.46,\n            'f': \"0.46\",\n        },\n{\n            'v': 7.3,\n            'f': \"7.3\",\n        }],\n [\"h1_sysbp_noninvasive_max\",\n\"h1_sysbp_noninvasive_max\",\n{\n            'v': 0.46,\n            'f': \"0.46\",\n        },\n{\n            'v': 7.3,\n            'f': \"7.3\",\n        }],\n [\"apache_4a_hospital_death_prob\",\n\"apache_4a_hospital_death_prob\",\n{\n            'v': 0.5,\n            'f': \"0.5\",\n        },\n{\n            'v': 7.42,\n            'f': \"7.42\",\n        }],\n [\"apache_4a_icu_death_prob\",\n\"apache_4a_icu_death_prob\",\n{\n            'v': 0.5,\n            'f': \"0.5\",\n        },\n{\n            'v': 7.42,\n            'f': \"7.42\",\n        }],\n [\"h1_mbp_noninvasive_max\",\n\"h1_mbp_noninvasive_max\",\n{\n            'v': 0.56,\n            'f': \"0.56\",\n        },\n{\n            'v': 9.05,\n            'f': \"9.05\",\n        }],\n [\"h1_mbp_noninvasive_min\",\n\"h1_mbp_noninvasive_min\",\n{\n            'v': 0.56,\n            'f': \"0.56\",\n        },\n{\n            'v': 9.05,\n            'f': \"9.05\",\n        }],\n [\"glucose_apache\",\n\"glucose_apache\",\n{\n            'v': 0.75,\n            'f': \"0.75\",\n        },\n{\n            'v': 10.24,\n            'f': \"10.24\",\n        }],\n [\"d1_sodium_max\",\n\"d1_sodium_max\",\n{\n            'v': 0.76,\n            'f': \"0.76\",\n        },\n{\n            'v': 9.99,\n            'f': \"9.99\",\n        }],\n [\"d1_sodium_min\",\n\"d1_sodium_min\",\n{\n            'v': 0.76,\n            'f': \"0.76\",\n        },\n{\n            'v': 9.99,\n            'f': \"9.99\",\n        }],\n [\"d1_potassium_min\",\n\"d1_potassium_min\",\n{\n            'v': 0.77,\n            'f': \"0.77\",\n        },\n{\n            'v': 9.25,\n            'f': \"9.25\",\n        }],\n [\"d1_potassium_max\",\n\"d1_potassium_max\",\n{\n            'v': 0.77,\n            'f': \"0.77\",\n        },\n{\n            'v': 9.25,\n            'f': \"9.25\",\n        }],\n [\"d1_bun_min\",\n\"d1_bun_min\",\n{\n            'v': 0.82,\n            'f': \"0.82\",\n        },\n{\n            'v': 10.26,\n            'f': \"10.26\",\n        }],\n [\"d1_bun_max\",\n\"d1_bun_max\",\n{\n            'v': 0.82,\n            'f': \"0.82\",\n        },\n{\n            'v': 10.26,\n            'f': \"10.26\",\n        }],\n [\"d1_creatinine_max\",\n\"d1_creatinine_max\",\n{\n            'v': 0.83,\n            'f': \"0.83\",\n        },\n{\n            'v': 9.86,\n            'f': \"9.86\",\n        }],\n [\"d1_creatinine_min\",\n\"d1_creatinine_min\",\n{\n            'v': 0.83,\n            'f': \"0.83\",\n        },\n{\n            'v': 9.86,\n            'f': \"9.86\",\n        }],\n [\"d1_hematocrit_min\",\n\"d1_hematocrit_min\",\n{\n            'v': 0.94,\n            'f': \"0.94\",\n        },\n{\n            'v': 11.39,\n            'f': \"11.39\",\n        }],\n [\"d1_hematocrit_max\",\n\"d1_hematocrit_max\",\n{\n            'v': 0.94,\n            'f': \"0.94\",\n        },\n{\n            'v': 11.39,\n            'f': \"11.39\",\n        }],\n [\"d1_hemaglobin_max\",\n\"d1_hemaglobin_max\",\n{\n            'v': 0.96,\n            'f': \"0.96\",\n        },\n{\n            'v': 11.9,\n            'f': \"11.9\",\n        }],\n [\"d1_hemaglobin_min\",\n\"d1_hemaglobin_min\",\n{\n            'v': 0.96,\n            'f': \"0.96\",\n        },\n{\n            'v': 11.9,\n            'f': \"11.9\",\n        }],\n [\"d1_calcium_min\",\n\"d1_calcium_min\",\n{\n            'v': 1.07,\n            'f': \"1.07\",\n        },\n{\n            'v': 12.76,\n            'f': \"12.76\",\n        }],\n [\"d1_calcium_max\",\n\"d1_calcium_max\",\n{\n            'v': 1.07,\n            'f': \"1.07\",\n        },\n{\n            'v': 12.76,\n            'f': \"12.76\",\n        }],\n [\"d1_wbc_min\",\n\"d1_wbc_min\",\n{\n            'v': 1.08,\n            'f': \"1.08\",\n        },\n{\n            'v': 12.89,\n            'f': \"12.89\",\n        }],\n [\"d1_wbc_max\",\n\"d1_wbc_max\",\n{\n            'v': 1.08,\n            'f': \"1.08\",\n        },\n{\n            'v': 12.89,\n            'f': \"12.89\",\n        }],\n [\"d1_platelets_max\",\n\"d1_platelets_max\",\n{\n            'v': 1.09,\n            'f': \"1.09\",\n        },\n{\n            'v': 13.14,\n            'f': \"13.14\",\n        }],\n [\"d1_platelets_min\",\n\"d1_platelets_min\",\n{\n            'v': 1.09,\n            'f': \"1.09\",\n        },\n{\n            'v': 13.14,\n            'f': \"13.14\",\n        }],\n [\"d1_hco3_min\",\n\"d1_hco3_min\",\n{\n            'v': 1.16,\n            'f': \"1.16\",\n        },\n{\n            'v': 14.85,\n            'f': \"14.85\",\n        }],\n [\"d1_hco3_max\",\n\"d1_hco3_max\",\n{\n            'v': 1.16,\n            'f': \"1.16\",\n        },\n{\n            'v': 14.85,\n            'f': \"14.85\",\n        }],\n [\"sodium_apache\",\n\"sodium_apache\",\n{\n            'v': 1.3,\n            'f': \"1.3\",\n        },\n{\n            'v': 17.91,\n            'f': \"17.91\",\n        }],\n [\"bun_apache\",\n\"bun_apache\",\n{\n            'v': 1.38,\n            'f': \"1.38\",\n        },\n{\n            'v': 18.56,\n            'f': \"18.56\",\n        }],\n [\"creatinine_apache\",\n\"creatinine_apache\",\n{\n            'v': 1.38,\n            'f': \"1.38\",\n        },\n{\n            'v': 18.1,\n            'f': \"18.1\",\n        }],\n [\"hematocrit_apache\",\n\"hematocrit_apache\",\n{\n            'v': 1.52,\n            'f': \"1.52\",\n        },\n{\n            'v': 19.11,\n            'f': \"19.11\",\n        }],\n [\"wbc_apache\",\n\"wbc_apache\",\n{\n            'v': 1.73,\n            'f': \"1.73\",\n        },\n{\n            'v': 21.23,\n            'f': \"21.23\",\n        }],\n [\"hospital_admit_source\",\n\"hospital_admit_source\",\n{\n            'v': 1.83,\n            'f': \"1.83\",\n        },\n{\n            'v': 21.65,\n            'f': \"21.65\",\n        }],\n [\"h1_temp_max\",\n\"h1_temp_max\",\n{\n            'v': 2.04,\n            'f': \"2.04\",\n        },\n{\n            'v': 20.89,\n            'f': \"20.89\",\n        }],\n [\"h1_temp_min\",\n\"h1_temp_min\",\n{\n            'v': 2.04,\n            'f': \"2.04\",\n        },\n{\n            'v': 20.89,\n            'f': \"20.89\",\n        }],\n [\"d1_arterial_po2_min\",\n\"d1_arterial_po2_min\",\n{\n            'v': 2.69,\n            'f': \"2.69\",\n        },\n{\n            'v': 61.39,\n            'f': \"61.39\",\n        }],\n [\"d1_arterial_po2_max\",\n\"d1_arterial_po2_max\",\n{\n            'v': 2.69,\n            'f': \"2.69\",\n        },\n{\n            'v': 61.39,\n            'f': \"61.39\",\n        }],\n [\"d1_arterial_pco2_max\",\n\"d1_arterial_pco2_max\",\n{\n            'v': 2.7,\n            'f': \"2.7\",\n        },\n{\n            'v': 61.39,\n            'f': \"61.39\",\n        }],\n [\"d1_arterial_pco2_min\",\n\"d1_arterial_pco2_min\",\n{\n            'v': 2.7,\n            'f': \"2.7\",\n        },\n{\n            'v': 61.39,\n            'f': \"61.39\",\n        }],\n [\"d1_arterial_ph_min\",\n\"d1_arterial_ph_min\",\n{\n            'v': 2.84,\n            'f': \"2.84\",\n        },\n{\n            'v': 62.22,\n            'f': \"62.22\",\n        }],\n [\"d1_arterial_ph_max\",\n\"d1_arterial_ph_max\",\n{\n            'v': 2.84,\n            'f': \"2.84\",\n        },\n{\n            'v': 62.22,\n            'f': \"62.22\",\n        }],\n [\"d1_albumin_min\",\n\"d1_albumin_min\",\n{\n            'v': 3.28,\n            'f': \"3.28\",\n        },\n{\n            'v': 49.73,\n            'f': \"49.73\",\n        }],\n [\"d1_albumin_max\",\n\"d1_albumin_max\",\n{\n            'v': 3.28,\n            'f': \"3.28\",\n        },\n{\n            'v': 49.73,\n            'f': \"49.73\",\n        }],\n [\"d1_pao2fio2ratio_max\",\n\"d1_pao2fio2ratio_max\",\n{\n            'v': 3.57,\n            'f': \"3.57\",\n        },\n{\n            'v': 67.89,\n            'f': \"67.89\",\n        }],\n [\"d1_pao2fio2ratio_min\",\n\"d1_pao2fio2ratio_min\",\n{\n            'v': 3.57,\n            'f': \"3.57\",\n        },\n{\n            'v': 67.89,\n            'f': \"67.89\",\n        }],\n [\"d1_bilirubin_min\",\n\"d1_bilirubin_min\",\n{\n            'v': 3.77,\n            'f': \"3.77\",\n        },\n{\n            'v': 54.22,\n            'f': \"54.22\",\n        }],\n [\"d1_bilirubin_max\",\n\"d1_bilirubin_max\",\n{\n            'v': 3.77,\n            'f': \"3.77\",\n        },\n{\n            'v': 54.22,\n            'f': \"54.22\",\n        }],\n [\"albumin_apache\",\n\"albumin_apache\",\n{\n            'v': 3.81,\n            'f': \"3.81\",\n        },\n{\n            'v': 54.63,\n            'f': \"54.63\",\n        }],\n [\"d1_inr_min\",\n\"d1_inr_min\",\n{\n            'v': 3.95,\n            'f': \"3.95\",\n        },\n{\n            'v': 58.72,\n            'f': \"58.72\",\n        }],\n [\"h1_inr_max\",\n\"h1_inr_max\",\n{\n            'v': 3.95,\n            'f': \"3.95\",\n        },\n{\n            'v': 58.72,\n            'f': \"58.72\",\n        }],\n [\"h1_inr_min\",\n\"h1_inr_min\",\n{\n            'v': 3.95,\n            'f': \"3.95\",\n        },\n{\n            'v': 58.72,\n            'f': \"58.72\",\n        }],\n [\"d1_inr_max\",\n\"d1_inr_max\",\n{\n            'v': 3.95,\n            'f': \"3.95\",\n        },\n{\n            'v': 58.72,\n            'f': \"58.72\",\n        }],\n [\"d1_lactate_max\",\n\"d1_lactate_max\",\n{\n            'v': 4.03,\n            'f': \"4.03\",\n        },\n{\n            'v': 70.18,\n            'f': \"70.18\",\n        }],\n [\"d1_lactate_min\",\n\"d1_lactate_min\",\n{\n            'v': 4.03,\n            'f': \"4.03\",\n        },\n{\n            'v': 70.18,\n            'f': \"70.18\",\n        }],\n [\"bilirubin_apache\",\n\"bilirubin_apache\",\n{\n            'v': 4.22,\n            'f': \"4.22\",\n        },\n{\n            'v': 58.33,\n            'f': \"58.33\",\n        }],\n [\"fio2_apache\",\n\"fio2_apache\",\n{\n            'v': 4.3,\n            'f': \"4.3\",\n        },\n{\n            'v': 72.37,\n            'f': \"72.37\",\n        }],\n [\"paco2_apache\",\n\"paco2_apache\",\n{\n            'v': 4.3,\n            'f': \"4.3\",\n        },\n{\n            'v': 72.37,\n            'f': \"72.37\",\n        }],\n [\"paco2_for_ph_apache\",\n\"paco2_for_ph_apache\",\n{\n            'v': 4.3,\n            'f': \"4.3\",\n        },\n{\n            'v': 72.37,\n            'f': \"72.37\",\n        }],\n [\"ph_apache\",\n\"ph_apache\",\n{\n            'v': 4.3,\n            'f': \"4.3\",\n        },\n{\n            'v': 72.37,\n            'f': \"72.37\",\n        }],\n [\"pao2_apache\",\n\"pao2_apache\",\n{\n            'v': 4.3,\n            'f': \"4.3\",\n        },\n{\n            'v': 72.37,\n            'f': \"72.37\",\n        }],\n [\"h1_glucose_max\",\n\"h1_glucose_max\",\n{\n            'v': 4.35,\n            'f': \"4.35\",\n        },\n{\n            'v': 52.41,\n            'f': \"52.41\",\n        }],\n [\"h1_glucose_min\",\n\"h1_glucose_min\",\n{\n            'v': 4.35,\n            'f': \"4.35\",\n        },\n{\n            'v': 52.41,\n            'f': \"52.41\",\n        }],\n [\"urineoutput_apache\",\n\"urineoutput_apache\",\n{\n            'v': 4.92,\n            'f': \"4.92\",\n        },\n{\n            'v': 47.66,\n            'f': \"47.66\",\n        }],\n [\"d1_mbp_invasive_max\",\n\"d1_mbp_invasive_max\",\n{\n            'v': 5.03,\n            'f': \"5.03\",\n        },\n{\n            'v': 68.45,\n            'f': \"68.45\",\n        }],\n [\"d1_mbp_invasive_min\",\n\"d1_mbp_invasive_min\",\n{\n            'v': 5.03,\n            'f': \"5.03\",\n        },\n{\n            'v': 68.45,\n            'f': \"68.45\",\n        }],\n [\"d1_diasbp_invasive_max\",\n\"d1_diasbp_invasive_max\",\n{\n            'v': 5.06,\n            'f': \"5.06\",\n        },\n{\n            'v': 68.65,\n            'f': \"68.65\",\n        }],\n [\"d1_diasbp_invasive_min\",\n\"d1_diasbp_invasive_min\",\n{\n            'v': 5.06,\n            'f': \"5.06\",\n        },\n{\n            'v': 68.65,\n            'f': \"68.65\",\n        }],\n [\"d1_sysbp_invasive_max\",\n\"d1_sysbp_invasive_max\",\n{\n            'v': 5.06,\n            'f': \"5.06\",\n        },\n{\n            'v': 68.63,\n            'f': \"68.63\",\n        }],\n [\"d1_sysbp_invasive_min\",\n\"d1_sysbp_invasive_min\",\n{\n            'v': 5.06,\n            'f': \"5.06\",\n        },\n{\n            'v': 68.63,\n            'f': \"68.63\",\n        }],\n [\"h1_arterial_po2_min\",\n\"h1_arterial_po2_min\",\n{\n            'v': 5.92,\n            'f': \"5.92\",\n        },\n{\n            'v': 76.5,\n            'f': \"76.5\",\n        }],\n [\"h1_arterial_po2_max\",\n\"h1_arterial_po2_max\",\n{\n            'v': 5.92,\n            'f': \"5.92\",\n        },\n{\n            'v': 76.5,\n            'f': \"76.5\",\n        }],\n [\"h1_arterial_pco2_max\",\n\"h1_arterial_pco2_max\",\n{\n            'v': 5.93,\n            'f': \"5.93\",\n        },\n{\n            'v': 76.52,\n            'f': \"76.52\",\n        }],\n [\"h1_arterial_pco2_min\",\n\"h1_arterial_pco2_min\",\n{\n            'v': 5.93,\n            'f': \"5.93\",\n        },\n{\n            'v': 76.52,\n            'f': \"76.52\",\n        }],\n [\"h1_arterial_ph_max\",\n\"h1_arterial_ph_max\",\n{\n            'v': 6.0,\n            'f': \"6.0\",\n        },\n{\n            'v': 76.98,\n            'f': \"76.98\",\n        }],\n [\"h1_arterial_ph_min\",\n\"h1_arterial_ph_min\",\n{\n            'v': 6.0,\n            'f': \"6.0\",\n        },\n{\n            'v': 76.98,\n            'f': \"76.98\",\n        }],\n [\"h1_potassium_max\",\n\"h1_potassium_max\",\n{\n            'v': 6.09,\n            'f': \"6.09\",\n        },\n{\n            'v': 72.08,\n            'f': \"72.08\",\n        }],\n [\"h1_potassium_min\",\n\"h1_potassium_min\",\n{\n            'v': 6.09,\n            'f': \"6.09\",\n        },\n{\n            'v': 72.08,\n            'f': \"72.08\",\n        }],\n [\"h1_sodium_max\",\n\"h1_sodium_max\",\n{\n            'v': 6.11,\n            'f': \"6.11\",\n        },\n{\n            'v': 72.65,\n            'f': \"72.65\",\n        }],\n [\"h1_sodium_min\",\n\"h1_sodium_min\",\n{\n            'v': 6.11,\n            'f': \"6.11\",\n        },\n{\n            'v': 72.65,\n            'f': \"72.65\",\n        }],\n [\"h1_hemaglobin_min\",\n\"h1_hemaglobin_min\",\n{\n            'v': 6.26,\n            'f': \"6.26\",\n        },\n{\n            'v': 73.11,\n            'f': \"73.11\",\n        }],\n [\"h1_hemaglobin_max\",\n\"h1_hemaglobin_max\",\n{\n            'v': 6.26,\n            'f': \"6.26\",\n        },\n{\n            'v': 73.11,\n            'f': \"73.11\",\n        }],\n [\"h1_hematocrit_min\",\n\"h1_hematocrit_min\",\n{\n            'v': 6.35,\n            'f': \"6.35\",\n        },\n{\n            'v': 73.36,\n            'f': \"73.36\",\n        }],\n [\"h1_hematocrit_max\",\n\"h1_hematocrit_max\",\n{\n            'v': 6.35,\n            'f': \"6.35\",\n        },\n{\n            'v': 73.36,\n            'f': \"73.36\",\n        }],\n [\"h1_creatinine_min\",\n\"h1_creatinine_min\",\n{\n            'v': 6.4,\n            'f': \"6.4\",\n        },\n{\n            'v': 75.0,\n            'f': \"75.0\",\n        }],\n [\"h1_creatinine_max\",\n\"h1_creatinine_max\",\n{\n            'v': 6.4,\n            'f': \"6.4\",\n        },\n{\n            'v': 75.0,\n            'f': \"75.0\",\n        }],\n [\"h1_bun_max\",\n\"h1_bun_max\",\n{\n            'v': 6.41,\n            'f': \"6.41\",\n        },\n{\n            'v': 75.14,\n            'f': \"75.14\",\n        }],\n [\"h1_bun_min\",\n\"h1_bun_min\",\n{\n            'v': 6.41,\n            'f': \"6.41\",\n        },\n{\n            'v': 75.14,\n            'f': \"75.14\",\n        }],\n [\"h1_hco3_min\",\n\"h1_hco3_min\",\n{\n            'v': 6.48,\n            'f': \"6.48\",\n        },\n{\n            'v': 76.16,\n            'f': \"76.16\",\n        }],\n [\"h1_hco3_max\",\n\"h1_hco3_max\",\n{\n            'v': 6.48,\n            'f': \"6.48\",\n        },\n{\n            'v': 76.16,\n            'f': \"76.16\",\n        }],\n [\"h1_calcium_max\",\n\"h1_calcium_max\",\n{\n            'v': 6.52,\n            'f': \"6.52\",\n        },\n{\n            'v': 75.86,\n            'f': \"75.86\",\n        }],\n [\"h1_calcium_min\",\n\"h1_calcium_min\",\n{\n            'v': 6.52,\n            'f': \"6.52\",\n        },\n{\n            'v': 75.86,\n            'f': \"75.86\",\n        }],\n [\"h1_pao2fio2ratio_min\",\n\"h1_pao2fio2ratio_min\",\n{\n            'v': 6.55,\n            'f': \"6.55\",\n        },\n{\n            'v': 80.57,\n            'f': \"80.57\",\n        }],\n [\"h1_pao2fio2ratio_max\",\n\"h1_pao2fio2ratio_max\",\n{\n            'v': 6.55,\n            'f': \"6.55\",\n        },\n{\n            'v': 80.57,\n            'f': \"80.57\",\n        }],\n [\"h1_platelets_min\",\n\"h1_platelets_min\",\n{\n            'v': 6.57,\n            'f': \"6.57\",\n        },\n{\n            'v': 75.6,\n            'f': \"75.6\",\n        }],\n [\"h1_platelets_max\",\n\"h1_platelets_max\",\n{\n            'v': 6.57,\n            'f': \"6.57\",\n        },\n{\n            'v': 75.6,\n            'f': \"75.6\",\n        }],\n [\"h1_wbc_min\",\n\"h1_wbc_min\",\n{\n            'v': 6.61,\n            'f': \"6.61\",\n        },\n{\n            'v': 75.91,\n            'f': \"75.91\",\n        }],\n [\"h1_wbc_max\",\n\"h1_wbc_max\",\n{\n            'v': 6.61,\n            'f': \"6.61\",\n        },\n{\n            'v': 75.91,\n            'f': \"75.91\",\n        }],\n [\"h1_lactate_max\",\n\"h1_lactate_max\",\n{\n            'v': 6.92,\n            'f': \"6.92\",\n        },\n{\n            'v': 84.91,\n            'f': \"84.91\",\n        }],\n [\"h1_lactate_min\",\n\"h1_lactate_min\",\n{\n            'v': 6.92,\n            'f': \"6.92\",\n        },\n{\n            'v': 84.91,\n            'f': \"84.91\",\n        }],\n [\"h1_mbp_invasive_max\",\n\"h1_mbp_invasive_max\",\n{\n            'v': 6.94,\n            'f': \"6.94\",\n        },\n{\n            'v': 74.36,\n            'f': \"74.36\",\n        }],\n [\"h1_mbp_invasive_min\",\n\"h1_mbp_invasive_min\",\n{\n            'v': 6.94,\n            'f': \"6.94\",\n        },\n{\n            'v': 74.36,\n            'f': \"74.36\",\n        }],\n [\"h1_sysbp_invasive_max\",\n\"h1_sysbp_invasive_max\",\n{\n            'v': 6.96,\n            'f': \"6.96\",\n        },\n{\n            'v': 74.41,\n            'f': \"74.41\",\n        }],\n [\"h1_sysbp_invasive_min\",\n\"h1_sysbp_invasive_min\",\n{\n            'v': 6.96,\n            'f': \"6.96\",\n        },\n{\n            'v': 74.41,\n            'f': \"74.41\",\n        }],\n [\"h1_diasbp_invasive_min\",\n\"h1_diasbp_invasive_min\",\n{\n            'v': 6.97,\n            'f': \"6.97\",\n        },\n{\n            'v': 74.41,\n            'f': \"74.41\",\n        }],\n [\"h1_diasbp_invasive_max\",\n\"h1_diasbp_invasive_max\",\n{\n            'v': 6.97,\n            'f': \"6.97\",\n        },\n{\n            'v': 74.41,\n            'f': \"74.41\",\n        }],\n [\"h1_albumin_max\",\n\"h1_albumin_max\",\n{\n            'v': 7.15,\n            'f': \"7.15\",\n        },\n{\n            'v': 84.12,\n            'f': \"84.12\",\n        }],\n [\"h1_albumin_min\",\n\"h1_albumin_min\",\n{\n            'v': 7.15,\n            'f': \"7.15\",\n        },\n{\n            'v': 84.12,\n            'f': \"84.12\",\n        }],\n [\"h1_bilirubin_min\",\n\"h1_bilirubin_min\",\n{\n            'v': 7.27,\n            'f': \"7.27\",\n        },\n{\n            'v': 84.87,\n            'f': \"84.87\",\n        }],\n [\"h1_bilirubin_max\",\n\"h1_bilirubin_max\",\n{\n            'v': 7.27,\n            'f': \"7.27\",\n        },\n{\n            'v': 84.87,\n            'f': \"84.87\",\n        }]],\n        columns: [[\"string\", \"index\"], [\"string\", \"column_name\"], [\"number\", \"percent_missing_died\"], [\"number\", \"percent_missing_alive\"]],\n        columnOptions: [{\"width\": \"1px\", \"className\": \"index_column\"}],\n        rowsPerPage: 25,\n        helpUrl: \"https://colab.research.google.com/notebooks/data_table.ipynb\",\n        suppressOutputScrolling: true,\n      });\n    ",
      "text/html": [
       "<div>\n",
       "<style scoped>\n",
       "    .dataframe tbody tr th:only-of-type {\n",
       "        vertical-align: middle;\n",
       "    }\n",
       "\n",
       "    .dataframe tbody tr th {\n",
       "        vertical-align: top;\n",
       "    }\n",
       "\n",
       "    .dataframe thead th {\n",
       "        text-align: right;\n",
       "    }\n",
       "</style>\n",
       "<table border=\"1\" class=\"dataframe\">\n",
       "  <thead>\n",
       "    <tr style=\"text-align: right;\">\n",
       "      <th></th>\n",
       "      <th>column_name</th>\n",
       "      <th>percent_missing_died</th>\n",
       "      <th>percent_missing_alive</th>\n",
       "    </tr>\n",
       "  </thead>\n",
       "  <tbody>\n",
       "    <tr>\n",
       "      <th>encounter_id</th>\n",
       "      <td>encounter_id</td>\n",
       "      <td>0.00</td>\n",
       "      <td>0.00</td>\n",
       "    </tr>\n",
       "    <tr>\n",
       "      <th>ventilated_apache</th>\n",
       "      <td>ventilated_apache</td>\n",
       "      <td>0.00</td>\n",
       "      <td>0.00</td>\n",
       "    </tr>\n",
       "    <tr>\n",
       "      <th>d1_diasbp_max</th>\n",
       "      <td>d1_diasbp_max</td>\n",
       "      <td>0.00</td>\n",
       "      <td>0.00</td>\n",
       "    </tr>\n",
       "    <tr>\n",
       "      <th>d1_diasbp_min</th>\n",
       "      <td>d1_diasbp_min</td>\n",
       "      <td>0.00</td>\n",
       "      <td>0.00</td>\n",
       "    </tr>\n",
       "    <tr>\n",
       "      <th>d1_heartrate_max</th>\n",
       "      <td>d1_heartrate_max</td>\n",
       "      <td>0.00</td>\n",
       "      <td>0.00</td>\n",
       "    </tr>\n",
       "    <tr>\n",
       "      <th>...</th>\n",
       "      <td>...</td>\n",
       "      <td>...</td>\n",
       "      <td>...</td>\n",
       "    </tr>\n",
       "    <tr>\n",
       "      <th>h1_diasbp_invasive_max</th>\n",
       "      <td>h1_diasbp_invasive_max</td>\n",
       "      <td>6.97</td>\n",
       "      <td>74.41</td>\n",
       "    </tr>\n",
       "    <tr>\n",
       "      <th>h1_albumin_max</th>\n",
       "      <td>h1_albumin_max</td>\n",
       "      <td>7.15</td>\n",
       "      <td>84.12</td>\n",
       "    </tr>\n",
       "    <tr>\n",
       "      <th>h1_albumin_min</th>\n",
       "      <td>h1_albumin_min</td>\n",
       "      <td>7.15</td>\n",
       "      <td>84.12</td>\n",
       "    </tr>\n",
       "    <tr>\n",
       "      <th>h1_bilirubin_min</th>\n",
       "      <td>h1_bilirubin_min</td>\n",
       "      <td>7.27</td>\n",
       "      <td>84.87</td>\n",
       "    </tr>\n",
       "    <tr>\n",
       "      <th>h1_bilirubin_max</th>\n",
       "      <td>h1_bilirubin_max</td>\n",
       "      <td>7.27</td>\n",
       "      <td>84.87</td>\n",
       "    </tr>\n",
       "  </tbody>\n",
       "</table>\n",
       "<p>185 rows × 3 columns</p>\n",
       "</div>"
      ],
      "text/plain": [
       "                                   column_name  percent_missing_died  \\\n",
       "encounter_id                      encounter_id                  0.00   \n",
       "ventilated_apache            ventilated_apache                  0.00   \n",
       "d1_diasbp_max                    d1_diasbp_max                  0.00   \n",
       "d1_diasbp_min                    d1_diasbp_min                  0.00   \n",
       "d1_heartrate_max              d1_heartrate_max                  0.00   \n",
       "...                                        ...                   ...   \n",
       "h1_diasbp_invasive_max  h1_diasbp_invasive_max                  6.97   \n",
       "h1_albumin_max                  h1_albumin_max                  7.15   \n",
       "h1_albumin_min                  h1_albumin_min                  7.15   \n",
       "h1_bilirubin_min              h1_bilirubin_min                  7.27   \n",
       "h1_bilirubin_max              h1_bilirubin_max                  7.27   \n",
       "\n",
       "                        percent_missing_alive  \n",
       "encounter_id                             0.00  \n",
       "ventilated_apache                        0.00  \n",
       "d1_diasbp_max                            0.00  \n",
       "d1_diasbp_min                            0.00  \n",
       "d1_heartrate_max                         0.00  \n",
       "...                                       ...  \n",
       "h1_diasbp_invasive_max                  74.41  \n",
       "h1_albumin_max                          84.12  \n",
       "h1_albumin_min                          84.12  \n",
       "h1_bilirubin_min                        84.87  \n",
       "h1_bilirubin_max                        84.87  \n",
       "\n",
       "[185 rows x 3 columns]"
      ]
     },
     "execution_count": 105,
     "metadata": {
      "tags": []
     },
     "output_type": "execute_result"
    }
   ],
   "source": [
    "percent_missing_died = df_training[(df_training['hospital_death'] == 1) ].isnull().sum() * 100 / len(df_training)\n",
    "percent_missing_alive = df_training[(df_training['hospital_death'] == 0) ].isnull().sum() * 100 / len(df_training)\n",
    "missing_value_df = pd.DataFrame({'column_name': df_training.columns,\n",
    "                                 'percent_missing_died': percent_missing_died,\n",
    "                                 'percent_missing_alive': percent_missing_alive}).round(2)\n",
    "\n",
    "missing_value_df.sort_values('percent_missing_died', inplace=True)\n",
    "\n",
    "missing_value_df[(missing_value_df[\"column_name\"] == 'gcs_unable_apache') \n",
    "#                | (missing_value_df[\"column_name\"] == 'h1_creatinine_max')\n",
    "#                | (missing_value_df[\"column_name\"] == 'd1_creatinine_min')\n",
    "#                | (missing_value_df[\"column_name\"] == 'd1_creatinine_max')\n",
    "              ]\n",
    "missing_value_df.head(200)"
   ]
  },
  {
   "cell_type": "markdown",
   "metadata": {
    "id": "fmuhDu2B3zkk"
   },
   "source": [
    "## **Tratamento valores NAN**"
   ]
  },
  {
   "cell_type": "code",
   "execution_count": null,
   "metadata": {
    "colab": {
     "base_uri": "https://localhost:8080/",
     "height": 73
    },
    "executionInfo": {
     "elapsed": 6623,
     "status": "ok",
     "timestamp": 1582555860785,
     "user": {
      "displayName": "Ararajuba Data Science Project",
      "photoUrl": "",
      "userId": "02004027308564222829"
     },
     "user_tz": 180
    },
    "id": "Lf1GcNuqKn-s",
    "outputId": "b099ab06-d320-495a-df7d-a72d8b6de49b"
   },
   "outputs": [
    {
     "data": {
      "text/plain": [
       "0    0.916363\n",
       "1    0.083637\n",
       "Name: hospital_death, dtype: float64"
      ]
     },
     "execution_count": 106,
     "metadata": {
      "tags": []
     },
     "output_type": "execute_result"
    }
   ],
   "source": [
    "# Sobrevivente (0) Óbito (1)\n",
    "df_training[\"hospital_death\"].value_counts(normalize=True)"
   ]
  },
  {
   "cell_type": "markdown",
   "metadata": {
    "id": "8D6YS0JMThUc"
   },
   "source": [
    "### Dica sobre Missing Vlues\n",
    "\n",
    "There's no guarantee that a column with 60% missing values wouldn't be useful to your model. I wouldn't drop it before evaluating the feature. Best bet is to just build a model with the column, check the model's feature importance for that variable. If it doesn't seem important, then try dropping the column and see how that changes your score in cross validation."
   ]
  },
  {
   "cell_type": "markdown",
   "metadata": {
    "id": "goeKmr7MRV7g"
   },
   "source": [
    "Os gráficos de cross_validation abaixo serão utilizados para analisar as colunas e suas correlações, o objetivo é retirar o maior número de colunas com valores nulos e que não geram valor para o modelo. **A última coluna é a variável target**"
   ]
  },
  {
   "cell_type": "markdown",
   "metadata": {
    "id": "TtdWgTAXKqIN"
   },
   "source": [
    "Nesta etapa é selecionado apenas as TOP 40 features relacionadas a feature **target** (20 relacionados a óbito e 20 relacionadas a alta)"
   ]
  },
  {
   "cell_type": "code",
   "execution_count": null,
   "metadata": {
    "colab": {
     "base_uri": "https://localhost:8080/",
     "height": 966
    },
    "executionInfo": {
     "elapsed": 17721,
     "status": "ok",
     "timestamp": 1582555871894,
     "user": {
      "displayName": "Ararajuba Data Science Project",
      "photoUrl": "",
      "userId": "02004027308564222829"
     },
     "user_tz": 180
    },
    "id": "Tx1aR07MtBPv",
    "outputId": "3b6fd6a5-d91b-4577-96b2-c90125aeb3e4"
   },
   "outputs": [
    {
     "name": "stdout",
     "output_type": "stream",
     "text": [
      "Top 40 features Morreu:  Index(['hospital_death', 'd1_lactate_min', 'd1_lactate_max', 'h1_lactate_min',\n",
      "       'apache_4a_hospital_death_prob', 'h1_lactate_max',\n",
      "       'apache_4a_icu_death_prob', 'ventilated_apache', 'fio2_apache',\n",
      "       'd1_inr_max', 'h1_inr_max', 'd1_bun_max', 'bun_apache', 'd1_bun_min',\n",
      "       'intubated_apache', 'h1_inr_min', 'd1_inr_min', 'h1_bun_max',\n",
      "       'h1_bun_min', 'd1_heartrate_max', 'd1_wbc_max', 'bilirubin_apache',\n",
      "       'd1_bilirubin_max', 'h1_bilirubin_max', 'h1_bilirubin_min',\n",
      "       'wbc_apache', 'd1_bilirubin_min', 'd1_wbc_min', 'h1_resprate_max',\n",
      "       'd1_creatinine_max', 'creatinine_apache', 'h1_heartrate_max',\n",
      "       'h1_creatinine_max', 'h1_creatinine_min', 'd1_potassium_max', 'age',\n",
      "       'heart_rate_apache', 'h1_resprate_min', 'd1_creatinine_min',\n",
      "       'd1_resprate_max', 'h1_heartrate_min', 'h1_potassium_min',\n",
      "       'resprate_apache', 'd1_glucose_max', 'h1_potassium_max', 'h1_wbc_max',\n",
      "       'h1_wbc_min', 'glucose_apache', 'pre_icu_los_days', 'd1_sodium_max',\n",
      "       'solid_tumor_with_metastasis', 'apache_3j_bodysystem',\n",
      "       'gcs_unable_apache', 'immunosuppression', 'h1_glucose_max', 'cirrhosis',\n",
      "       'd1_arterial_po2_max', 'hepatic_failure', 'h1_glucose_min', 'leukemia',\n",
      "       'arf_apache', 'd1_glucose_min', 'd1_arterial_pco2_max',\n",
      "       'h1_arterial_pco2_min', 'd1_resprate_min', 'd1_potassium_min',\n",
      "       'lymphoma', 'h1_arterial_pco2_max', 'icu_type', 'pao2_apache',\n",
      "       'd1_temp_max', 'sodium_apache', 'icu_stay_type', 'h1_sodium_max',\n",
      "       'd1_diasbp_noninvasive_max', 'aids', 'ethnicity', 'd1_diasbp_max',\n",
      "       'patient_id', 'h1_sodium_min'],\n",
      "      dtype='object')\n",
      "Top 40 features Sobreviveu:  Index(['gcs_motor_apache', 'gcs_eyes_apache', 'gcs_verbal_apache',\n",
      "       'd1_sysbp_invasive_min', 'd1_arterial_ph_min', 'h1_albumin_min',\n",
      "       'h1_albumin_max', 'd1_mbp_invasive_min', 'd1_spo2_min', 'd1_temp_min',\n",
      "       'd1_sysbp_min', 'd1_sysbp_noninvasive_min', 'h1_arterial_ph_max',\n",
      "       'd1_albumin_min', 'ph_apache', 'h1_arterial_ph_min', 'albumin_apache',\n",
      "       'd1_mbp_noninvasive_min', 'd1_mbp_min', 'd1_diasbp_noninvasive_min',\n",
      "       'd1_diasbp_min', 'd1_albumin_max', 'd1_diasbp_invasive_min',\n",
      "       'd1_hco3_min', 'temp_apache', 'h1_sysbp_noninvasive_min',\n",
      "       'h1_mbp_noninvasive_min', 'h1_sysbp_min', 'd1_pao2fio2ratio_min',\n",
      "       'h1_mbp_min', 'h1_hco3_min', 'h1_hco3_max', 'd1_calcium_min',\n",
      "       'h1_diasbp_noninvasive_min', 'd1_hco3_max', 'd1_arterial_ph_max',\n",
      "       'h1_diasbp_min', 'h1_temp_min', 'h1_sysbp_invasive_min', 'h1_spo2_min',\n",
      "       'h1_temp_max', 'urineoutput_apache', 'apache_3j_diagnosis',\n",
      "       'h1_mbp_invasive_min', 'elective_surgery', 'apache_2_diagnosis',\n",
      "       'd1_hemaglobin_min', 'd1_pao2fio2ratio_max', 'apache_post_operative',\n",
      "       'd1_arterial_pco2_min', 'h1_pao2fio2ratio_max', 'h1_pao2fio2ratio_min',\n",
      "       'h1_sysbp_invasive_max', 'd1_calcium_max', 'h1_calcium_max',\n",
      "       'd1_hematocrit_min', 'h1_calcium_min', 'h1_sysbp_max',\n",
      "       'hematocrit_apache', 'h1_sysbp_noninvasive_max',\n",
      "       'd1_sysbp_invasive_max', 'h1_mbp_noninvasive_max', 'd1_platelets_min',\n",
      "       'h1_mbp_max', 'h1_hemaglobin_max', 'h1_hemaglobin_min',\n",
      "       'apache_2_bodysystem', 'd1_hemaglobin_max', 'h1_diasbp_invasive_min',\n",
      "       'h1_spo2_max', 'h1_arterial_po2_max', 'map_apache', 'd1_hematocrit_max',\n",
      "       'hospital_admit_source', 'paco2_for_ph_apache', 'paco2_apache',\n",
      "       'weight', 'h1_diasbp_noninvasive_max', 'd1_platelets_max',\n",
      "       'd1_diasbp_invasive_max'],\n",
      "      dtype='object')\n"
     ]
    }
   ],
   "source": [
    "df = df_training\n",
    "\n",
    "target = df_training['hospital_death']\n",
    "\n",
    "df.drop('hospital_death', axis=1, inplace=True)\n",
    "df.insert(len(df.columns), 'hospital_death', target)\n",
    "\n",
    "#get correlations of each features in dataset\n",
    "corrmat = df.corr(method ='pearson')\n",
    "\n",
    "df_correlacao_negativa = corrmat.sort_values(\"hospital_death\", ascending=True)\n",
    "df_corr_top_sobreviveu = df_correlacao_negativa.head(80)\n",
    "\n",
    "df_correlacao_positiva = corrmat.sort_values(\"hospital_death\", ascending=False)\n",
    "df_corr_top_morreu = df_correlacao_positiva.head(80)\n",
    "\n",
    "print(\"Top 40 features Morreu: \", df_corr_top_morreu.index)\n",
    "print(\"Top 40 features Sobreviveu: \", df_corr_top_sobreviveu.index)"
   ]
  },
  {
   "cell_type": "markdown",
   "metadata": {
    "id": "QidVMYACK07O"
   },
   "source": [
    "Após o filtro das colunas mais importantes avaliamos quais features estão com valores nulos"
   ]
  },
  {
   "cell_type": "code",
   "execution_count": null,
   "metadata": {
    "colab": {
     "base_uri": "https://localhost:8080/",
     "height": 644
    },
    "executionInfo": {
     "elapsed": 17718,
     "status": "ok",
     "timestamp": 1582555871898,
     "user": {
      "displayName": "Ararajuba Data Science Project",
      "photoUrl": "",
      "userId": "02004027308564222829"
     },
     "user_tz": 180
    },
    "id": "l19DNZPJ619u",
    "outputId": "120e5148-1761-4a05-ea18-09561726e52a"
   },
   "outputs": [
    {
     "data": {
      "application/vnd.google.colaboratory.module+javascript": "\n      import \"https://ssl.gstatic.com/colaboratory/data_table/84ef27dae82052e3/data_table.js\";\n\n      window.createDataTable({\n        data: [[\"hospital_death\",\n\"hospital_death\",\n{\n            'v': 0.0,\n            'f': \"0.0\",\n        },\n{\n            'v': 0.0,\n            'f': \"0.0\",\n        }],\n [\"pre_icu_los_days\",\n\"pre_icu_los_days\",\n{\n            'v': 0.0,\n            'f': \"0.0\",\n        },\n{\n            'v': 0.0,\n            'f': \"0.0\",\n        }],\n [\"solid_tumor_with_metastasis\",\n\"solid_tumor_with_metastasis\",\n{\n            'v': 0.0,\n            'f': \"0.0\",\n        },\n{\n            'v': 0.0,\n            'f': \"0.0\",\n        }],\n [\"apache_3j_bodysystem\",\n\"apache_3j_bodysystem\",\n{\n            'v': 0.0,\n            'f': \"0.0\",\n        },\n{\n            'v': 0.0,\n            'f': \"0.0\",\n        }],\n [\"immunosuppression\",\n\"immunosuppression\",\n{\n            'v': 0.0,\n            'f': \"0.0\",\n        },\n{\n            'v': 0.0,\n            'f': \"0.0\",\n        }],\n [\"cirrhosis\",\n\"cirrhosis\",\n{\n            'v': 0.0,\n            'f': \"0.0\",\n        },\n{\n            'v': 0.0,\n            'f': \"0.0\",\n        }],\n [\"hepatic_failure\",\n\"hepatic_failure\",\n{\n            'v': 0.0,\n            'f': \"0.0\",\n        },\n{\n            'v': 0.0,\n            'f': \"0.0\",\n        }],\n [\"leukemia\",\n\"leukemia\",\n{\n            'v': 0.0,\n            'f': \"0.0\",\n        },\n{\n            'v': 0.0,\n            'f': \"0.0\",\n        }],\n [\"arf_apache\",\n\"arf_apache\",\n{\n            'v': 0.0,\n            'f': \"0.0\",\n        },\n{\n            'v': 0.0,\n            'f': \"0.0\",\n        }],\n [\"lymphoma\",\n\"lymphoma\",\n{\n            'v': 0.0,\n            'f': \"0.0\",\n        },\n{\n            'v': 0.0,\n            'f': \"0.0\",\n        }],\n [\"icu_type\",\n\"icu_type\",\n{\n            'v': 0.0,\n            'f': \"0.0\",\n        },\n{\n            'v': 0.0,\n            'f': \"0.0\",\n        }],\n [\"icu_stay_type\",\n\"icu_stay_type\",\n{\n            'v': 0.0,\n            'f': \"0.0\",\n        },\n{\n            'v': 0.0,\n            'f': \"0.0\",\n        }],\n [\"aids\",\n\"aids\",\n{\n            'v': 0.0,\n            'f': \"0.0\",\n        },\n{\n            'v': 0.0,\n            'f': \"0.0\",\n        }],\n [\"ethnicity\",\n\"ethnicity\",\n{\n            'v': 0.0,\n            'f': \"0.0\",\n        },\n{\n            'v': 0.0,\n            'f': \"0.0\",\n        }],\n [\"d1_diasbp_max\",\n\"d1_diasbp_max\",\n{\n            'v': 0.0,\n            'f': \"0.0\",\n        },\n{\n            'v': 0.0,\n            'f': \"0.0\",\n        }],\n [\"patient_id\",\n\"patient_id\",\n{\n            'v': 0.0,\n            'f': \"0.0\",\n        },\n{\n            'v': 0.0,\n            'f': \"0.0\",\n        }],\n [\"gender\",\n\"gender\",\n{\n            'v': 0.0,\n            'f': \"0.0\",\n        },\n{\n            'v': 0.0,\n            'f': \"0.0\",\n        }],\n [\"d1_sysbp_min\",\n\"d1_sysbp_min\",\n{\n            'v': 0.0,\n            'f': \"0.0\",\n        },\n{\n            'v': 0.0,\n            'f': \"0.0\",\n        }],\n [\"d1_mbp_min\",\n\"d1_mbp_min\",\n{\n            'v': 0.0,\n            'f': \"0.0\",\n        },\n{\n            'v': 0.0,\n            'f': \"0.0\",\n        }],\n [\"d1_diasbp_min\",\n\"d1_diasbp_min\",\n{\n            'v': 0.0,\n            'f': \"0.0\",\n        },\n{\n            'v': 0.0,\n            'f': \"0.0\",\n        }],\n [\"apache_3j_diagnosis\",\n\"apache_3j_diagnosis\",\n{\n            'v': 0.0,\n            'f': \"0.0\",\n        },\n{\n            'v': 0.0,\n            'f': \"0.0\",\n        }],\n [\"elective_surgery\",\n\"elective_surgery\",\n{\n            'v': 0.0,\n            'f': \"0.0\",\n        },\n{\n            'v': 0.0,\n            'f': \"0.0\",\n        }],\n [\"apache_2_diagnosis\",\n\"apache_2_diagnosis\",\n{\n            'v': 0.0,\n            'f': \"0.0\",\n        },\n{\n            'v': 0.0,\n            'f': \"0.0\",\n        }],\n [\"apache_post_operative\",\n\"apache_post_operative\",\n{\n            'v': 0.0,\n            'f': \"0.0\",\n        },\n{\n            'v': 0.0,\n            'f': \"0.0\",\n        }],\n [\"apache_2_bodysystem\",\n\"apache_2_bodysystem\",\n{\n            'v': 0.0,\n            'f': \"0.0\",\n        },\n{\n            'v': 0.0,\n            'f': \"0.0\",\n        }],\n [\"encounter_id\",\n\"encounter_id\",\n{\n            'v': 0.0,\n            'f': \"0.0\",\n        },\n{\n            'v': 0.0,\n            'f': \"0.0\",\n        }],\n [\"heart_rate_apache\",\n\"heart_rate_apache\",\n{\n            'v': 0.0,\n            'f': \"0.0\",\n        },\n{\n            'v': 0.02,\n            'f': \"0.02\",\n        }],\n [\"age\",\n\"age\",\n{\n            'v': 0.0,\n            'f': \"0.0\",\n        },\n{\n            'v': 0.0,\n            'f': \"0.0\",\n        }],\n [\"icu_admit_source\",\n\"icu_admit_source\",\n{\n            'v': 0.0,\n            'f': \"0.0\",\n        },\n{\n            'v': 0.0,\n            'f': \"0.0\",\n        }],\n [\"intubated_apache\",\n\"intubated_apache\",\n{\n            'v': 0.0,\n            'f': \"0.0\",\n        },\n{\n            'v': 0.0,\n            'f': \"0.0\",\n        }],\n [\"d1_heartrate_max\",\n\"d1_heartrate_max\",\n{\n            'v': 0.0,\n            'f': \"0.0\",\n        },\n{\n            'v': 0.0,\n            'f': \"0.0\",\n        }],\n [\"ventilated_apache\",\n\"ventilated_apache\",\n{\n            'v': 0.0,\n            'f': \"0.0\",\n        },\n{\n            'v': 0.0,\n            'f': \"0.0\",\n        }],\n [\"map_apache\",\n\"map_apache\",\n{\n            'v': 0.01,\n            'f': \"0.01\",\n        },\n{\n            'v': 0.07,\n            'f': \"0.07\",\n        }],\n [\"d1_spo2_min\",\n\"d1_spo2_min\",\n{\n            'v': 0.02,\n            'f': \"0.02\",\n        },\n{\n            'v': 0.16,\n            'f': \"0.16\",\n        }],\n [\"resprate_apache\",\n\"resprate_apache\",\n{\n            'v': 0.02,\n            'f': \"0.02\",\n        },\n{\n            'v': 0.42,\n            'f': \"0.42\",\n        }],\n [\"gcs_unable_apache\",\n\"gcs_unable_apache\",\n{\n            'v': 0.02,\n            'f': \"0.02\",\n        },\n{\n            'v': 0.12,\n            'f': \"0.12\",\n        }],\n [\"d1_resprate_max\",\n\"d1_resprate_max\",\n{\n            'v': 0.03,\n            'f': \"0.03\",\n        },\n{\n            'v': 0.26,\n            'f': \"0.26\",\n        }],\n [\"d1_resprate_min\",\n\"d1_resprate_min\",\n{\n            'v': 0.03,\n            'f': \"0.03\",\n        },\n{\n            'v': 0.26,\n            'f': \"0.26\",\n        }],\n [\"d1_sysbp_noninvasive_min\",\n\"d1_sysbp_noninvasive_min\",\n{\n            'v': 0.09,\n            'f': \"0.09\",\n        },\n{\n            'v': 0.86,\n            'f': \"0.86\",\n        }],\n [\"d1_diasbp_noninvasive_max\",\n\"d1_diasbp_noninvasive_max\",\n{\n            'v': 0.09,\n            'f': \"0.09\",\n        },\n{\n            'v': 0.87,\n            'f': \"0.87\",\n        }],\n [\"d1_diasbp_noninvasive_min\",\n\"d1_diasbp_noninvasive_min\",\n{\n            'v': 0.09,\n            'f': \"0.09\",\n        },\n{\n            'v': 0.87,\n            'f': \"0.87\",\n        }],\n [\"d1_mbp_noninvasive_min\",\n\"d1_mbp_noninvasive_min\",\n{\n            'v': 0.11,\n            'f': \"0.11\",\n        },\n{\n            'v': 1.27,\n            'f': \"1.27\",\n        }],\n [\"h1_heartrate_min\",\n\"h1_heartrate_min\",\n{\n            'v': 0.19,\n            'f': \"0.19\",\n        },\n{\n            'v': 2.53,\n            'f': \"2.53\",\n        }],\n [\"h1_heartrate_max\",\n\"h1_heartrate_max\",\n{\n            'v': 0.19,\n            'f': \"0.19\",\n        },\n{\n            'v': 2.53,\n            'f': \"2.53\",\n        }],\n [\"gcs_eyes_apache\",\n\"gcs_eyes_apache\",\n{\n            'v': 0.24,\n            'f': \"0.24\",\n        },\n{\n            'v': 0.87,\n            'f': \"0.87\",\n        }],\n [\"gcs_motor_apache\",\n\"gcs_motor_apache\",\n{\n            'v': 0.24,\n            'f': \"0.24\",\n        },\n{\n            'v': 0.87,\n            'f': \"0.87\",\n        }],\n [\"weight\",\n\"weight\",\n{\n            'v': 0.24,\n            'f': \"0.24\",\n        },\n{\n            'v': 2.54,\n            'f': \"2.54\",\n        }],\n [\"gcs_verbal_apache\",\n\"gcs_verbal_apache\",\n{\n            'v': 0.24,\n            'f': \"0.24\",\n        },\n{\n            'v': 0.87,\n            'f': \"0.87\",\n        }],\n [\"h1_diasbp_min\",\n\"h1_diasbp_min\",\n{\n            'v': 0.26,\n            'f': \"0.26\",\n        },\n{\n            'v': 3.34,\n            'f': \"3.34\",\n        }],\n [\"h1_sysbp_max\",\n\"h1_sysbp_max\",\n{\n            'v': 0.26,\n            'f': \"0.26\",\n        },\n{\n            'v': 3.34,\n            'f': \"3.34\",\n        }],\n [\"h1_sysbp_min\",\n\"h1_sysbp_min\",\n{\n            'v': 0.26,\n            'f': \"0.26\",\n        },\n{\n            'v': 3.34,\n            'f': \"3.34\",\n        }],\n [\"d1_temp_min\",\n\"d1_temp_min\",\n{\n            'v': 0.28,\n            'f': \"0.28\",\n        },\n{\n            'v': 2.06,\n            'f': \"2.06\",\n        }],\n [\"d1_temp_max\",\n\"d1_temp_max\",\n{\n            'v': 0.28,\n            'f': \"0.28\",\n        },\n{\n            'v': 2.06,\n            'f': \"2.06\",\n        }],\n [\"h1_resprate_max\",\n\"h1_resprate_max\",\n{\n            'v': 0.33,\n            'f': \"0.33\",\n        },\n{\n            'v': 4.14,\n            'f': \"4.14\",\n        }],\n [\"h1_mbp_max\",\n\"h1_mbp_max\",\n{\n            'v': 0.33,\n            'f': \"0.33\",\n        },\n{\n            'v': 4.32,\n            'f': \"4.32\",\n        }],\n [\"h1_resprate_min\",\n\"h1_resprate_min\",\n{\n            'v': 0.33,\n            'f': \"0.33\",\n        },\n{\n            'v': 4.14,\n            'f': \"4.14\",\n        }],\n [\"h1_mbp_min\",\n\"h1_mbp_min\",\n{\n            'v': 0.33,\n            'f': \"0.33\",\n        },\n{\n            'v': 4.32,\n            'f': \"4.32\",\n        }],\n [\"h1_spo2_max\",\n\"h1_spo2_max\",\n{\n            'v': 0.36,\n            'f': \"0.36\",\n        },\n{\n            'v': 3.9,\n            'f': \"3.9\",\n        }],\n [\"h1_spo2_min\",\n\"h1_spo2_min\",\n{\n            'v': 0.36,\n            'f': \"0.36\",\n        },\n{\n            'v': 3.9,\n            'f': \"3.9\",\n        }],\n [\"temp_apache\",\n\"temp_apache\",\n{\n            'v': 0.44,\n            'f': \"0.44\",\n        },\n{\n            'v': 2.98,\n            'f': \"2.98\",\n        }],\n [\"d1_glucose_min\",\n\"d1_glucose_min\",\n{\n            'v': 0.45,\n            'f': \"0.45\",\n        },\n{\n            'v': 5.62,\n            'f': \"5.62\",\n        }],\n [\"d1_glucose_max\",\n\"d1_glucose_max\",\n{\n            'v': 0.45,\n            'f': \"0.45\",\n        },\n{\n            'v': 5.62,\n            'f': \"5.62\",\n        }],\n [\"h1_sysbp_noninvasive_min\",\n\"h1_sysbp_noninvasive_min\",\n{\n            'v': 0.46,\n            'f': \"0.46\",\n        },\n{\n            'v': 7.3,\n            'f': \"7.3\",\n        }],\n [\"h1_diasbp_noninvasive_min\",\n\"h1_diasbp_noninvasive_min\",\n{\n            'v': 0.46,\n            'f': \"0.46\",\n        },\n{\n            'v': 7.3,\n            'f': \"7.3\",\n        }],\n [\"h1_sysbp_noninvasive_max\",\n\"h1_sysbp_noninvasive_max\",\n{\n            'v': 0.46,\n            'f': \"0.46\",\n        },\n{\n            'v': 7.3,\n            'f': \"7.3\",\n        }],\n [\"h1_diasbp_noninvasive_max\",\n\"h1_diasbp_noninvasive_max\",\n{\n            'v': 0.46,\n            'f': \"0.46\",\n        },\n{\n            'v': 7.3,\n            'f': \"7.3\",\n        }],\n [\"apache_4a_icu_death_prob\",\n\"apache_4a_icu_death_prob\",\n{\n            'v': 0.5,\n            'f': \"0.5\",\n        },\n{\n            'v': 7.42,\n            'f': \"7.42\",\n        }],\n [\"apache_4a_hospital_death_prob\",\n\"apache_4a_hospital_death_prob\",\n{\n            'v': 0.5,\n            'f': \"0.5\",\n        },\n{\n            'v': 7.42,\n            'f': \"7.42\",\n        }],\n [\"h1_mbp_noninvasive_max\",\n\"h1_mbp_noninvasive_max\",\n{\n            'v': 0.56,\n            'f': \"0.56\",\n        },\n{\n            'v': 9.05,\n            'f': \"9.05\",\n        }],\n [\"h1_mbp_noninvasive_min\",\n\"h1_mbp_noninvasive_min\",\n{\n            'v': 0.56,\n            'f': \"0.56\",\n        },\n{\n            'v': 9.05,\n            'f': \"9.05\",\n        }],\n [\"glucose_apache\",\n\"glucose_apache\",\n{\n            'v': 0.75,\n            'f': \"0.75\",\n        },\n{\n            'v': 10.24,\n            'f': \"10.24\",\n        }],\n [\"d1_sodium_max\",\n\"d1_sodium_max\",\n{\n            'v': 0.76,\n            'f': \"0.76\",\n        },\n{\n            'v': 9.99,\n            'f': \"9.99\",\n        }],\n [\"d1_potassium_max\",\n\"d1_potassium_max\",\n{\n            'v': 0.77,\n            'f': \"0.77\",\n        },\n{\n            'v': 9.25,\n            'f': \"9.25\",\n        }],\n [\"d1_potassium_min\",\n\"d1_potassium_min\",\n{\n            'v': 0.77,\n            'f': \"0.77\",\n        },\n{\n            'v': 9.25,\n            'f': \"9.25\",\n        }],\n [\"d1_bun_max\",\n\"d1_bun_max\",\n{\n            'v': 0.82,\n            'f': \"0.82\",\n        },\n{\n            'v': 10.26,\n            'f': \"10.26\",\n        }],\n [\"d1_bun_min\",\n\"d1_bun_min\",\n{\n            'v': 0.82,\n            'f': \"0.82\",\n        },\n{\n            'v': 10.26,\n            'f': \"10.26\",\n        }],\n [\"d1_creatinine_max\",\n\"d1_creatinine_max\",\n{\n            'v': 0.83,\n            'f': \"0.83\",\n        },\n{\n            'v': 9.86,\n            'f': \"9.86\",\n        }],\n [\"d1_creatinine_min\",\n\"d1_creatinine_min\",\n{\n            'v': 0.83,\n            'f': \"0.83\",\n        },\n{\n            'v': 9.86,\n            'f': \"9.86\",\n        }],\n [\"d1_hematocrit_max\",\n\"d1_hematocrit_max\",\n{\n            'v': 0.94,\n            'f': \"0.94\",\n        },\n{\n            'v': 11.39,\n            'f': \"11.39\",\n        }],\n [\"d1_hematocrit_min\",\n\"d1_hematocrit_min\",\n{\n            'v': 0.94,\n            'f': \"0.94\",\n        },\n{\n            'v': 11.39,\n            'f': \"11.39\",\n        }],\n [\"d1_hemaglobin_max\",\n\"d1_hemaglobin_max\",\n{\n            'v': 0.96,\n            'f': \"0.96\",\n        },\n{\n            'v': 11.9,\n            'f': \"11.9\",\n        }],\n [\"d1_hemaglobin_min\",\n\"d1_hemaglobin_min\",\n{\n            'v': 0.96,\n            'f': \"0.96\",\n        },\n{\n            'v': 11.9,\n            'f': \"11.9\",\n        }],\n [\"d1_calcium_min\",\n\"d1_calcium_min\",\n{\n            'v': 1.07,\n            'f': \"1.07\",\n        },\n{\n            'v': 12.76,\n            'f': \"12.76\",\n        }],\n [\"d1_calcium_max\",\n\"d1_calcium_max\",\n{\n            'v': 1.07,\n            'f': \"1.07\",\n        },\n{\n            'v': 12.76,\n            'f': \"12.76\",\n        }],\n [\"d1_wbc_min\",\n\"d1_wbc_min\",\n{\n            'v': 1.08,\n            'f': \"1.08\",\n        },\n{\n            'v': 12.89,\n            'f': \"12.89\",\n        }],\n [\"d1_wbc_max\",\n\"d1_wbc_max\",\n{\n            'v': 1.08,\n            'f': \"1.08\",\n        },\n{\n            'v': 12.89,\n            'f': \"12.89\",\n        }],\n [\"d1_platelets_max\",\n\"d1_platelets_max\",\n{\n            'v': 1.09,\n            'f': \"1.09\",\n        },\n{\n            'v': 13.14,\n            'f': \"13.14\",\n        }],\n [\"d1_platelets_min\",\n\"d1_platelets_min\",\n{\n            'v': 1.09,\n            'f': \"1.09\",\n        },\n{\n            'v': 13.14,\n            'f': \"13.14\",\n        }],\n [\"d1_hco3_max\",\n\"d1_hco3_max\",\n{\n            'v': 1.16,\n            'f': \"1.16\",\n        },\n{\n            'v': 14.85,\n            'f': \"14.85\",\n        }],\n [\"d1_hco3_min\",\n\"d1_hco3_min\",\n{\n            'v': 1.16,\n            'f': \"1.16\",\n        },\n{\n            'v': 14.85,\n            'f': \"14.85\",\n        }],\n [\"sodium_apache\",\n\"sodium_apache\",\n{\n            'v': 1.3,\n            'f': \"1.3\",\n        },\n{\n            'v': 17.91,\n            'f': \"17.91\",\n        }],\n [\"creatinine_apache\",\n\"creatinine_apache\",\n{\n            'v': 1.38,\n            'f': \"1.38\",\n        },\n{\n            'v': 18.1,\n            'f': \"18.1\",\n        }],\n [\"bun_apache\",\n\"bun_apache\",\n{\n            'v': 1.38,\n            'f': \"1.38\",\n        },\n{\n            'v': 18.56,\n            'f': \"18.56\",\n        }],\n [\"hematocrit_apache\",\n\"hematocrit_apache\",\n{\n            'v': 1.52,\n            'f': \"1.52\",\n        },\n{\n            'v': 19.11,\n            'f': \"19.11\",\n        }],\n [\"wbc_apache\",\n\"wbc_apache\",\n{\n            'v': 1.73,\n            'f': \"1.73\",\n        },\n{\n            'v': 21.23,\n            'f': \"21.23\",\n        }],\n [\"hospital_admit_source\",\n\"hospital_admit_source\",\n{\n            'v': 1.83,\n            'f': \"1.83\",\n        },\n{\n            'v': 21.65,\n            'f': \"21.65\",\n        }],\n [\"h1_temp_min\",\n\"h1_temp_min\",\n{\n            'v': 2.04,\n            'f': \"2.04\",\n        },\n{\n            'v': 20.89,\n            'f': \"20.89\",\n        }],\n [\"h1_temp_max\",\n\"h1_temp_max\",\n{\n            'v': 2.04,\n            'f': \"2.04\",\n        },\n{\n            'v': 20.89,\n            'f': \"20.89\",\n        }],\n [\"d1_arterial_po2_max\",\n\"d1_arterial_po2_max\",\n{\n            'v': 2.69,\n            'f': \"2.69\",\n        },\n{\n            'v': 61.39,\n            'f': \"61.39\",\n        }],\n [\"d1_arterial_pco2_max\",\n\"d1_arterial_pco2_max\",\n{\n            'v': 2.7,\n            'f': \"2.7\",\n        },\n{\n            'v': 61.39,\n            'f': \"61.39\",\n        }],\n [\"d1_arterial_pco2_min\",\n\"d1_arterial_pco2_min\",\n{\n            'v': 2.7,\n            'f': \"2.7\",\n        },\n{\n            'v': 61.39,\n            'f': \"61.39\",\n        }],\n [\"d1_arterial_ph_min\",\n\"d1_arterial_ph_min\",\n{\n            'v': 2.84,\n            'f': \"2.84\",\n        },\n{\n            'v': 62.22,\n            'f': \"62.22\",\n        }],\n [\"d1_arterial_ph_max\",\n\"d1_arterial_ph_max\",\n{\n            'v': 2.84,\n            'f': \"2.84\",\n        },\n{\n            'v': 62.22,\n            'f': \"62.22\",\n        }],\n [\"d1_albumin_min\",\n\"d1_albumin_min\",\n{\n            'v': 3.28,\n            'f': \"3.28\",\n        },\n{\n            'v': 49.73,\n            'f': \"49.73\",\n        }],\n [\"d1_albumin_max\",\n\"d1_albumin_max\",\n{\n            'v': 3.28,\n            'f': \"3.28\",\n        },\n{\n            'v': 49.73,\n            'f': \"49.73\",\n        }],\n [\"d1_pao2fio2ratio_max\",\n\"d1_pao2fio2ratio_max\",\n{\n            'v': 3.57,\n            'f': \"3.57\",\n        },\n{\n            'v': 67.89,\n            'f': \"67.89\",\n        }],\n [\"d1_pao2fio2ratio_min\",\n\"d1_pao2fio2ratio_min\",\n{\n            'v': 3.57,\n            'f': \"3.57\",\n        },\n{\n            'v': 67.89,\n            'f': \"67.89\",\n        }],\n [\"d1_bilirubin_max\",\n\"d1_bilirubin_max\",\n{\n            'v': 3.77,\n            'f': \"3.77\",\n        },\n{\n            'v': 54.22,\n            'f': \"54.22\",\n        }],\n [\"d1_bilirubin_min\",\n\"d1_bilirubin_min\",\n{\n            'v': 3.77,\n            'f': \"3.77\",\n        },\n{\n            'v': 54.22,\n            'f': \"54.22\",\n        }],\n [\"albumin_apache\",\n\"albumin_apache\",\n{\n            'v': 3.81,\n            'f': \"3.81\",\n        },\n{\n            'v': 54.63,\n            'f': \"54.63\",\n        }],\n [\"h1_inr_max\",\n\"h1_inr_max\",\n{\n            'v': 3.95,\n            'f': \"3.95\",\n        },\n{\n            'v': 58.72,\n            'f': \"58.72\",\n        }],\n [\"d1_inr_max\",\n\"d1_inr_max\",\n{\n            'v': 3.95,\n            'f': \"3.95\",\n        },\n{\n            'v': 58.72,\n            'f': \"58.72\",\n        }],\n [\"d1_inr_min\",\n\"d1_inr_min\",\n{\n            'v': 3.95,\n            'f': \"3.95\",\n        },\n{\n            'v': 58.72,\n            'f': \"58.72\",\n        }],\n [\"h1_inr_min\",\n\"h1_inr_min\",\n{\n            'v': 3.95,\n            'f': \"3.95\",\n        },\n{\n            'v': 58.72,\n            'f': \"58.72\",\n        }],\n [\"d1_lactate_max\",\n\"d1_lactate_max\",\n{\n            'v': 4.03,\n            'f': \"4.03\",\n        },\n{\n            'v': 70.18,\n            'f': \"70.18\",\n        }],\n [\"d1_lactate_min\",\n\"d1_lactate_min\",\n{\n            'v': 4.03,\n            'f': \"4.03\",\n        },\n{\n            'v': 70.18,\n            'f': \"70.18\",\n        }],\n [\"bilirubin_apache\",\n\"bilirubin_apache\",\n{\n            'v': 4.22,\n            'f': \"4.22\",\n        },\n{\n            'v': 58.33,\n            'f': \"58.33\",\n        }],\n [\"paco2_apache\",\n\"paco2_apache\",\n{\n            'v': 4.3,\n            'f': \"4.3\",\n        },\n{\n            'v': 72.37,\n            'f': \"72.37\",\n        }],\n [\"pao2_apache\",\n\"pao2_apache\",\n{\n            'v': 4.3,\n            'f': \"4.3\",\n        },\n{\n            'v': 72.37,\n            'f': \"72.37\",\n        }],\n [\"fio2_apache\",\n\"fio2_apache\",\n{\n            'v': 4.3,\n            'f': \"4.3\",\n        },\n{\n            'v': 72.37,\n            'f': \"72.37\",\n        }],\n [\"paco2_for_ph_apache\",\n\"paco2_for_ph_apache\",\n{\n            'v': 4.3,\n            'f': \"4.3\",\n        },\n{\n            'v': 72.37,\n            'f': \"72.37\",\n        }],\n [\"ph_apache\",\n\"ph_apache\",\n{\n            'v': 4.3,\n            'f': \"4.3\",\n        },\n{\n            'v': 72.37,\n            'f': \"72.37\",\n        }],\n [\"h1_glucose_max\",\n\"h1_glucose_max\",\n{\n            'v': 4.35,\n            'f': \"4.35\",\n        },\n{\n            'v': 52.41,\n            'f': \"52.41\",\n        }],\n [\"h1_glucose_min\",\n\"h1_glucose_min\",\n{\n            'v': 4.35,\n            'f': \"4.35\",\n        },\n{\n            'v': 52.41,\n            'f': \"52.41\",\n        }],\n [\"urineoutput_apache\",\n\"urineoutput_apache\",\n{\n            'v': 4.92,\n            'f': \"4.92\",\n        },\n{\n            'v': 47.66,\n            'f': \"47.66\",\n        }],\n [\"d1_mbp_invasive_min\",\n\"d1_mbp_invasive_min\",\n{\n            'v': 5.03,\n            'f': \"5.03\",\n        },\n{\n            'v': 68.45,\n            'f': \"68.45\",\n        }],\n [\"d1_sysbp_invasive_max\",\n\"d1_sysbp_invasive_max\",\n{\n            'v': 5.06,\n            'f': \"5.06\",\n        },\n{\n            'v': 68.63,\n            'f': \"68.63\",\n        }],\n [\"d1_sysbp_invasive_min\",\n\"d1_sysbp_invasive_min\",\n{\n            'v': 5.06,\n            'f': \"5.06\",\n        },\n{\n            'v': 68.63,\n            'f': \"68.63\",\n        }],\n [\"d1_diasbp_invasive_min\",\n\"d1_diasbp_invasive_min\",\n{\n            'v': 5.06,\n            'f': \"5.06\",\n        },\n{\n            'v': 68.65,\n            'f': \"68.65\",\n        }],\n [\"d1_diasbp_invasive_max\",\n\"d1_diasbp_invasive_max\",\n{\n            'v': 5.06,\n            'f': \"5.06\",\n        },\n{\n            'v': 68.65,\n            'f': \"68.65\",\n        }],\n [\"h1_arterial_po2_max\",\n\"h1_arterial_po2_max\",\n{\n            'v': 5.92,\n            'f': \"5.92\",\n        },\n{\n            'v': 76.5,\n            'f': \"76.5\",\n        }],\n [\"h1_arterial_pco2_max\",\n\"h1_arterial_pco2_max\",\n{\n            'v': 5.93,\n            'f': \"5.93\",\n        },\n{\n            'v': 76.52,\n            'f': \"76.52\",\n        }],\n [\"h1_arterial_pco2_min\",\n\"h1_arterial_pco2_min\",\n{\n            'v': 5.93,\n            'f': \"5.93\",\n        },\n{\n            'v': 76.52,\n            'f': \"76.52\",\n        }],\n [\"h1_arterial_ph_min\",\n\"h1_arterial_ph_min\",\n{\n            'v': 6.0,\n            'f': \"6.0\",\n        },\n{\n            'v': 76.98,\n            'f': \"76.98\",\n        }],\n [\"h1_arterial_ph_max\",\n\"h1_arterial_ph_max\",\n{\n            'v': 6.0,\n            'f': \"6.0\",\n        },\n{\n            'v': 76.98,\n            'f': \"76.98\",\n        }],\n [\"h1_potassium_max\",\n\"h1_potassium_max\",\n{\n            'v': 6.09,\n            'f': \"6.09\",\n        },\n{\n            'v': 72.08,\n            'f': \"72.08\",\n        }],\n [\"h1_potassium_min\",\n\"h1_potassium_min\",\n{\n            'v': 6.09,\n            'f': \"6.09\",\n        },\n{\n            'v': 72.08,\n            'f': \"72.08\",\n        }],\n [\"h1_sodium_max\",\n\"h1_sodium_max\",\n{\n            'v': 6.11,\n            'f': \"6.11\",\n        },\n{\n            'v': 72.65,\n            'f': \"72.65\",\n        }],\n [\"h1_sodium_min\",\n\"h1_sodium_min\",\n{\n            'v': 6.11,\n            'f': \"6.11\",\n        },\n{\n            'v': 72.65,\n            'f': \"72.65\",\n        }],\n [\"h1_hemaglobin_max\",\n\"h1_hemaglobin_max\",\n{\n            'v': 6.26,\n            'f': \"6.26\",\n        },\n{\n            'v': 73.11,\n            'f': \"73.11\",\n        }],\n [\"h1_hemaglobin_min\",\n\"h1_hemaglobin_min\",\n{\n            'v': 6.26,\n            'f': \"6.26\",\n        },\n{\n            'v': 73.11,\n            'f': \"73.11\",\n        }],\n [\"h1_creatinine_max\",\n\"h1_creatinine_max\",\n{\n            'v': 6.4,\n            'f': \"6.4\",\n        },\n{\n            'v': 75.0,\n            'f': \"75.0\",\n        }],\n [\"h1_creatinine_min\",\n\"h1_creatinine_min\",\n{\n            'v': 6.4,\n            'f': \"6.4\",\n        },\n{\n            'v': 75.0,\n            'f': \"75.0\",\n        }],\n [\"h1_bun_max\",\n\"h1_bun_max\",\n{\n            'v': 6.41,\n            'f': \"6.41\",\n        },\n{\n            'v': 75.14,\n            'f': \"75.14\",\n        }],\n [\"h1_bun_min\",\n\"h1_bun_min\",\n{\n            'v': 6.41,\n            'f': \"6.41\",\n        },\n{\n            'v': 75.14,\n            'f': \"75.14\",\n        }],\n [\"h1_hco3_max\",\n\"h1_hco3_max\",\n{\n            'v': 6.48,\n            'f': \"6.48\",\n        },\n{\n            'v': 76.16,\n            'f': \"76.16\",\n        }],\n [\"h1_hco3_min\",\n\"h1_hco3_min\",\n{\n            'v': 6.48,\n            'f': \"6.48\",\n        },\n{\n            'v': 76.16,\n            'f': \"76.16\",\n        }],\n [\"h1_calcium_min\",\n\"h1_calcium_min\",\n{\n            'v': 6.52,\n            'f': \"6.52\",\n        },\n{\n            'v': 75.86,\n            'f': \"75.86\",\n        }],\n [\"h1_calcium_max\",\n\"h1_calcium_max\",\n{\n            'v': 6.52,\n            'f': \"6.52\",\n        },\n{\n            'v': 75.86,\n            'f': \"75.86\",\n        }],\n [\"h1_pao2fio2ratio_max\",\n\"h1_pao2fio2ratio_max\",\n{\n            'v': 6.55,\n            'f': \"6.55\",\n        },\n{\n            'v': 80.57,\n            'f': \"80.57\",\n        }],\n [\"h1_pao2fio2ratio_min\",\n\"h1_pao2fio2ratio_min\",\n{\n            'v': 6.55,\n            'f': \"6.55\",\n        },\n{\n            'v': 80.57,\n            'f': \"80.57\",\n        }],\n [\"h1_wbc_min\",\n\"h1_wbc_min\",\n{\n            'v': 6.61,\n            'f': \"6.61\",\n        },\n{\n            'v': 75.91,\n            'f': \"75.91\",\n        }],\n [\"h1_wbc_max\",\n\"h1_wbc_max\",\n{\n            'v': 6.61,\n            'f': \"6.61\",\n        },\n{\n            'v': 75.91,\n            'f': \"75.91\",\n        }],\n [\"h1_lactate_min\",\n\"h1_lactate_min\",\n{\n            'v': 6.92,\n            'f': \"6.92\",\n        },\n{\n            'v': 84.91,\n            'f': \"84.91\",\n        }],\n [\"h1_lactate_max\",\n\"h1_lactate_max\",\n{\n            'v': 6.92,\n            'f': \"6.92\",\n        },\n{\n            'v': 84.91,\n            'f': \"84.91\",\n        }],\n [\"h1_mbp_invasive_min\",\n\"h1_mbp_invasive_min\",\n{\n            'v': 6.94,\n            'f': \"6.94\",\n        },\n{\n            'v': 74.36,\n            'f': \"74.36\",\n        }],\n [\"h1_sysbp_invasive_min\",\n\"h1_sysbp_invasive_min\",\n{\n            'v': 6.96,\n            'f': \"6.96\",\n        },\n{\n            'v': 74.41,\n            'f': \"74.41\",\n        }],\n [\"h1_sysbp_invasive_max\",\n\"h1_sysbp_invasive_max\",\n{\n            'v': 6.96,\n            'f': \"6.96\",\n        },\n{\n            'v': 74.41,\n            'f': \"74.41\",\n        }],\n [\"h1_diasbp_invasive_min\",\n\"h1_diasbp_invasive_min\",\n{\n            'v': 6.97,\n            'f': \"6.97\",\n        },\n{\n            'v': 74.41,\n            'f': \"74.41\",\n        }],\n [\"h1_albumin_min\",\n\"h1_albumin_min\",\n{\n            'v': 7.15,\n            'f': \"7.15\",\n        },\n{\n            'v': 84.12,\n            'f': \"84.12\",\n        }],\n [\"h1_albumin_max\",\n\"h1_albumin_max\",\n{\n            'v': 7.15,\n            'f': \"7.15\",\n        },\n{\n            'v': 84.12,\n            'f': \"84.12\",\n        }],\n [\"h1_bilirubin_min\",\n\"h1_bilirubin_min\",\n{\n            'v': 7.27,\n            'f': \"7.27\",\n        },\n{\n            'v': 84.87,\n            'f': \"84.87\",\n        }],\n [\"h1_bilirubin_max\",\n\"h1_bilirubin_max\",\n{\n            'v': 7.27,\n            'f': \"7.27\",\n        },\n{\n            'v': 84.87,\n            'f': \"84.87\",\n        }]],\n        columns: [[\"string\", \"index\"], [\"string\", \"column_name\"], [\"number\", \"percent_missing_died\"], [\"number\", \"percent_missing_alive\"]],\n        columnOptions: [{\"width\": \"1px\", \"className\": \"index_column\"}],\n        rowsPerPage: 25,\n        helpUrl: \"https://colab.research.google.com/notebooks/data_table.ipynb\",\n        suppressOutputScrolling: true,\n      });\n    ",
      "text/html": [
       "<div>\n",
       "<style scoped>\n",
       "    .dataframe tbody tr th:only-of-type {\n",
       "        vertical-align: middle;\n",
       "    }\n",
       "\n",
       "    .dataframe tbody tr th {\n",
       "        vertical-align: top;\n",
       "    }\n",
       "\n",
       "    .dataframe thead th {\n",
       "        text-align: right;\n",
       "    }\n",
       "</style>\n",
       "<table border=\"1\" class=\"dataframe\">\n",
       "  <thead>\n",
       "    <tr style=\"text-align: right;\">\n",
       "      <th></th>\n",
       "      <th>column_name</th>\n",
       "      <th>percent_missing_died</th>\n",
       "      <th>percent_missing_alive</th>\n",
       "    </tr>\n",
       "  </thead>\n",
       "  <tbody>\n",
       "    <tr>\n",
       "      <th>hospital_death</th>\n",
       "      <td>hospital_death</td>\n",
       "      <td>0.00</td>\n",
       "      <td>0.00</td>\n",
       "    </tr>\n",
       "    <tr>\n",
       "      <th>pre_icu_los_days</th>\n",
       "      <td>pre_icu_los_days</td>\n",
       "      <td>0.00</td>\n",
       "      <td>0.00</td>\n",
       "    </tr>\n",
       "    <tr>\n",
       "      <th>solid_tumor_with_metastasis</th>\n",
       "      <td>solid_tumor_with_metastasis</td>\n",
       "      <td>0.00</td>\n",
       "      <td>0.00</td>\n",
       "    </tr>\n",
       "    <tr>\n",
       "      <th>apache_3j_bodysystem</th>\n",
       "      <td>apache_3j_bodysystem</td>\n",
       "      <td>0.00</td>\n",
       "      <td>0.00</td>\n",
       "    </tr>\n",
       "    <tr>\n",
       "      <th>immunosuppression</th>\n",
       "      <td>immunosuppression</td>\n",
       "      <td>0.00</td>\n",
       "      <td>0.00</td>\n",
       "    </tr>\n",
       "    <tr>\n",
       "      <th>...</th>\n",
       "      <td>...</td>\n",
       "      <td>...</td>\n",
       "      <td>...</td>\n",
       "    </tr>\n",
       "    <tr>\n",
       "      <th>h1_diasbp_invasive_min</th>\n",
       "      <td>h1_diasbp_invasive_min</td>\n",
       "      <td>6.97</td>\n",
       "      <td>74.41</td>\n",
       "    </tr>\n",
       "    <tr>\n",
       "      <th>h1_albumin_min</th>\n",
       "      <td>h1_albumin_min</td>\n",
       "      <td>7.15</td>\n",
       "      <td>84.12</td>\n",
       "    </tr>\n",
       "    <tr>\n",
       "      <th>h1_albumin_max</th>\n",
       "      <td>h1_albumin_max</td>\n",
       "      <td>7.15</td>\n",
       "      <td>84.12</td>\n",
       "    </tr>\n",
       "    <tr>\n",
       "      <th>h1_bilirubin_min</th>\n",
       "      <td>h1_bilirubin_min</td>\n",
       "      <td>7.27</td>\n",
       "      <td>84.87</td>\n",
       "    </tr>\n",
       "    <tr>\n",
       "      <th>h1_bilirubin_max</th>\n",
       "      <td>h1_bilirubin_max</td>\n",
       "      <td>7.27</td>\n",
       "      <td>84.87</td>\n",
       "    </tr>\n",
       "  </tbody>\n",
       "</table>\n",
       "<p>163 rows × 3 columns</p>\n",
       "</div>"
      ],
      "text/plain": [
       "                                             column_name  \\\n",
       "hospital_death                            hospital_death   \n",
       "pre_icu_los_days                        pre_icu_los_days   \n",
       "solid_tumor_with_metastasis  solid_tumor_with_metastasis   \n",
       "apache_3j_bodysystem                apache_3j_bodysystem   \n",
       "immunosuppression                      immunosuppression   \n",
       "...                                                  ...   \n",
       "h1_diasbp_invasive_min            h1_diasbp_invasive_min   \n",
       "h1_albumin_min                            h1_albumin_min   \n",
       "h1_albumin_max                            h1_albumin_max   \n",
       "h1_bilirubin_min                        h1_bilirubin_min   \n",
       "h1_bilirubin_max                        h1_bilirubin_max   \n",
       "\n",
       "                             percent_missing_died  percent_missing_alive  \n",
       "hospital_death                               0.00                   0.00  \n",
       "pre_icu_los_days                             0.00                   0.00  \n",
       "solid_tumor_with_metastasis                  0.00                   0.00  \n",
       "apache_3j_bodysystem                         0.00                   0.00  \n",
       "immunosuppression                            0.00                   0.00  \n",
       "...                                           ...                    ...  \n",
       "h1_diasbp_invasive_min                       6.97                  74.41  \n",
       "h1_albumin_min                               7.15                  84.12  \n",
       "h1_albumin_max                               7.15                  84.12  \n",
       "h1_bilirubin_min                             7.27                  84.87  \n",
       "h1_bilirubin_max                             7.27                  84.87  \n",
       "\n",
       "[163 rows x 3 columns]"
      ]
     },
     "execution_count": 108,
     "metadata": {
      "tags": []
     },
     "output_type": "execute_result"
    }
   ],
   "source": [
    "#Selecionar as features com maior e menor correlacao (40 mais features importantes)\n",
    "df_training_filted = pd.DataFrame()\n",
    "\n",
    "index_values = df_corr_top_morreu.index \n",
    "index_values = index_values.append(df_corr_top_sobreviveu.index)\n",
    "index_add = pd.Index([\"encounter_id\",\"age\",\"gender\",\"ethnicity\",\"apache_3j_bodysystem\",\"hospital_admit_source\",\"icu_admit_source\",\"icu_stay_type\"])\n",
    "index_values = index_values.append(index_add)\n",
    "\n",
    "index_values = index_values.unique()\n",
    "index_values = index_values.to_list()\n",
    "\n",
    "df_training_filted = df_training.filter(index_values, axis=1)\n",
    "df_unlabeled_filted = df_unlabeled.filter(index_values, axis=1)\n",
    "\n",
    "ms = missing_values(df_training_filted)\n",
    "ms"
   ]
  },
  {
   "cell_type": "markdown",
   "metadata": {
    "id": "JkkBgHpzLDa9"
   },
   "source": [
    "Montamos também um gráfico de cross_validation pelas principais features."
   ]
  },
  {
   "cell_type": "code",
   "execution_count": null,
   "metadata": {
    "colab": {
     "base_uri": "https://localhost:8080/",
     "height": 1000,
     "output_embedded_package_id": "1GlgmcJ4GidHfF5qDPTNVliWDGhsgN83R"
    },
    "executionInfo": {
     "elapsed": 142355,
     "status": "ok",
     "timestamp": 1582555996549,
     "user": {
      "displayName": "Ararajuba Data Science Project",
      "photoUrl": "",
      "userId": "02004027308564222829"
     },
     "user_tz": 180
    },
    "id": "a8xvDWMb_5zY",
    "outputId": "9bdba888-a268-455f-b9c8-38081eb6b705"
   },
   "outputs": [
    {
     "data": {
      "text/plain": [
       "Output hidden; open in https://colab.research.google.com to view."
      ]
     },
     "metadata": {},
     "output_type": "display_data"
    }
   ],
   "source": [
    "df = df_training_filted\n",
    "\n",
    "target = df_training_filted['hospital_death']\n",
    "\n",
    "#get correlations of each features in dataset\n",
    "corrmat = df.corr(method ='pearson')\n",
    "top_corr_features = corrmat.index\n",
    "plt.figure(figsize=(60,60))\n",
    "#plot heat map\n",
    "g=sns.heatmap(df[top_corr_features].corr(),annot=True,cmap=\"RdYlGn\")"
   ]
  },
  {
   "cell_type": "markdown",
   "metadata": {
    "id": "_zIMUHJoXEQI"
   },
   "source": [
    "Avaliar balanceamento"
   ]
  },
  {
   "cell_type": "code",
   "execution_count": null,
   "metadata": {
    "colab": {
     "base_uri": "https://localhost:8080/",
     "height": 54
    },
    "executionInfo": {
     "elapsed": 142347,
     "status": "ok",
     "timestamp": 1582555996554,
     "user": {
      "displayName": "Ararajuba Data Science Project",
      "photoUrl": "",
      "userId": "02004027308564222829"
     },
     "user_tz": 180
    },
    "id": "JsBrVTBgWD6F",
    "outputId": "c03be663-eab5-4cc4-a0df-1972f047f10d"
   },
   "outputs": [
    {
     "name": "stdout",
     "output_type": "stream",
     "text": [
      "(84986, 163)\n",
      "(39308, 163)\n"
     ]
    }
   ],
   "source": [
    "print(df_training_filted.shape)\n",
    "print(df_unlabeled_filted.shape)"
   ]
  },
  {
   "cell_type": "code",
   "execution_count": null,
   "metadata": {
    "colab": {
     "base_uri": "https://localhost:8080/",
     "height": 73
    },
    "executionInfo": {
     "elapsed": 142343,
     "status": "ok",
     "timestamp": 1582555996556,
     "user": {
      "displayName": "Ararajuba Data Science Project",
      "photoUrl": "",
      "userId": "02004027308564222829"
     },
     "user_tz": 180
    },
    "id": "9Xupdn83NT-X",
    "outputId": "b6c447f2-9804-43f7-bb79-aa7c669c29c0"
   },
   "outputs": [
    {
     "data": {
      "text/plain": [
       "0    77878\n",
       "1     7108\n",
       "Name: hospital_death, dtype: int64"
      ]
     },
     "execution_count": 111,
     "metadata": {
      "tags": []
     },
     "output_type": "execute_result"
    }
   ],
   "source": [
    "# Sobrevivente (0) Óbito (1)\n",
    "df_training_filted[\"hospital_death\"].value_counts()"
   ]
  },
  {
   "cell_type": "markdown",
   "metadata": {
    "id": "qzhxIUi43dSX"
   },
   "source": [
    "# **Aplicação de Modelo**\n",
    "\n",
    "Notebook ref.: https://www.kaggle.com/usharengaraju/wids2020-ensemblelearning-votingclassifier\n",
    "\n",
    "Algoritimos de ML: https://machinelearningmastery.com/metrics-evaluate-machine-learning-algorithms-python/"
   ]
  },
  {
   "cell_type": "markdown",
   "metadata": {
    "id": "MxkPhNr6QTLT"
   },
   "source": [
    "### **Primeiro Modelo**"
   ]
  },
  {
   "cell_type": "code",
   "execution_count": null,
   "metadata": {
    "colab": {
     "base_uri": "https://localhost:8080/"
    },
    "executionInfo": {
     "elapsed": 105692,
     "status": "ok",
     "timestamp": 1582331444675,
     "user": {
      "displayName": "Ararajuba Data Science Project",
      "photoUrl": "",
      "userId": "02004027308564222829"
     },
     "user_tz": 180
    },
    "id": "Sv0W5-XgNGpo",
    "outputId": "f3c9a18e-00e7-4742-ad97-72aac49d6ee7"
   },
   "outputs": [
    {
     "name": "stdout",
     "output_type": "stream",
     "text": [
      "(6300, 126)\n",
      "(6300, 126)\n",
      "(3400, 126)\n",
      "(1566, 126)\n",
      "(1566, 126)\n"
     ]
    }
   ],
   "source": [
    "#Primeiro modelo\n",
    "df_training_test = df_training_filted \n",
    "\n",
    "# Remover valores que predominavam em nulo para sobreviventes - com o objetivo de balancear melhor os dados para o modelo\n",
    "df_training_test = remover_valores(df_training_filted,'h1_albumin_min') \n",
    "df_training_test = remover_valores(df_training_test,'h1_albumin_max')\n",
    "df_training_test = remover_valores(df_training_test,'d1_arterial_ph_min')\n",
    "df_training_test = remover_valores(df_training_test,'h1_lactate_min')\n",
    "df_training_test = remover_valores(df_training_test,'h1_lactate_max')"
   ]
  },
  {
   "cell_type": "markdown",
   "metadata": {
    "id": "0ASvm6c_QPhl"
   },
   "source": [
    "## **Segundo Modelo**"
   ]
  },
  {
   "cell_type": "code",
   "execution_count": null,
   "metadata": {
    "colab": {
     "base_uri": "https://localhost:8080/"
    },
    "executionInfo": {
     "elapsed": 105682,
     "status": "ok",
     "timestamp": 1582331444677,
     "user": {
      "displayName": "Ararajuba Data Science Project",
      "photoUrl": "",
      "userId": "02004027308564222829"
     },
     "user_tz": 180
    },
    "id": "FuJiWzXAQboA",
    "outputId": "393d26ac-2b5e-4522-d41c-7b282051e610"
   },
   "outputs": [
    {
     "name": "stdout",
     "output_type": "stream",
     "text": [
      "(6300, 126)\n",
      "(6300, 126)\n",
      "Shape: (6300, 126)\n"
     ]
    }
   ],
   "source": [
    "#Segundo modelo\n",
    "df_training_test = df_training_filted \n",
    "\n",
    "# Remover valores que predominavam em nulo para sobreviventes - com o objetivo de balancear melhor os dados para o modelo\n",
    "df_training_test = remover_valores(df_training_filted,'h1_albumin_min') \n",
    "df_training_test = remover_valores(df_training_test,'h1_albumin_max')\n",
    "\n",
    "print('Shape:',df_training_test.shape)"
   ]
  },
  {
   "cell_type": "markdown",
   "metadata": {
    "id": "CSxkU5Wt9rqm"
   },
   "source": [
    "## **Terceiro Modelo**"
   ]
  },
  {
   "cell_type": "code",
   "execution_count": null,
   "metadata": {
    "colab": {
     "base_uri": "https://localhost:8080/",
     "height": 54
    },
    "executionInfo": {
     "elapsed": 706,
     "status": "ok",
     "timestamp": 1582468429017,
     "user": {
      "displayName": "Ararajuba Data Science Project",
      "photoUrl": "",
      "userId": "02004027308564222829"
     },
     "user_tz": 180
    },
    "id": "nTxmDQZn9rAH",
    "outputId": "9a28fd48-313d-4f20-d5bb-6775e4ea2cfe"
   },
   "outputs": [
    {
     "name": "stdout",
     "output_type": "stream",
     "text": [
      "Shape: (91713, 87)\n",
      "Shape: (39308, 87)\n"
     ]
    }
   ],
   "source": [
    "#Terceiro modelo\n",
    "df_training_test = df_training_filted \n",
    "df_unlabeled_test = df_unlabeled_filted \n",
    "\n",
    "print('Shape:',df_training_test.shape)\n",
    "print('Shape:',df_unlabeled_test.shape)"
   ]
  },
  {
   "cell_type": "code",
   "execution_count": null,
   "metadata": {
    "id": "UlqwGJmZ-Gfh"
   },
   "outputs": [],
   "source": [
    "#df_training_test[['h1_mbp_invasive_max',\"gender\"]].groupby([\"gender\"], as_index=True).mean().sort_values(by=\"h1_mbp_invasive_max\").plot.bar()\n",
    "#df_training_test[['h1_mbp_invasive_max',\"age\"]].groupby([\"age\"], as_index=True).mean().sort_values(by=\"h1_mbp_invasive_max\").plot.bar()\n",
    "#df_training_test[['h1_mbp_invasive_max',\"ethnicity\"]].groupby([\"ethnicity\"], as_index=True).mean().sort_values(by=\"h1_mbp_invasive_max\").plot.bar()\n",
    "\n",
    "#df_unlabeled[['gcs_eyes_apache',\"apache_2_bodysystem\"]].groupby([\"apache_2_bodysystem\"], as_index=True).mean().sort_values(by=\"gcs_eyes_apache\").plot.bar()"
   ]
  },
  {
   "cell_type": "code",
   "execution_count": null,
   "metadata": {
    "id": "3fRFlnkL2v99"
   },
   "outputs": [],
   "source": [
    "def normalizar_dataset(df,drop_columns):\n",
    "\n",
    "  df = df.drop(drop_columns,axis = 1)\n",
    "\n",
    "  #Exames fisiologicos - Primeira hora\n",
    "  df = fillnan_mean_age(df,\"h1_lactate_max\")\n",
    "  df = fillnan_mean_age(df,\"h1_lactate_min\")\n",
    "  df = fillnan_mean_age(df,\"h1_bilirubin_max\")\n",
    "  df = fillnan_mean_age(df,\"h1_bilirubin_min\")\n",
    "  df = fillnan_mean_age(df,\"h1_pao2fio2ratio_max\")\n",
    "  df = fillnan_mean_age(df,\"h1_pao2fio2ratio_min\")\n",
    "  df = fillnan_mean_age(df,\"h1_creatinine_max\")\n",
    "  df = fillnan_mean_age(df,\"h1_creatinine_min\")\n",
    "  df = fillnan_mean_age(df,\"h1_bun_max\")\n",
    "  df = fillnan_mean_age(df,\"h1_bun_min\")\n",
    "  df = fillnan_mean_age(df,\"h1_diasbp_invasive_max\")\n",
    "  df = fillnan_mean_age(df,\"h1_diasbp_invasive_min\")\n",
    "  \n",
    "  #Exames fisiologicos - Primeira 24 horas\n",
    "  df = fillnan_mean_age(df,\"d1_lactate_max\")\n",
    "  df = fillnan_mean_age(df,\"d1_lactate_min\")\n",
    "  df = fillnan_mean_age(df,\"d1_bilirubin_max\")\n",
    "  df = fillnan_mean_age(df,\"d1_bilirubin_min\")\n",
    "  df = fillnan_mean_age(df,\"d1_pao2fio2ratio_max\")\n",
    "  df = fillnan_mean_age(df,\"d1_pao2fio2ratio_min\")\n",
    "  df = fillnan_mean_age(df,\"d1_creatinine_max\")\n",
    "  df = fillnan_mean_age(df,\"d1_creatinine_min\")\n",
    "  df = fillnan_mean_age(df,\"d1_bun_max\")\n",
    "  df = fillnan_mean_age(df,\"d1_bun_min\")\n",
    "  df = fillnan_mean_age(df,\"d1_diasbp_invasive_max\")\n",
    "  df = fillnan_mean_age(df,\"d1_diasbp_invasive_min\")\n",
    "\n",
    "  #Features individuais scores\n",
    "  df = fillnan_mean_age(df,\"urineoutput_apache\")\n",
    "  df = fillnan_mean_age(df,\"bilirubin_apache\")\n",
    "  df = fillnan_mean_age(df,\"ventilated_apache\")\n",
    "  df = fillnan_mean_age(df,\"intubated_apache\")\n",
    "  df = fillnan_mean_age(df,\"pre_icu_los_days\")\n",
    "\n",
    "  # Score de Glasgow\n",
    "  df = fillnan_mean_age(df,\"gcs_motor_apache\")\n",
    "  df = fillnan_mean_age(df,\"gcs_eyes_apache\")\n",
    "  df = fillnan_mean_age(df,\"gcs_verbal_apache\")\n",
    "    \n",
    "  df['gcs_sum'] = (df['gcs_motor_apache'] + df['gcs_eyes_apache'] + df['gcs_verbal_apache'])\n",
    "  df['gcs_intubated'] = np.where(df['gcs_sum']<=8, 1, 0)\n",
    "  df = df.drop('gcs_sum',axis = 1)\n",
    "\n",
    "  return df"
   ]
  },
  {
   "cell_type": "code",
   "execution_count": null,
   "metadata": {
    "colab": {
     "base_uri": "https://localhost:8080/",
     "height": 52
    },
    "executionInfo": {
     "elapsed": 22141,
     "status": "ok",
     "timestamp": 1582399189843,
     "user": {
      "displayName": "Ararajuba Data Science Project",
      "photoUrl": "",
      "userId": "02004027308564222829"
     },
     "user_tz": 180
    },
    "id": "MPY9vCSnGgxB",
    "outputId": "94fc96b7-6e67-49e6-e9aa-27279cd139e2"
   },
   "outputs": [
    {
     "name": "stdout",
     "output_type": "stream",
     "text": [
      "(66987, 162)\n",
      "(39308, 162)\n"
     ]
    }
   ],
   "source": [
    "ms = missing_values(df_training_test)\n",
    "index_to_drop = ms[ms[\"percent_missing_alive\"] > 75].index\n",
    "\n",
    "df_training_test = normalizar_dataset(df_training_test,index_to_drop)\n",
    "df_unlabeled_test = normalizar_dataset(df_unlabeled_test,index_to_drop)\n",
    "print(df_training_test.shape)\n",
    "print(df_unlabeled_test.shape)"
   ]
  },
  {
   "cell_type": "code",
   "execution_count": null,
   "metadata": {
    "colab": {
     "base_uri": "https://localhost:8080/",
     "height": 336
    },
    "executionInfo": {
     "elapsed": 18026,
     "status": "ok",
     "timestamp": 1582399189845,
     "user": {
      "displayName": "Ararajuba Data Science Project",
      "photoUrl": "",
      "userId": "02004027308564222829"
     },
     "user_tz": 180
    },
    "id": "bDJ7zFq4qeZ9",
    "outputId": "0db5f728-65c0-4c63-cb87-46d588198d85"
   },
   "outputs": [
    {
     "data": {
      "application/vnd.google.colaboratory.module+javascript": "\n      import \"https://ssl.gstatic.com/colaboratory/data_table/84ef27dae82052e3/data_table.js\";\n\n      window.createDataTable({\n        data: [[\"hospital_death\",\n\"hospital_death\",\n{\n            'v': 0.0,\n            'f': \"0.0\",\n        },\n{\n            'v': 0.0,\n            'f': \"0.0\",\n        }],\n [\"d1_heartrate_min\",\n\"d1_heartrate_min\",\n{\n            'v': 0.0,\n            'f': \"0.0\",\n        },\n{\n            'v': 0.0,\n            'f': \"0.0\",\n        }],\n [\"gender\",\n\"gender\",\n{\n            'v': 0.0,\n            'f': \"0.0\",\n        },\n{\n            'v': 0.0,\n            'f': \"0.0\",\n        }],\n [\"encounter_id\",\n\"encounter_id\",\n{\n            'v': 0.0,\n            'f': \"0.0\",\n        },\n{\n            'v': 0.0,\n            'f': \"0.0\",\n        }],\n [\"hospital_id\",\n\"hospital_id\",\n{\n            'v': 0.0,\n            'f': \"0.0\",\n        },\n{\n            'v': 0.0,\n            'f': \"0.0\",\n        }],\n [\"icu_stay_type\",\n\"icu_stay_type\",\n{\n            'v': 0.0,\n            'f': \"0.0\",\n        },\n{\n            'v': 0.0,\n            'f': \"0.0\",\n        }],\n [\"d1_diasbp_max\",\n\"d1_diasbp_max\",\n{\n            'v': 0.0,\n            'f': \"0.0\",\n        },\n{\n            'v': 0.0,\n            'f': \"0.0\",\n        }],\n [\"aids\",\n\"aids\",\n{\n            'v': 0.0,\n            'f': \"0.0\",\n        },\n{\n            'v': 0.0,\n            'f': \"0.0\",\n        }],\n [\"ethnicity\",\n\"ethnicity\",\n{\n            'v': 0.0,\n            'f': \"0.0\",\n        },\n{\n            'v': 0.0,\n            'f': \"0.0\",\n        }],\n [\"icu_id\",\n\"icu_id\",\n{\n            'v': 0.0,\n            'f': \"0.0\",\n        },\n{\n            'v': 0.0,\n            'f': \"0.0\",\n        }],\n [\"patient_id\",\n\"patient_id\",\n{\n            'v': 0.0,\n            'f': \"0.0\",\n        },\n{\n            'v': 0.0,\n            'f': \"0.0\",\n        }],\n [\"lymphoma\",\n\"lymphoma\",\n{\n            'v': 0.0,\n            'f': \"0.0\",\n        },\n{\n            'v': 0.0,\n            'f': \"0.0\",\n        }],\n [\"arf_apache\",\n\"arf_apache\",\n{\n            'v': 0.0,\n            'f': \"0.0\",\n        },\n{\n            'v': 0.0,\n            'f': \"0.0\",\n        }],\n [\"leukemia\",\n\"leukemia\",\n{\n            'v': 0.0,\n            'f': \"0.0\",\n        },\n{\n            'v': 0.0,\n            'f': \"0.0\",\n        }],\n [\"hepatic_failure\",\n\"hepatic_failure\",\n{\n            'v': 0.0,\n            'f': \"0.0\",\n        },\n{\n            'v': 0.0,\n            'f': \"0.0\",\n        }],\n [\"cirrhosis\",\n\"cirrhosis\",\n{\n            'v': 0.0,\n            'f': \"0.0\",\n        },\n{\n            'v': 0.0,\n            'f': \"0.0\",\n        }],\n [\"immunosuppression\",\n\"immunosuppression\",\n{\n            'v': 0.0,\n            'f': \"0.0\",\n        },\n{\n            'v': 0.0,\n            'f': \"0.0\",\n        }],\n [\"apache_3j_bodysystem\",\n\"apache_3j_bodysystem\",\n{\n            'v': 0.0,\n            'f': \"0.0\",\n        },\n{\n            'v': 0.0,\n            'f': \"0.0\",\n        }],\n [\"gcs_unable_apache\",\n\"gcs_unable_apache\",\n{\n            'v': 0.0,\n            'f': \"0.0\",\n        },\n{\n            'v': 0.0,\n            'f': \"0.0\",\n        }],\n [\"icu_type\",\n\"icu_type\",\n{\n            'v': 0.0,\n            'f': \"0.0\",\n        },\n{\n            'v': 0.0,\n            'f': \"0.0\",\n        }],\n [\"solid_tumor_with_metastasis\",\n\"solid_tumor_with_metastasis\",\n{\n            'v': 0.0,\n            'f': \"0.0\",\n        },\n{\n            'v': 0.0,\n            'f': \"0.0\",\n        }],\n [\"gcs_motor_apache\",\n\"gcs_motor_apache\",\n{\n            'v': 0.0,\n            'f': \"0.0\",\n        },\n{\n            'v': 0.0,\n            'f': \"0.0\",\n        }],\n [\"icu_admit_source\",\n\"icu_admit_source\",\n{\n            'v': 0.0,\n            'f': \"0.0\",\n        },\n{\n            'v': 0.0,\n            'f': \"0.0\",\n        }],\n [\"gcs_eyes_apache\",\n\"gcs_eyes_apache\",\n{\n            'v': 0.0,\n            'f': \"0.0\",\n        },\n{\n            'v': 0.0,\n            'f': \"0.0\",\n        }],\n [\"gcs_verbal_apache\",\n\"gcs_verbal_apache\",\n{\n            'v': 0.0,\n            'f': \"0.0\",\n        },\n{\n            'v': 0.0,\n            'f': \"0.0\",\n        }],\n [\"d1_sysbp_min\",\n\"d1_sysbp_min\",\n{\n            'v': 0.0,\n            'f': \"0.0\",\n        },\n{\n            'v': 0.0,\n            'f': \"0.0\",\n        }],\n [\"d1_mbp_min\",\n\"d1_mbp_min\",\n{\n            'v': 0.0,\n            'f': \"0.0\",\n        },\n{\n            'v': 0.0,\n            'f': \"0.0\",\n        }],\n [\"d1_diasbp_min\",\n\"d1_diasbp_min\",\n{\n            'v': 0.0,\n            'f': \"0.0\",\n        },\n{\n            'v': 0.0,\n            'f': \"0.0\",\n        }],\n [\"d1_diasbp_invasive_min\",\n\"d1_diasbp_invasive_min\",\n{\n            'v': 0.0,\n            'f': \"0.0\",\n        },\n{\n            'v': 0.0,\n            'f': \"0.0\",\n        }],\n [\"d1_pao2fio2ratio_min\",\n\"d1_pao2fio2ratio_min\",\n{\n            'v': 0.0,\n            'f': \"0.0\",\n        },\n{\n            'v': 0.0,\n            'f': \"0.0\",\n        }],\n [\"urineoutput_apache\",\n\"urineoutput_apache\",\n{\n            'v': 0.0,\n            'f': \"0.0\",\n        },\n{\n            'v': 0.0,\n            'f': \"0.0\",\n        }],\n [\"diabetes_mellitus\",\n\"diabetes_mellitus\",\n{\n            'v': 0.0,\n            'f': \"0.0\",\n        },\n{\n            'v': 0.0,\n            'f': \"0.0\",\n        }],\n [\"apache_2_diagnosis\",\n\"apache_2_diagnosis\",\n{\n            'v': 0.0,\n            'f': \"0.0\",\n        },\n{\n            'v': 0.0,\n            'f': \"0.0\",\n        }],\n [\"elective_surgery\",\n\"elective_surgery\",\n{\n            'v': 0.0,\n            'f': \"0.0\",\n        },\n{\n            'v': 0.0,\n            'f': \"0.0\",\n        }],\n [\"apache_3j_diagnosis\",\n\"apache_3j_diagnosis\",\n{\n            'v': 0.0,\n            'f': \"0.0\",\n        },\n{\n            'v': 0.0,\n            'f': \"0.0\",\n        }],\n [\"apache_post_operative\",\n\"apache_post_operative\",\n{\n            'v': 0.0,\n            'f': \"0.0\",\n        },\n{\n            'v': 0.0,\n            'f': \"0.0\",\n        }],\n [\"apache_2_bodysystem\",\n\"apache_2_bodysystem\",\n{\n            'v': 0.0,\n            'f': \"0.0\",\n        },\n{\n            'v': 0.0,\n            'f': \"0.0\",\n        }],\n [\"map_apache\",\n\"map_apache\",\n{\n            'v': 0.0,\n            'f': \"0.0\",\n        },\n{\n            'v': 0.0,\n            'f': \"0.0\",\n        }],\n [\"d1_diasbp_invasive_max\",\n\"d1_diasbp_invasive_max\",\n{\n            'v': 0.0,\n            'f': \"0.0\",\n        },\n{\n            'v': 0.0,\n            'f': \"0.0\",\n        }],\n [\"d1_sysbp_max\",\n\"d1_sysbp_max\",\n{\n            'v': 0.0,\n            'f': \"0.0\",\n        },\n{\n            'v': 0.0,\n            'f': \"0.0\",\n        }],\n [\"d1_mbp_max\",\n\"d1_mbp_max\",\n{\n            'v': 0.0,\n            'f': \"0.0\",\n        },\n{\n            'v': 0.0,\n            'f': \"0.0\",\n        }],\n [\"d1_pao2fio2ratio_max\",\n\"d1_pao2fio2ratio_max\",\n{\n            'v': 0.0,\n            'f': \"0.0\",\n        },\n{\n            'v': 0.0,\n            'f': \"0.0\",\n        }],\n [\"pre_icu_los_days\",\n\"pre_icu_los_days\",\n{\n            'v': 0.0,\n            'f': \"0.0\",\n        },\n{\n            'v': 0.0,\n            'f': \"0.0\",\n        }],\n [\"gcs_intubated\",\n\"gcs_intubated\",\n{\n            'v': 0.0,\n            'f': \"0.0\",\n        },\n{\n            'v': 0.0,\n            'f': \"0.0\",\n        }],\n [\"resprate_apache\",\n\"resprate_apache\",\n{\n            'v': 0.0,\n            'f': \"0.0\",\n        },\n{\n            'v': 0.0,\n            'f': \"0.0\",\n        }],\n [\"heart_rate_apache\",\n\"heart_rate_apache\",\n{\n            'v': 0.0,\n            'f': \"0.0\",\n        },\n{\n            'v': 0.0,\n            'f': \"0.0\",\n        }],\n [\"d1_bilirubin_min\",\n\"d1_bilirubin_min\",\n{\n            'v': 0.0,\n            'f': \"0.0\",\n        },\n{\n            'v': 0.0,\n            'f': \"0.0\",\n        }],\n [\"d1_bilirubin_max\",\n\"d1_bilirubin_max\",\n{\n            'v': 0.0,\n            'f': \"0.0\",\n        },\n{\n            'v': 0.0,\n            'f': \"0.0\",\n        }],\n [\"bilirubin_apache\",\n\"bilirubin_apache\",\n{\n            'v': 0.0,\n            'f': \"0.0\",\n        },\n{\n            'v': 0.0,\n            'f': \"0.0\",\n        }],\n [\"h1_bun_min\",\n\"h1_bun_min\",\n{\n            'v': 0.0,\n            'f': \"0.0\",\n        },\n{\n            'v': 0.0,\n            'f': \"0.0\",\n        }],\n [\"h1_bun_max\",\n\"h1_bun_max\",\n{\n            'v': 0.0,\n            'f': \"0.0\",\n        },\n{\n            'v': 0.0,\n            'f': \"0.0\",\n        }],\n [\"d1_creatinine_max\",\n\"d1_creatinine_max\",\n{\n            'v': 0.0,\n            'f': \"0.0\",\n        },\n{\n            'v': 0.0,\n            'f': \"0.0\",\n        }],\n [\"d1_bun_min\",\n\"d1_bun_min\",\n{\n            'v': 0.0,\n            'f': \"0.0\",\n        },\n{\n            'v': 0.0,\n            'f': \"0.0\",\n        }],\n [\"intubated_apache\",\n\"intubated_apache\",\n{\n            'v': 0.0,\n            'f': \"0.0\",\n        },\n{\n            'v': 0.0,\n            'f': \"0.0\",\n        }],\n [\"ventilated_apache\",\n\"ventilated_apache\",\n{\n            'v': 0.0,\n            'f': \"0.0\",\n        },\n{\n            'v': 0.0,\n            'f': \"0.0\",\n        }],\n [\"d1_lactate_max\",\n\"d1_lactate_max\",\n{\n            'v': 0.0,\n            'f': \"0.0\",\n        },\n{\n            'v': 0.0,\n            'f': \"0.0\",\n        }],\n [\"d1_lactate_min\",\n\"d1_lactate_min\",\n{\n            'v': 0.0,\n            'f': \"0.0\",\n        },\n{\n            'v': 0.0,\n            'f': \"0.0\",\n        }],\n [\"apache_4a_icu_death_prob\",\n\"apache_4a_icu_death_prob\",\n{\n            'v': 0.0,\n            'f': \"0.0\",\n        },\n{\n            'v': 0.0,\n            'f': \"0.0\",\n        }],\n [\"apache_4a_hospital_death_prob\",\n\"apache_4a_hospital_death_prob\",\n{\n            'v': 0.0,\n            'f': \"0.0\",\n        },\n{\n            'v': 0.0,\n            'f': \"0.0\",\n        }],\n [\"d1_bun_max\",\n\"d1_bun_max\",\n{\n            'v': 0.0,\n            'f': \"0.0\",\n        },\n{\n            'v': 0.0,\n            'f': \"0.0\",\n        }],\n [\"d1_creatinine_min\",\n\"d1_creatinine_min\",\n{\n            'v': 0.0,\n            'f': \"0.0\",\n        },\n{\n            'v': 0.0,\n            'f': \"0.0\",\n        }],\n [\"d1_heartrate_max\",\n\"d1_heartrate_max\",\n{\n            'v': 0.0,\n            'f': \"0.0\",\n        },\n{\n            'v': 0.0,\n            'f': \"0.0\",\n        }],\n [\"h1_creatinine_min\",\n\"h1_creatinine_min\",\n{\n            'v': 0.0,\n            'f': \"0.0\",\n        },\n{\n            'v': 0.0,\n            'f': \"0.0\",\n        }],\n [\"age\",\n\"age\",\n{\n            'v': 0.0,\n            'f': \"0.0\",\n        },\n{\n            'v': 0.0,\n            'f': \"0.0\",\n        }],\n [\"h1_creatinine_max\",\n\"h1_creatinine_max\",\n{\n            'v': 0.0,\n            'f': \"0.0\",\n        },\n{\n            'v': 0.0,\n            'f': \"0.0\",\n        }],\n [\"d1_resprate_min\",\n\"d1_resprate_min\",\n{\n            'v': 0.01,\n            'f': \"0.01\",\n        },\n{\n            'v': 0.02,\n            'f': \"0.02\",\n        }],\n [\"d1_resprate_max\",\n\"d1_resprate_max\",\n{\n            'v': 0.01,\n            'f': \"0.01\",\n        },\n{\n            'v': 0.02,\n            'f': \"0.02\",\n        }],\n [\"d1_spo2_max\",\n\"d1_spo2_max\",\n{\n            'v': 0.03,\n            'f': \"0.03\",\n        },\n{\n            'v': 0.13,\n            'f': \"0.13\",\n        }],\n [\"d1_spo2_min\",\n\"d1_spo2_min\",\n{\n            'v': 0.03,\n            'f': \"0.03\",\n        },\n{\n            'v': 0.13,\n            'f': \"0.13\",\n        }],\n [\"d1_sysbp_noninvasive_max\",\n\"d1_sysbp_noninvasive_max\",\n{\n            'v': 0.1,\n            'f': \"0.1\",\n        },\n{\n            'v': 0.71,\n            'f': \"0.71\",\n        }],\n [\"d1_diasbp_noninvasive_min\",\n\"d1_diasbp_noninvasive_min\",\n{\n            'v': 0.1,\n            'f': \"0.1\",\n        },\n{\n            'v': 0.71,\n            'f': \"0.71\",\n        }],\n [\"d1_sysbp_noninvasive_min\",\n\"d1_sysbp_noninvasive_min\",\n{\n            'v': 0.1,\n            'f': \"0.1\",\n        },\n{\n            'v': 0.71,\n            'f': \"0.71\",\n        }],\n [\"d1_diasbp_noninvasive_max\",\n\"d1_diasbp_noninvasive_max\",\n{\n            'v': 0.1,\n            'f': \"0.1\",\n        },\n{\n            'v': 0.71,\n            'f': \"0.71\",\n        }],\n [\"d1_mbp_noninvasive_min\",\n\"d1_mbp_noninvasive_min\",\n{\n            'v': 0.13,\n            'f': \"0.13\",\n        },\n{\n            'v': 1.03,\n            'f': \"1.03\",\n        }],\n [\"d1_mbp_noninvasive_max\",\n\"d1_mbp_noninvasive_max\",\n{\n            'v': 0.13,\n            'f': \"0.13\",\n        },\n{\n            'v': 1.03,\n            'f': \"1.03\",\n        }],\n [\"height\",\n\"height\",\n{\n            'v': 0.2,\n            'f': \"0.2\",\n        },\n{\n            'v': 1.01,\n            'f': \"1.01\",\n        }],\n [\"h1_heartrate_min\",\n\"h1_heartrate_min\",\n{\n            'v': 0.21,\n            'f': \"0.21\",\n        },\n{\n            'v': 2.45,\n            'f': \"2.45\",\n        }],\n [\"h1_heartrate_max\",\n\"h1_heartrate_max\",\n{\n            'v': 0.21,\n            'f': \"0.21\",\n        },\n{\n            'v': 2.45,\n            'f': \"2.45\",\n        }],\n [\"weight\",\n\"weight\",\n{\n            'v': 0.26,\n            'f': \"0.26\",\n        },\n{\n            'v': 2.27,\n            'f': \"2.27\",\n        }],\n [\"h1_diasbp_max\",\n\"h1_diasbp_max\",\n{\n            'v': 0.29,\n            'f': \"0.29\",\n        },\n{\n            'v': 3.24,\n            'f': \"3.24\",\n        }],\n [\"h1_sysbp_min\",\n\"h1_sysbp_min\",\n{\n            'v': 0.29,\n            'f': \"0.29\",\n        },\n{\n            'v': 3.23,\n            'f': \"3.23\",\n        }],\n [\"h1_sysbp_max\",\n\"h1_sysbp_max\",\n{\n            'v': 0.29,\n            'f': \"0.29\",\n        },\n{\n            'v': 3.23,\n            'f': \"3.23\",\n        }],\n [\"h1_diasbp_min\",\n\"h1_diasbp_min\",\n{\n            'v': 0.29,\n            'f': \"0.29\",\n        },\n{\n            'v': 3.24,\n            'f': \"3.24\",\n        }],\n [\"d1_temp_max\",\n\"d1_temp_max\",\n{\n            'v': 0.33,\n            'f': \"0.33\",\n        },\n{\n            'v': 2.02,\n            'f': \"2.02\",\n        }],\n [\"d1_temp_min\",\n\"d1_temp_min\",\n{\n            'v': 0.33,\n            'f': \"0.33\",\n        },\n{\n            'v': 2.02,\n            'f': \"2.02\",\n        }],\n [\"h1_mbp_max\",\n\"h1_mbp_max\",\n{\n            'v': 0.36,\n            'f': \"0.36\",\n        },\n{\n            'v': 4.08,\n            'f': \"4.08\",\n        }],\n [\"h1_mbp_min\",\n\"h1_mbp_min\",\n{\n            'v': 0.36,\n            'f': \"0.36\",\n        },\n{\n            'v': 4.08,\n            'f': \"4.08\",\n        }],\n [\"h1_resprate_min\",\n\"h1_resprate_min\",\n{\n            'v': 0.36,\n            'f': \"0.36\",\n        },\n{\n            'v': 3.68,\n            'f': \"3.68\",\n        }],\n [\"h1_resprate_max\",\n\"h1_resprate_max\",\n{\n            'v': 0.36,\n            'f': \"0.36\",\n        },\n{\n            'v': 3.68,\n            'f': \"3.68\",\n        }],\n [\"bmi\",\n\"bmi\",\n{\n            'v': 0.4,\n            'f': \"0.4\",\n        },\n{\n            'v': 2.88,\n            'f': \"2.88\",\n        }],\n [\"h1_spo2_max\",\n\"h1_spo2_max\",\n{\n            'v': 0.41,\n            'f': \"0.41\",\n        },\n{\n            'v': 3.76,\n            'f': \"3.76\",\n        }],\n [\"h1_spo2_min\",\n\"h1_spo2_min\",\n{\n            'v': 0.41,\n            'f': \"0.41\",\n        },\n{\n            'v': 3.76,\n            'f': \"3.76\",\n        }],\n [\"d1_glucose_max\",\n\"d1_glucose_max\",\n{\n            'v': 0.51,\n            'f': \"0.51\",\n        },\n{\n            'v': 4.74,\n            'f': \"4.74\",\n        }],\n [\"d1_glucose_min\",\n\"d1_glucose_min\",\n{\n            'v': 0.51,\n            'f': \"0.51\",\n        },\n{\n            'v': 4.74,\n            'f': \"4.74\",\n        }],\n [\"temp_apache\",\n\"temp_apache\",\n{\n            'v': 0.51,\n            'f': \"0.51\",\n        },\n{\n            'v': 2.87,\n            'f': \"2.87\",\n        }],\n [\"h1_sysbp_noninvasive_min\",\n\"h1_sysbp_noninvasive_min\",\n{\n            'v': 0.53,\n            'f': \"0.53\",\n        },\n{\n            'v': 6.53,\n            'f': \"6.53\",\n        }],\n [\"h1_sysbp_noninvasive_max\",\n\"h1_sysbp_noninvasive_max\",\n{\n            'v': 0.53,\n            'f': \"0.53\",\n        },\n{\n            'v': 6.53,\n            'f': \"6.53\",\n        }],\n [\"h1_diasbp_noninvasive_max\",\n\"h1_diasbp_noninvasive_max\",\n{\n            'v': 0.53,\n            'f': \"0.53\",\n        },\n{\n            'v': 6.53,\n            'f': \"6.53\",\n        }],\n [\"h1_diasbp_noninvasive_min\",\n\"h1_diasbp_noninvasive_min\",\n{\n            'v': 0.53,\n            'f': \"0.53\",\n        },\n{\n            'v': 6.53,\n            'f': \"6.53\",\n        }],\n [\"h1_mbp_noninvasive_min\",\n\"h1_mbp_noninvasive_min\",\n{\n            'v': 0.64,\n            'f': \"0.64\",\n        },\n{\n            'v': 7.98,\n            'f': \"7.98\",\n        }],\n [\"h1_mbp_noninvasive_max\",\n\"h1_mbp_noninvasive_max\",\n{\n            'v': 0.64,\n            'f': \"0.64\",\n        },\n{\n            'v': 7.98,\n            'f': \"7.98\",\n        }],\n [\"d1_sodium_max\",\n\"d1_sodium_max\",\n{\n            'v': 0.85,\n            'f': \"0.85\",\n        },\n{\n            'v': 8.58,\n            'f': \"8.58\",\n        }],\n [\"d1_sodium_min\",\n\"d1_sodium_min\",\n{\n            'v': 0.85,\n            'f': \"0.85\",\n        },\n{\n            'v': 8.58,\n            'f': \"8.58\",\n        }],\n [\"glucose_apache\",\n\"glucose_apache\",\n{\n            'v': 0.86,\n            'f': \"0.86\",\n        },\n{\n            'v': 8.95,\n            'f': \"8.95\",\n        }],\n [\"d1_potassium_min\",\n\"d1_potassium_min\",\n{\n            'v': 0.87,\n            'f': \"0.87\",\n        },\n{\n            'v': 8.05,\n            'f': \"8.05\",\n        }],\n [\"d1_potassium_max\",\n\"d1_potassium_max\",\n{\n            'v': 0.87,\n            'f': \"0.87\",\n        },\n{\n            'v': 8.05,\n            'f': \"8.05\",\n        }],\n [\"d1_hematocrit_max\",\n\"d1_hematocrit_max\",\n{\n            'v': 1.07,\n            'f': \"1.07\",\n        },\n{\n            'v': 9.74,\n            'f': \"9.74\",\n        }],\n [\"d1_hematocrit_min\",\n\"d1_hematocrit_min\",\n{\n            'v': 1.07,\n            'f': \"1.07\",\n        },\n{\n            'v': 9.74,\n            'f': \"9.74\",\n        }],\n [\"d1_hemaglobin_max\",\n\"d1_hemaglobin_max\",\n{\n            'v': 1.08,\n            'f': \"1.08\",\n        },\n{\n            'v': 10.23,\n            'f': \"10.23\",\n        }],\n [\"d1_hemaglobin_min\",\n\"d1_hemaglobin_min\",\n{\n            'v': 1.08,\n            'f': \"1.08\",\n        },\n{\n            'v': 10.23,\n            'f': \"10.23\",\n        }],\n [\"d1_calcium_min\",\n\"d1_calcium_min\",\n{\n            'v': 1.21,\n            'f': \"1.21\",\n        },\n{\n            'v': 11.49,\n            'f': \"11.49\",\n        }],\n [\"d1_calcium_max\",\n\"d1_calcium_max\",\n{\n            'v': 1.21,\n            'f': \"1.21\",\n        },\n{\n            'v': 11.49,\n            'f': \"11.49\",\n        }],\n [\"d1_wbc_max\",\n\"d1_wbc_max\",\n{\n            'v': 1.22,\n            'f': \"1.22\",\n        },\n{\n            'v': 11.22,\n            'f': \"11.22\",\n        }],\n [\"d1_wbc_min\",\n\"d1_wbc_min\",\n{\n            'v': 1.22,\n            'f': \"1.22\",\n        },\n{\n            'v': 11.22,\n            'f': \"11.22\",\n        }],\n [\"d1_platelets_max\",\n\"d1_platelets_max\",\n{\n            'v': 1.23,\n            'f': \"1.23\",\n        },\n{\n            'v': 11.46,\n            'f': \"11.46\",\n        }],\n [\"d1_platelets_min\",\n\"d1_platelets_min\",\n{\n            'v': 1.23,\n            'f': \"1.23\",\n        },\n{\n            'v': 11.46,\n            'f': \"11.46\",\n        }],\n [\"d1_hco3_max\",\n\"d1_hco3_max\",\n{\n            'v': 1.29,\n            'f': \"1.29\",\n        },\n{\n            'v': 13.39,\n            'f': \"13.39\",\n        }],\n [\"d1_hco3_min\",\n\"d1_hco3_min\",\n{\n            'v': 1.29,\n            'f': \"1.29\",\n        },\n{\n            'v': 13.39,\n            'f': \"13.39\",\n        }],\n [\"sodium_apache\",\n\"sodium_apache\",\n{\n            'v': 1.48,\n            'f': \"1.48\",\n        },\n{\n            'v': 16.08,\n            'f': \"16.08\",\n        }],\n [\"bun_apache\",\n\"bun_apache\",\n{\n            'v': 1.58,\n            'f': \"1.58\",\n        },\n{\n            'v': 16.63,\n            'f': \"16.63\",\n        }],\n [\"creatinine_apache\",\n\"creatinine_apache\",\n{\n            'v': 1.59,\n            'f': \"1.59\",\n        },\n{\n            'v': 16.21,\n            'f': \"16.21\",\n        }],\n [\"hematocrit_apache\",\n\"hematocrit_apache\",\n{\n            'v': 1.75,\n            'f': \"1.75\",\n        },\n{\n            'v': 16.99,\n            'f': \"16.99\",\n        }],\n [\"wbc_apache\",\n\"wbc_apache\",\n{\n            'v': 1.99,\n            'f': \"1.99\",\n        },\n{\n            'v': 19.16,\n            'f': \"19.16\",\n        }],\n [\"hospital_admit_source\",\n\"hospital_admit_source\",\n{\n            'v': 2.11,\n            'f': \"2.11\",\n        },\n{\n            'v': 21.91,\n            'f': \"21.91\",\n        }],\n [\"h1_temp_max\",\n\"h1_temp_max\",\n{\n            'v': 2.36,\n            'f': \"2.36\",\n        },\n{\n            'v': 21.02,\n            'f': \"21.02\",\n        }],\n [\"h1_temp_min\",\n\"h1_temp_min\",\n{\n            'v': 2.36,\n            'f': \"2.36\",\n        },\n{\n            'v': 21.02,\n            'f': \"21.02\",\n        }],\n [\"d1_arterial_po2_min\",\n\"d1_arterial_po2_min\",\n{\n            'v': 3.08,\n            'f': \"3.08\",\n        },\n{\n            'v': 59.07,\n            'f': \"59.07\",\n        }],\n [\"d1_arterial_po2_max\",\n\"d1_arterial_po2_max\",\n{\n            'v': 3.08,\n            'f': \"3.08\",\n        },\n{\n            'v': 59.07,\n            'f': \"59.07\",\n        }],\n [\"d1_arterial_pco2_max\",\n\"d1_arterial_pco2_max\",\n{\n            'v': 3.09,\n            'f': \"3.09\",\n        },\n{\n            'v': 59.09,\n            'f': \"59.09\",\n        }],\n [\"d1_arterial_pco2_min\",\n\"d1_arterial_pco2_min\",\n{\n            'v': 3.09,\n            'f': \"3.09\",\n        },\n{\n            'v': 59.09,\n            'f': \"59.09\",\n        }],\n [\"d1_arterial_ph_min\",\n\"d1_arterial_ph_min\",\n{\n            'v': 3.26,\n            'f': \"3.26\",\n        },\n{\n            'v': 59.97,\n            'f': \"59.97\",\n        }],\n [\"d1_arterial_ph_max\",\n\"d1_arterial_ph_max\",\n{\n            'v': 3.26,\n            'f': \"3.26\",\n        },\n{\n            'v': 59.97,\n            'f': \"59.97\",\n        }],\n [\"d1_albumin_min\",\n\"d1_albumin_min\",\n{\n            'v': 3.8,\n            'f': \"3.8\",\n        },\n{\n            'v': 48.01,\n            'f': \"48.01\",\n        }],\n [\"d1_albumin_max\",\n\"d1_albumin_max\",\n{\n            'v': 3.8,\n            'f': \"3.8\",\n        },\n{\n            'v': 48.01,\n            'f': \"48.01\",\n        }],\n [\"albumin_apache\",\n\"albumin_apache\",\n{\n            'v': 4.44,\n            'f': \"4.44\",\n        },\n{\n            'v': 52.83,\n            'f': \"52.83\",\n        }],\n [\"d1_inr_min\",\n\"d1_inr_min\",\n{\n            'v': 4.54,\n            'f': \"4.54\",\n        },\n{\n            'v': 56.27,\n            'f': \"56.27\",\n        }],\n [\"h1_inr_min\",\n\"h1_inr_min\",\n{\n            'v': 4.54,\n            'f': \"4.54\",\n        },\n{\n            'v': 56.27,\n            'f': \"56.27\",\n        }],\n [\"h1_inr_max\",\n\"h1_inr_max\",\n{\n            'v': 4.54,\n            'f': \"4.54\",\n        },\n{\n            'v': 56.27,\n            'f': \"56.27\",\n        }],\n [\"d1_inr_max\",\n\"d1_inr_max\",\n{\n            'v': 4.54,\n            'f': \"4.54\",\n        },\n{\n            'v': 56.27,\n            'f': \"56.27\",\n        }],\n [\"paco2_apache\",\n\"paco2_apache\",\n{\n            'v': 4.98,\n            'f': \"4.98\",\n        },\n{\n            'v': 70.44,\n            'f': \"70.44\",\n        }],\n [\"fio2_apache\",\n\"fio2_apache\",\n{\n            'v': 4.98,\n            'f': \"4.98\",\n        },\n{\n            'v': 70.44,\n            'f': \"70.44\",\n        }],\n [\"paco2_for_ph_apache\",\n\"paco2_for_ph_apache\",\n{\n            'v': 4.98,\n            'f': \"4.98\",\n        },\n{\n            'v': 70.44,\n            'f': \"70.44\",\n        }],\n [\"ph_apache\",\n\"ph_apache\",\n{\n            'v': 4.98,\n            'f': \"4.98\",\n        },\n{\n            'v': 70.44,\n            'f': \"70.44\",\n        }],\n [\"pao2_apache\",\n\"pao2_apache\",\n{\n            'v': 4.98,\n            'f': \"4.98\",\n        },\n{\n            'v': 70.44,\n            'f': \"70.44\",\n        }],\n [\"h1_glucose_min\",\n\"h1_glucose_min\",\n{\n            'v': 5.02,\n            'f': \"5.02\",\n        },\n{\n            'v': 52.9,\n            'f': \"52.9\",\n        }],\n [\"h1_glucose_max\",\n\"h1_glucose_max\",\n{\n            'v': 5.02,\n            'f': \"5.02\",\n        },\n{\n            'v': 52.9,\n            'f': \"52.9\",\n        }],\n [\"d1_mbp_invasive_min\",\n\"d1_mbp_invasive_min\",\n{\n            'v': 5.8,\n            'f': \"5.8\",\n        },\n{\n            'v': 68.76,\n            'f': \"68.76\",\n        }],\n [\"d1_mbp_invasive_max\",\n\"d1_mbp_invasive_max\",\n{\n            'v': 5.8,\n            'f': \"5.8\",\n        },\n{\n            'v': 68.76,\n            'f': \"68.76\",\n        }],\n [\"d1_sysbp_invasive_min\",\n\"d1_sysbp_invasive_min\",\n{\n            'v': 5.83,\n            'f': \"5.83\",\n        },\n{\n            'v': 68.96,\n            'f': \"68.96\",\n        }],\n [\"d1_sysbp_invasive_max\",\n\"d1_sysbp_invasive_max\",\n{\n            'v': 5.83,\n            'f': \"5.83\",\n        },\n{\n            'v': 68.96,\n            'f': \"68.96\",\n        }],\n [\"h1_potassium_min\",\n\"h1_potassium_min\",\n{\n            'v': 6.99,\n            'f': \"6.99\",\n        },\n{\n            'v': 71.48,\n            'f': \"71.48\",\n        }],\n [\"h1_potassium_max\",\n\"h1_potassium_max\",\n{\n            'v': 6.99,\n            'f': \"6.99\",\n        },\n{\n            'v': 71.48,\n            'f': \"71.48\",\n        }],\n [\"h1_sodium_max\",\n\"h1_sodium_max\",\n{\n            'v': 7.02,\n            'f': \"7.02\",\n        },\n{\n            'v': 71.95,\n            'f': \"71.95\",\n        }],\n [\"h1_sodium_min\",\n\"h1_sodium_min\",\n{\n            'v': 7.02,\n            'f': \"7.02\",\n        },\n{\n            'v': 71.95,\n            'f': \"71.95\",\n        }],\n [\"h1_hemaglobin_max\",\n\"h1_hemaglobin_max\",\n{\n            'v': 7.2,\n            'f': \"7.2\",\n        },\n{\n            'v': 72.04,\n            'f': \"72.04\",\n        }],\n [\"h1_hemaglobin_min\",\n\"h1_hemaglobin_min\",\n{\n            'v': 7.2,\n            'f': \"7.2\",\n        },\n{\n            'v': 72.04,\n            'f': \"72.04\",\n        }],\n [\"h1_hematocrit_max\",\n\"h1_hematocrit_max\",\n{\n            'v': 7.29,\n            'f': \"7.29\",\n        },\n{\n            'v': 72.38,\n            'f': \"72.38\",\n        }],\n [\"h1_hematocrit_min\",\n\"h1_hematocrit_min\",\n{\n            'v': 7.29,\n            'f': \"7.29\",\n        },\n{\n            'v': 72.38,\n            'f': \"72.38\",\n        }],\n [\"h1_platelets_min\",\n\"h1_platelets_min\",\n{\n            'v': 7.56,\n            'f': \"7.56\",\n        },\n{\n            'v': 74.67,\n            'f': \"74.67\",\n        }],\n [\"h1_platelets_max\",\n\"h1_platelets_max\",\n{\n            'v': 7.56,\n            'f': \"7.56\",\n        },\n{\n            'v': 74.67,\n            'f': \"74.67\",\n        }],\n [\"h1_wbc_min\",\n\"h1_wbc_min\",\n{\n            'v': 7.6,\n            'f': \"7.6\",\n        },\n{\n            'v': 74.97,\n            'f': \"74.97\",\n        }],\n [\"h1_wbc_max\",\n\"h1_wbc_max\",\n{\n            'v': 7.6,\n            'f': \"7.6\",\n        },\n{\n            'v': 74.97,\n            'f': \"74.97\",\n        }]],\n        columns: [[\"string\", \"index\"], [\"string\", \"column_name\"], [\"number\", \"percent_missing_died\"], [\"number\", \"percent_missing_alive\"]],\n        columnOptions: [{\"width\": \"1px\", \"className\": \"index_column\"}],\n        rowsPerPage: 25,\n        helpUrl: \"https://colab.research.google.com/notebooks/data_table.ipynb\",\n        suppressOutputScrolling: true,\n      });\n    ",
      "text/html": [
       "<div>\n",
       "<style scoped>\n",
       "    .dataframe tbody tr th:only-of-type {\n",
       "        vertical-align: middle;\n",
       "    }\n",
       "\n",
       "    .dataframe tbody tr th {\n",
       "        vertical-align: top;\n",
       "    }\n",
       "\n",
       "    .dataframe thead th {\n",
       "        text-align: right;\n",
       "    }\n",
       "</style>\n",
       "<table border=\"1\" class=\"dataframe\">\n",
       "  <thead>\n",
       "    <tr style=\"text-align: right;\">\n",
       "      <th></th>\n",
       "      <th>column_name</th>\n",
       "      <th>percent_missing_died</th>\n",
       "      <th>percent_missing_alive</th>\n",
       "    </tr>\n",
       "  </thead>\n",
       "  <tbody>\n",
       "    <tr>\n",
       "      <th>hospital_death</th>\n",
       "      <td>hospital_death</td>\n",
       "      <td>0.00</td>\n",
       "      <td>0.00</td>\n",
       "    </tr>\n",
       "    <tr>\n",
       "      <th>d1_heartrate_min</th>\n",
       "      <td>d1_heartrate_min</td>\n",
       "      <td>0.00</td>\n",
       "      <td>0.00</td>\n",
       "    </tr>\n",
       "    <tr>\n",
       "      <th>gender</th>\n",
       "      <td>gender</td>\n",
       "      <td>0.00</td>\n",
       "      <td>0.00</td>\n",
       "    </tr>\n",
       "    <tr>\n",
       "      <th>encounter_id</th>\n",
       "      <td>encounter_id</td>\n",
       "      <td>0.00</td>\n",
       "      <td>0.00</td>\n",
       "    </tr>\n",
       "    <tr>\n",
       "      <th>hospital_id</th>\n",
       "      <td>hospital_id</td>\n",
       "      <td>0.00</td>\n",
       "      <td>0.00</td>\n",
       "    </tr>\n",
       "    <tr>\n",
       "      <th>...</th>\n",
       "      <td>...</td>\n",
       "      <td>...</td>\n",
       "      <td>...</td>\n",
       "    </tr>\n",
       "    <tr>\n",
       "      <th>h1_hematocrit_min</th>\n",
       "      <td>h1_hematocrit_min</td>\n",
       "      <td>7.29</td>\n",
       "      <td>72.38</td>\n",
       "    </tr>\n",
       "    <tr>\n",
       "      <th>h1_platelets_min</th>\n",
       "      <td>h1_platelets_min</td>\n",
       "      <td>7.56</td>\n",
       "      <td>74.67</td>\n",
       "    </tr>\n",
       "    <tr>\n",
       "      <th>h1_platelets_max</th>\n",
       "      <td>h1_platelets_max</td>\n",
       "      <td>7.56</td>\n",
       "      <td>74.67</td>\n",
       "    </tr>\n",
       "    <tr>\n",
       "      <th>h1_wbc_min</th>\n",
       "      <td>h1_wbc_min</td>\n",
       "      <td>7.60</td>\n",
       "      <td>74.97</td>\n",
       "    </tr>\n",
       "    <tr>\n",
       "      <th>h1_wbc_max</th>\n",
       "      <td>h1_wbc_max</td>\n",
       "      <td>7.60</td>\n",
       "      <td>74.97</td>\n",
       "    </tr>\n",
       "  </tbody>\n",
       "</table>\n",
       "<p>162 rows × 3 columns</p>\n",
       "</div>"
      ],
      "text/plain": [
       "                         column_name  percent_missing_died  \\\n",
       "hospital_death        hospital_death                  0.00   \n",
       "d1_heartrate_min    d1_heartrate_min                  0.00   \n",
       "gender                        gender                  0.00   \n",
       "encounter_id            encounter_id                  0.00   \n",
       "hospital_id              hospital_id                  0.00   \n",
       "...                              ...                   ...   \n",
       "h1_hematocrit_min  h1_hematocrit_min                  7.29   \n",
       "h1_platelets_min    h1_platelets_min                  7.56   \n",
       "h1_platelets_max    h1_platelets_max                  7.56   \n",
       "h1_wbc_min                h1_wbc_min                  7.60   \n",
       "h1_wbc_max                h1_wbc_max                  7.60   \n",
       "\n",
       "                   percent_missing_alive  \n",
       "hospital_death                      0.00  \n",
       "d1_heartrate_min                    0.00  \n",
       "gender                              0.00  \n",
       "encounter_id                        0.00  \n",
       "hospital_id                         0.00  \n",
       "...                                  ...  \n",
       "h1_hematocrit_min                  72.38  \n",
       "h1_platelets_min                   74.67  \n",
       "h1_platelets_max                   74.67  \n",
       "h1_wbc_min                         74.97  \n",
       "h1_wbc_max                         74.97  \n",
       "\n",
       "[162 rows x 3 columns]"
      ]
     },
     "execution_count": 469,
     "metadata": {
      "tags": []
     },
     "output_type": "execute_result"
    }
   ],
   "source": [
    "ms = missing_values(df_training_test)\n",
    "ms"
   ]
  },
  {
   "cell_type": "code",
   "execution_count": null,
   "metadata": {
    "colab": {
     "base_uri": "https://localhost:8080/",
     "height": 554
    },
    "executionInfo": {
     "elapsed": 1167,
     "status": "ok",
     "timestamp": 1582399197761,
     "user": {
      "displayName": "Ararajuba Data Science Project",
      "photoUrl": "",
      "userId": "02004027308564222829"
     },
     "user_tz": 180
    },
    "id": "P3vLOvRWtM4M",
    "outputId": "0a5f72b7-12e1-4872-f8d9-c3c401a96293"
   },
   "outputs": [
    {
     "data": {
      "text/plain": [
       "Index(['d1_resprate_min', 'd1_resprate_max', 'd1_spo2_max', 'd1_spo2_min',\n",
       "       'd1_sysbp_noninvasive_max', 'd1_diasbp_noninvasive_min',\n",
       "       'd1_sysbp_noninvasive_min', 'd1_diasbp_noninvasive_max',\n",
       "       'd1_mbp_noninvasive_min', 'd1_mbp_noninvasive_max', 'height',\n",
       "       'h1_heartrate_min', 'h1_heartrate_max', 'weight', 'h1_diasbp_max',\n",
       "       'h1_sysbp_min', 'h1_sysbp_max', 'h1_diasbp_min', 'd1_temp_max',\n",
       "       'd1_temp_min', 'h1_mbp_max', 'h1_mbp_min', 'h1_resprate_min',\n",
       "       'h1_resprate_max', 'bmi', 'h1_spo2_max', 'h1_spo2_min',\n",
       "       'd1_glucose_max', 'd1_glucose_min', 'temp_apache',\n",
       "       'h1_sysbp_noninvasive_min', 'h1_sysbp_noninvasive_max',\n",
       "       'h1_diasbp_noninvasive_max', 'h1_diasbp_noninvasive_min',\n",
       "       'h1_mbp_noninvasive_min', 'h1_mbp_noninvasive_max', 'd1_sodium_max',\n",
       "       'd1_sodium_min', 'glucose_apache', 'd1_potassium_min',\n",
       "       'd1_potassium_max', 'd1_hematocrit_max', 'd1_hematocrit_min',\n",
       "       'd1_hemaglobin_max', 'd1_hemaglobin_min', 'd1_calcium_min',\n",
       "       'd1_calcium_max', 'd1_wbc_max', 'd1_wbc_min', 'd1_platelets_max',\n",
       "       'd1_platelets_min', 'd1_hco3_max', 'd1_hco3_min', 'sodium_apache',\n",
       "       'bun_apache', 'creatinine_apache', 'hematocrit_apache', 'wbc_apache',\n",
       "       'hospital_admit_source', 'h1_temp_max', 'h1_temp_min',\n",
       "       'd1_arterial_po2_min', 'd1_arterial_po2_max', 'd1_arterial_pco2_max',\n",
       "       'd1_arterial_pco2_min', 'd1_arterial_ph_min', 'd1_arterial_ph_max',\n",
       "       'd1_albumin_min', 'd1_albumin_max', 'albumin_apache', 'd1_inr_min',\n",
       "       'h1_inr_min', 'h1_inr_max', 'd1_inr_max', 'paco2_apache', 'fio2_apache',\n",
       "       'paco2_for_ph_apache', 'ph_apache', 'pao2_apache', 'h1_glucose_min',\n",
       "       'h1_glucose_max', 'd1_mbp_invasive_min', 'd1_mbp_invasive_max',\n",
       "       'd1_sysbp_invasive_min', 'd1_sysbp_invasive_max', 'h1_potassium_min',\n",
       "       'h1_potassium_max', 'h1_sodium_max', 'h1_sodium_min',\n",
       "       'h1_hemaglobin_max', 'h1_hemaglobin_min', 'h1_hematocrit_max',\n",
       "       'h1_hematocrit_min', 'h1_platelets_min', 'h1_platelets_max',\n",
       "       'h1_wbc_min', 'h1_wbc_max'],\n",
       "      dtype='object')"
      ]
     },
     "execution_count": 470,
     "metadata": {
      "tags": []
     },
     "output_type": "execute_result"
    }
   ],
   "source": [
    "ms = missing_values(df_training_test)\n",
    "index_to_fillnan = ms[ms[\"percent_missing_alive\"] > 0].index\n",
    "\n",
    "index_to_fillnan"
   ]
  },
  {
   "cell_type": "code",
   "execution_count": null,
   "metadata": {
    "id": "xWrqSOp4tYSD"
   },
   "outputs": [],
   "source": [
    "#Substituir todas com valores pela média da idade\n",
    "df = df_training_test\n",
    "for x in index_to_fillnan:\n",
    "  df = fillnan_mean_age(df,x)\n",
    "\n",
    "df_training_test = df\n",
    "\n",
    "#Substituir todas com valores pela média da idade\n",
    "df = df_unlabeled_test\n",
    "for x in index_to_fillnan:\n",
    "  df = fillnan_mean_age(df,x)\n",
    "\n",
    "df_unlabeled_test = df"
   ]
  },
  {
   "cell_type": "code",
   "execution_count": null,
   "metadata": {
    "id": "awJ_r4eZuwHu"
   },
   "outputs": [],
   "source": [
    "#df_training_test = remover_valores(df_training_test,'d1_albumin_max') \n",
    "#df_training_test = remover_valores(df_training_test,'d1_albumin_min') "
   ]
  },
  {
   "cell_type": "code",
   "execution_count": null,
   "metadata": {
    "colab": {
     "base_uri": "https://localhost:8080/",
     "height": 596
    },
    "executionInfo": {
     "elapsed": 40074,
     "status": "ok",
     "timestamp": 1582399288274,
     "user": {
      "displayName": "Ararajuba Data Science Project",
      "photoUrl": "",
      "userId": "02004027308564222829"
     },
     "user_tz": 180
    },
    "id": "Aw-KPINCtp-C",
    "outputId": "2d53b837-1523-49cb-9eea-47ffca7afb56"
   },
   "outputs": [
    {
     "data": {
      "application/vnd.google.colaboratory.module+javascript": "\n      import \"https://ssl.gstatic.com/colaboratory/data_table/84ef27dae82052e3/data_table.js\";\n\n      window.createDataTable({\n        data: [[\"hospital_death\",\n\"hospital_death\",\n{\n            'v': 0.0,\n            'f': \"0.0\",\n        },\n{\n            'v': 0.0,\n            'f': \"0.0\",\n        }],\n [\"apache_2_bodysystem\",\n\"apache_2_bodysystem\",\n{\n            'v': 0.0,\n            'f': \"0.0\",\n        },\n{\n            'v': 0.0,\n            'f': \"0.0\",\n        }],\n [\"paco2_for_ph_apache\",\n\"paco2_for_ph_apache\",\n{\n            'v': 0.0,\n            'f': \"0.0\",\n        },\n{\n            'v': 0.0,\n            'f': \"0.0\",\n        }],\n [\"paco2_apache\",\n\"paco2_apache\",\n{\n            'v': 0.0,\n            'f': \"0.0\",\n        },\n{\n            'v': 0.0,\n            'f': \"0.0\",\n        }],\n [\"d1_hemaglobin_max\",\n\"d1_hemaglobin_max\",\n{\n            'v': 0.0,\n            'f': \"0.0\",\n        },\n{\n            'v': 0.0,\n            'f': \"0.0\",\n        }],\n [\"h1_spo2_max\",\n\"h1_spo2_max\",\n{\n            'v': 0.0,\n            'f': \"0.0\",\n        },\n{\n            'v': 0.0,\n            'f': \"0.0\",\n        }],\n [\"h1_hemaglobin_max\",\n\"h1_hemaglobin_max\",\n{\n            'v': 0.0,\n            'f': \"0.0\",\n        },\n{\n            'v': 0.0,\n            'f': \"0.0\",\n        }],\n [\"h1_hemaglobin_min\",\n\"h1_hemaglobin_min\",\n{\n            'v': 0.0,\n            'f': \"0.0\",\n        },\n{\n            'v': 0.0,\n            'f': \"0.0\",\n        }],\n [\"map_apache\",\n\"map_apache\",\n{\n            'v': 0.0,\n            'f': \"0.0\",\n        },\n{\n            'v': 0.0,\n            'f': \"0.0\",\n        }],\n [\"h1_mbp_max\",\n\"h1_mbp_max\",\n{\n            'v': 0.0,\n            'f': \"0.0\",\n        },\n{\n            'v': 0.0,\n            'f': \"0.0\",\n        }],\n [\"h1_mbp_noninvasive_max\",\n\"h1_mbp_noninvasive_max\",\n{\n            'v': 0.0,\n            'f': \"0.0\",\n        },\n{\n            'v': 0.0,\n            'f': \"0.0\",\n        }],\n [\"d1_platelets_min\",\n\"d1_platelets_min\",\n{\n            'v': 0.0,\n            'f': \"0.0\",\n        },\n{\n            'v': 0.0,\n            'f': \"0.0\",\n        }],\n [\"h1_sysbp_noninvasive_max\",\n\"h1_sysbp_noninvasive_max\",\n{\n            'v': 0.0,\n            'f': \"0.0\",\n        },\n{\n            'v': 0.0,\n            'f': \"0.0\",\n        }],\n [\"d1_hematocrit_min\",\n\"d1_hematocrit_min\",\n{\n            'v': 0.0,\n            'f': \"0.0\",\n        },\n{\n            'v': 0.0,\n            'f': \"0.0\",\n        }],\n [\"d1_sysbp_invasive_max\",\n\"d1_sysbp_invasive_max\",\n{\n            'v': 0.0,\n            'f': \"0.0\",\n        },\n{\n            'v': 0.0,\n            'f': \"0.0\",\n        }],\n [\"h1_sysbp_max\",\n\"h1_sysbp_max\",\n{\n            'v': 0.0,\n            'f': \"0.0\",\n        },\n{\n            'v': 0.0,\n            'f': \"0.0\",\n        }],\n [\"apache_post_operative\",\n\"apache_post_operative\",\n{\n            'v': 0.0,\n            'f': \"0.0\",\n        },\n{\n            'v': 0.0,\n            'f': \"0.0\",\n        }],\n [\"hematocrit_apache\",\n\"hematocrit_apache\",\n{\n            'v': 0.0,\n            'f': \"0.0\",\n        },\n{\n            'v': 0.0,\n            'f': \"0.0\",\n        }],\n [\"apache_3j_diagnosis\",\n\"apache_3j_diagnosis\",\n{\n            'v': 0.0,\n            'f': \"0.0\",\n        },\n{\n            'v': 0.0,\n            'f': \"0.0\",\n        }],\n [\"weight\",\n\"weight\",\n{\n            'v': 0.0,\n            'f': \"0.0\",\n        },\n{\n            'v': 0.0,\n            'f': \"0.0\",\n        }],\n [\"d1_platelets_max\",\n\"d1_platelets_max\",\n{\n            'v': 0.0,\n            'f': \"0.0\",\n        },\n{\n            'v': 0.0,\n            'f': \"0.0\",\n        }],\n [\"icu_admit_source\",\n\"icu_admit_source\",\n{\n            'v': 0.0,\n            'f': \"0.0\",\n        },\n{\n            'v': 0.0,\n            'f': \"0.0\",\n        }],\n [\"d1_mbp_noninvasive_max\",\n\"d1_mbp_noninvasive_max\",\n{\n            'v': 0.0,\n            'f': \"0.0\",\n        },\n{\n            'v': 0.0,\n            'f': \"0.0\",\n        }],\n [\"d1_mbp_max\",\n\"d1_mbp_max\",\n{\n            'v': 0.0,\n            'f': \"0.0\",\n        },\n{\n            'v': 0.0,\n            'f': \"0.0\",\n        }],\n [\"d1_mbp_invasive_max\",\n\"d1_mbp_invasive_max\",\n{\n            'v': 0.0,\n            'f': \"0.0\",\n        },\n{\n            'v': 0.0,\n            'f': \"0.0\",\n        }],\n [\"h1_platelets_max\",\n\"h1_platelets_max\",\n{\n            'v': 0.0,\n            'f': \"0.0\",\n        },\n{\n            'v': 0.0,\n            'f': \"0.0\",\n        }],\n [\"h1_platelets_min\",\n\"h1_platelets_min\",\n{\n            'v': 0.0,\n            'f': \"0.0\",\n        },\n{\n            'v': 0.0,\n            'f': \"0.0\",\n        }],\n [\"hospital_admit_source\",\n\"hospital_admit_source\",\n{\n            'v': 0.0,\n            'f': \"0.0\",\n        },\n{\n            'v': 0.0,\n            'f': \"0.0\",\n        }],\n [\"d1_diasbp_invasive_max\",\n\"d1_diasbp_invasive_max\",\n{\n            'v': 0.0,\n            'f': \"0.0\",\n        },\n{\n            'v': 0.0,\n            'f': \"0.0\",\n        }],\n [\"d1_arterial_po2_min\",\n\"d1_arterial_po2_min\",\n{\n            'v': 0.0,\n            'f': \"0.0\",\n        },\n{\n            'v': 0.0,\n            'f': \"0.0\",\n        }],\n [\"h1_hematocrit_max\",\n\"h1_hematocrit_max\",\n{\n            'v': 0.0,\n            'f': \"0.0\",\n        },\n{\n            'v': 0.0,\n            'f': \"0.0\",\n        }],\n [\"h1_diasbp_max\",\n\"h1_diasbp_max\",\n{\n            'v': 0.0,\n            'f': \"0.0\",\n        },\n{\n            'v': 0.0,\n            'f': \"0.0\",\n        }],\n [\"d1_sysbp_noninvasive_max\",\n\"d1_sysbp_noninvasive_max\",\n{\n            'v': 0.0,\n            'f': \"0.0\",\n        },\n{\n            'v': 0.0,\n            'f': \"0.0\",\n        }],\n [\"d1_hematocrit_max\",\n\"d1_hematocrit_max\",\n{\n            'v': 0.0,\n            'f': \"0.0\",\n        },\n{\n            'v': 0.0,\n            'f': \"0.0\",\n        }],\n [\"d1_sysbp_max\",\n\"d1_sysbp_max\",\n{\n            'v': 0.0,\n            'f': \"0.0\",\n        },\n{\n            'v': 0.0,\n            'f': \"0.0\",\n        }],\n [\"h1_diasbp_noninvasive_max\",\n\"h1_diasbp_noninvasive_max\",\n{\n            'v': 0.0,\n            'f': \"0.0\",\n        },\n{\n            'v': 0.0,\n            'f': \"0.0\",\n        }],\n [\"bmi\",\n\"bmi\",\n{\n            'v': 0.0,\n            'f': \"0.0\",\n        },\n{\n            'v': 0.0,\n            'f': \"0.0\",\n        }],\n [\"h1_hematocrit_min\",\n\"h1_hematocrit_min\",\n{\n            'v': 0.0,\n            'f': \"0.0\",\n        },\n{\n            'v': 0.0,\n            'f': \"0.0\",\n        }],\n [\"elective_surgery\",\n\"elective_surgery\",\n{\n            'v': 0.0,\n            'f': \"0.0\",\n        },\n{\n            'v': 0.0,\n            'f': \"0.0\",\n        }],\n [\"d1_calcium_max\",\n\"d1_calcium_max\",\n{\n            'v': 0.0,\n            'f': \"0.0\",\n        },\n{\n            'v': 0.0,\n            'f': \"0.0\",\n        }],\n [\"d1_hemaglobin_min\",\n\"d1_hemaglobin_min\",\n{\n            'v': 0.0,\n            'f': \"0.0\",\n        },\n{\n            'v': 0.0,\n            'f': \"0.0\",\n        }],\n [\"d1_diasbp_min\",\n\"d1_diasbp_min\",\n{\n            'v': 0.0,\n            'f': \"0.0\",\n        },\n{\n            'v': 0.0,\n            'f': \"0.0\",\n        }],\n [\"d1_hco3_min\",\n\"d1_hco3_min\",\n{\n            'v': 0.0,\n            'f': \"0.0\",\n        },\n{\n            'v': 0.0,\n            'f': \"0.0\",\n        }],\n [\"albumin_apache\",\n\"albumin_apache\",\n{\n            'v': 0.0,\n            'f': \"0.0\",\n        },\n{\n            'v': 0.0,\n            'f': \"0.0\",\n        }],\n [\"d1_mbp_noninvasive_min\",\n\"d1_mbp_noninvasive_min\",\n{\n            'v': 0.0,\n            'f': \"0.0\",\n        },\n{\n            'v': 0.0,\n            'f': \"0.0\",\n        }],\n [\"d1_mbp_min\",\n\"d1_mbp_min\",\n{\n            'v': 0.0,\n            'f': \"0.0\",\n        },\n{\n            'v': 0.0,\n            'f': \"0.0\",\n        }],\n [\"d1_albumin_min\",\n\"d1_albumin_min\",\n{\n            'v': 0.0,\n            'f': \"0.0\",\n        },\n{\n            'v': 0.0,\n            'f': \"0.0\",\n        }],\n [\"d1_sysbp_noninvasive_min\",\n\"d1_sysbp_noninvasive_min\",\n{\n            'v': 0.0,\n            'f': \"0.0\",\n        },\n{\n            'v': 0.0,\n            'f': \"0.0\",\n        }],\n [\"d1_diasbp_noninvasive_min\",\n\"d1_diasbp_noninvasive_min\",\n{\n            'v': 0.0,\n            'f': \"0.0\",\n        },\n{\n            'v': 0.0,\n            'f': \"0.0\",\n        }],\n [\"d1_sysbp_min\",\n\"d1_sysbp_min\",\n{\n            'v': 0.0,\n            'f': \"0.0\",\n        },\n{\n            'v': 0.0,\n            'f': \"0.0\",\n        }],\n [\"d1_temp_min\",\n\"d1_temp_min\",\n{\n            'v': 0.0,\n            'f': \"0.0\",\n        },\n{\n            'v': 0.0,\n            'f': \"0.0\",\n        }],\n [\"d1_spo2_min\",\n\"d1_spo2_min\",\n{\n            'v': 0.0,\n            'f': \"0.0\",\n        },\n{\n            'v': 0.0,\n            'f': \"0.0\",\n        }],\n [\"d1_mbp_invasive_min\",\n\"d1_mbp_invasive_min\",\n{\n            'v': 0.0,\n            'f': \"0.0\",\n        },\n{\n            'v': 0.0,\n            'f': \"0.0\",\n        }],\n [\"gcs_verbal_apache\",\n\"gcs_verbal_apache\",\n{\n            'v': 0.0,\n            'f': \"0.0\",\n        },\n{\n            'v': 0.0,\n            'f': \"0.0\",\n        }],\n [\"d1_arterial_ph_min\",\n\"d1_arterial_ph_min\",\n{\n            'v': 0.0,\n            'f': \"0.0\",\n        },\n{\n            'v': 0.0,\n            'f': \"0.0\",\n        }],\n [\"d1_sysbp_invasive_min\",\n\"d1_sysbp_invasive_min\",\n{\n            'v': 0.0,\n            'f': \"0.0\",\n        },\n{\n            'v': 0.0,\n            'f': \"0.0\",\n        }],\n [\"gcs_eyes_apache\",\n\"gcs_eyes_apache\",\n{\n            'v': 0.0,\n            'f': \"0.0\",\n        },\n{\n            'v': 0.0,\n            'f': \"0.0\",\n        }],\n [\"ph_apache\",\n\"ph_apache\",\n{\n            'v': 0.0,\n            'f': \"0.0\",\n        },\n{\n            'v': 0.0,\n            'f': \"0.0\",\n        }],\n [\"d1_diasbp_invasive_min\",\n\"d1_diasbp_invasive_min\",\n{\n            'v': 0.0,\n            'f': \"0.0\",\n        },\n{\n            'v': 0.0,\n            'f': \"0.0\",\n        }],\n [\"d1_albumin_max\",\n\"d1_albumin_max\",\n{\n            'v': 0.0,\n            'f': \"0.0\",\n        },\n{\n            'v': 0.0,\n            'f': \"0.0\",\n        }],\n [\"temp_apache\",\n\"temp_apache\",\n{\n            'v': 0.0,\n            'f': \"0.0\",\n        },\n{\n            'v': 0.0,\n            'f': \"0.0\",\n        }],\n [\"d1_pao2fio2ratio_max\",\n\"d1_pao2fio2ratio_max\",\n{\n            'v': 0.0,\n            'f': \"0.0\",\n        },\n{\n            'v': 0.0,\n            'f': \"0.0\",\n        }],\n [\"apache_2_diagnosis\",\n\"apache_2_diagnosis\",\n{\n            'v': 0.0,\n            'f': \"0.0\",\n        },\n{\n            'v': 0.0,\n            'f': \"0.0\",\n        }],\n [\"urineoutput_apache\",\n\"urineoutput_apache\",\n{\n            'v': 0.0,\n            'f': \"0.0\",\n        },\n{\n            'v': 0.0,\n            'f': \"0.0\",\n        }],\n [\"d1_arterial_pco2_min\",\n\"d1_arterial_pco2_min\",\n{\n            'v': 0.0,\n            'f': \"0.0\",\n        },\n{\n            'v': 0.0,\n            'f': \"0.0\",\n        }],\n [\"h1_temp_max\",\n\"h1_temp_max\",\n{\n            'v': 0.0,\n            'f': \"0.0\",\n        },\n{\n            'v': 0.0,\n            'f': \"0.0\",\n        }],\n [\"h1_spo2_min\",\n\"h1_spo2_min\",\n{\n            'v': 0.0,\n            'f': \"0.0\",\n        },\n{\n            'v': 0.0,\n            'f': \"0.0\",\n        }],\n [\"h1_diasbp_min\",\n\"h1_diasbp_min\",\n{\n            'v': 0.0,\n            'f': \"0.0\",\n        },\n{\n            'v': 0.0,\n            'f': \"0.0\",\n        }],\n [\"h1_temp_min\",\n\"h1_temp_min\",\n{\n            'v': 0.0,\n            'f': \"0.0\",\n        },\n{\n            'v': 0.0,\n            'f': \"0.0\",\n        }],\n [\"h1_diasbp_noninvasive_min\",\n\"h1_diasbp_noninvasive_min\",\n{\n            'v': 0.0,\n            'f': \"0.0\",\n        },\n{\n            'v': 0.0,\n            'f': \"0.0\",\n        }],\n [\"d1_hco3_max\",\n\"d1_hco3_max\",\n{\n            'v': 0.0,\n            'f': \"0.0\",\n        },\n{\n            'v': 0.0,\n            'f': \"0.0\",\n        }],\n [\"d1_arterial_ph_max\",\n\"d1_arterial_ph_max\",\n{\n            'v': 0.0,\n            'f': \"0.0\",\n        },\n{\n            'v': 0.0,\n            'f': \"0.0\",\n        }],\n [\"d1_calcium_min\",\n\"d1_calcium_min\",\n{\n            'v': 0.0,\n            'f': \"0.0\",\n        },\n{\n            'v': 0.0,\n            'f': \"0.0\",\n        }],\n [\"h1_mbp_min\",\n\"h1_mbp_min\",\n{\n            'v': 0.0,\n            'f': \"0.0\",\n        },\n{\n            'v': 0.0,\n            'f': \"0.0\",\n        }],\n [\"h1_sysbp_min\",\n\"h1_sysbp_min\",\n{\n            'v': 0.0,\n            'f': \"0.0\",\n        },\n{\n            'v': 0.0,\n            'f': \"0.0\",\n        }],\n [\"h1_mbp_noninvasive_min\",\n\"h1_mbp_noninvasive_min\",\n{\n            'v': 0.0,\n            'f': \"0.0\",\n        },\n{\n            'v': 0.0,\n            'f': \"0.0\",\n        }],\n [\"d1_pao2fio2ratio_min\",\n\"d1_pao2fio2ratio_min\",\n{\n            'v': 0.0,\n            'f': \"0.0\",\n        },\n{\n            'v': 0.0,\n            'f': \"0.0\",\n        }],\n [\"h1_sysbp_noninvasive_min\",\n\"h1_sysbp_noninvasive_min\",\n{\n            'v': 0.0,\n            'f': \"0.0\",\n        },\n{\n            'v': 0.0,\n            'f': \"0.0\",\n        }],\n [\"diabetes_mellitus\",\n\"diabetes_mellitus\",\n{\n            'v': 0.0,\n            'f': \"0.0\",\n        },\n{\n            'v': 0.0,\n            'f': \"0.0\",\n        }],\n [\"height\",\n\"height\",\n{\n            'v': 0.0,\n            'f': \"0.0\",\n        },\n{\n            'v': 0.0,\n            'f': \"0.0\",\n        }],\n [\"d1_sodium_min\",\n\"d1_sodium_min\",\n{\n            'v': 0.0,\n            'f': \"0.0\",\n        },\n{\n            'v': 0.0,\n            'f': \"0.0\",\n        }],\n [\"icu_id\",\n\"icu_id\",\n{\n            'v': 0.0,\n            'f': \"0.0\",\n        },\n{\n            'v': 0.0,\n            'f': \"0.0\",\n        }],\n [\"d1_bilirubin_min\",\n\"d1_bilirubin_min\",\n{\n            'v': 0.0,\n            'f': \"0.0\",\n        },\n{\n            'v': 0.0,\n            'f': \"0.0\",\n        }],\n [\"d1_wbc_min\",\n\"d1_wbc_min\",\n{\n            'v': 0.0,\n            'f': \"0.0\",\n        },\n{\n            'v': 0.0,\n            'f': \"0.0\",\n        }],\n [\"h1_resprate_max\",\n\"h1_resprate_max\",\n{\n            'v': 0.0,\n            'f': \"0.0\",\n        },\n{\n            'v': 0.0,\n            'f': \"0.0\",\n        }],\n [\"h1_heartrate_max\",\n\"h1_heartrate_max\",\n{\n            'v': 0.0,\n            'f': \"0.0\",\n        },\n{\n            'v': 0.0,\n            'f': \"0.0\",\n        }],\n [\"d1_potassium_max\",\n\"d1_potassium_max\",\n{\n            'v': 0.0,\n            'f': \"0.0\",\n        },\n{\n            'v': 0.0,\n            'f': \"0.0\",\n        }],\n [\"heart_rate_apache\",\n\"heart_rate_apache\",\n{\n            'v': 0.0,\n            'f': \"0.0\",\n        },\n{\n            'v': 0.0,\n            'f': \"0.0\",\n        }],\n [\"d1_creatinine_max\",\n\"d1_creatinine_max\",\n{\n            'v': 0.0,\n            'f': \"0.0\",\n        },\n{\n            'v': 0.0,\n            'f': \"0.0\",\n        }],\n [\"d1_bilirubin_max\",\n\"d1_bilirubin_max\",\n{\n            'v': 0.0,\n            'f': \"0.0\",\n        },\n{\n            'v': 0.0,\n            'f': \"0.0\",\n        }],\n [\"creatinine_apache\",\n\"creatinine_apache\",\n{\n            'v': 0.0,\n            'f': \"0.0\",\n        },\n{\n            'v': 0.0,\n            'f': \"0.0\",\n        }],\n [\"d1_resprate_max\",\n\"d1_resprate_max\",\n{\n            'v': 0.0,\n            'f': \"0.0\",\n        },\n{\n            'v': 0.0,\n            'f': \"0.0\",\n        }],\n [\"d1_creatinine_min\",\n\"d1_creatinine_min\",\n{\n            'v': 0.0,\n            'f': \"0.0\",\n        },\n{\n            'v': 0.0,\n            'f': \"0.0\",\n        }],\n [\"h1_creatinine_max\",\n\"h1_creatinine_max\",\n{\n            'v': 0.0,\n            'f': \"0.0\",\n        },\n{\n            'v': 0.0,\n            'f': \"0.0\",\n        }],\n [\"h1_creatinine_min\",\n\"h1_creatinine_min\",\n{\n            'v': 0.0,\n            'f': \"0.0\",\n        },\n{\n            'v': 0.0,\n            'f': \"0.0\",\n        }],\n [\"d1_glucose_max\",\n\"d1_glucose_max\",\n{\n            'v': 0.0,\n            'f': \"0.0\",\n        },\n{\n            'v': 0.0,\n            'f': \"0.0\",\n        }],\n [\"age\",\n\"age\",\n{\n            'v': 0.0,\n            'f': \"0.0\",\n        },\n{\n            'v': 0.0,\n            'f': \"0.0\",\n        }],\n [\"h1_heartrate_min\",\n\"h1_heartrate_min\",\n{\n            'v': 0.0,\n            'f': \"0.0\",\n        },\n{\n            'v': 0.0,\n            'f': \"0.0\",\n        }],\n [\"h1_resprate_min\",\n\"h1_resprate_min\",\n{\n            'v': 0.0,\n            'f': \"0.0\",\n        },\n{\n            'v': 0.0,\n            'f': \"0.0\",\n        }],\n [\"bilirubin_apache\",\n\"bilirubin_apache\",\n{\n            'v': 0.0,\n            'f': \"0.0\",\n        },\n{\n            'v': 0.0,\n            'f': \"0.0\",\n        }],\n [\"wbc_apache\",\n\"wbc_apache\",\n{\n            'v': 0.0,\n            'f': \"0.0\",\n        },\n{\n            'v': 0.0,\n            'f': \"0.0\",\n        }],\n [\"h1_bun_min\",\n\"h1_bun_min\",\n{\n            'v': 0.0,\n            'f': \"0.0\",\n        },\n{\n            'v': 0.0,\n            'f': \"0.0\",\n        }],\n [\"apache_4a_hospital_death_prob\",\n\"apache_4a_hospital_death_prob\",\n{\n            'v': 0.0,\n            'f': \"0.0\",\n        },\n{\n            'v': 0.0,\n            'f': \"0.0\",\n        }],\n [\"apache_4a_icu_death_prob\",\n\"apache_4a_icu_death_prob\",\n{\n            'v': 0.0,\n            'f': \"0.0\",\n        },\n{\n            'v': 0.0,\n            'f': \"0.0\",\n        }],\n [\"d1_lactate_min\",\n\"d1_lactate_min\",\n{\n            'v': 0.0,\n            'f': \"0.0\",\n        },\n{\n            'v': 0.0,\n            'f': \"0.0\",\n        }],\n [\"d1_lactate_max\",\n\"d1_lactate_max\",\n{\n            'v': 0.0,\n            'f': \"0.0\",\n        },\n{\n            'v': 0.0,\n            'f': \"0.0\",\n        }],\n [\"ventilated_apache\",\n\"ventilated_apache\",\n{\n            'v': 0.0,\n            'f': \"0.0\",\n        },\n{\n            'v': 0.0,\n            'f': \"0.0\",\n        }],\n [\"fio2_apache\",\n\"fio2_apache\",\n{\n            'v': 0.0,\n            'f': \"0.0\",\n        },\n{\n            'v': 0.0,\n            'f': \"0.0\",\n        }],\n [\"h1_inr_max\",\n\"h1_inr_max\",\n{\n            'v': 0.0,\n            'f': \"0.0\",\n        },\n{\n            'v': 0.0,\n            'f': \"0.0\",\n        }],\n [\"d1_inr_max\",\n\"d1_inr_max\",\n{\n            'v': 0.0,\n            'f': \"0.0\",\n        },\n{\n            'v': 0.0,\n            'f': \"0.0\",\n        }],\n [\"intubated_apache\",\n\"intubated_apache\",\n{\n            'v': 0.0,\n            'f': \"0.0\",\n        },\n{\n            'v': 0.0,\n            'f': \"0.0\",\n        }],\n [\"d1_bun_max\",\n\"d1_bun_max\",\n{\n            'v': 0.0,\n            'f': \"0.0\",\n        },\n{\n            'v': 0.0,\n            'f': \"0.0\",\n        }],\n [\"h1_inr_min\",\n\"h1_inr_min\",\n{\n            'v': 0.0,\n            'f': \"0.0\",\n        },\n{\n            'v': 0.0,\n            'f': \"0.0\",\n        }],\n [\"d1_inr_min\",\n\"d1_inr_min\",\n{\n            'v': 0.0,\n            'f': \"0.0\",\n        },\n{\n            'v': 0.0,\n            'f': \"0.0\",\n        }],\n [\"bun_apache\",\n\"bun_apache\",\n{\n            'v': 0.0,\n            'f': \"0.0\",\n        },\n{\n            'v': 0.0,\n            'f': \"0.0\",\n        }],\n [\"d1_bun_min\",\n\"d1_bun_min\",\n{\n            'v': 0.0,\n            'f': \"0.0\",\n        },\n{\n            'v': 0.0,\n            'f': \"0.0\",\n        }],\n [\"d1_heartrate_max\",\n\"d1_heartrate_max\",\n{\n            'v': 0.0,\n            'f': \"0.0\",\n        },\n{\n            'v': 0.0,\n            'f': \"0.0\",\n        }],\n [\"d1_wbc_max\",\n\"d1_wbc_max\",\n{\n            'v': 0.0,\n            'f': \"0.0\",\n        },\n{\n            'v': 0.0,\n            'f': \"0.0\",\n        }],\n [\"h1_bun_max\",\n\"h1_bun_max\",\n{\n            'v': 0.0,\n            'f': \"0.0\",\n        },\n{\n            'v': 0.0,\n            'f': \"0.0\",\n        }],\n [\"h1_wbc_max\",\n\"h1_wbc_max\",\n{\n            'v': 0.0,\n            'f': \"0.0\",\n        },\n{\n            'v': 0.0,\n            'f': \"0.0\",\n        }],\n [\"gcs_motor_apache\",\n\"gcs_motor_apache\",\n{\n            'v': 0.0,\n            'f': \"0.0\",\n        },\n{\n            'v': 0.0,\n            'f': \"0.0\",\n        }],\n [\"h1_wbc_min\",\n\"h1_wbc_min\",\n{\n            'v': 0.0,\n            'f': \"0.0\",\n        },\n{\n            'v': 0.0,\n            'f': \"0.0\",\n        }],\n [\"h1_potassium_max\",\n\"h1_potassium_max\",\n{\n            'v': 0.0,\n            'f': \"0.0\",\n        },\n{\n            'v': 0.0,\n            'f': \"0.0\",\n        }],\n [\"sodium_apache\",\n\"sodium_apache\",\n{\n            'v': 0.0,\n            'f': \"0.0\",\n        },\n{\n            'v': 0.0,\n            'f': \"0.0\",\n        }],\n [\"h1_sodium_min\",\n\"h1_sodium_min\",\n{\n            'v': 0.0,\n            'f': \"0.0\",\n        },\n{\n            'v': 0.0,\n            'f': \"0.0\",\n        }],\n [\"icu_type\",\n\"icu_type\",\n{\n            'v': 0.0,\n            'f': \"0.0\",\n        },\n{\n            'v': 0.0,\n            'f': \"0.0\",\n        }],\n [\"pao2_apache\",\n\"pao2_apache\",\n{\n            'v': 0.0,\n            'f': \"0.0\",\n        },\n{\n            'v': 0.0,\n            'f': \"0.0\",\n        }],\n [\"patient_id\",\n\"patient_id\",\n{\n            'v': 0.0,\n            'f': \"0.0\",\n        },\n{\n            'v': 0.0,\n            'f': \"0.0\",\n        }],\n [\"d1_temp_max\",\n\"d1_temp_max\",\n{\n            'v': 0.0,\n            'f': \"0.0\",\n        },\n{\n            'v': 0.0,\n            'f': \"0.0\",\n        }],\n [\"ethnicity\",\n\"ethnicity\",\n{\n            'v': 0.0,\n            'f': \"0.0\",\n        },\n{\n            'v': 0.0,\n            'f': \"0.0\",\n        }],\n [\"d1_potassium_min\",\n\"d1_potassium_min\",\n{\n            'v': 0.0,\n            'f': \"0.0\",\n        },\n{\n            'v': 0.0,\n            'f': \"0.0\",\n        }],\n [\"d1_diasbp_noninvasive_max\",\n\"d1_diasbp_noninvasive_max\",\n{\n            'v': 0.0,\n            'f': \"0.0\",\n        },\n{\n            'v': 0.0,\n            'f': \"0.0\",\n        }],\n [\"d1_diasbp_max\",\n\"d1_diasbp_max\",\n{\n            'v': 0.0,\n            'f': \"0.0\",\n        },\n{\n            'v': 0.0,\n            'f': \"0.0\",\n        }],\n [\"icu_stay_type\",\n\"icu_stay_type\",\n{\n            'v': 0.0,\n            'f': \"0.0\",\n        },\n{\n            'v': 0.0,\n            'f': \"0.0\",\n        }],\n [\"hospital_id\",\n\"hospital_id\",\n{\n            'v': 0.0,\n            'f': \"0.0\",\n        },\n{\n            'v': 0.0,\n            'f': \"0.0\",\n        }],\n [\"encounter_id\",\n\"encounter_id\",\n{\n            'v': 0.0,\n            'f': \"0.0\",\n        },\n{\n            'v': 0.0,\n            'f': \"0.0\",\n        }],\n [\"gender\",\n\"gender\",\n{\n            'v': 0.0,\n            'f': \"0.0\",\n        },\n{\n            'v': 0.0,\n            'f': \"0.0\",\n        }],\n [\"d1_spo2_max\",\n\"d1_spo2_max\",\n{\n            'v': 0.0,\n            'f': \"0.0\",\n        },\n{\n            'v': 0.0,\n            'f': \"0.0\",\n        }],\n [\"d1_heartrate_min\",\n\"d1_heartrate_min\",\n{\n            'v': 0.0,\n            'f': \"0.0\",\n        },\n{\n            'v': 0.0,\n            'f': \"0.0\",\n        }],\n [\"aids\",\n\"aids\",\n{\n            'v': 0.0,\n            'f': \"0.0\",\n        },\n{\n            'v': 0.0,\n            'f': \"0.0\",\n        }],\n [\"h1_sodium_max\",\n\"h1_sodium_max\",\n{\n            'v': 0.0,\n            'f': \"0.0\",\n        },\n{\n            'v': 0.0,\n            'f': \"0.0\",\n        }],\n [\"d1_resprate_min\",\n\"d1_resprate_min\",\n{\n            'v': 0.0,\n            'f': \"0.0\",\n        },\n{\n            'v': 0.0,\n            'f': \"0.0\",\n        }],\n [\"lymphoma\",\n\"lymphoma\",\n{\n            'v': 0.0,\n            'f': \"0.0\",\n        },\n{\n            'v': 0.0,\n            'f': \"0.0\",\n        }],\n [\"resprate_apache\",\n\"resprate_apache\",\n{\n            'v': 0.0,\n            'f': \"0.0\",\n        },\n{\n            'v': 0.0,\n            'f': \"0.0\",\n        }],\n [\"glucose_apache\",\n\"glucose_apache\",\n{\n            'v': 0.0,\n            'f': \"0.0\",\n        },\n{\n            'v': 0.0,\n            'f': \"0.0\",\n        }],\n [\"pre_icu_los_days\",\n\"pre_icu_los_days\",\n{\n            'v': 0.0,\n            'f': \"0.0\",\n        },\n{\n            'v': 0.0,\n            'f': \"0.0\",\n        }],\n [\"d1_sodium_max\",\n\"d1_sodium_max\",\n{\n            'v': 0.0,\n            'f': \"0.0\",\n        },\n{\n            'v': 0.0,\n            'f': \"0.0\",\n        }],\n [\"h1_glucose_max\",\n\"h1_glucose_max\",\n{\n            'v': 0.0,\n            'f': \"0.0\",\n        },\n{\n            'v': 0.0,\n            'f': \"0.0\",\n        }],\n [\"solid_tumor_with_metastasis\",\n\"solid_tumor_with_metastasis\",\n{\n            'v': 0.0,\n            'f': \"0.0\",\n        },\n{\n            'v': 0.0,\n            'f': \"0.0\",\n        }],\n [\"gcs_unable_apache\",\n\"gcs_unable_apache\",\n{\n            'v': 0.0,\n            'f': \"0.0\",\n        },\n{\n            'v': 0.0,\n            'f': \"0.0\",\n        }],\n [\"apache_3j_bodysystem\",\n\"apache_3j_bodysystem\",\n{\n            'v': 0.0,\n            'f': \"0.0\",\n        },\n{\n            'v': 0.0,\n            'f': \"0.0\",\n        }],\n [\"d1_arterial_po2_max\",\n\"d1_arterial_po2_max\",\n{\n            'v': 0.0,\n            'f': \"0.0\",\n        },\n{\n            'v': 0.0,\n            'f': \"0.0\",\n        }],\n [\"h1_glucose_min\",\n\"h1_glucose_min\",\n{\n            'v': 0.0,\n            'f': \"0.0\",\n        },\n{\n            'v': 0.0,\n            'f': \"0.0\",\n        }],\n [\"immunosuppression\",\n\"immunosuppression\",\n{\n            'v': 0.0,\n            'f': \"0.0\",\n        },\n{\n            'v': 0.0,\n            'f': \"0.0\",\n        }],\n [\"cirrhosis\",\n\"cirrhosis\",\n{\n            'v': 0.0,\n            'f': \"0.0\",\n        },\n{\n            'v': 0.0,\n            'f': \"0.0\",\n        }],\n [\"hepatic_failure\",\n\"hepatic_failure\",\n{\n            'v': 0.0,\n            'f': \"0.0\",\n        },\n{\n            'v': 0.0,\n            'f': \"0.0\",\n        }],\n [\"leukemia\",\n\"leukemia\",\n{\n            'v': 0.0,\n            'f': \"0.0\",\n        },\n{\n            'v': 0.0,\n            'f': \"0.0\",\n        }],\n [\"arf_apache\",\n\"arf_apache\",\n{\n            'v': 0.0,\n            'f': \"0.0\",\n        },\n{\n            'v': 0.0,\n            'f': \"0.0\",\n        }],\n [\"d1_glucose_min\",\n\"d1_glucose_min\",\n{\n            'v': 0.0,\n            'f': \"0.0\",\n        },\n{\n            'v': 0.0,\n            'f': \"0.0\",\n        }],\n [\"d1_arterial_pco2_max\",\n\"d1_arterial_pco2_max\",\n{\n            'v': 0.0,\n            'f': \"0.0\",\n        },\n{\n            'v': 0.0,\n            'f': \"0.0\",\n        }],\n [\"h1_potassium_min\",\n\"h1_potassium_min\",\n{\n            'v': 0.0,\n            'f': \"0.0\",\n        },\n{\n            'v': 0.0,\n            'f': \"0.0\",\n        }],\n [\"gcs_intubated\",\n\"gcs_intubated\",\n{\n            'v': 0.0,\n            'f': \"0.0\",\n        },\n{\n            'v': 0.0,\n            'f': \"0.0\",\n        }]],\n        columns: [[\"string\", \"index\"], [\"string\", \"column_name\"], [\"number\", \"percent_missing_died\"], [\"number\", \"percent_missing_alive\"]],\n        columnOptions: [{\"width\": \"1px\", \"className\": \"index_column\"}],\n        rowsPerPage: 25,\n        helpUrl: \"https://colab.research.google.com/notebooks/data_table.ipynb\",\n        suppressOutputScrolling: true,\n      });\n    ",
      "text/html": [
       "<div>\n",
       "<style scoped>\n",
       "    .dataframe tbody tr th:only-of-type {\n",
       "        vertical-align: middle;\n",
       "    }\n",
       "\n",
       "    .dataframe tbody tr th {\n",
       "        vertical-align: top;\n",
       "    }\n",
       "\n",
       "    .dataframe thead th {\n",
       "        text-align: right;\n",
       "    }\n",
       "</style>\n",
       "<table border=\"1\" class=\"dataframe\">\n",
       "  <thead>\n",
       "    <tr style=\"text-align: right;\">\n",
       "      <th></th>\n",
       "      <th>column_name</th>\n",
       "      <th>percent_missing_died</th>\n",
       "      <th>percent_missing_alive</th>\n",
       "    </tr>\n",
       "  </thead>\n",
       "  <tbody>\n",
       "    <tr>\n",
       "      <th>hospital_death</th>\n",
       "      <td>hospital_death</td>\n",
       "      <td>0.0</td>\n",
       "      <td>0.0</td>\n",
       "    </tr>\n",
       "    <tr>\n",
       "      <th>apache_2_bodysystem</th>\n",
       "      <td>apache_2_bodysystem</td>\n",
       "      <td>0.0</td>\n",
       "      <td>0.0</td>\n",
       "    </tr>\n",
       "    <tr>\n",
       "      <th>paco2_for_ph_apache</th>\n",
       "      <td>paco2_for_ph_apache</td>\n",
       "      <td>0.0</td>\n",
       "      <td>0.0</td>\n",
       "    </tr>\n",
       "    <tr>\n",
       "      <th>paco2_apache</th>\n",
       "      <td>paco2_apache</td>\n",
       "      <td>0.0</td>\n",
       "      <td>0.0</td>\n",
       "    </tr>\n",
       "    <tr>\n",
       "      <th>d1_hemaglobin_max</th>\n",
       "      <td>d1_hemaglobin_max</td>\n",
       "      <td>0.0</td>\n",
       "      <td>0.0</td>\n",
       "    </tr>\n",
       "    <tr>\n",
       "      <th>...</th>\n",
       "      <td>...</td>\n",
       "      <td>...</td>\n",
       "      <td>...</td>\n",
       "    </tr>\n",
       "    <tr>\n",
       "      <th>arf_apache</th>\n",
       "      <td>arf_apache</td>\n",
       "      <td>0.0</td>\n",
       "      <td>0.0</td>\n",
       "    </tr>\n",
       "    <tr>\n",
       "      <th>d1_glucose_min</th>\n",
       "      <td>d1_glucose_min</td>\n",
       "      <td>0.0</td>\n",
       "      <td>0.0</td>\n",
       "    </tr>\n",
       "    <tr>\n",
       "      <th>d1_arterial_pco2_max</th>\n",
       "      <td>d1_arterial_pco2_max</td>\n",
       "      <td>0.0</td>\n",
       "      <td>0.0</td>\n",
       "    </tr>\n",
       "    <tr>\n",
       "      <th>h1_potassium_min</th>\n",
       "      <td>h1_potassium_min</td>\n",
       "      <td>0.0</td>\n",
       "      <td>0.0</td>\n",
       "    </tr>\n",
       "    <tr>\n",
       "      <th>gcs_intubated</th>\n",
       "      <td>gcs_intubated</td>\n",
       "      <td>0.0</td>\n",
       "      <td>0.0</td>\n",
       "    </tr>\n",
       "  </tbody>\n",
       "</table>\n",
       "<p>162 rows × 3 columns</p>\n",
       "</div>"
      ],
      "text/plain": [
       "                               column_name  percent_missing_died  \\\n",
       "hospital_death              hospital_death                   0.0   \n",
       "apache_2_bodysystem    apache_2_bodysystem                   0.0   \n",
       "paco2_for_ph_apache    paco2_for_ph_apache                   0.0   \n",
       "paco2_apache                  paco2_apache                   0.0   \n",
       "d1_hemaglobin_max        d1_hemaglobin_max                   0.0   \n",
       "...                                    ...                   ...   \n",
       "arf_apache                      arf_apache                   0.0   \n",
       "d1_glucose_min              d1_glucose_min                   0.0   \n",
       "d1_arterial_pco2_max  d1_arterial_pco2_max                   0.0   \n",
       "h1_potassium_min          h1_potassium_min                   0.0   \n",
       "gcs_intubated                gcs_intubated                   0.0   \n",
       "\n",
       "                      percent_missing_alive  \n",
       "hospital_death                          0.0  \n",
       "apache_2_bodysystem                     0.0  \n",
       "paco2_for_ph_apache                     0.0  \n",
       "paco2_apache                            0.0  \n",
       "d1_hemaglobin_max                       0.0  \n",
       "...                                     ...  \n",
       "arf_apache                              0.0  \n",
       "d1_glucose_min                          0.0  \n",
       "d1_arterial_pco2_max                    0.0  \n",
       "h1_potassium_min                        0.0  \n",
       "gcs_intubated                           0.0  \n",
       "\n",
       "[162 rows x 3 columns]"
      ]
     },
     "execution_count": 472,
     "metadata": {
      "tags": []
     },
     "output_type": "execute_result"
    }
   ],
   "source": [
    "ms = missing_values(df_training_test)\n",
    "ms"
   ]
  },
  {
   "cell_type": "markdown",
   "metadata": {
    "id": "9KcuIJqnYlKm"
   },
   "source": [
    "## **Quarto Modelo**"
   ]
  },
  {
   "cell_type": "markdown",
   "metadata": {
    "id": "zqbcfPePeFzU"
   },
   "source": [
    "Link: http://www.limic.xpg.com.br/aulas%20downloa/Exames%20laboratoriais%20de%20rotina%20em%20UTI.pdf\n",
    "\n",
    "Neste link está informado algumas informações importantes:\n",
    "\n",
    "- Problemas com função Renal os esxames mais importantes: Uréia e creatinina e este exame muda conforme idade (jovens/idosos - c/ 50%) a creatinida também sobre influencia em relação a alimentação. já a uréia tem alta correlação com o problema que o internou na UTI. Valor normal: 0,6 a 1,3 (Existe um calculo que envolve peso e idade e genero)\n",
    "\n",
    "  - Potássio é importante para o funcionamento das células nervosas. Valor normal: 3,5 a 5,5\n",
    "\n",
    "  - Hipocalemia: menor que 3,5mEq/L resulta em 20% dos pacientes internado (cenário Brasil) - Vômitos recorrentes, diarréia, alcalose metabólica.\n",
    "\n",
    "  - Hipercalermia: maior que 5,5mEq/L - Distúrbio menos comum que a hipocalemia, mas de grande gravidade.hipocalemia, mas de grande **gravidade**. (IRA e IRC) - Alterações do ECG e (K+> 6,0mEq/l > 6,0mEq/l -- Instal aguda)\n",
    "\n",
    "  - Sódio (principal medida para identificar a osmolaridade plasm.) - Valor Normal: 135--145mEq/L145mEq/L\n",
    "\n",
    "- Hemograma: consiste em avaliações de células do sangue e que é dividido em três grupos:\n",
    "\n",
    "  - Eritrocítos (vermelha)\n",
    "  - Leucocítos  (branca)\n",
    "  - Plaquetas   (plaquetária)\n",
    "\n",
    "  No nosso dataset: (d1_hemaglobin_max) e seus valores de ref. mudam conforme o sexo\n",
    "\n",
    "- Hemoglobina: Função principal, análise de anemia os limites inferiores são:\n",
    "  - Homens adultos                  13 (g/dL)\n",
    "  - Mulher adultas e crianças       12 (g/dL)\n",
    "  - Gestantes                       11 (g/dL)\n",
    "\n",
    "- Plaquetograma: Valor Normal:140.000 –– 500.000 - Plaquetose: Inflamação, anemia, pós-operatorio.\n",
    "\n",
    "- Glicemia: (d1_glucose_max e glucose_apache) - Na UTI deve ser normalizado, no link acima cita que deve ser avitado a todo custo altos níveis de glicemia como baixos níveis. (8 horas de jejum)\n",
    "  - Valor normal: < 99 mg/dL\n",
    "  - Pré-diabete: > 99 a 125 mg/dL\n",
    "  - Diabetes: > 126 mg/dL (dois dias diferentes) - \n",
    "\n",
    "\n"
   ]
  },
  {
   "cell_type": "code",
   "execution_count": null,
   "metadata": {
    "colab": {
     "base_uri": "https://localhost:8080/"
    },
    "executionInfo": {
     "elapsed": 878,
     "status": "ok",
     "timestamp": 1582559589163,
     "user": {
      "displayName": "Ararajuba Data Science Project",
      "photoUrl": "",
      "userId": "02004027308564222829"
     },
     "user_tz": 180
    },
    "id": "J7NL5v94YrtF",
    "outputId": "1830cd05-2a96-4efa-cc6f-af6b83a80a88"
   },
   "outputs": [
    {
     "name": "stdout",
     "output_type": "stream",
     "text": [
      "Shape: (84986, 163)\n",
      "Shape: (39308, 163)\n"
     ]
    }
   ],
   "source": [
    "#apache_3j_bodysystem\n",
    "#Terceiro modelo\n",
    "df_training_test = df_training_filted \n",
    "df_unlabeled_test = df_unlabeled_filted \n",
    "\n",
    "print('Shape:',df_training_test.shape)\n",
    "print('Shape:',df_unlabeled_test.shape)"
   ]
  },
  {
   "cell_type": "code",
   "execution_count": null,
   "metadata": {
    "colab": {
     "base_uri": "https://localhost:8080/"
    },
    "executionInfo": {
     "elapsed": 1562,
     "status": "ok",
     "timestamp": 1582559589861,
     "user": {
      "displayName": "Ararajuba Data Science Project",
      "photoUrl": "",
      "userId": "02004027308564222829"
     },
     "user_tz": 180
    },
    "id": "C4-WD8H4xS8F",
    "outputId": "8532474d-d692-4ee8-96a2-16580b5c580d"
   },
   "outputs": [
    {
     "name": "stdout",
     "output_type": "stream",
     "text": [
      "Morreu com alteracao na glicose  5358\n",
      "Morreu sem alteracao na glicose  1319\n"
     ]
    }
   ],
   "source": [
    "print('Morreu com alteracao na glicose ',df_training_test[(df_training_test['d1_glucose_max'] > 125) & (df_training_test['hospital_death'] == 1)].hospital_death.count())\n",
    "print('Morreu sem alteracao na glicose ',df_training_test[(df_training_test['d1_glucose_max'] < 125) & (df_training_test['hospital_death'] == 1)].hospital_death.count())"
   ]
  },
  {
   "cell_type": "code",
   "execution_count": null,
   "metadata": {
    "colab": {
     "base_uri": "https://localhost:8080/"
    },
    "executionInfo": {
     "elapsed": 1557,
     "status": "ok",
     "timestamp": 1582559589863,
     "user": {
      "displayName": "Ararajuba Data Science Project",
      "photoUrl": "",
      "userId": "02004027308564222829"
     },
     "user_tz": 180
    },
    "id": "8zCjlhSOzBbT",
    "outputId": "caff17e0-78a4-4e5f-a8aa-600793888668"
   },
   "outputs": [
    {
     "name": "stdout",
     "output_type": "stream",
     "text": [
      "Morreu com alteracao creatinina  4119\n",
      "Morreu sem alteracao creatinina  6399\n"
     ]
    }
   ],
   "source": [
    "#d1_creatinine_max\n",
    "print('Morreu com alteracao creatinina ',df_training_test[((df_training_test['d1_creatinine_max'] < 0.6) | (df_training_test['d1_creatinine_max'] > 1.3)) & (df_training_test['hospital_death'] == 1)].hospital_death.count())\n",
    "print('Morreu sem alteracao creatinina ',df_training_test[((df_training_test['d1_creatinine_max'] > 0.6) | (df_training_test['d1_creatinine_max'] < 1.3)) & (df_training_test['hospital_death'] == 1)].hospital_death.count())"
   ]
  },
  {
   "cell_type": "code",
   "execution_count": null,
   "metadata": {
    "id": "0JVjMng9ZbVD"
   },
   "outputs": [],
   "source": [
    "def normalizar_dataset(df,drop_columns):\n",
    "\n",
    "  df = df.drop(drop_columns,axis = 1)\n",
    "\n",
    "  #Exames fisiologicos - Primeira hora\n",
    "  df = fillnan_mean_apache_3j_bodysystem(df,\"h1_lactate_max\")\n",
    "  df = fillnan_mean_apache_3j_bodysystem(df,\"h1_lactate_min\")\n",
    "  df = fillnan_mean_apache_3j_bodysystem(df,\"h1_bilirubin_max\")\n",
    "  df = fillnan_mean_apache_3j_bodysystem(df,\"h1_bilirubin_min\")\n",
    "  df = fillnan_mean_apache_3j_bodysystem(df,\"h1_pao2fio2ratio_max\")\n",
    "  df = fillnan_mean_apache_3j_bodysystem(df,\"h1_pao2fio2ratio_min\")\n",
    "  df = fillnan_mean_apache_3j_bodysystem(df,\"h1_creatinine_max\")\n",
    "  df = fillnan_mean_apache_3j_bodysystem(df,\"h1_creatinine_min\")\n",
    "  df = fillnan_mean_apache_3j_bodysystem(df,\"h1_bun_max\")\n",
    "  df = fillnan_mean_apache_3j_bodysystem(df,\"h1_bun_min\")\n",
    "  df = fillnan_mean_apache_3j_bodysystem(df,\"h1_diasbp_invasive_max\")\n",
    "  df = fillnan_mean_apache_3j_bodysystem(df,\"h1_diasbp_invasive_min\")\n",
    "  \n",
    "  #Exames fisiologicos - Primeira 24 horas\n",
    "  df = fillnan_mean_apache_3j_bodysystem(df,\"d1_lactate_max\")\n",
    "  df = fillnan_mean_apache_3j_bodysystem(df,\"d1_lactate_min\")\n",
    "  df = fillnan_mean_apache_3j_bodysystem(df,\"d1_bilirubin_max\")\n",
    "  df = fillnan_mean_apache_3j_bodysystem(df,\"d1_bilirubin_min\")\n",
    "  df = fillnan_mean_apache_3j_bodysystem(df,\"d1_pao2fio2ratio_max\")\n",
    "  df = fillnan_mean_apache_3j_bodysystem(df,\"d1_pao2fio2ratio_min\")\n",
    "  df = fillnan_mean_apache_3j_bodysystem(df,\"d1_creatinine_max\")\n",
    "  df = fillnan_mean_apache_3j_bodysystem(df,\"d1_creatinine_min\")\n",
    "  df = fillnan_mean_apache_3j_bodysystem(df,\"d1_bun_max\")\n",
    "  df = fillnan_mean_apache_3j_bodysystem(df,\"d1_bun_min\")\n",
    "  df = fillnan_mean_apache_3j_bodysystem(df,\"d1_diasbp_invasive_max\")\n",
    "  df = fillnan_mean_apache_3j_bodysystem(df,\"d1_diasbp_invasive_min\")\n",
    "\n",
    "  #Features individuais scores\n",
    "  df = fillnan_mean_apache_3j_bodysystem(df,\"urineoutput_apache\")\n",
    "  df = fillnan_mean_apache_3j_bodysystem(df,\"bilirubin_apache\")\n",
    "  df = fillnan_mean_apache_3j_bodysystem(df,\"ventilated_apache\")\n",
    "  df = fillnan_mean_apache_3j_bodysystem(df,\"intubated_apache\")\n",
    "  df = fillnan_mean_apache_3j_bodysystem(df,\"pre_icu_los_days\")\n",
    "\n",
    "  # Score de Glasgow\n",
    "  df = fillnan_mean_apache_3j_bodysystem(df,\"gcs_motor_apache\")\n",
    "  df = fillnan_mean_apache_3j_bodysystem(df,\"gcs_eyes_apache\")\n",
    "  df = fillnan_mean_apache_3j_bodysystem(df,\"gcs_verbal_apache\")\n",
    "    \n",
    "  df['gcs_sum'] = (df['gcs_motor_apache'] + df['gcs_eyes_apache'] + df['gcs_verbal_apache'])\n",
    "  df['gcs_intubated'] = np.where(df['gcs_sum']<=8, 1, 0)\n",
    "\n",
    "  df['higth_d1_glucose_max'] = np.where(df['d1_glucose_max']>125, 1, 0)\n",
    "\n",
    "  df = df.drop('gcs_sum',axis = 1)\n",
    "\n",
    "  return df"
   ]
  },
  {
   "cell_type": "code",
   "execution_count": null,
   "metadata": {
    "colab": {
     "base_uri": "https://localhost:8080/"
    },
    "executionInfo": {
     "elapsed": 8535,
     "status": "ok",
     "timestamp": 1582559596861,
     "user": {
      "displayName": "Ararajuba Data Science Project",
      "photoUrl": "",
      "userId": "02004027308564222829"
     },
     "user_tz": 180
    },
    "id": "j9PnyOWjaDuv",
    "outputId": "2a3d1c3c-0c01-4dfd-fef7-d5b68c09676d"
   },
   "outputs": [
    {
     "name": "stdout",
     "output_type": "stream",
     "text": [
      "(84986, 144)\n",
      "(39308, 144)\n"
     ]
    }
   ],
   "source": [
    "ms = missing_values(df_training_test)\n",
    "index_to_drop = ms[ms[\"percent_missing_alive\"] > 75].index\n",
    "\n",
    "df_training_test = normalizar_dataset(df_training_test,index_to_drop)\n",
    "df_unlabeled_test = normalizar_dataset(df_unlabeled_test,index_to_drop)\n",
    "print(df_training_test.shape)\n",
    "print(df_unlabeled_test.shape)"
   ]
  },
  {
   "cell_type": "code",
   "execution_count": null,
   "metadata": {
    "colab": {
     "base_uri": "https://localhost:8080/"
    },
    "executionInfo": {
     "elapsed": 8532,
     "status": "ok",
     "timestamp": 1582559596867,
     "user": {
      "displayName": "Ararajuba Data Science Project",
      "photoUrl": "",
      "userId": "02004027308564222829"
     },
     "user_tz": 180
    },
    "id": "izd7fY1_aOA0",
    "outputId": "14a291e5-f40a-46bc-d7b5-86917087825f"
   },
   "outputs": [
    {
     "data": {
      "application/vnd.google.colaboratory.module+javascript": "\n      import \"https://ssl.gstatic.com/colaboratory/data_table/84ef27dae82052e3/data_table.js\";\n\n      window.createDataTable({\n        data: [[\"hospital_death\",\n\"hospital_death\",\n{\n            'v': 0.0,\n            'f': \"0.0\",\n        },\n{\n            'v': 0.0,\n            'f': \"0.0\",\n        }],\n [\"gcs_motor_apache\",\n\"gcs_motor_apache\",\n{\n            'v': 0.0,\n            'f': \"0.0\",\n        },\n{\n            'v': 0.0,\n            'f': \"0.0\",\n        }],\n [\"patient_id\",\n\"patient_id\",\n{\n            'v': 0.0,\n            'f': \"0.0\",\n        },\n{\n            'v': 0.0,\n            'f': \"0.0\",\n        }],\n [\"d1_diasbp_max\",\n\"d1_diasbp_max\",\n{\n            'v': 0.0,\n            'f': \"0.0\",\n        },\n{\n            'v': 0.0,\n            'f': \"0.0\",\n        }],\n [\"ethnicity\",\n\"ethnicity\",\n{\n            'v': 0.0,\n            'f': \"0.0\",\n        },\n{\n            'v': 0.0,\n            'f': \"0.0\",\n        }],\n [\"aids\",\n\"aids\",\n{\n            'v': 0.0,\n            'f': \"0.0\",\n        },\n{\n            'v': 0.0,\n            'f': \"0.0\",\n        }],\n [\"icu_stay_type\",\n\"icu_stay_type\",\n{\n            'v': 0.0,\n            'f': \"0.0\",\n        },\n{\n            'v': 0.0,\n            'f': \"0.0\",\n        }],\n [\"gcs_intubated\",\n\"gcs_intubated\",\n{\n            'v': 0.0,\n            'f': \"0.0\",\n        },\n{\n            'v': 0.0,\n            'f': \"0.0\",\n        }],\n [\"icu_type\",\n\"icu_type\",\n{\n            'v': 0.0,\n            'f': \"0.0\",\n        },\n{\n            'v': 0.0,\n            'f': \"0.0\",\n        }],\n [\"arf_apache\",\n\"arf_apache\",\n{\n            'v': 0.0,\n            'f': \"0.0\",\n        },\n{\n            'v': 0.0,\n            'f': \"0.0\",\n        }],\n [\"leukemia\",\n\"leukemia\",\n{\n            'v': 0.0,\n            'f': \"0.0\",\n        },\n{\n            'v': 0.0,\n            'f': \"0.0\",\n        }],\n [\"hepatic_failure\",\n\"hepatic_failure\",\n{\n            'v': 0.0,\n            'f': \"0.0\",\n        },\n{\n            'v': 0.0,\n            'f': \"0.0\",\n        }],\n [\"cirrhosis\",\n\"cirrhosis\",\n{\n            'v': 0.0,\n            'f': \"0.0\",\n        },\n{\n            'v': 0.0,\n            'f': \"0.0\",\n        }],\n [\"immunosuppression\",\n\"immunosuppression\",\n{\n            'v': 0.0,\n            'f': \"0.0\",\n        },\n{\n            'v': 0.0,\n            'f': \"0.0\",\n        }],\n [\"apache_3j_bodysystem\",\n\"apache_3j_bodysystem\",\n{\n            'v': 0.0,\n            'f': \"0.0\",\n        },\n{\n            'v': 0.0,\n            'f': \"0.0\",\n        }],\n [\"lymphoma\",\n\"lymphoma\",\n{\n            'v': 0.0,\n            'f': \"0.0\",\n        },\n{\n            'v': 0.0,\n            'f': \"0.0\",\n        }],\n [\"gcs_verbal_apache\",\n\"gcs_verbal_apache\",\n{\n            'v': 0.0,\n            'f': \"0.0\",\n        },\n{\n            'v': 0.0,\n            'f': \"0.0\",\n        }],\n [\"d1_sysbp_min\",\n\"d1_sysbp_min\",\n{\n            'v': 0.0,\n            'f': \"0.0\",\n        },\n{\n            'v': 0.0,\n            'f': \"0.0\",\n        }],\n [\"d1_mbp_min\",\n\"d1_mbp_min\",\n{\n            'v': 0.0,\n            'f': \"0.0\",\n        },\n{\n            'v': 0.0,\n            'f': \"0.0\",\n        }],\n [\"icu_admit_source\",\n\"icu_admit_source\",\n{\n            'v': 0.0,\n            'f': \"0.0\",\n        },\n{\n            'v': 0.0,\n            'f': \"0.0\",\n        }],\n [\"gender\",\n\"gender\",\n{\n            'v': 0.0,\n            'f': \"0.0\",\n        },\n{\n            'v': 0.0,\n            'f': \"0.0\",\n        }],\n [\"encounter_id\",\n\"encounter_id\",\n{\n            'v': 0.0,\n            'f': \"0.0\",\n        },\n{\n            'v': 0.0,\n            'f': \"0.0\",\n        }],\n [\"d1_diasbp_invasive_max\",\n\"d1_diasbp_invasive_max\",\n{\n            'v': 0.0,\n            'f': \"0.0\",\n        },\n{\n            'v': 0.0,\n            'f': \"0.0\",\n        }],\n [\"h1_diasbp_invasive_min\",\n\"h1_diasbp_invasive_min\",\n{\n            'v': 0.0,\n            'f': \"0.0\",\n        },\n{\n            'v': 0.0,\n            'f': \"0.0\",\n        }],\n [\"apache_2_bodysystem\",\n\"apache_2_bodysystem\",\n{\n            'v': 0.0,\n            'f': \"0.0\",\n        },\n{\n            'v': 0.0,\n            'f': \"0.0\",\n        }],\n [\"apache_post_operative\",\n\"apache_post_operative\",\n{\n            'v': 0.0,\n            'f': \"0.0\",\n        },\n{\n            'v': 0.0,\n            'f': \"0.0\",\n        }],\n [\"d1_pao2fio2ratio_max\",\n\"d1_pao2fio2ratio_max\",\n{\n            'v': 0.0,\n            'f': \"0.0\",\n        },\n{\n            'v': 0.0,\n            'f': \"0.0\",\n        }],\n [\"apache_2_diagnosis\",\n\"apache_2_diagnosis\",\n{\n            'v': 0.0,\n            'f': \"0.0\",\n        },\n{\n            'v': 0.0,\n            'f': \"0.0\",\n        }],\n [\"elective_surgery\",\n\"elective_surgery\",\n{\n            'v': 0.0,\n            'f': \"0.0\",\n        },\n{\n            'v': 0.0,\n            'f': \"0.0\",\n        }],\n [\"apache_3j_diagnosis\",\n\"apache_3j_diagnosis\",\n{\n            'v': 0.0,\n            'f': \"0.0\",\n        },\n{\n            'v': 0.0,\n            'f': \"0.0\",\n        }],\n [\"urineoutput_apache\",\n\"urineoutput_apache\",\n{\n            'v': 0.0,\n            'f': \"0.0\",\n        },\n{\n            'v': 0.0,\n            'f': \"0.0\",\n        }],\n [\"d1_pao2fio2ratio_min\",\n\"d1_pao2fio2ratio_min\",\n{\n            'v': 0.0,\n            'f': \"0.0\",\n        },\n{\n            'v': 0.0,\n            'f': \"0.0\",\n        }],\n [\"d1_diasbp_invasive_min\",\n\"d1_diasbp_invasive_min\",\n{\n            'v': 0.0,\n            'f': \"0.0\",\n        },\n{\n            'v': 0.0,\n            'f': \"0.0\",\n        }],\n [\"d1_diasbp_min\",\n\"d1_diasbp_min\",\n{\n            'v': 0.0,\n            'f': \"0.0\",\n        },\n{\n            'v': 0.0,\n            'f': \"0.0\",\n        }],\n [\"solid_tumor_with_metastasis\",\n\"solid_tumor_with_metastasis\",\n{\n            'v': 0.0,\n            'f': \"0.0\",\n        },\n{\n            'v': 0.0,\n            'f': \"0.0\",\n        }],\n [\"pre_icu_los_days\",\n\"pre_icu_los_days\",\n{\n            'v': 0.0,\n            'f': \"0.0\",\n        },\n{\n            'v': 0.0,\n            'f': \"0.0\",\n        }],\n [\"gcs_eyes_apache\",\n\"gcs_eyes_apache\",\n{\n            'v': 0.0,\n            'f': \"0.0\",\n        },\n{\n            'v': 0.0,\n            'f': \"0.0\",\n        }],\n [\"higth_d1_glucose_max\",\n\"higth_d1_glucose_max\",\n{\n            'v': 0.0,\n            'f': \"0.0\",\n        },\n{\n            'v': 0.0,\n            'f': \"0.0\",\n        }],\n [\"bilirubin_apache\",\n\"bilirubin_apache\",\n{\n            'v': 0.0,\n            'f': \"0.0\",\n        },\n{\n            'v': 0.0,\n            'f': \"0.0\",\n        }],\n [\"d1_bilirubin_max\",\n\"d1_bilirubin_max\",\n{\n            'v': 0.0,\n            'f': \"0.0\",\n        },\n{\n            'v': 0.0,\n            'f': \"0.0\",\n        }],\n [\"d1_bilirubin_min\",\n\"d1_bilirubin_min\",\n{\n            'v': 0.0,\n            'f': \"0.0\",\n        },\n{\n            'v': 0.0,\n            'f': \"0.0\",\n        }],\n [\"d1_heartrate_max\",\n\"d1_heartrate_max\",\n{\n            'v': 0.0,\n            'f': \"0.0\",\n        },\n{\n            'v': 0.0,\n            'f': \"0.0\",\n        }],\n [\"d1_creatinine_max\",\n\"d1_creatinine_max\",\n{\n            'v': 0.0,\n            'f': \"0.0\",\n        },\n{\n            'v': 0.0,\n            'f': \"0.0\",\n        }],\n [\"h1_creatinine_max\",\n\"h1_creatinine_max\",\n{\n            'v': 0.0,\n            'f': \"0.0\",\n        },\n{\n            'v': 0.0,\n            'f': \"0.0\",\n        }],\n [\"intubated_apache\",\n\"intubated_apache\",\n{\n            'v': 0.0,\n            'f': \"0.0\",\n        },\n{\n            'v': 0.0,\n            'f': \"0.0\",\n        }],\n [\"d1_bun_min\",\n\"d1_bun_min\",\n{\n            'v': 0.0,\n            'f': \"0.0\",\n        },\n{\n            'v': 0.0,\n            'f': \"0.0\",\n        }],\n [\"d1_bun_max\",\n\"d1_bun_max\",\n{\n            'v': 0.0,\n            'f': \"0.0\",\n        },\n{\n            'v': 0.0,\n            'f': \"0.0\",\n        }],\n [\"age\",\n\"age\",\n{\n            'v': 0.0,\n            'f': \"0.0\",\n        },\n{\n            'v': 0.0,\n            'f': \"0.0\",\n        }],\n [\"heart_rate_apache\",\n\"heart_rate_apache\",\n{\n            'v': 0.0,\n            'f': \"0.0\",\n        },\n{\n            'v': 0.02,\n            'f': \"0.02\",\n        }],\n [\"h1_creatinine_min\",\n\"h1_creatinine_min\",\n{\n            'v': 0.0,\n            'f': \"0.0\",\n        },\n{\n            'v': 0.0,\n            'f': \"0.0\",\n        }],\n [\"d1_lactate_min\",\n\"d1_lactate_min\",\n{\n            'v': 0.0,\n            'f': \"0.0\",\n        },\n{\n            'v': 0.0,\n            'f': \"0.0\",\n        }],\n [\"d1_lactate_max\",\n\"d1_lactate_max\",\n{\n            'v': 0.0,\n            'f': \"0.0\",\n        },\n{\n            'v': 0.0,\n            'f': \"0.0\",\n        }],\n [\"d1_creatinine_min\",\n\"d1_creatinine_min\",\n{\n            'v': 0.0,\n            'f': \"0.0\",\n        },\n{\n            'v': 0.0,\n            'f': \"0.0\",\n        }],\n [\"ventilated_apache\",\n\"ventilated_apache\",\n{\n            'v': 0.0,\n            'f': \"0.0\",\n        },\n{\n            'v': 0.0,\n            'f': \"0.0\",\n        }],\n [\"map_apache\",\n\"map_apache\",\n{\n            'v': 0.01,\n            'f': \"0.01\",\n        },\n{\n            'v': 0.07,\n            'f': \"0.07\",\n        }],\n [\"gcs_unable_apache\",\n\"gcs_unable_apache\",\n{\n            'v': 0.02,\n            'f': \"0.02\",\n        },\n{\n            'v': 0.12,\n            'f': \"0.12\",\n        }],\n [\"d1_spo2_min\",\n\"d1_spo2_min\",\n{\n            'v': 0.02,\n            'f': \"0.02\",\n        },\n{\n            'v': 0.16,\n            'f': \"0.16\",\n        }],\n [\"resprate_apache\",\n\"resprate_apache\",\n{\n            'v': 0.02,\n            'f': \"0.02\",\n        },\n{\n            'v': 0.42,\n            'f': \"0.42\",\n        }],\n [\"d1_resprate_min\",\n\"d1_resprate_min\",\n{\n            'v': 0.03,\n            'f': \"0.03\",\n        },\n{\n            'v': 0.26,\n            'f': \"0.26\",\n        }],\n [\"d1_resprate_max\",\n\"d1_resprate_max\",\n{\n            'v': 0.03,\n            'f': \"0.03\",\n        },\n{\n            'v': 0.26,\n            'f': \"0.26\",\n        }],\n [\"d1_diasbp_noninvasive_max\",\n\"d1_diasbp_noninvasive_max\",\n{\n            'v': 0.09,\n            'f': \"0.09\",\n        },\n{\n            'v': 0.87,\n            'f': \"0.87\",\n        }],\n [\"d1_diasbp_noninvasive_min\",\n\"d1_diasbp_noninvasive_min\",\n{\n            'v': 0.09,\n            'f': \"0.09\",\n        },\n{\n            'v': 0.87,\n            'f': \"0.87\",\n        }],\n [\"d1_sysbp_noninvasive_min\",\n\"d1_sysbp_noninvasive_min\",\n{\n            'v': 0.09,\n            'f': \"0.09\",\n        },\n{\n            'v': 0.86,\n            'f': \"0.86\",\n        }],\n [\"d1_mbp_noninvasive_min\",\n\"d1_mbp_noninvasive_min\",\n{\n            'v': 0.11,\n            'f': \"0.11\",\n        },\n{\n            'v': 1.27,\n            'f': \"1.27\",\n        }],\n [\"h1_heartrate_max\",\n\"h1_heartrate_max\",\n{\n            'v': 0.19,\n            'f': \"0.19\",\n        },\n{\n            'v': 2.53,\n            'f': \"2.53\",\n        }],\n [\"h1_heartrate_min\",\n\"h1_heartrate_min\",\n{\n            'v': 0.19,\n            'f': \"0.19\",\n        },\n{\n            'v': 2.53,\n            'f': \"2.53\",\n        }],\n [\"weight\",\n\"weight\",\n{\n            'v': 0.24,\n            'f': \"0.24\",\n        },\n{\n            'v': 2.54,\n            'f': \"2.54\",\n        }],\n [\"h1_sysbp_min\",\n\"h1_sysbp_min\",\n{\n            'v': 0.26,\n            'f': \"0.26\",\n        },\n{\n            'v': 3.34,\n            'f': \"3.34\",\n        }],\n [\"h1_sysbp_max\",\n\"h1_sysbp_max\",\n{\n            'v': 0.26,\n            'f': \"0.26\",\n        },\n{\n            'v': 3.34,\n            'f': \"3.34\",\n        }],\n [\"h1_diasbp_min\",\n\"h1_diasbp_min\",\n{\n            'v': 0.26,\n            'f': \"0.26\",\n        },\n{\n            'v': 3.34,\n            'f': \"3.34\",\n        }],\n [\"d1_temp_min\",\n\"d1_temp_min\",\n{\n            'v': 0.28,\n            'f': \"0.28\",\n        },\n{\n            'v': 2.06,\n            'f': \"2.06\",\n        }],\n [\"d1_temp_max\",\n\"d1_temp_max\",\n{\n            'v': 0.28,\n            'f': \"0.28\",\n        },\n{\n            'v': 2.06,\n            'f': \"2.06\",\n        }],\n [\"h1_mbp_max\",\n\"h1_mbp_max\",\n{\n            'v': 0.33,\n            'f': \"0.33\",\n        },\n{\n            'v': 4.32,\n            'f': \"4.32\",\n        }],\n [\"h1_resprate_min\",\n\"h1_resprate_min\",\n{\n            'v': 0.33,\n            'f': \"0.33\",\n        },\n{\n            'v': 4.14,\n            'f': \"4.14\",\n        }],\n [\"h1_resprate_max\",\n\"h1_resprate_max\",\n{\n            'v': 0.33,\n            'f': \"0.33\",\n        },\n{\n            'v': 4.14,\n            'f': \"4.14\",\n        }],\n [\"h1_mbp_min\",\n\"h1_mbp_min\",\n{\n            'v': 0.33,\n            'f': \"0.33\",\n        },\n{\n            'v': 4.32,\n            'f': \"4.32\",\n        }],\n [\"h1_spo2_min\",\n\"h1_spo2_min\",\n{\n            'v': 0.36,\n            'f': \"0.36\",\n        },\n{\n            'v': 3.9,\n            'f': \"3.9\",\n        }],\n [\"h1_spo2_max\",\n\"h1_spo2_max\",\n{\n            'v': 0.36,\n            'f': \"0.36\",\n        },\n{\n            'v': 3.9,\n            'f': \"3.9\",\n        }],\n [\"temp_apache\",\n\"temp_apache\",\n{\n            'v': 0.44,\n            'f': \"0.44\",\n        },\n{\n            'v': 2.98,\n            'f': \"2.98\",\n        }],\n [\"d1_glucose_max\",\n\"d1_glucose_max\",\n{\n            'v': 0.45,\n            'f': \"0.45\",\n        },\n{\n            'v': 5.62,\n            'f': \"5.62\",\n        }],\n [\"d1_glucose_min\",\n\"d1_glucose_min\",\n{\n            'v': 0.45,\n            'f': \"0.45\",\n        },\n{\n            'v': 5.62,\n            'f': \"5.62\",\n        }],\n [\"h1_sysbp_noninvasive_max\",\n\"h1_sysbp_noninvasive_max\",\n{\n            'v': 0.46,\n            'f': \"0.46\",\n        },\n{\n            'v': 7.3,\n            'f': \"7.3\",\n        }],\n [\"h1_sysbp_noninvasive_min\",\n\"h1_sysbp_noninvasive_min\",\n{\n            'v': 0.46,\n            'f': \"0.46\",\n        },\n{\n            'v': 7.3,\n            'f': \"7.3\",\n        }],\n [\"h1_diasbp_noninvasive_max\",\n\"h1_diasbp_noninvasive_max\",\n{\n            'v': 0.46,\n            'f': \"0.46\",\n        },\n{\n            'v': 7.3,\n            'f': \"7.3\",\n        }],\n [\"h1_diasbp_noninvasive_min\",\n\"h1_diasbp_noninvasive_min\",\n{\n            'v': 0.46,\n            'f': \"0.46\",\n        },\n{\n            'v': 7.3,\n            'f': \"7.3\",\n        }],\n [\"apache_4a_hospital_death_prob\",\n\"apache_4a_hospital_death_prob\",\n{\n            'v': 0.5,\n            'f': \"0.5\",\n        },\n{\n            'v': 7.42,\n            'f': \"7.42\",\n        }],\n [\"apache_4a_icu_death_prob\",\n\"apache_4a_icu_death_prob\",\n{\n            'v': 0.5,\n            'f': \"0.5\",\n        },\n{\n            'v': 7.42,\n            'f': \"7.42\",\n        }],\n [\"h1_mbp_noninvasive_max\",\n\"h1_mbp_noninvasive_max\",\n{\n            'v': 0.56,\n            'f': \"0.56\",\n        },\n{\n            'v': 9.05,\n            'f': \"9.05\",\n        }],\n [\"h1_mbp_noninvasive_min\",\n\"h1_mbp_noninvasive_min\",\n{\n            'v': 0.56,\n            'f': \"0.56\",\n        },\n{\n            'v': 9.05,\n            'f': \"9.05\",\n        }],\n [\"glucose_apache\",\n\"glucose_apache\",\n{\n            'v': 0.75,\n            'f': \"0.75\",\n        },\n{\n            'v': 10.24,\n            'f': \"10.24\",\n        }],\n [\"d1_sodium_max\",\n\"d1_sodium_max\",\n{\n            'v': 0.76,\n            'f': \"0.76\",\n        },\n{\n            'v': 9.99,\n            'f': \"9.99\",\n        }],\n [\"d1_potassium_min\",\n\"d1_potassium_min\",\n{\n            'v': 0.77,\n            'f': \"0.77\",\n        },\n{\n            'v': 9.25,\n            'f': \"9.25\",\n        }],\n [\"d1_potassium_max\",\n\"d1_potassium_max\",\n{\n            'v': 0.77,\n            'f': \"0.77\",\n        },\n{\n            'v': 9.25,\n            'f': \"9.25\",\n        }],\n [\"d1_hematocrit_max\",\n\"d1_hematocrit_max\",\n{\n            'v': 0.94,\n            'f': \"0.94\",\n        },\n{\n            'v': 11.39,\n            'f': \"11.39\",\n        }],\n [\"d1_hematocrit_min\",\n\"d1_hematocrit_min\",\n{\n            'v': 0.94,\n            'f': \"0.94\",\n        },\n{\n            'v': 11.39,\n            'f': \"11.39\",\n        }],\n [\"d1_hemaglobin_min\",\n\"d1_hemaglobin_min\",\n{\n            'v': 0.96,\n            'f': \"0.96\",\n        },\n{\n            'v': 11.9,\n            'f': \"11.9\",\n        }],\n [\"d1_hemaglobin_max\",\n\"d1_hemaglobin_max\",\n{\n            'v': 0.96,\n            'f': \"0.96\",\n        },\n{\n            'v': 11.9,\n            'f': \"11.9\",\n        }],\n [\"d1_calcium_min\",\n\"d1_calcium_min\",\n{\n            'v': 1.07,\n            'f': \"1.07\",\n        },\n{\n            'v': 12.76,\n            'f': \"12.76\",\n        }],\n [\"d1_calcium_max\",\n\"d1_calcium_max\",\n{\n            'v': 1.07,\n            'f': \"1.07\",\n        },\n{\n            'v': 12.76,\n            'f': \"12.76\",\n        }],\n [\"d1_wbc_max\",\n\"d1_wbc_max\",\n{\n            'v': 1.08,\n            'f': \"1.08\",\n        },\n{\n            'v': 12.89,\n            'f': \"12.89\",\n        }],\n [\"d1_wbc_min\",\n\"d1_wbc_min\",\n{\n            'v': 1.08,\n            'f': \"1.08\",\n        },\n{\n            'v': 12.89,\n            'f': \"12.89\",\n        }],\n [\"d1_platelets_max\",\n\"d1_platelets_max\",\n{\n            'v': 1.09,\n            'f': \"1.09\",\n        },\n{\n            'v': 13.14,\n            'f': \"13.14\",\n        }],\n [\"d1_platelets_min\",\n\"d1_platelets_min\",\n{\n            'v': 1.09,\n            'f': \"1.09\",\n        },\n{\n            'v': 13.14,\n            'f': \"13.14\",\n        }],\n [\"d1_hco3_min\",\n\"d1_hco3_min\",\n{\n            'v': 1.16,\n            'f': \"1.16\",\n        },\n{\n            'v': 14.85,\n            'f': \"14.85\",\n        }],\n [\"d1_hco3_max\",\n\"d1_hco3_max\",\n{\n            'v': 1.16,\n            'f': \"1.16\",\n        },\n{\n            'v': 14.85,\n            'f': \"14.85\",\n        }],\n [\"sodium_apache\",\n\"sodium_apache\",\n{\n            'v': 1.3,\n            'f': \"1.3\",\n        },\n{\n            'v': 17.91,\n            'f': \"17.91\",\n        }],\n [\"bun_apache\",\n\"bun_apache\",\n{\n            'v': 1.38,\n            'f': \"1.38\",\n        },\n{\n            'v': 18.56,\n            'f': \"18.56\",\n        }],\n [\"creatinine_apache\",\n\"creatinine_apache\",\n{\n            'v': 1.38,\n            'f': \"1.38\",\n        },\n{\n            'v': 18.1,\n            'f': \"18.1\",\n        }],\n [\"hematocrit_apache\",\n\"hematocrit_apache\",\n{\n            'v': 1.52,\n            'f': \"1.52\",\n        },\n{\n            'v': 19.11,\n            'f': \"19.11\",\n        }],\n [\"wbc_apache\",\n\"wbc_apache\",\n{\n            'v': 1.73,\n            'f': \"1.73\",\n        },\n{\n            'v': 21.23,\n            'f': \"21.23\",\n        }],\n [\"hospital_admit_source\",\n\"hospital_admit_source\",\n{\n            'v': 1.83,\n            'f': \"1.83\",\n        },\n{\n            'v': 21.65,\n            'f': \"21.65\",\n        }],\n [\"h1_temp_min\",\n\"h1_temp_min\",\n{\n            'v': 2.04,\n            'f': \"2.04\",\n        },\n{\n            'v': 20.89,\n            'f': \"20.89\",\n        }],\n [\"h1_temp_max\",\n\"h1_temp_max\",\n{\n            'v': 2.04,\n            'f': \"2.04\",\n        },\n{\n            'v': 20.89,\n            'f': \"20.89\",\n        }],\n [\"d1_arterial_po2_max\",\n\"d1_arterial_po2_max\",\n{\n            'v': 2.69,\n            'f': \"2.69\",\n        },\n{\n            'v': 61.39,\n            'f': \"61.39\",\n        }],\n [\"d1_arterial_pco2_max\",\n\"d1_arterial_pco2_max\",\n{\n            'v': 2.7,\n            'f': \"2.7\",\n        },\n{\n            'v': 61.39,\n            'f': \"61.39\",\n        }],\n [\"d1_arterial_pco2_min\",\n\"d1_arterial_pco2_min\",\n{\n            'v': 2.7,\n            'f': \"2.7\",\n        },\n{\n            'v': 61.39,\n            'f': \"61.39\",\n        }],\n [\"d1_arterial_ph_min\",\n\"d1_arterial_ph_min\",\n{\n            'v': 2.84,\n            'f': \"2.84\",\n        },\n{\n            'v': 62.22,\n            'f': \"62.22\",\n        }],\n [\"d1_arterial_ph_max\",\n\"d1_arterial_ph_max\",\n{\n            'v': 2.84,\n            'f': \"2.84\",\n        },\n{\n            'v': 62.22,\n            'f': \"62.22\",\n        }],\n [\"d1_albumin_min\",\n\"d1_albumin_min\",\n{\n            'v': 3.28,\n            'f': \"3.28\",\n        },\n{\n            'v': 49.73,\n            'f': \"49.73\",\n        }],\n [\"d1_albumin_max\",\n\"d1_albumin_max\",\n{\n            'v': 3.28,\n            'f': \"3.28\",\n        },\n{\n            'v': 49.73,\n            'f': \"49.73\",\n        }],\n [\"albumin_apache\",\n\"albumin_apache\",\n{\n            'v': 3.81,\n            'f': \"3.81\",\n        },\n{\n            'v': 54.63,\n            'f': \"54.63\",\n        }],\n [\"d1_inr_max\",\n\"d1_inr_max\",\n{\n            'v': 3.95,\n            'f': \"3.95\",\n        },\n{\n            'v': 58.72,\n            'f': \"58.72\",\n        }],\n [\"d1_inr_min\",\n\"d1_inr_min\",\n{\n            'v': 3.95,\n            'f': \"3.95\",\n        },\n{\n            'v': 58.72,\n            'f': \"58.72\",\n        }],\n [\"h1_inr_min\",\n\"h1_inr_min\",\n{\n            'v': 3.95,\n            'f': \"3.95\",\n        },\n{\n            'v': 58.72,\n            'f': \"58.72\",\n        }],\n [\"h1_inr_max\",\n\"h1_inr_max\",\n{\n            'v': 3.95,\n            'f': \"3.95\",\n        },\n{\n            'v': 58.72,\n            'f': \"58.72\",\n        }],\n [\"ph_apache\",\n\"ph_apache\",\n{\n            'v': 4.3,\n            'f': \"4.3\",\n        },\n{\n            'v': 72.37,\n            'f': \"72.37\",\n        }],\n [\"paco2_apache\",\n\"paco2_apache\",\n{\n            'v': 4.3,\n            'f': \"4.3\",\n        },\n{\n            'v': 72.37,\n            'f': \"72.37\",\n        }],\n [\"pao2_apache\",\n\"pao2_apache\",\n{\n            'v': 4.3,\n            'f': \"4.3\",\n        },\n{\n            'v': 72.37,\n            'f': \"72.37\",\n        }],\n [\"paco2_for_ph_apache\",\n\"paco2_for_ph_apache\",\n{\n            'v': 4.3,\n            'f': \"4.3\",\n        },\n{\n            'v': 72.37,\n            'f': \"72.37\",\n        }],\n [\"fio2_apache\",\n\"fio2_apache\",\n{\n            'v': 4.3,\n            'f': \"4.3\",\n        },\n{\n            'v': 72.37,\n            'f': \"72.37\",\n        }],\n [\"h1_glucose_max\",\n\"h1_glucose_max\",\n{\n            'v': 4.35,\n            'f': \"4.35\",\n        },\n{\n            'v': 52.41,\n            'f': \"52.41\",\n        }],\n [\"h1_glucose_min\",\n\"h1_glucose_min\",\n{\n            'v': 4.35,\n            'f': \"4.35\",\n        },\n{\n            'v': 52.41,\n            'f': \"52.41\",\n        }],\n [\"d1_mbp_invasive_min\",\n\"d1_mbp_invasive_min\",\n{\n            'v': 5.03,\n            'f': \"5.03\",\n        },\n{\n            'v': 68.45,\n            'f': \"68.45\",\n        }],\n [\"d1_sysbp_invasive_max\",\n\"d1_sysbp_invasive_max\",\n{\n            'v': 5.06,\n            'f': \"5.06\",\n        },\n{\n            'v': 68.63,\n            'f': \"68.63\",\n        }],\n [\"d1_sysbp_invasive_min\",\n\"d1_sysbp_invasive_min\",\n{\n            'v': 5.06,\n            'f': \"5.06\",\n        },\n{\n            'v': 68.63,\n            'f': \"68.63\",\n        }],\n [\"h1_potassium_min\",\n\"h1_potassium_min\",\n{\n            'v': 6.09,\n            'f': \"6.09\",\n        },\n{\n            'v': 72.08,\n            'f': \"72.08\",\n        }],\n [\"h1_potassium_max\",\n\"h1_potassium_max\",\n{\n            'v': 6.09,\n            'f': \"6.09\",\n        },\n{\n            'v': 72.08,\n            'f': \"72.08\",\n        }],\n [\"h1_sodium_min\",\n\"h1_sodium_min\",\n{\n            'v': 6.11,\n            'f': \"6.11\",\n        },\n{\n            'v': 72.65,\n            'f': \"72.65\",\n        }],\n [\"h1_sodium_max\",\n\"h1_sodium_max\",\n{\n            'v': 6.11,\n            'f': \"6.11\",\n        },\n{\n            'v': 72.65,\n            'f': \"72.65\",\n        }],\n [\"h1_hemaglobin_min\",\n\"h1_hemaglobin_min\",\n{\n            'v': 6.26,\n            'f': \"6.26\",\n        },\n{\n            'v': 73.11,\n            'f': \"73.11\",\n        }],\n [\"h1_hemaglobin_max\",\n\"h1_hemaglobin_max\",\n{\n            'v': 6.26,\n            'f': \"6.26\",\n        },\n{\n            'v': 73.11,\n            'f': \"73.11\",\n        }],\n [\"h1_mbp_invasive_min\",\n\"h1_mbp_invasive_min\",\n{\n            'v': 6.94,\n            'f': \"6.94\",\n        },\n{\n            'v': 74.36,\n            'f': \"74.36\",\n        }],\n [\"h1_sysbp_invasive_max\",\n\"h1_sysbp_invasive_max\",\n{\n            'v': 6.96,\n            'f': \"6.96\",\n        },\n{\n            'v': 74.41,\n            'f': \"74.41\",\n        }],\n [\"h1_sysbp_invasive_min\",\n\"h1_sysbp_invasive_min\",\n{\n            'v': 6.96,\n            'f': \"6.96\",\n        },\n{\n            'v': 74.41,\n            'f': \"74.41\",\n        }]],\n        columns: [[\"string\", \"index\"], [\"string\", \"column_name\"], [\"number\", \"percent_missing_died\"], [\"number\", \"percent_missing_alive\"]],\n        columnOptions: [{\"width\": \"1px\", \"className\": \"index_column\"}],\n        rowsPerPage: 25,\n        helpUrl: \"https://colab.research.google.com/notebooks/data_table.ipynb\",\n        suppressOutputScrolling: true,\n      });\n    ",
      "text/html": [
       "<div>\n",
       "<style scoped>\n",
       "    .dataframe tbody tr th:only-of-type {\n",
       "        vertical-align: middle;\n",
       "    }\n",
       "\n",
       "    .dataframe tbody tr th {\n",
       "        vertical-align: top;\n",
       "    }\n",
       "\n",
       "    .dataframe thead th {\n",
       "        text-align: right;\n",
       "    }\n",
       "</style>\n",
       "<table border=\"1\" class=\"dataframe\">\n",
       "  <thead>\n",
       "    <tr style=\"text-align: right;\">\n",
       "      <th></th>\n",
       "      <th>column_name</th>\n",
       "      <th>percent_missing_died</th>\n",
       "      <th>percent_missing_alive</th>\n",
       "    </tr>\n",
       "  </thead>\n",
       "  <tbody>\n",
       "    <tr>\n",
       "      <th>hospital_death</th>\n",
       "      <td>hospital_death</td>\n",
       "      <td>0.00</td>\n",
       "      <td>0.00</td>\n",
       "    </tr>\n",
       "    <tr>\n",
       "      <th>gcs_motor_apache</th>\n",
       "      <td>gcs_motor_apache</td>\n",
       "      <td>0.00</td>\n",
       "      <td>0.00</td>\n",
       "    </tr>\n",
       "    <tr>\n",
       "      <th>patient_id</th>\n",
       "      <td>patient_id</td>\n",
       "      <td>0.00</td>\n",
       "      <td>0.00</td>\n",
       "    </tr>\n",
       "    <tr>\n",
       "      <th>d1_diasbp_max</th>\n",
       "      <td>d1_diasbp_max</td>\n",
       "      <td>0.00</td>\n",
       "      <td>0.00</td>\n",
       "    </tr>\n",
       "    <tr>\n",
       "      <th>ethnicity</th>\n",
       "      <td>ethnicity</td>\n",
       "      <td>0.00</td>\n",
       "      <td>0.00</td>\n",
       "    </tr>\n",
       "    <tr>\n",
       "      <th>...</th>\n",
       "      <td>...</td>\n",
       "      <td>...</td>\n",
       "      <td>...</td>\n",
       "    </tr>\n",
       "    <tr>\n",
       "      <th>h1_hemaglobin_min</th>\n",
       "      <td>h1_hemaglobin_min</td>\n",
       "      <td>6.26</td>\n",
       "      <td>73.11</td>\n",
       "    </tr>\n",
       "    <tr>\n",
       "      <th>h1_hemaglobin_max</th>\n",
       "      <td>h1_hemaglobin_max</td>\n",
       "      <td>6.26</td>\n",
       "      <td>73.11</td>\n",
       "    </tr>\n",
       "    <tr>\n",
       "      <th>h1_mbp_invasive_min</th>\n",
       "      <td>h1_mbp_invasive_min</td>\n",
       "      <td>6.94</td>\n",
       "      <td>74.36</td>\n",
       "    </tr>\n",
       "    <tr>\n",
       "      <th>h1_sysbp_invasive_max</th>\n",
       "      <td>h1_sysbp_invasive_max</td>\n",
       "      <td>6.96</td>\n",
       "      <td>74.41</td>\n",
       "    </tr>\n",
       "    <tr>\n",
       "      <th>h1_sysbp_invasive_min</th>\n",
       "      <td>h1_sysbp_invasive_min</td>\n",
       "      <td>6.96</td>\n",
       "      <td>74.41</td>\n",
       "    </tr>\n",
       "  </tbody>\n",
       "</table>\n",
       "<p>144 rows × 3 columns</p>\n",
       "</div>"
      ],
      "text/plain": [
       "                                 column_name  percent_missing_died  \\\n",
       "hospital_death                hospital_death                  0.00   \n",
       "gcs_motor_apache            gcs_motor_apache                  0.00   \n",
       "patient_id                        patient_id                  0.00   \n",
       "d1_diasbp_max                  d1_diasbp_max                  0.00   \n",
       "ethnicity                          ethnicity                  0.00   \n",
       "...                                      ...                   ...   \n",
       "h1_hemaglobin_min          h1_hemaglobin_min                  6.26   \n",
       "h1_hemaglobin_max          h1_hemaglobin_max                  6.26   \n",
       "h1_mbp_invasive_min      h1_mbp_invasive_min                  6.94   \n",
       "h1_sysbp_invasive_max  h1_sysbp_invasive_max                  6.96   \n",
       "h1_sysbp_invasive_min  h1_sysbp_invasive_min                  6.96   \n",
       "\n",
       "                       percent_missing_alive  \n",
       "hospital_death                          0.00  \n",
       "gcs_motor_apache                        0.00  \n",
       "patient_id                              0.00  \n",
       "d1_diasbp_max                           0.00  \n",
       "ethnicity                               0.00  \n",
       "...                                      ...  \n",
       "h1_hemaglobin_min                      73.11  \n",
       "h1_hemaglobin_max                      73.11  \n",
       "h1_mbp_invasive_min                    74.36  \n",
       "h1_sysbp_invasive_max                  74.41  \n",
       "h1_sysbp_invasive_min                  74.41  \n",
       "\n",
       "[144 rows x 3 columns]"
      ]
     },
     "execution_count": 194,
     "metadata": {
      "tags": []
     },
     "output_type": "execute_result"
    }
   ],
   "source": [
    "ms = missing_values(df_training_test)\n",
    "ms"
   ]
  },
  {
   "cell_type": "code",
   "execution_count": null,
   "metadata": {
    "colab": {
     "base_uri": "https://localhost:8080/"
    },
    "executionInfo": {
     "elapsed": 8523,
     "status": "ok",
     "timestamp": 1582559596873,
     "user": {
      "displayName": "Ararajuba Data Science Project",
      "photoUrl": "",
      "userId": "02004027308564222829"
     },
     "user_tz": 180
    },
    "id": "x_8Ae8iraW59",
    "outputId": "e3fd57cb-3041-4aa1-fcf1-357a2ae32604"
   },
   "outputs": [
    {
     "data": {
      "text/plain": [
       "Index(['heart_rate_apache', 'map_apache', 'gcs_unable_apache', 'd1_spo2_min',\n",
       "       'resprate_apache', 'd1_resprate_min', 'd1_resprate_max',\n",
       "       'd1_diasbp_noninvasive_max', 'd1_diasbp_noninvasive_min',\n",
       "       'd1_sysbp_noninvasive_min', 'd1_mbp_noninvasive_min',\n",
       "       'h1_heartrate_max', 'h1_heartrate_min', 'weight', 'h1_sysbp_min',\n",
       "       'h1_sysbp_max', 'h1_diasbp_min', 'd1_temp_min', 'd1_temp_max',\n",
       "       'h1_mbp_max', 'h1_resprate_min', 'h1_resprate_max', 'h1_mbp_min',\n",
       "       'h1_spo2_min', 'h1_spo2_max', 'temp_apache', 'd1_glucose_max',\n",
       "       'd1_glucose_min', 'h1_sysbp_noninvasive_max',\n",
       "       'h1_sysbp_noninvasive_min', 'h1_diasbp_noninvasive_max',\n",
       "       'h1_diasbp_noninvasive_min', 'apache_4a_hospital_death_prob',\n",
       "       'apache_4a_icu_death_prob', 'h1_mbp_noninvasive_max',\n",
       "       'h1_mbp_noninvasive_min', 'glucose_apache', 'd1_sodium_max',\n",
       "       'd1_potassium_min', 'd1_potassium_max', 'd1_hematocrit_max',\n",
       "       'd1_hematocrit_min', 'd1_hemaglobin_min', 'd1_hemaglobin_max',\n",
       "       'd1_calcium_min', 'd1_calcium_max', 'd1_wbc_max', 'd1_wbc_min',\n",
       "       'd1_platelets_max', 'd1_platelets_min', 'd1_hco3_min', 'd1_hco3_max',\n",
       "       'sodium_apache', 'bun_apache', 'creatinine_apache', 'hematocrit_apache',\n",
       "       'wbc_apache', 'hospital_admit_source', 'h1_temp_min', 'h1_temp_max',\n",
       "       'd1_arterial_po2_max', 'd1_arterial_pco2_max', 'd1_arterial_pco2_min',\n",
       "       'd1_arterial_ph_min', 'd1_arterial_ph_max', 'd1_albumin_min',\n",
       "       'd1_albumin_max', 'albumin_apache', 'd1_inr_max', 'd1_inr_min',\n",
       "       'h1_inr_min', 'h1_inr_max', 'ph_apache', 'paco2_apache', 'pao2_apache',\n",
       "       'paco2_for_ph_apache', 'fio2_apache', 'h1_glucose_max',\n",
       "       'h1_glucose_min', 'd1_mbp_invasive_min', 'd1_sysbp_invasive_max',\n",
       "       'd1_sysbp_invasive_min', 'h1_potassium_min', 'h1_potassium_max',\n",
       "       'h1_sodium_min', 'h1_sodium_max', 'h1_hemaglobin_min',\n",
       "       'h1_hemaglobin_max', 'h1_mbp_invasive_min', 'h1_sysbp_invasive_max',\n",
       "       'h1_sysbp_invasive_min'],\n",
       "      dtype='object')"
      ]
     },
     "execution_count": 195,
     "metadata": {
      "tags": []
     },
     "output_type": "execute_result"
    }
   ],
   "source": [
    "ms = missing_values(df_training_test)\n",
    "index_to_fillnan = ms[ms[\"percent_missing_alive\"] > 0].index\n",
    "\n",
    "index_to_fillnan"
   ]
  },
  {
   "cell_type": "code",
   "execution_count": null,
   "metadata": {
    "id": "77cV--AFadrk"
   },
   "outputs": [],
   "source": [
    "#Substituir todas com valores pela média da idade\n",
    "df = df_training_test\n",
    "for x in index_to_fillnan:\n",
    "  df = fillnan_mean_apache_3j_bodysystem(df,x)\n",
    "\n",
    "df_training_test = df\n",
    "\n",
    "#Substituir todas com valores pela média da idade\n",
    "df = df_unlabeled_test\n",
    "for x in index_to_fillnan:\n",
    "  df = fillnan_mean_apache_3j_bodysystem(df,x)\n",
    "\n",
    "df_unlabeled_test = df"
   ]
  },
  {
   "cell_type": "code",
   "execution_count": null,
   "metadata": {
    "colab": {
     "base_uri": "https://localhost:8080/"
    },
    "executionInfo": {
     "elapsed": 35187,
     "status": "ok",
     "timestamp": 1582559623556,
     "user": {
      "displayName": "Ararajuba Data Science Project",
      "photoUrl": "",
      "userId": "02004027308564222829"
     },
     "user_tz": 180
    },
    "id": "gpr8O1QnkHk4",
    "outputId": "ec67be76-21a2-4b4f-d491-d4b3d782f3ce"
   },
   "outputs": [
    {
     "data": {
      "text/html": [
       "<div>\n",
       "<style scoped>\n",
       "    .dataframe tbody tr th:only-of-type {\n",
       "        vertical-align: middle;\n",
       "    }\n",
       "\n",
       "    .dataframe tbody tr th {\n",
       "        vertical-align: top;\n",
       "    }\n",
       "\n",
       "    .dataframe thead th {\n",
       "        text-align: right;\n",
       "    }\n",
       "</style>\n",
       "<table border=\"1\" class=\"dataframe\">\n",
       "  <thead>\n",
       "    <tr style=\"text-align: right;\">\n",
       "      <th></th>\n",
       "      <th>hospital_death</th>\n",
       "      <th>d1_lactate_min</th>\n",
       "      <th>d1_lactate_max</th>\n",
       "      <th>apache_4a_hospital_death_prob</th>\n",
       "      <th>apache_4a_icu_death_prob</th>\n",
       "      <th>ventilated_apache</th>\n",
       "      <th>fio2_apache</th>\n",
       "      <th>d1_inr_max</th>\n",
       "      <th>h1_inr_max</th>\n",
       "      <th>d1_bun_max</th>\n",
       "      <th>bun_apache</th>\n",
       "      <th>d1_bun_min</th>\n",
       "      <th>intubated_apache</th>\n",
       "      <th>h1_inr_min</th>\n",
       "      <th>d1_inr_min</th>\n",
       "      <th>d1_heartrate_max</th>\n",
       "      <th>d1_wbc_max</th>\n",
       "      <th>bilirubin_apache</th>\n",
       "      <th>d1_bilirubin_max</th>\n",
       "      <th>wbc_apache</th>\n",
       "      <th>d1_bilirubin_min</th>\n",
       "      <th>d1_wbc_min</th>\n",
       "      <th>h1_resprate_max</th>\n",
       "      <th>d1_creatinine_max</th>\n",
       "      <th>creatinine_apache</th>\n",
       "      <th>h1_heartrate_max</th>\n",
       "      <th>h1_creatinine_max</th>\n",
       "      <th>h1_creatinine_min</th>\n",
       "      <th>d1_potassium_max</th>\n",
       "      <th>age</th>\n",
       "      <th>heart_rate_apache</th>\n",
       "      <th>h1_resprate_min</th>\n",
       "      <th>d1_creatinine_min</th>\n",
       "      <th>d1_resprate_max</th>\n",
       "      <th>h1_heartrate_min</th>\n",
       "      <th>h1_potassium_min</th>\n",
       "      <th>resprate_apache</th>\n",
       "      <th>d1_glucose_max</th>\n",
       "      <th>h1_potassium_max</th>\n",
       "      <th>glucose_apache</th>\n",
       "      <th>pre_icu_los_days</th>\n",
       "      <th>d1_sodium_max</th>\n",
       "      <th>solid_tumor_with_metastasis</th>\n",
       "      <th>apache_3j_bodysystem</th>\n",
       "      <th>gcs_unable_apache</th>\n",
       "      <th>immunosuppression</th>\n",
       "      <th>h1_glucose_max</th>\n",
       "      <th>cirrhosis</th>\n",
       "      <th>d1_arterial_po2_max</th>\n",
       "      <th>hepatic_failure</th>\n",
       "      <th>...</th>\n",
       "      <th>d1_pao2fio2ratio_min</th>\n",
       "      <th>h1_mbp_min</th>\n",
       "      <th>d1_calcium_min</th>\n",
       "      <th>h1_diasbp_noninvasive_min</th>\n",
       "      <th>d1_hco3_max</th>\n",
       "      <th>d1_arterial_ph_max</th>\n",
       "      <th>h1_diasbp_min</th>\n",
       "      <th>h1_temp_min</th>\n",
       "      <th>h1_sysbp_invasive_min</th>\n",
       "      <th>h1_spo2_min</th>\n",
       "      <th>h1_temp_max</th>\n",
       "      <th>urineoutput_apache</th>\n",
       "      <th>apache_3j_diagnosis</th>\n",
       "      <th>h1_mbp_invasive_min</th>\n",
       "      <th>elective_surgery</th>\n",
       "      <th>apache_2_diagnosis</th>\n",
       "      <th>d1_hemaglobin_min</th>\n",
       "      <th>d1_pao2fio2ratio_max</th>\n",
       "      <th>apache_post_operative</th>\n",
       "      <th>d1_arterial_pco2_min</th>\n",
       "      <th>h1_sysbp_invasive_max</th>\n",
       "      <th>d1_calcium_max</th>\n",
       "      <th>d1_hematocrit_min</th>\n",
       "      <th>h1_sysbp_max</th>\n",
       "      <th>hematocrit_apache</th>\n",
       "      <th>h1_sysbp_noninvasive_max</th>\n",
       "      <th>d1_sysbp_invasive_max</th>\n",
       "      <th>h1_mbp_noninvasive_max</th>\n",
       "      <th>d1_platelets_min</th>\n",
       "      <th>h1_mbp_max</th>\n",
       "      <th>h1_hemaglobin_max</th>\n",
       "      <th>h1_hemaglobin_min</th>\n",
       "      <th>apache_2_bodysystem</th>\n",
       "      <th>d1_hemaglobin_max</th>\n",
       "      <th>h1_diasbp_invasive_min</th>\n",
       "      <th>h1_spo2_max</th>\n",
       "      <th>map_apache</th>\n",
       "      <th>d1_hematocrit_max</th>\n",
       "      <th>hospital_admit_source</th>\n",
       "      <th>paco2_for_ph_apache</th>\n",
       "      <th>paco2_apache</th>\n",
       "      <th>weight</th>\n",
       "      <th>h1_diasbp_noninvasive_max</th>\n",
       "      <th>d1_platelets_max</th>\n",
       "      <th>d1_diasbp_invasive_max</th>\n",
       "      <th>encounter_id</th>\n",
       "      <th>gender</th>\n",
       "      <th>icu_admit_source</th>\n",
       "      <th>gcs_intubated</th>\n",
       "      <th>higth_d1_glucose_max</th>\n",
       "    </tr>\n",
       "  </thead>\n",
       "  <tbody>\n",
       "    <tr>\n",
       "      <th>8</th>\n",
       "      <td>1</td>\n",
       "      <td>5.90</td>\n",
       "      <td>5.90</td>\n",
       "      <td>0.08</td>\n",
       "      <td>0.04</td>\n",
       "      <td>1.0</td>\n",
       "      <td>1.00</td>\n",
       "      <td>1.20</td>\n",
       "      <td>1.20</td>\n",
       "      <td>15.0</td>\n",
       "      <td>15.0</td>\n",
       "      <td>15.0</td>\n",
       "      <td>0.0</td>\n",
       "      <td>1.20</td>\n",
       "      <td>1.20</td>\n",
       "      <td>82.0</td>\n",
       "      <td>24.7</td>\n",
       "      <td>0.20</td>\n",
       "      <td>0.20</td>\n",
       "      <td>24.7</td>\n",
       "      <td>0.20</td>\n",
       "      <td>24.7</td>\n",
       "      <td>24.0</td>\n",
       "      <td>1.16</td>\n",
       "      <td>1.16</td>\n",
       "      <td>82.0</td>\n",
       "      <td>1.16</td>\n",
       "      <td>1.16</td>\n",
       "      <td>5.2</td>\n",
       "      <td>45.0</td>\n",
       "      <td>82.0</td>\n",
       "      <td>19.0</td>\n",
       "      <td>1.16</td>\n",
       "      <td>24.0</td>\n",
       "      <td>82.0</td>\n",
       "      <td>5.20</td>\n",
       "      <td>14.0</td>\n",
       "      <td>365.0</td>\n",
       "      <td>5.20</td>\n",
       "      <td>380.0</td>\n",
       "      <td>0.009028</td>\n",
       "      <td>142.0</td>\n",
       "      <td>0.0</td>\n",
       "      <td>1.0</td>\n",
       "      <td>0.0</td>\n",
       "      <td>0.0</td>\n",
       "      <td>365.00</td>\n",
       "      <td>0.0</td>\n",
       "      <td>256.00</td>\n",
       "      <td>0.0</td>\n",
       "      <td>...</td>\n",
       "      <td>92.000000</td>\n",
       "      <td>71.0</td>\n",
       "      <td>7.3</td>\n",
       "      <td>59.00</td>\n",
       "      <td>23.0</td>\n",
       "      <td>7.62</td>\n",
       "      <td>59.0</td>\n",
       "      <td>36.9</td>\n",
       "      <td>72.00</td>\n",
       "      <td>97.0</td>\n",
       "      <td>36.90</td>\n",
       "      <td>1798.81</td>\n",
       "      <td>103.01</td>\n",
       "      <td>66.00</td>\n",
       "      <td>0</td>\n",
       "      <td>116.0</td>\n",
       "      <td>12.3</td>\n",
       "      <td>92.00</td>\n",
       "      <td>0</td>\n",
       "      <td>33.00</td>\n",
       "      <td>94.00</td>\n",
       "      <td>7.3</td>\n",
       "      <td>37.9</td>\n",
       "      <td>104.0</td>\n",
       "      <td>37.9</td>\n",
       "      <td>104.0</td>\n",
       "      <td>94.00</td>\n",
       "      <td>93.00</td>\n",
       "      <td>226.00</td>\n",
       "      <td>93.0</td>\n",
       "      <td>12.30</td>\n",
       "      <td>12.30</td>\n",
       "      <td>1.0</td>\n",
       "      <td>12.3</td>\n",
       "      <td>52.00</td>\n",
       "      <td>97.0</td>\n",
       "      <td>66.0</td>\n",
       "      <td>37.9</td>\n",
       "      <td>11.00</td>\n",
       "      <td>60.00</td>\n",
       "      <td>60.00</td>\n",
       "      <td>87.19</td>\n",
       "      <td>65.00</td>\n",
       "      <td>226.0</td>\n",
       "      <td>64.00</td>\n",
       "      <td>80471</td>\n",
       "      <td>2.0</td>\n",
       "      <td>4.0</td>\n",
       "      <td>0</td>\n",
       "      <td>1</td>\n",
       "    </tr>\n",
       "    <tr>\n",
       "      <th>25</th>\n",
       "      <td>1</td>\n",
       "      <td>1.70</td>\n",
       "      <td>1.70</td>\n",
       "      <td>0.60</td>\n",
       "      <td>0.51</td>\n",
       "      <td>1.0</td>\n",
       "      <td>0.70</td>\n",
       "      <td>1.99</td>\n",
       "      <td>1.99</td>\n",
       "      <td>73.0</td>\n",
       "      <td>73.0</td>\n",
       "      <td>72.0</td>\n",
       "      <td>1.0</td>\n",
       "      <td>1.82</td>\n",
       "      <td>1.82</td>\n",
       "      <td>134.0</td>\n",
       "      <td>10.0</td>\n",
       "      <td>1.00</td>\n",
       "      <td>1.00</td>\n",
       "      <td>10.0</td>\n",
       "      <td>1.00</td>\n",
       "      <td>10.0</td>\n",
       "      <td>29.0</td>\n",
       "      <td>2.14</td>\n",
       "      <td>2.14</td>\n",
       "      <td>100.0</td>\n",
       "      <td>2.21</td>\n",
       "      <td>2.21</td>\n",
       "      <td>4.0</td>\n",
       "      <td>68.0</td>\n",
       "      <td>136.0</td>\n",
       "      <td>16.0</td>\n",
       "      <td>1.88</td>\n",
       "      <td>42.0</td>\n",
       "      <td>84.0</td>\n",
       "      <td>3.60</td>\n",
       "      <td>42.0</td>\n",
       "      <td>154.0</td>\n",
       "      <td>3.60</td>\n",
       "      <td>94.0</td>\n",
       "      <td>0.758333</td>\n",
       "      <td>136.0</td>\n",
       "      <td>0.0</td>\n",
       "      <td>10.0</td>\n",
       "      <td>0.0</td>\n",
       "      <td>0.0</td>\n",
       "      <td>97.00</td>\n",
       "      <td>0.0</td>\n",
       "      <td>283.00</td>\n",
       "      <td>0.0</td>\n",
       "      <td>...</td>\n",
       "      <td>101.428571</td>\n",
       "      <td>47.0</td>\n",
       "      <td>7.6</td>\n",
       "      <td>36.00</td>\n",
       "      <td>21.0</td>\n",
       "      <td>7.37</td>\n",
       "      <td>36.0</td>\n",
       "      <td>36.9</td>\n",
       "      <td>86.00</td>\n",
       "      <td>78.0</td>\n",
       "      <td>37.02</td>\n",
       "      <td>1648.73</td>\n",
       "      <td>501.06</td>\n",
       "      <td>54.00</td>\n",
       "      <td>0</td>\n",
       "      <td>113.0</td>\n",
       "      <td>10.4</td>\n",
       "      <td>283.00</td>\n",
       "      <td>0</td>\n",
       "      <td>33.00</td>\n",
       "      <td>88.00</td>\n",
       "      <td>7.9</td>\n",
       "      <td>30.3</td>\n",
       "      <td>98.0</td>\n",
       "      <td>30.3</td>\n",
       "      <td>98.0</td>\n",
       "      <td>138.00</td>\n",
       "      <td>78.00</td>\n",
       "      <td>30.00</td>\n",
       "      <td>78.0</td>\n",
       "      <td>10.75</td>\n",
       "      <td>10.68</td>\n",
       "      <td>1.0</td>\n",
       "      <td>10.4</td>\n",
       "      <td>40.00</td>\n",
       "      <td>100.0</td>\n",
       "      <td>47.0</td>\n",
       "      <td>30.3</td>\n",
       "      <td>4.51</td>\n",
       "      <td>42.00</td>\n",
       "      <td>42.00</td>\n",
       "      <td>70.90</td>\n",
       "      <td>44.00</td>\n",
       "      <td>30.0</td>\n",
       "      <td>74.00</td>\n",
       "      <td>29208</td>\n",
       "      <td>1.0</td>\n",
       "      <td>2.0</td>\n",
       "      <td>0</td>\n",
       "      <td>1</td>\n",
       "    </tr>\n",
       "    <tr>\n",
       "      <th>46</th>\n",
       "      <td>1</td>\n",
       "      <td>1.67</td>\n",
       "      <td>2.14</td>\n",
       "      <td>0.57</td>\n",
       "      <td>0.34</td>\n",
       "      <td>1.0</td>\n",
       "      <td>0.54</td>\n",
       "      <td>1.50</td>\n",
       "      <td>1.50</td>\n",
       "      <td>22.0</td>\n",
       "      <td>18.0</td>\n",
       "      <td>18.0</td>\n",
       "      <td>0.0</td>\n",
       "      <td>1.40</td>\n",
       "      <td>1.40</td>\n",
       "      <td>122.0</td>\n",
       "      <td>24.6</td>\n",
       "      <td>0.82</td>\n",
       "      <td>0.81</td>\n",
       "      <td>21.8</td>\n",
       "      <td>0.78</td>\n",
       "      <td>21.8</td>\n",
       "      <td>16.0</td>\n",
       "      <td>0.85</td>\n",
       "      <td>0.77</td>\n",
       "      <td>84.0</td>\n",
       "      <td>1.19</td>\n",
       "      <td>1.18</td>\n",
       "      <td>4.3</td>\n",
       "      <td>64.0</td>\n",
       "      <td>112.0</td>\n",
       "      <td>16.0</td>\n",
       "      <td>0.77</td>\n",
       "      <td>23.0</td>\n",
       "      <td>84.0</td>\n",
       "      <td>3.98</td>\n",
       "      <td>12.0</td>\n",
       "      <td>113.0</td>\n",
       "      <td>3.99</td>\n",
       "      <td>96.0</td>\n",
       "      <td>2.817361</td>\n",
       "      <td>145.0</td>\n",
       "      <td>1.0</td>\n",
       "      <td>8.0</td>\n",
       "      <td>0.0</td>\n",
       "      <td>1.0</td>\n",
       "      <td>148.50</td>\n",
       "      <td>0.0</td>\n",
       "      <td>167.00</td>\n",
       "      <td>0.0</td>\n",
       "      <td>...</td>\n",
       "      <td>417.500000</td>\n",
       "      <td>80.0</td>\n",
       "      <td>8.0</td>\n",
       "      <td>68.62</td>\n",
       "      <td>23.0</td>\n",
       "      <td>7.38</td>\n",
       "      <td>44.0</td>\n",
       "      <td>37.2</td>\n",
       "      <td>130.00</td>\n",
       "      <td>100.0</td>\n",
       "      <td>37.40</td>\n",
       "      <td>1775.16</td>\n",
       "      <td>1502.02</td>\n",
       "      <td>80.00</td>\n",
       "      <td>0</td>\n",
       "      <td>217.0</td>\n",
       "      <td>7.0</td>\n",
       "      <td>417.50</td>\n",
       "      <td>1</td>\n",
       "      <td>35.00</td>\n",
       "      <td>160.00</td>\n",
       "      <td>8.5</td>\n",
       "      <td>19.8</td>\n",
       "      <td>160.0</td>\n",
       "      <td>22.3</td>\n",
       "      <td>145.3</td>\n",
       "      <td>170.00</td>\n",
       "      <td>99.26</td>\n",
       "      <td>65.00</td>\n",
       "      <td>82.0</td>\n",
       "      <td>12.39</td>\n",
       "      <td>12.35</td>\n",
       "      <td>5.0</td>\n",
       "      <td>7.6</td>\n",
       "      <td>44.00</td>\n",
       "      <td>100.0</td>\n",
       "      <td>58.0</td>\n",
       "      <td>22.3</td>\n",
       "      <td>9.00</td>\n",
       "      <td>39.02</td>\n",
       "      <td>39.02</td>\n",
       "      <td>55.20</td>\n",
       "      <td>81.82</td>\n",
       "      <td>96.0</td>\n",
       "      <td>58.00</td>\n",
       "      <td>40903</td>\n",
       "      <td>2.0</td>\n",
       "      <td>3.0</td>\n",
       "      <td>1</td>\n",
       "      <td>0</td>\n",
       "    </tr>\n",
       "    <tr>\n",
       "      <th>58</th>\n",
       "      <td>1</td>\n",
       "      <td>1.84</td>\n",
       "      <td>2.38</td>\n",
       "      <td>0.04</td>\n",
       "      <td>0.02</td>\n",
       "      <td>0.0</td>\n",
       "      <td>0.59</td>\n",
       "      <td>1.64</td>\n",
       "      <td>1.64</td>\n",
       "      <td>15.0</td>\n",
       "      <td>15.0</td>\n",
       "      <td>12.0</td>\n",
       "      <td>0.0</td>\n",
       "      <td>1.57</td>\n",
       "      <td>1.57</td>\n",
       "      <td>129.0</td>\n",
       "      <td>21.8</td>\n",
       "      <td>0.50</td>\n",
       "      <td>0.50</td>\n",
       "      <td>21.8</td>\n",
       "      <td>0.50</td>\n",
       "      <td>21.8</td>\n",
       "      <td>31.0</td>\n",
       "      <td>1.21</td>\n",
       "      <td>1.21</td>\n",
       "      <td>122.0</td>\n",
       "      <td>1.41</td>\n",
       "      <td>1.41</td>\n",
       "      <td>3.9</td>\n",
       "      <td>55.0</td>\n",
       "      <td>129.0</td>\n",
       "      <td>31.0</td>\n",
       "      <td>1.02</td>\n",
       "      <td>42.0</td>\n",
       "      <td>118.0</td>\n",
       "      <td>4.25</td>\n",
       "      <td>59.0</td>\n",
       "      <td>160.0</td>\n",
       "      <td>4.26</td>\n",
       "      <td>160.0</td>\n",
       "      <td>0.013194</td>\n",
       "      <td>146.0</td>\n",
       "      <td>0.0</td>\n",
       "      <td>9.0</td>\n",
       "      <td>0.0</td>\n",
       "      <td>0.0</td>\n",
       "      <td>161.16</td>\n",
       "      <td>0.0</td>\n",
       "      <td>138.50</td>\n",
       "      <td>0.0</td>\n",
       "      <td>...</td>\n",
       "      <td>199.310000</td>\n",
       "      <td>74.0</td>\n",
       "      <td>9.4</td>\n",
       "      <td>55.00</td>\n",
       "      <td>25.0</td>\n",
       "      <td>7.39</td>\n",
       "      <td>55.0</td>\n",
       "      <td>36.8</td>\n",
       "      <td>119.00</td>\n",
       "      <td>95.0</td>\n",
       "      <td>36.80</td>\n",
       "      <td>1569.78</td>\n",
       "      <td>207.01</td>\n",
       "      <td>78.74</td>\n",
       "      <td>0</td>\n",
       "      <td>105.0</td>\n",
       "      <td>11.5</td>\n",
       "      <td>248.57</td>\n",
       "      <td>0</td>\n",
       "      <td>44.94</td>\n",
       "      <td>140.60</td>\n",
       "      <td>9.6</td>\n",
       "      <td>35.9</td>\n",
       "      <td>116.0</td>\n",
       "      <td>29.9</td>\n",
       "      <td>116.0</td>\n",
       "      <td>153.46</td>\n",
       "      <td>75.00</td>\n",
       "      <td>215.00</td>\n",
       "      <td>75.0</td>\n",
       "      <td>11.49</td>\n",
       "      <td>11.42</td>\n",
       "      <td>7.0</td>\n",
       "      <td>11.5</td>\n",
       "      <td>57.86</td>\n",
       "      <td>97.0</td>\n",
       "      <td>69.0</td>\n",
       "      <td>35.9</td>\n",
       "      <td>4.00</td>\n",
       "      <td>48.78</td>\n",
       "      <td>48.78</td>\n",
       "      <td>84.92</td>\n",
       "      <td>70.00</td>\n",
       "      <td>215.0</td>\n",
       "      <td>80.88</td>\n",
       "      <td>80233</td>\n",
       "      <td>1.0</td>\n",
       "      <td>1.0</td>\n",
       "      <td>0</td>\n",
       "      <td>1</td>\n",
       "    </tr>\n",
       "    <tr>\n",
       "      <th>73</th>\n",
       "      <td>1</td>\n",
       "      <td>1.30</td>\n",
       "      <td>1.30</td>\n",
       "      <td>0.66</td>\n",
       "      <td>0.34</td>\n",
       "      <td>0.0</td>\n",
       "      <td>0.58</td>\n",
       "      <td>1.83</td>\n",
       "      <td>1.83</td>\n",
       "      <td>95.0</td>\n",
       "      <td>95.0</td>\n",
       "      <td>88.0</td>\n",
       "      <td>0.0</td>\n",
       "      <td>1.62</td>\n",
       "      <td>1.62</td>\n",
       "      <td>138.0</td>\n",
       "      <td>1.2</td>\n",
       "      <td>5.50</td>\n",
       "      <td>5.50</td>\n",
       "      <td>0.9</td>\n",
       "      <td>2.90</td>\n",
       "      <td>0.9</td>\n",
       "      <td>22.0</td>\n",
       "      <td>2.80</td>\n",
       "      <td>2.80</td>\n",
       "      <td>132.0</td>\n",
       "      <td>2.37</td>\n",
       "      <td>2.37</td>\n",
       "      <td>3.8</td>\n",
       "      <td>74.0</td>\n",
       "      <td>140.0</td>\n",
       "      <td>22.0</td>\n",
       "      <td>2.37</td>\n",
       "      <td>22.0</td>\n",
       "      <td>108.0</td>\n",
       "      <td>2.70</td>\n",
       "      <td>22.0</td>\n",
       "      <td>178.0</td>\n",
       "      <td>2.70</td>\n",
       "      <td>178.0</td>\n",
       "      <td>15.123611</td>\n",
       "      <td>136.0</td>\n",
       "      <td>0.0</td>\n",
       "      <td>5.0</td>\n",
       "      <td>0.0</td>\n",
       "      <td>0.0</td>\n",
       "      <td>161.00</td>\n",
       "      <td>0.0</td>\n",
       "      <td>140.53</td>\n",
       "      <td>0.0</td>\n",
       "      <td>...</td>\n",
       "      <td>256.490000</td>\n",
       "      <td>49.0</td>\n",
       "      <td>7.5</td>\n",
       "      <td>42.00</td>\n",
       "      <td>26.0</td>\n",
       "      <td>7.38</td>\n",
       "      <td>42.0</td>\n",
       "      <td>37.2</td>\n",
       "      <td>122.85</td>\n",
       "      <td>99.0</td>\n",
       "      <td>37.70</td>\n",
       "      <td>1729.54</td>\n",
       "      <td>802.04</td>\n",
       "      <td>84.21</td>\n",
       "      <td>0</td>\n",
       "      <td>306.0</td>\n",
       "      <td>7.0</td>\n",
       "      <td>294.61</td>\n",
       "      <td>0</td>\n",
       "      <td>35.37</td>\n",
       "      <td>148.54</td>\n",
       "      <td>7.7</td>\n",
       "      <td>20.5</td>\n",
       "      <td>113.0</td>\n",
       "      <td>20.5</td>\n",
       "      <td>113.0</td>\n",
       "      <td>148.56</td>\n",
       "      <td>79.00</td>\n",
       "      <td>18.55</td>\n",
       "      <td>79.0</td>\n",
       "      <td>7.00</td>\n",
       "      <td>7.00</td>\n",
       "      <td>3.0</td>\n",
       "      <td>10.1</td>\n",
       "      <td>63.69</td>\n",
       "      <td>100.0</td>\n",
       "      <td>49.0</td>\n",
       "      <td>28.8</td>\n",
       "      <td>3.00</td>\n",
       "      <td>35.08</td>\n",
       "      <td>35.08</td>\n",
       "      <td>71.10</td>\n",
       "      <td>59.00</td>\n",
       "      <td>27.0</td>\n",
       "      <td>73.74</td>\n",
       "      <td>75834</td>\n",
       "      <td>2.0</td>\n",
       "      <td>1.0</td>\n",
       "      <td>0</td>\n",
       "      <td>1</td>\n",
       "    </tr>\n",
       "  </tbody>\n",
       "</table>\n",
       "<p>5 rows × 144 columns</p>\n",
       "</div>"
      ],
      "text/plain": [
       "    hospital_death  d1_lactate_min  d1_lactate_max  \\\n",
       "8                1            5.90            5.90   \n",
       "25               1            1.70            1.70   \n",
       "46               1            1.67            2.14   \n",
       "58               1            1.84            2.38   \n",
       "73               1            1.30            1.30   \n",
       "\n",
       "    apache_4a_hospital_death_prob  apache_4a_icu_death_prob  \\\n",
       "8                            0.08                      0.04   \n",
       "25                           0.60                      0.51   \n",
       "46                           0.57                      0.34   \n",
       "58                           0.04                      0.02   \n",
       "73                           0.66                      0.34   \n",
       "\n",
       "    ventilated_apache  fio2_apache  d1_inr_max  h1_inr_max  d1_bun_max  \\\n",
       "8                 1.0         1.00        1.20        1.20        15.0   \n",
       "25                1.0         0.70        1.99        1.99        73.0   \n",
       "46                1.0         0.54        1.50        1.50        22.0   \n",
       "58                0.0         0.59        1.64        1.64        15.0   \n",
       "73                0.0         0.58        1.83        1.83        95.0   \n",
       "\n",
       "    bun_apache  d1_bun_min  intubated_apache  h1_inr_min  d1_inr_min  \\\n",
       "8         15.0        15.0               0.0        1.20        1.20   \n",
       "25        73.0        72.0               1.0        1.82        1.82   \n",
       "46        18.0        18.0               0.0        1.40        1.40   \n",
       "58        15.0        12.0               0.0        1.57        1.57   \n",
       "73        95.0        88.0               0.0        1.62        1.62   \n",
       "\n",
       "    d1_heartrate_max  d1_wbc_max  bilirubin_apache  d1_bilirubin_max  \\\n",
       "8               82.0        24.7              0.20              0.20   \n",
       "25             134.0        10.0              1.00              1.00   \n",
       "46             122.0        24.6              0.82              0.81   \n",
       "58             129.0        21.8              0.50              0.50   \n",
       "73             138.0         1.2              5.50              5.50   \n",
       "\n",
       "    wbc_apache  d1_bilirubin_min  d1_wbc_min  h1_resprate_max  \\\n",
       "8         24.7              0.20        24.7             24.0   \n",
       "25        10.0              1.00        10.0             29.0   \n",
       "46        21.8              0.78        21.8             16.0   \n",
       "58        21.8              0.50        21.8             31.0   \n",
       "73         0.9              2.90         0.9             22.0   \n",
       "\n",
       "    d1_creatinine_max  creatinine_apache  h1_heartrate_max  h1_creatinine_max  \\\n",
       "8                1.16               1.16              82.0               1.16   \n",
       "25               2.14               2.14             100.0               2.21   \n",
       "46               0.85               0.77              84.0               1.19   \n",
       "58               1.21               1.21             122.0               1.41   \n",
       "73               2.80               2.80             132.0               2.37   \n",
       "\n",
       "    h1_creatinine_min  d1_potassium_max   age  heart_rate_apache  \\\n",
       "8                1.16               5.2  45.0               82.0   \n",
       "25               2.21               4.0  68.0              136.0   \n",
       "46               1.18               4.3  64.0              112.0   \n",
       "58               1.41               3.9  55.0              129.0   \n",
       "73               2.37               3.8  74.0              140.0   \n",
       "\n",
       "    h1_resprate_min  d1_creatinine_min  d1_resprate_max  h1_heartrate_min  \\\n",
       "8              19.0               1.16             24.0              82.0   \n",
       "25             16.0               1.88             42.0              84.0   \n",
       "46             16.0               0.77             23.0              84.0   \n",
       "58             31.0               1.02             42.0             118.0   \n",
       "73             22.0               2.37             22.0             108.0   \n",
       "\n",
       "    h1_potassium_min  resprate_apache  d1_glucose_max  h1_potassium_max  \\\n",
       "8               5.20             14.0           365.0              5.20   \n",
       "25              3.60             42.0           154.0              3.60   \n",
       "46              3.98             12.0           113.0              3.99   \n",
       "58              4.25             59.0           160.0              4.26   \n",
       "73              2.70             22.0           178.0              2.70   \n",
       "\n",
       "    glucose_apache  pre_icu_los_days  d1_sodium_max  \\\n",
       "8            380.0          0.009028          142.0   \n",
       "25            94.0          0.758333          136.0   \n",
       "46            96.0          2.817361          145.0   \n",
       "58           160.0          0.013194          146.0   \n",
       "73           178.0         15.123611          136.0   \n",
       "\n",
       "    solid_tumor_with_metastasis  apache_3j_bodysystem  gcs_unable_apache  \\\n",
       "8                           0.0                   1.0                0.0   \n",
       "25                          0.0                  10.0                0.0   \n",
       "46                          1.0                   8.0                0.0   \n",
       "58                          0.0                   9.0                0.0   \n",
       "73                          0.0                   5.0                0.0   \n",
       "\n",
       "    immunosuppression  h1_glucose_max  cirrhosis  d1_arterial_po2_max  \\\n",
       "8                 0.0          365.00        0.0               256.00   \n",
       "25                0.0           97.00        0.0               283.00   \n",
       "46                1.0          148.50        0.0               167.00   \n",
       "58                0.0          161.16        0.0               138.50   \n",
       "73                0.0          161.00        0.0               140.53   \n",
       "\n",
       "    hepatic_failure  ...  d1_pao2fio2ratio_min  h1_mbp_min  d1_calcium_min  \\\n",
       "8               0.0  ...             92.000000        71.0             7.3   \n",
       "25              0.0  ...            101.428571        47.0             7.6   \n",
       "46              0.0  ...            417.500000        80.0             8.0   \n",
       "58              0.0  ...            199.310000        74.0             9.4   \n",
       "73              0.0  ...            256.490000        49.0             7.5   \n",
       "\n",
       "    h1_diasbp_noninvasive_min  d1_hco3_max  d1_arterial_ph_max  h1_diasbp_min  \\\n",
       "8                       59.00         23.0                7.62           59.0   \n",
       "25                      36.00         21.0                7.37           36.0   \n",
       "46                      68.62         23.0                7.38           44.0   \n",
       "58                      55.00         25.0                7.39           55.0   \n",
       "73                      42.00         26.0                7.38           42.0   \n",
       "\n",
       "    h1_temp_min  h1_sysbp_invasive_min  h1_spo2_min  h1_temp_max  \\\n",
       "8          36.9                  72.00         97.0        36.90   \n",
       "25         36.9                  86.00         78.0        37.02   \n",
       "46         37.2                 130.00        100.0        37.40   \n",
       "58         36.8                 119.00         95.0        36.80   \n",
       "73         37.2                 122.85         99.0        37.70   \n",
       "\n",
       "    urineoutput_apache  apache_3j_diagnosis  h1_mbp_invasive_min  \\\n",
       "8              1798.81               103.01                66.00   \n",
       "25             1648.73               501.06                54.00   \n",
       "46             1775.16              1502.02                80.00   \n",
       "58             1569.78               207.01                78.74   \n",
       "73             1729.54               802.04                84.21   \n",
       "\n",
       "    elective_surgery  apache_2_diagnosis  d1_hemaglobin_min  \\\n",
       "8                  0               116.0               12.3   \n",
       "25                 0               113.0               10.4   \n",
       "46                 0               217.0                7.0   \n",
       "58                 0               105.0               11.5   \n",
       "73                 0               306.0                7.0   \n",
       "\n",
       "    d1_pao2fio2ratio_max  apache_post_operative  d1_arterial_pco2_min  \\\n",
       "8                  92.00                      0                 33.00   \n",
       "25                283.00                      0                 33.00   \n",
       "46                417.50                      1                 35.00   \n",
       "58                248.57                      0                 44.94   \n",
       "73                294.61                      0                 35.37   \n",
       "\n",
       "    h1_sysbp_invasive_max  d1_calcium_max  d1_hematocrit_min  h1_sysbp_max  \\\n",
       "8                   94.00             7.3               37.9         104.0   \n",
       "25                  88.00             7.9               30.3          98.0   \n",
       "46                 160.00             8.5               19.8         160.0   \n",
       "58                 140.60             9.6               35.9         116.0   \n",
       "73                 148.54             7.7               20.5         113.0   \n",
       "\n",
       "    hematocrit_apache  h1_sysbp_noninvasive_max  d1_sysbp_invasive_max  \\\n",
       "8                37.9                     104.0                  94.00   \n",
       "25               30.3                      98.0                 138.00   \n",
       "46               22.3                     145.3                 170.00   \n",
       "58               29.9                     116.0                 153.46   \n",
       "73               20.5                     113.0                 148.56   \n",
       "\n",
       "    h1_mbp_noninvasive_max  d1_platelets_min  h1_mbp_max  h1_hemaglobin_max  \\\n",
       "8                    93.00            226.00        93.0              12.30   \n",
       "25                   78.00             30.00        78.0              10.75   \n",
       "46                   99.26             65.00        82.0              12.39   \n",
       "58                   75.00            215.00        75.0              11.49   \n",
       "73                   79.00             18.55        79.0               7.00   \n",
       "\n",
       "    h1_hemaglobin_min  apache_2_bodysystem  d1_hemaglobin_max  \\\n",
       "8               12.30                  1.0               12.3   \n",
       "25              10.68                  1.0               10.4   \n",
       "46              12.35                  5.0                7.6   \n",
       "58              11.42                  7.0               11.5   \n",
       "73               7.00                  3.0               10.1   \n",
       "\n",
       "    h1_diasbp_invasive_min  h1_spo2_max  map_apache  d1_hematocrit_max  \\\n",
       "8                    52.00         97.0        66.0               37.9   \n",
       "25                   40.00        100.0        47.0               30.3   \n",
       "46                   44.00        100.0        58.0               22.3   \n",
       "58                   57.86         97.0        69.0               35.9   \n",
       "73                   63.69        100.0        49.0               28.8   \n",
       "\n",
       "    hospital_admit_source  paco2_for_ph_apache  paco2_apache  weight  \\\n",
       "8                   11.00                60.00         60.00   87.19   \n",
       "25                   4.51                42.00         42.00   70.90   \n",
       "46                   9.00                39.02         39.02   55.20   \n",
       "58                   4.00                48.78         48.78   84.92   \n",
       "73                   3.00                35.08         35.08   71.10   \n",
       "\n",
       "    h1_diasbp_noninvasive_max  d1_platelets_max  d1_diasbp_invasive_max  \\\n",
       "8                       65.00             226.0                   64.00   \n",
       "25                      44.00              30.0                   74.00   \n",
       "46                      81.82              96.0                   58.00   \n",
       "58                      70.00             215.0                   80.88   \n",
       "73                      59.00              27.0                   73.74   \n",
       "\n",
       "    encounter_id  gender  icu_admit_source  gcs_intubated  \\\n",
       "8          80471     2.0               4.0              0   \n",
       "25         29208     1.0               2.0              0   \n",
       "46         40903     2.0               3.0              1   \n",
       "58         80233     1.0               1.0              0   \n",
       "73         75834     2.0               1.0              0   \n",
       "\n",
       "    higth_d1_glucose_max  \n",
       "8                      1  \n",
       "25                     1  \n",
       "46                     0  \n",
       "58                     1  \n",
       "73                     1  \n",
       "\n",
       "[5 rows x 144 columns]"
      ]
     },
     "execution_count": 197,
     "metadata": {
      "tags": []
     },
     "output_type": "execute_result"
    }
   ],
   "source": [
    "df_training_test[df_training_test['hospital_death'] == 1].head(5)"
   ]
  },
  {
   "cell_type": "markdown",
   "metadata": {
    "id": "iNyKn8JzO5bD"
   },
   "source": [
    "## **Treino**"
   ]
  },
  {
   "cell_type": "code",
   "execution_count": null,
   "metadata": {
    "id": "6f-StM8q9ATu"
   },
   "outputs": [],
   "source": [
    "#df_training_test = df_training_test.fillna(df_training_test.mean())\n",
    "#df_unlabeled_test = df_unlabeled_test.fillna(df_unlabeled_test.mean())"
   ]
  },
  {
   "cell_type": "code",
   "execution_count": null,
   "metadata": {
    "colab": {
     "base_uri": "https://localhost:8080/"
    },
    "executionInfo": {
     "elapsed": 35169,
     "status": "ok",
     "timestamp": 1582559623564,
     "user": {
      "displayName": "Ararajuba Data Science Project",
      "photoUrl": "",
      "userId": "02004027308564222829"
     },
     "user_tz": 180
    },
    "id": "BEoGXuTFQw_t",
    "outputId": "e94185a8-6772-429f-9410-b94e68c7e19b"
   },
   "outputs": [
    {
     "data": {
      "text/plain": [
       "0    0.916363\n",
       "1    0.083637\n",
       "Name: hospital_death, dtype: float64"
      ]
     },
     "execution_count": 199,
     "metadata": {
      "tags": []
     },
     "output_type": "execute_result"
    }
   ],
   "source": [
    "# Sobrevivente (0) Óbito (1)\n",
    "df_training_test[\"hospital_death\"].value_counts(normalize=True)"
   ]
  },
  {
   "cell_type": "code",
   "execution_count": null,
   "metadata": {
    "colab": {
     "base_uri": "https://localhost:8080/"
    },
    "executionInfo": {
     "elapsed": 35160,
     "status": "ok",
     "timestamp": 1582559623565,
     "user": {
      "displayName": "Ararajuba Data Science Project",
      "photoUrl": "",
      "userId": "02004027308564222829"
     },
     "user_tz": 180
    },
    "id": "JKxGmySQ5Hux",
    "outputId": "38330d5e-6e6e-481f-a30b-a235b5514017"
   },
   "outputs": [
    {
     "data": {
      "text/plain": [
       "1    0.645142\n",
       "0    0.354858\n",
       "Name: higth_d1_glucose_max, dtype: float64"
      ]
     },
     "execution_count": 200,
     "metadata": {
      "tags": []
     },
     "output_type": "execute_result"
    }
   ],
   "source": [
    "#Nova feature higth_d1_glucose_max\n",
    "df_training_test[\"higth_d1_glucose_max\"].value_counts(normalize=True)"
   ]
  },
  {
   "cell_type": "code",
   "execution_count": null,
   "metadata": {
    "colab": {
     "base_uri": "https://localhost:8080/"
    },
    "executionInfo": {
     "elapsed": 35157,
     "status": "ok",
     "timestamp": 1582559623568,
     "user": {
      "displayName": "Ararajuba Data Science Project",
      "photoUrl": "",
      "userId": "02004027308564222829"
     },
     "user_tz": 180
    },
    "id": "8ufBqagVN7k3",
    "outputId": "356ca04c-152b-4c86-f748-a2e23d4039aa"
   },
   "outputs": [
    {
     "data": {
      "text/plain": [
       "0    77878\n",
       "1     7108\n",
       "Name: hospital_death, dtype: int64"
      ]
     },
     "execution_count": 201,
     "metadata": {
      "tags": []
     },
     "output_type": "execute_result"
    }
   ],
   "source": [
    "# Sobrevivente (0) Óbito (1)\n",
    "df_training_test[\"hospital_death\"].value_counts()"
   ]
  },
  {
   "cell_type": "code",
   "execution_count": null,
   "metadata": {
    "colab": {
     "base_uri": "https://localhost:8080/"
    },
    "executionInfo": {
     "elapsed": 35148,
     "status": "ok",
     "timestamp": 1582559623569,
     "user": {
      "displayName": "Ararajuba Data Science Project",
      "photoUrl": "",
      "userId": "02004027308564222829"
     },
     "user_tz": 180
    },
    "id": "-hq3iLknnKVf",
    "outputId": "f6958170-df41-48b5-dd59-2c6453daccd2"
   },
   "outputs": [
    {
     "data": {
      "text/plain": [
       "(84986, 144)"
      ]
     },
     "execution_count": 202,
     "metadata": {
      "tags": []
     },
     "output_type": "execute_result"
    }
   ],
   "source": [
    "df_training_test.shape"
   ]
  },
  {
   "cell_type": "code",
   "execution_count": null,
   "metadata": {
    "colab": {
     "base_uri": "https://localhost:8080/"
    },
    "executionInfo": {
     "elapsed": 35141,
     "status": "ok",
     "timestamp": 1582559623570,
     "user": {
      "displayName": "Ararajuba Data Science Project",
      "photoUrl": "",
      "userId": "02004027308564222829"
     },
     "user_tz": 180
    },
    "id": "055MfXbx4C67",
    "outputId": "57ad589b-7ef6-452b-9020-c766ad9b1eb1"
   },
   "outputs": [
    {
     "data": {
      "text/plain": [
       "(39308, 144)"
      ]
     },
     "execution_count": 203,
     "metadata": {
      "tags": []
     },
     "output_type": "execute_result"
    }
   ],
   "source": [
    "df_unlabeled_test.shape"
   ]
  },
  {
   "cell_type": "markdown",
   "metadata": {
    "id": "krJIh0-pR354"
   },
   "source": [
    "## **Balanceamento do modelo**"
   ]
  },
  {
   "cell_type": "code",
   "execution_count": null,
   "metadata": {
    "id": "iCai162WR78O"
   },
   "outputs": [],
   "source": [
    "from imblearn.over_sampling  import SMOTE\n",
    "sm = SMOTE(random_state = 33)"
   ]
  },
  {
   "cell_type": "markdown",
   "metadata": {
    "id": "nmzenRbx98jz"
   },
   "source": [
    "## **Random under-sampling**\n"
   ]
  },
  {
   "cell_type": "code",
   "execution_count": null,
   "metadata": {
    "colab": {
     "base_uri": "https://localhost:8080/",
     "height": 34
    },
    "executionInfo": {
     "elapsed": 996,
     "status": "ok",
     "timestamp": 1582398456138,
     "user": {
      "displayName": "Ararajuba Data Science Project",
      "photoUrl": "",
      "userId": "02004027308564222829"
     },
     "user_tz": 180
    },
    "id": "0a5-STNL-CQD",
    "outputId": "5bc11d99-69f0-4487-ac19-e237630979ef"
   },
   "outputs": [
    {
     "name": "stdout",
     "output_type": "stream",
     "text": [
      "Desativada\n"
     ]
    }
   ],
   "source": [
    "# Class count\n",
    "'''\n",
    "count_class_0, count_class_1 = df_training_test.hospital_death.value_counts()\n",
    "\n",
    "# Divide by class\n",
    "df_class_0 = df_training_test[df_training_test['hospital_death'] == 0]\n",
    "df_class_1 = df_training_test[df_training_test['hospital_death'] == 1]\n",
    "\n",
    "#Ajustei para balancear 1/3\n",
    "count_class_1 = count_class_1 * 3\n",
    "count_class_1\n",
    "\n",
    "print(count_class_1)\n",
    "print(df_class_1.hospital_death.value_counts())\n",
    "'''\n",
    "print('Desativada')"
   ]
  },
  {
   "cell_type": "code",
   "execution_count": null,
   "metadata": {
    "id": "8Va4Mghz-P-C"
   },
   "outputs": [],
   "source": [
    "#df_class_0_under = df_class_0.sample(count_class_1)\n",
    "#df_test_under = pd.concat([df_class_0_under, df_class_1], axis=0, ignore_index=True)\n",
    "\n",
    "#print('Random under-sampling:')\n",
    "#print(df_test_under.hospital_death.value_counts())\n",
    "\n",
    "#df_test_under.hospital_death.value_counts().plot(kind='bar', title='Count (hospital_death)');\n",
    "\n",
    "#df_training_test = df_test_under"
   ]
  },
  {
   "cell_type": "code",
   "execution_count": null,
   "metadata": {
    "colab": {
     "base_uri": "https://localhost:8080/",
     "height": 352
    },
    "executionInfo": {
     "elapsed": 717,
     "status": "ok",
     "timestamp": 1582554753846,
     "user": {
      "displayName": "Ararajuba Data Science Project",
      "photoUrl": "",
      "userId": "02004027308564222829"
     },
     "user_tz": 180
    },
    "id": "xTqngp7iItCm",
    "outputId": "1709b30a-3429-481c-abce-91fbe75c0e6c"
   },
   "outputs": [
    {
     "name": "stdout",
     "output_type": "stream",
     "text": [
      "Random under-sampling:\n",
      "0    77878\n",
      "1     7108\n",
      "Name: hospital_death, dtype: int64\n"
     ]
    },
    {
     "data": {
      "image/png": "[encoded data removed]",
      "text/plain": [
       "<Figure size 432x288 with 1 Axes>"
      ]
     },
     "metadata": {
      "tags": []
     },
     "output_type": "display_data"
    }
   ],
   "source": [
    "print('Random under-sampling:')\n",
    "print(df_training_test.hospital_death.value_counts())\n",
    "\n",
    "df_training_test.hospital_death.value_counts().plot(kind='bar', title='Count (hospital_death)');"
   ]
  },
  {
   "cell_type": "markdown",
   "metadata": {
    "id": "RYFIViyrR8T9"
   },
   "source": [
    "## **Treino**"
   ]
  },
  {
   "cell_type": "markdown",
   "metadata": {
    "id": "nj6j5OpZBi1F"
   },
   "source": [
    "**AUC - ROC Curve :**\n",
    "AUC - ROC curve is a performance measurement for classification problem at various thresholds settings. ROC is a probability curve and AUC represents degree or measure of separability. It tells how much model is capable of distinguishing between classes. Higher the AUC, better the model is at predicting 0s as 0s and 1s as 1s. Higher the AUC, better the model is at distinguishing between patients with disease and no disease. The ROC curve is plotted with TPR against the FPR where TPR is on y-axis and FPR is on the x-axis."
   ]
  },
  {
   "cell_type": "code",
   "execution_count": null,
   "metadata": {
    "colab": {
     "base_uri": "https://localhost:8080/"
    },
    "executionInfo": {
     "elapsed": 743,
     "status": "ok",
     "timestamp": 1582559629001,
     "user": {
      "displayName": "Ararajuba Data Science Project",
      "photoUrl": "",
      "userId": "02004027308564222829"
     },
     "user_tz": 180
    },
    "id": "zeX-gmkS3iYy",
    "outputId": "89951e0b-d73d-4aab-bbff-0f143d66d6ce"
   },
   "outputs": [
    {
     "data": {
      "text/plain": [
       "0    62255\n",
       "1     5733\n",
       "Name: hospital_death, dtype: int64"
      ]
     },
     "execution_count": 204,
     "metadata": {
      "tags": []
     },
     "output_type": "execute_result"
    }
   ],
   "source": [
    "# creating independent features X and dependant feature Y\n",
    "y = df_training_test['hospital_death']\n",
    "X = df_training_test\n",
    "X = df_training_test.drop('hospital_death',axis = 1)\n",
    "test = df_unlabeled_test.drop('hospital_death',axis = 1)\n",
    "\n",
    "# Split into training and validation set\n",
    "X_train, valid_features, Y_train, valid_y = train_test_split(X, y, test_size = 0.20, random_state = 1)\n",
    "\n",
    "#Balanceamento não efetivo\n",
    "#X_train, Y_train = sm.fit_sample(X_train,Y_train)\n",
    "pd.Series(Y_train).value_counts()"
   ]
  },
  {
   "cell_type": "code",
   "execution_count": null,
   "metadata": {
    "id": "XRMzGf0TV5Z6"
   },
   "outputs": [],
   "source": [
    "GBC = GradientBoostingClassifier(random_state=1)\n",
    "\n",
    "# Random Forest Classifier\n",
    "RFC = RandomForestClassifier(n_estimators=100)\n",
    "\n",
    "# Voting Classifier with soft voting \n",
    "votingC = VotingClassifier(estimators=[('rfc', RFC),('gbc',GBC)], voting='soft')\n",
    "votingC = votingC.fit(X_train, Y_train)\n",
    "\n",
    "predict_y = votingC.predict(valid_features)"
   ]
  },
  {
   "cell_type": "markdown",
   "metadata": {
    "id": "4_xXwlxgpO3Z"
   },
   "source": [
    "## **Avaliação do Modelo**"
   ]
  },
  {
   "cell_type": "code",
   "execution_count": null,
   "metadata": {
    "colab": {
     "base_uri": "https://localhost:8080/",
     "height": 36
    },
    "executionInfo": {
     "elapsed": 677,
     "status": "ok",
     "timestamp": 1582559823096,
     "user": {
      "displayName": "Ararajuba Data Science Project",
      "photoUrl": "",
      "userId": "02004027308564222829"
     },
     "user_tz": 180
    },
    "id": "aJgfp67uu_xW",
    "outputId": "aa08efb7-f83b-40e6-86e1-b28cedd2b7cc"
   },
   "outputs": [
    {
     "data": {
      "text/plain": [
       "(84986, 144)"
      ]
     },
     "execution_count": 206,
     "metadata": {
      "tags": []
     },
     "output_type": "execute_result"
    }
   ],
   "source": [
    "df_training_test.shape"
   ]
  },
  {
   "cell_type": "code",
   "execution_count": null,
   "metadata": {
    "colab": {
     "base_uri": "https://localhost:8080/",
     "height": 314
    },
    "executionInfo": {
     "elapsed": 1743,
     "status": "ok",
     "timestamp": 1582559827700,
     "user": {
      "displayName": "Ararajuba Data Science Project",
      "photoUrl": "",
      "userId": "02004027308564222829"
     },
     "user_tz": 180
    },
    "id": "173VBUL8dZYH",
    "outputId": "71b2304d-cd34-4f2c-b5cb-83d8ed032dcf"
   },
   "outputs": [
    {
     "data": {
      "image/png": "[encoded data removed]",
      "text/plain": [
       "<Figure size 432x288 with 1 Axes>"
      ]
     },
     "metadata": {
      "tags": []
     },
     "output_type": "display_data"
    },
    {
     "name": "stdout",
     "output_type": "stream",
     "text": [
      "AUC-ROC : 0.8946430728587804\n"
     ]
    }
   ],
   "source": [
    "probs = votingC.predict_proba(valid_features)\n",
    "probs = probs[:, 1]\n",
    "auc = roc_auc_score(valid_y, probs)\n",
    "fpr, tpr, thresholds = roc_curve(valid_y, probs)\n",
    "plot_roc_curve(fpr, tpr)\n",
    "print(\"AUC-ROC :\",auc)\n",
    "#BEST: 0.8800656930938622\n",
    "#KAGLE 0.88885\n",
    "#      0.8809717064380203\n",
    "#      0.8830800209264859\n",
    "#      0.8881351711265832\n",
    "#      0.8898505583260111 Retirando o tratamento de probabilidade_apache3 que eu tinha aplicado no início e gerando um modelo enviesádo (40 features)\n",
    "#      0.8938572384537948 Inclui 143 features\n",
    "#      0.8946430728587804"
   ]
  },
  {
   "cell_type": "code",
   "execution_count": null,
   "metadata": {
    "colab": {
     "base_uri": "https://localhost:8080/",
     "height": 36
    },
    "executionInfo": {
     "elapsed": 838,
     "status": "ok",
     "timestamp": 1582559849319,
     "user": {
      "displayName": "Ararajuba Data Science Project",
      "photoUrl": "",
      "userId": "02004027308564222829"
     },
     "user_tz": 180
    },
    "id": "fCRQe3rDVmI3",
    "outputId": "f0646236-9afd-4907-8b17-53b00f66ad8b"
   },
   "outputs": [
    {
     "name": "stdout",
     "output_type": "stream",
     "text": [
      "0.9334039298741028\n"
     ]
    }
   ],
   "source": [
    "#Acuraria\n",
    "from sklearn import metrics\n",
    "print(metrics.accuracy_score(valid_y,predict_y))\n",
    "#Before 0.9208994407031161\n",
    "#       0.9253000537409686\n",
    "#       0.928955223880597\n",
    "#       0.9319331686080715\n",
    "#       0.9331097776208965\n",
    "#       0.9334039298741028"
   ]
  },
  {
   "cell_type": "code",
   "execution_count": null,
   "metadata": {
    "colab": {
     "base_uri": "https://localhost:8080/",
     "height": 36
    },
    "executionInfo": {
     "elapsed": 683,
     "status": "ok",
     "timestamp": 1582559864613,
     "user": {
      "displayName": "Ararajuba Data Science Project",
      "photoUrl": "",
      "userId": "02004027308564222829"
     },
     "user_tz": 180
    },
    "id": "ZI21nEA7YZ8I",
    "outputId": "1a2072ed-2c64-44c7-aa21-b0a9cc506b1f"
   },
   "outputs": [
    {
     "name": "stdout",
     "output_type": "stream",
     "text": [
      "0.9191081303682787\n"
     ]
    }
   ],
   "source": [
    "#Acuracia Nula\n",
    "acc = int(valid_y.value_counts()[0])\n",
    "acc_null = int(valid_y.value_counts()[1])\n",
    "\n",
    "print(acc/(acc+acc_null))\n",
    "#Before 0.8995548453372902\n",
    "#       0.9046396369499015 \n",
    "#       0.9053731343283582\n",
    "#       0.9191081303682787\n",
    "#       0.9191081303682787"
   ]
  },
  {
   "cell_type": "code",
   "execution_count": null,
   "metadata": {
    "colab": {
     "base_uri": "https://localhost:8080/",
     "height": 307
    },
    "executionInfo": {
     "elapsed": 829,
     "status": "ok",
     "timestamp": 1582559871379,
     "user": {
      "displayName": "Ararajuba Data Science Project",
      "photoUrl": "",
      "userId": "02004027308564222829"
     },
     "user_tz": 180
    },
    "id": "hTeBysmqaeNm",
    "outputId": "1eefd6f7-c86d-4d4a-be04-6ee22822603c"
   },
   "outputs": [
    {
     "name": "stdout",
     "output_type": "stream",
     "text": [
      "[[15446   177]\n",
      " [  955   420]]\n"
     ]
    },
    {
     "data": {
      "image/png": "[encoded data removed]",
      "text/plain": [
       "<Figure size 432x288 with 1 Axes>"
      ]
     },
     "metadata": {
      "tags": []
     },
     "output_type": "display_data"
    }
   ],
   "source": [
    "mglearn.plots.plot_binary_confusion_matrix()\n",
    "\n",
    "print(metrics.confusion_matrix(valid_y,predict_y))\n",
    "#[[14986   164]\n",
    "#[ 1076   521]]\n",
    "\n",
    "#[[2825   50]\n",
    "#[ 221  133]]\n",
    "\n",
    "#[[15448   175]\n",
    "# [  982   393]]\n",
    "\n",
    "#[[15441   182]\n",
    "# [  955   420]]"
   ]
  },
  {
   "cell_type": "code",
   "execution_count": null,
   "metadata": {
    "id": "FG-lBcx0qH_N"
   },
   "outputs": [],
   "source": [
    "confusion = metrics.confusion_matrix(valid_y,predict_y)\n",
    "TP = confusion[1,1]\n",
    "TN = confusion[0,0]\n",
    "FP = confusion[0,1]\n",
    "FN = confusion[1,0]"
   ]
  },
  {
   "cell_type": "code",
   "execution_count": null,
   "metadata": {
    "colab": {
     "base_uri": "https://localhost:8080/",
     "height": 36
    },
    "executionInfo": {
     "elapsed": 717,
     "status": "ok",
     "timestamp": 1582559891640,
     "user": {
      "displayName": "Ararajuba Data Science Project",
      "photoUrl": "",
      "userId": "02004027308564222829"
     },
     "user_tz": 180
    },
    "id": "b1zUp3PqqgP3",
    "outputId": "5e6ae5ba-cea9-4180-fe50-c5d9b63c658b"
   },
   "outputs": [
    {
     "name": "stdout",
     "output_type": "stream",
     "text": [
      "0.9334039298741028\n"
     ]
    }
   ],
   "source": [
    "#Acuracia de classificação\n",
    "print(metrics.accuracy_score(valid_y,predict_y))\n",
    "#Before: 0.9208994407031161\n",
    "#        0.9253000537409686\n",
    "#        0.928955223880597\n",
    "#        0.9319331686080715"
   ]
  },
  {
   "cell_type": "code",
   "execution_count": null,
   "metadata": {
    "colab": {
     "base_uri": "https://localhost:8080/",
     "height": 36
    },
    "executionInfo": {
     "elapsed": 751,
     "status": "ok",
     "timestamp": 1582559901318,
     "user": {
      "displayName": "Ararajuba Data Science Project",
      "photoUrl": "",
      "userId": "02004027308564222829"
     },
     "user_tz": 180
    },
    "id": "UsLoRPcsrH5E",
    "outputId": "cf0ab774-57ec-4a64-8edf-e623a3f41a04"
   },
   "outputs": [
    {
     "name": "stdout",
     "output_type": "stream",
     "text": [
      "0.3054545454545455\n"
     ]
    }
   ],
   "source": [
    "#Sensibilidade para óbitos\n",
    "print(metrics.recall_score(valid_y,predict_y))\n",
    "#Before 0.32329545454545455\n",
    "#       0.32435817157169694\n",
    "#       0.33753943217665616"
   ]
  },
  {
   "cell_type": "code",
   "execution_count": null,
   "metadata": {
    "colab": {
     "base_uri": "https://localhost:8080/",
     "height": 36
    },
    "executionInfo": {
     "elapsed": 650,
     "status": "ok",
     "timestamp": 1582559908147,
     "user": {
      "displayName": "Ararajuba Data Science Project",
      "photoUrl": "",
      "userId": "02004027308564222829"
     },
     "user_tz": 180
    },
    "id": "jFDyVijIrVoH",
    "outputId": "526eac04-47ed-47b5-9bb9-2f6643bde83e"
   },
   "outputs": [
    {
     "name": "stdout",
     "output_type": "stream",
     "text": [
      "0.9886705498303783\n"
     ]
    }
   ],
   "source": [
    "#Especificidade\n",
    "print(TN/(TN+FP))\n",
    "#Before 0.9876284735439665\n",
    "#       0.9886468646864687\n",
    "#       0.9907682162875041"
   ]
  },
  {
   "cell_type": "code",
   "execution_count": null,
   "metadata": {
    "colab": {
     "base_uri": "https://localhost:8080/",
     "height": 281
    },
    "executionInfo": {
     "elapsed": 642,
     "status": "ok",
     "timestamp": 1582559915870,
     "user": {
      "displayName": "Ararajuba Data Science Project",
      "photoUrl": "",
      "userId": "02004027308564222829"
     },
     "user_tz": 180
    },
    "id": "-MYf9gAVslNi",
    "outputId": "a562e611-b122-429d-b989-be29134af902"
   },
   "outputs": [
    {
     "data": {
      "image/png": "[encoded data removed]",
      "text/plain": [
       "<Figure size 432x288 with 1 Axes>"
      ]
     },
     "metadata": {
      "tags": []
     },
     "output_type": "display_data"
    }
   ],
   "source": [
    "plt.hist(probs, bins=8)\n",
    "plt.xlim(0,1)\n",
    "plt.title(\"Histograma de probabilidade\")\n",
    "plt.ylabel(\"Fequencia\")\n",
    "plt.show()"
   ]
  },
  {
   "cell_type": "code",
   "execution_count": null,
   "metadata": {
    "id": "Lq4VodBypDHT"
   },
   "outputs": [],
   "source": [
    "df_unlabeled_test = df_unlabeled_test.fillna(df_unlabeled_test.mean())"
   ]
  },
  {
   "cell_type": "code",
   "execution_count": null,
   "metadata": {
    "colab": {
     "base_uri": "https://localhost:8080/",
     "height": 200
    },
    "executionInfo": {
     "elapsed": 2527,
     "status": "ok",
     "timestamp": 1582559938689,
     "user": {
      "displayName": "Ararajuba Data Science Project",
      "photoUrl": "",
      "userId": "02004027308564222829"
     },
     "user_tz": 180
    },
    "id": "BCcbcy-RkWN0",
    "outputId": "67bc510c-d9e9-46aa-8680-39b086f9ce1e"
   },
   "outputs": [
    {
     "data": {
      "application/vnd.google.colaboratory.module+javascript": "\n      import \"https://ssl.gstatic.com/colaboratory/data_table/84ef27dae82052e3/data_table.js\";\n\n      window.createDataTable({\n        data: [[{\n            'v': 0,\n            'f': \"0\",\n        },\n{\n            'v': 2,\n            'f': \"2\",\n        },\n{\n            'v': 0.06061058398581864,\n            'f': \"0.06061058398581864\",\n        }],\n [{\n            'v': 1,\n            'f': \"1\",\n        },\n{\n            'v': 5,\n            'f': \"5\",\n        },\n{\n            'v': 0.043987819018911266,\n            'f': \"0.043987819018911266\",\n        }],\n [{\n            'v': 2,\n            'f': \"2\",\n        },\n{\n            'v': 7,\n            'f': \"7\",\n        },\n{\n            'v': 0.015959030052792124,\n            'f': \"0.015959030052792124\",\n        }],\n [{\n            'v': 3,\n            'f': \"3\",\n        },\n{\n            'v': 8,\n            'f': \"8\",\n        },\n{\n            'v': 0.11266670302908383,\n            'f': \"0.11266670302908383\",\n        }],\n [{\n            'v': 4,\n            'f': \"4\",\n        },\n{\n            'v': 10,\n            'f': \"10\",\n        },\n{\n            'v': 0.37985981152310344,\n            'f': \"0.37985981152310344\",\n        }]],\n        columns: [[\"number\", \"index\"], [\"number\", \"encounter_id\"], [\"number\", \"hospital_death\"]],\n        columnOptions: [{\"width\": \"1px\", \"className\": \"index_column\"}],\n        rowsPerPage: 25,\n        helpUrl: \"https://colab.research.google.com/notebooks/data_table.ipynb\",\n        suppressOutputScrolling: true,\n      });\n    ",
      "text/html": [
       "<div>\n",
       "<style scoped>\n",
       "    .dataframe tbody tr th:only-of-type {\n",
       "        vertical-align: middle;\n",
       "    }\n",
       "\n",
       "    .dataframe tbody tr th {\n",
       "        vertical-align: top;\n",
       "    }\n",
       "\n",
       "    .dataframe thead th {\n",
       "        text-align: right;\n",
       "    }\n",
       "</style>\n",
       "<table border=\"1\" class=\"dataframe\">\n",
       "  <thead>\n",
       "    <tr style=\"text-align: right;\">\n",
       "      <th></th>\n",
       "      <th>encounter_id</th>\n",
       "      <th>hospital_death</th>\n",
       "    </tr>\n",
       "  </thead>\n",
       "  <tbody>\n",
       "    <tr>\n",
       "      <th>0</th>\n",
       "      <td>2</td>\n",
       "      <td>0.060611</td>\n",
       "    </tr>\n",
       "    <tr>\n",
       "      <th>1</th>\n",
       "      <td>5</td>\n",
       "      <td>0.043988</td>\n",
       "    </tr>\n",
       "    <tr>\n",
       "      <th>2</th>\n",
       "      <td>7</td>\n",
       "      <td>0.015959</td>\n",
       "    </tr>\n",
       "    <tr>\n",
       "      <th>3</th>\n",
       "      <td>8</td>\n",
       "      <td>0.112667</td>\n",
       "    </tr>\n",
       "    <tr>\n",
       "      <th>4</th>\n",
       "      <td>10</td>\n",
       "      <td>0.379860</td>\n",
       "    </tr>\n",
       "  </tbody>\n",
       "</table>\n",
       "</div>"
      ],
      "text/plain": [
       "   encounter_id  hospital_death\n",
       "0             2        0.060611\n",
       "1             5        0.043988\n",
       "2             7        0.015959\n",
       "3             8        0.112667\n",
       "4            10        0.379860"
      ]
     },
     "execution_count": 218,
     "metadata": {
      "tags": []
     },
     "output_type": "execute_result"
    }
   ],
   "source": [
    "test = df_unlabeled_test.drop('hospital_death',axis = 1)\n",
    "test1 = test.copy()\n",
    "test1[\"hospital_death\"] = votingC.predict_proba(test)[:,1]\n",
    "test1[[\"encounter_id\",\"hospital_death\"]].to_csv(\"submission1.12.csv\",index=False)\n",
    "test1[[\"encounter_id\",\"hospital_death\"]].head()\n",
    "#0  2\t  0.06633578223210884\n",
    "#1\t5\t  0.04805582613668505\n",
    "#2\t7\t  0.02111677425951491\n",
    "#3\t8\t  0.13188982587360878\n",
    "#4\t10\t0.2444088078109492"
   ]
  },
  {
   "cell_type": "code",
   "execution_count": null,
   "metadata": {
    "colab": {
     "base_uri": "https://localhost:8080/",
     "height": 352
    },
    "executionInfo": {
     "elapsed": 700,
     "status": "ok",
     "timestamp": 1582559947843,
     "user": {
      "displayName": "Ararajuba Data Science Project",
      "photoUrl": "",
      "userId": "02004027308564222829"
     },
     "user_tz": 180
    },
    "id": "zofYYGrxtEo-",
    "outputId": "1a117bf7-2e8f-4611-c963-8da72934731e"
   },
   "outputs": [
    {
     "name": "stdout",
     "output_type": "stream",
     "text": [
      "Random under-sampling:\n",
      "0    77878\n",
      "1     7108\n",
      "Name: hospital_death, dtype: int64\n"
     ]
    },
    {
     "data": {
      "image/png": "[encoded data removed]",
      "text/plain": [
       "<Figure size 432x288 with 1 Axes>"
      ]
     },
     "metadata": {
      "tags": []
     },
     "output_type": "display_data"
    }
   ],
   "source": [
    "print('Random under-sampling:')\n",
    "print(df_training_test.hospital_death.value_counts())\n",
    "\n",
    "df_training_test.hospital_death.value_counts().plot(kind='bar', title='Count (hospital_death)');"
   ]
  }
 ],
 "metadata": {
  "colab": {
   "collapsed_sections": [
    "JHj9L63bOkTR",
    "CssoNBYpOprM",
    "fmuhDu2B3zkk",
    "MxkPhNr6QTLT",
    "0ASvm6c_QPhl",
    "CSxkU5Wt9rqm",
    "9KcuIJqnYlKm",
    "iNyKn8JzO5bD",
    "krJIh0-pR354",
    "nmzenRbx98jz",
    "RYFIViyrR8T9"
   ],
   "name": "camila_notebook.ipynb",
   "provenance": []
  },
  "kernelspec": {
   "display_name": "Python 3",
   "language": "python",
   "name": "python3"
  },
  "language_info": {
   "codemirror_mode": {
    "name": "ipython",
    "version": 3
   },
   "file_extension": ".py",
   "mimetype": "text/x-python",
   "name": "python",
   "nbconvert_exporter": "python",
   "pygments_lexer": "ipython3",
   "version": "3.8.3"
  }
 },
 "nbformat": 4,
 "nbformat_minor": 1
}
