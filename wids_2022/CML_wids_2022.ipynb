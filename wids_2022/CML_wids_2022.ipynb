{
 "cells": [
  {
   "cell_type": "markdown",
   "metadata": {
    "id": "AXrM7ubvCitr"
   },
   "source": []
  },
  {
   "cell_type": "markdown",
   "metadata": {
    "id": "3rhWRep_Clop"
   },
   "source": [
    "# WIDS Datathon 2022\n",
    "\n",
    "**Paticipantes**: Adriana, Camila, Graciele, Luiz\n",
    "\n",
    "**Grupo Kaggle**: Ararajuba\n",
    "\n",
    "**Ponto de atenção**: O Desafio deste ano está voltado a previsão envolvendo aproximadamente **100 mil observações** de registros de uso de energia de edifícios coletados ao longo de 7 anos e vários estados nos Estados Unidos. O conjunto de dados consiste em características do edifício (por exemplo, área do piso, tipo de instalação, etc.), dados meteorológicos para a localização do edifício (por exemplo, temperatura média anual, precipitação total anual, etc.), bem como o uso de energia para o edifício e o ano determinado, medido como Intensidade de Uso de Energia do Local (Site EUI). Cada linha nos dados corresponde a um único edifício observado em um determinado ano. Sua tarefa é prever o EUI do Site para cada linha, dadas as características do edifício e os dados climáticos para a localização do edifício.\n",
    "\n",
    "**Uso de dados externos**: A tarefa de datathon pode ser realizada com sucesso sem o uso de dados externos. Na verdade, o grau em que anonimizamos os dados dificultaria a junção de dados adicionais aos dados da concorrência. No entanto, os participantes que desejam fazê-lo podem usar dados externos adicionais com a finalidade de construir modelos preditivos.\n",
    "\n",
    "**Métrica a ser encaminhada no resultado: AUC**\n",
    "\n",
    "Tipos de algoritimos comuns: **XGBoost, CatBoost, Random Forest.**\n",
    "\n",
    "**DICA**: Separe 5% dos dados para testes antes da submição"
   ]
  },
  {
   "cell_type": "markdown",
   "metadata": {
    "id": "RCX6KFkkHEDJ"
   },
   "source": [
    "**Covariáveis**\n",
    "  * id: id do edifício\n",
    "  * Year_Factor: ano anônimo em que foram observados os fatores climáticos e de uso de energia\n",
    "  * State_Factor: estado anônimo em que o edifício está localizado\n",
    "  * building_class: classificação do edifício\n",
    "  * tipo_de_instalação: tipo de uso do edifício\n",
    "  * floor_area: área do piso (em pés quadrados) do edifício\n",
    "  * year_built: ano em que o edifício foi construído\n",
    "  * energy_star_rating: a classificação energética do edifício\n",
    "  * ELEVAÇÃO: elevação do local do edifício\n",
    "  * january_min_temp: temperatura mínima em janeiro (em Fahrenheit) no local do edifício\n",
    "  * january_avg_temp: temperatura média em janeiro (em Fahrenheit) no local do edifício\n",
    "  * january_max_temp: temperatura máxima em janeiro (em Fahrenheit) no local do edifício\n",
    "  * cooler_degree_days: o grau de resfriamento por dia para um determinado dia é o número de graus em que a temperatura média diária excede 65 graus Fahrenheit. Cada mês é somado para produzir um total anual no local do edifício.\n",
    "  *heating_degree_days: o dia do grau de aquecimento para um determinado dia é o número de graus em que a temperatura média diária cai abaixo de 65 graus Fahrenheit. Cada mês é somado para produzir um total anual no local do edifício.\n",
    "  * precipitação_inches: precipitação anual em polegadas no local do edifício\n",
    "  * snowfall_inches: queda de neve anual em polegadas no local do edifício\n",
    "  * snowdepth_inches: profundidade anual da neve em polegadas no local do edifício\n",
    "  * avg_temp: temperatura média ao longo de um ano no local do edifício\n",
    "  * days_below_30F: número total de dias abaixo de 30 graus Fahrenheit no local do edifício\n",
    "  * days_below_20F: número total de dias abaixo de 20 graus Fahrenheit no local do edifício\n",
    "  * days_below_10F: número total de dias abaixo de 10 graus Fahrenheit no local do edifício\n",
    "  * days_below_0F: número total de dias abaixo de 0 graus Fahrenheit no local do edifício\n",
    "  * days_above_80F: número total de dias acima de 80 graus Fahrenheit no local do edifício\n",
    "  * days_above_90F: número total de dias acima de 90 graus Fahrenheit no local do edifício\n",
    "  * days_above_100F: número total de dias acima de 100 graus Fahrenheit no local do edifício\n",
    "  * days_above_110F: número total de dias acima de 110 graus Fahrenheit no local do edifício\n",
    "  * direction_max_wind_speed: direção do vento para velocidade máxima do vento no local do edifício. Dado em direções de ponto de bússola de 360 ​​graus (por exemplo, 360 = norte, 180 = sul, etc.).\n",
    "  * direction_peak_wind_speed: direção do vento para a velocidade máxima da rajada de vento no local do edifício. Dado em direções de ponto de bússola de 360 ​​graus (por exemplo, 360 = norte, 180 = sul, etc.).\n",
    "  * max_wind_speed: velocidade máxima do vento no local do edifício\n",
    "  * days_with_fog: número de dias com neblina no local do prédio\n",
    "\n",
    "**Target**\n",
    "  * site_eui: Intensidade de uso de energia do local é a quantidade de calor e eletricidade consumida por um edifício conforme refletido nas contas de serviços públicos"
   ]
  },
  {
   "cell_type": "markdown",
   "metadata": {
    "id": "MYbdSnqYHvTa"
   },
   "source": [
    "# Setup"
   ]
  },
  {
   "cell_type": "code",
   "execution_count": 3,
   "metadata": {
    "executionInfo": {
     "elapsed": 897,
     "status": "ok",
     "timestamp": 1645889394837,
     "user": {
      "displayName": "Ararajuba Data Science Project",
      "photoUrl": "https://lh3.googleusercontent.com/a/default-user=s64",
      "userId": "02004027308564222829"
     },
     "user_tz": 180
    },
    "id": "IXeUX_wxIHzI"
   },
   "outputs": [],
   "source": [
    "# Pandas nos permite trabajar con DataFrames\n",
    "import pandas as pd\n",
    "# Para la visualización de datos\n",
    "import plotly.express as px\n",
    "import json\n",
    "import numpy as np\n",
    "import seaborn as sns\n",
    "import matplotlib.pyplot as plt\n",
    "\n",
    "# model\n",
    "from sklearn.impute import SimpleImputer\n",
    "from sklearn.model_selection import train_test_split\n",
    "from sklearn.ensemble import RandomForestClassifier,GradientBoostingClassifier ,VotingClassifier\n",
    "from sklearn.model_selection import cross_val_score\n",
    "from sklearn.model_selection import StratifiedKFold\n",
    "from sklearn.model_selection import validation_curve\n",
    "\n",
    "# roc curve and auc score\n",
    "from sklearn.metrics import accuracy_score\n",
    "from sklearn.metrics import roc_curve\n",
    "from sklearn.metrics import roc_auc_score\n",
    "\n",
    "#from sklearn import metrics as multioutput\n",
    "\n",
    "from sklearn import metrics\n",
    "\n",
    "%matplotlib inline\n",
    "%load_ext google.colab.data_table"
   ]
  },
  {
   "cell_type": "code",
   "execution_count": 4,
   "metadata": {
    "colab": {
     "base_uri": "https://localhost:8080/"
    },
    "executionInfo": {
     "elapsed": 6060,
     "status": "ok",
     "timestamp": 1645889400891,
     "user": {
      "displayName": "Ararajuba Data Science Project",
      "photoUrl": "https://lh3.googleusercontent.com/a/default-user=s64",
      "userId": "02004027308564222829"
     },
     "user_tz": 180
    },
    "id": "TjMWX_NZIMwr",
    "outputId": "8125cbde-8a26-404e-83a6-548d3b018977"
   },
   "outputs": [
    {
     "name": "stdout",
     "output_type": "stream",
     "text": [
      "Requirement already satisfied: mglearn in /usr/local/lib/python3.7/dist-packages (0.1.9)\n",
      "Requirement already satisfied: scikit-learn in /usr/local/lib/python3.7/dist-packages (from mglearn) (1.0.2)\n",
      "Requirement already satisfied: cycler in /usr/local/lib/python3.7/dist-packages (from mglearn) (0.11.0)\n",
      "Requirement already satisfied: matplotlib in /usr/local/lib/python3.7/dist-packages (from mglearn) (3.2.2)\n",
      "Requirement already satisfied: numpy in /usr/local/lib/python3.7/dist-packages (from mglearn) (1.21.5)\n",
      "Requirement already satisfied: joblib in /usr/local/lib/python3.7/dist-packages (from mglearn) (1.1.0)\n",
      "Requirement already satisfied: pillow in /usr/local/lib/python3.7/dist-packages (from mglearn) (7.1.2)\n",
      "Requirement already satisfied: pandas in /usr/local/lib/python3.7/dist-packages (from mglearn) (1.3.5)\n",
      "Requirement already satisfied: imageio in /usr/local/lib/python3.7/dist-packages (from mglearn) (2.4.1)\n",
      "Requirement already satisfied: python-dateutil>=2.1 in /usr/local/lib/python3.7/dist-packages (from matplotlib->mglearn) (2.8.2)\n",
      "Requirement already satisfied: kiwisolver>=1.0.1 in /usr/local/lib/python3.7/dist-packages (from matplotlib->mglearn) (1.3.2)\n",
      "Requirement already satisfied: pyparsing!=2.0.4,!=2.1.2,!=2.1.6,>=2.0.1 in /usr/local/lib/python3.7/dist-packages (from matplotlib->mglearn) (3.0.7)\n",
      "Requirement already satisfied: six>=1.5 in /usr/local/lib/python3.7/dist-packages (from python-dateutil>=2.1->matplotlib->mglearn) (1.15.0)\n",
      "Requirement already satisfied: pytz>=2017.3 in /usr/local/lib/python3.7/dist-packages (from pandas->mglearn) (2018.9)\n",
      "Requirement already satisfied: threadpoolctl>=2.0.0 in /usr/local/lib/python3.7/dist-packages (from scikit-learn->mglearn) (3.1.0)\n",
      "Requirement already satisfied: scipy>=1.1.0 in /usr/local/lib/python3.7/dist-packages (from scikit-learn->mglearn) (1.4.1)\n",
      "Requirement already satisfied: kaggle in /usr/local/lib/python3.7/dist-packages (1.5.12)\n",
      "Requirement already satisfied: tqdm in /usr/local/lib/python3.7/dist-packages (from kaggle) (4.62.3)\n",
      "Requirement already satisfied: python-dateutil in /usr/local/lib/python3.7/dist-packages (from kaggle) (2.8.2)\n",
      "Requirement already satisfied: python-slugify in /usr/local/lib/python3.7/dist-packages (from kaggle) (6.0.1)\n",
      "Requirement already satisfied: requests in /usr/local/lib/python3.7/dist-packages (from kaggle) (2.23.0)\n",
      "Requirement already satisfied: six>=1.10 in /usr/local/lib/python3.7/dist-packages (from kaggle) (1.15.0)\n",
      "Requirement already satisfied: urllib3 in /usr/local/lib/python3.7/dist-packages (from kaggle) (1.24.3)\n",
      "Requirement already satisfied: certifi in /usr/local/lib/python3.7/dist-packages (from kaggle) (2021.10.8)\n",
      "Requirement already satisfied: text-unidecode>=1.3 in /usr/local/lib/python3.7/dist-packages (from python-slugify->kaggle) (1.3)\n",
      "Requirement already satisfied: chardet<4,>=3.0.2 in /usr/local/lib/python3.7/dist-packages (from requests->kaggle) (3.0.4)\n",
      "Requirement already satisfied: idna<3,>=2.5 in /usr/local/lib/python3.7/dist-packages (from requests->kaggle) (2.10)\n",
      "mkdir: cannot create directory ‘/root/.kaggle’: File exists\n"
     ]
    }
   ],
   "source": [
    "!pip install mglearn\n",
    "!pip install kaggle\n",
    "!mkdir ~/.kaggle\n",
    "!touch '/root/.kaggle/kaggle.json'\n",
    "######################################################################################\n",
    "# Copia aquí tu USER NAME y API KEY de kaggle\n",
    "\n",
    "api_token = {\"username\":\"xx\",\"key\":\"xx\"}\n",
    "######################################################################################\n",
    "\n",
    "\n",
    "with open('/root/.kaggle/kaggle.json', 'w') as file:\n",
    "    json.dump(api_token, file)\n",
    "\n",
    "!chmod 600 /root/.kaggle/kaggle.json"
   ]
  },
  {
   "cell_type": "code",
   "execution_count": 5,
   "metadata": {
    "executionInfo": {
     "elapsed": 440,
     "status": "ok",
     "timestamp": 1645889401322,
     "user": {
      "displayName": "Ararajuba Data Science Project",
      "photoUrl": "https://lh3.googleusercontent.com/a/default-user=s64",
      "userId": "02004027308564222829"
     },
     "user_tz": 180
    },
    "id": "MuRT1T4UIRJs"
   },
   "outputs": [],
   "source": [
    "import mglearn"
   ]
  },
  {
   "cell_type": "code",
   "execution_count": 6,
   "metadata": {
    "colab": {
     "base_uri": "https://localhost:8080/"
    },
    "executionInfo": {
     "elapsed": 1753,
     "status": "ok",
     "timestamp": 1645889403071,
     "user": {
      "displayName": "Ararajuba Data Science Project",
      "photoUrl": "https://lh3.googleusercontent.com/a/default-user=s64",
      "userId": "02004027308564222829"
     },
     "user_tz": 180
    },
    "id": "5gRJGfYKIRt0",
    "outputId": "7d2b0bf4-d562-4c43-c25e-103c36b00b46"
   },
   "outputs": [
    {
     "name": "stdout",
     "output_type": "stream",
     "text": [
      "Warning: Looks like you're using an outdated API Version, please consider updating (server 1.5.12 / client 1.5.4)\n",
      "sample_solution.csv: Skipping, found more recently modified local copy (use --force to force download)\n",
      "train.csv.zip: Skipping, found more recently modified local copy (use --force to force download)\n",
      "test.csv.zip: Skipping, found more recently modified local copy (use --force to force download)\n"
     ]
    }
   ],
   "source": [
    "!kaggle competitions download -c widsdatathon2022"
   ]
  },
  {
   "cell_type": "code",
   "execution_count": 7,
   "metadata": {
    "executionInfo": {
     "elapsed": 10,
     "status": "ok",
     "timestamp": 1645889403071,
     "user": {
      "displayName": "Ararajuba Data Science Project",
      "photoUrl": "https://lh3.googleusercontent.com/a/default-user=s64",
      "userId": "02004027308564222829"
     },
     "user_tz": 180
    },
    "id": "xTK7XFE4E7X2"
   },
   "outputs": [],
   "source": [
    "## Funções\n",
    "alvo = 'site_eui'\n",
    "\n",
    "def ler_arquivos(arquivo):\n",
    "  df = pd.read_csv(arquivo)  \n",
    "  print(\"Dimenções \",arquivo, \"(filas, columnas)  : \", df.shape)\n",
    "  return df\n",
    "\n",
    "def remover_valores(df,column):\n",
    "  df = df[(df[column].notnull())]\n",
    "  print(df.shape)\n",
    "  return df\n",
    "\n",
    "def plot_roc_curve(fpr, tpr):\n",
    "    plt.plot(fpr, tpr, color='orange', label='ROC')\n",
    "    plt.plot([0, 1], [0, 1], color='darkblue', linestyle='--')\n",
    "    plt.xlabel('False Positive Rate')\n",
    "    plt.ylabel('True Positive Rate')\n",
    "    plt.title('Receiver Operating Characteristic (ROC) Curve')\n",
    "    plt.legend()\n",
    "    plt.show()\n",
    "\n",
    "def missing_values(df):\n",
    "  percent_missing = df.isnull().sum() * 100 / len(df)\n",
    "\n",
    "  missing_value_df = pd.DataFrame({'column_name': df.columns,\n",
    "                                  'percent_missing': percent_missing}).round(2)\n",
    "\n",
    "  missing_value_df.sort_values('percent_missing', inplace=True)\n",
    "  return missing_value_df\n",
    "\n",
    "def model_performance(model,X_test, y_test, y_val_pred):\n",
    "    '''Apresenta as métricas principais do modelo'''\n",
    "    \n",
    "    print(\"ACURÁCIA:                \",round(metrics.accuracy_score(y_test,y_val_pred),4))  \n",
    "    print(\"SENSIBILIDADE:           \",round(metrics.recall_score(y_test,y_val_pred),4))\n",
    "    print (\"PRECISÃO:                \",round(metrics.precision_score(y_test, y_val_pred),4))\n",
    "    print (\"F1-SCORE:                \",round(metrics.f1_score(y_test, y_val_pred),4))\n",
    "    print (\"ERRO QUADRADO AJUSTADO:  \",round(metrics.adjusted_rand_score(y_test, y_val_pred),4))    \n",
    "    print (\"ROC SCORE:               \",round(metrics.roc_auc_score(y_test, y_val_pred),4))  \n",
    "    print (\"MATRIZ DE CONFUSÃO:      \\n\",metrics.confusion_matrix(y_test, y_val_pred))\n",
    "\n",
    "def intervalo_prec(results):\n",
    "    mean = results.mean()\n",
    "    dv = results.std()\n",
    "    print('Precisão média: {:.2f}%'.format(mean*100))\n",
    "    print('Intervalo de Precisão: [{:.2f}% ~ {:.2f}%]'\n",
    "          .format((mean - 2*dv)*100, (mean + 2*dv)*100))\n",
    "\n",
    "def fillnan_mean_facility_gp(df,df_train,column):\n",
    "  if column in df:\n",
    "    gc = df_train.groupby(['facility_type_gp'],as_index=False).median().round(2)\n",
    "\n",
    "    for index, row in gc.iterrows():\n",
    "      df.loc[df.facility_type_gp== row['facility_type_gp'],column] = df.loc[df.facility_type_gp== row['facility_type_gp'],column].fillna(gc[gc['facility_type_gp'] == row['facility_type_gp']][column].median())\n",
    "      \n",
    "  return df\n",
    "\n",
    "def normalizar_dataset(df,df_train):\n",
    "  #v1\n",
    "  df = fillnan_mean_facility_gp(df,df_train,\"year_built\")\n",
    "  df = fillnan_mean_facility_gp(df,df_train,\"energy_star_rating\")\n",
    "  df = fillnan_mean_facility_gp(df,df_train,\"direction_max_wind_speed\")\n",
    "  df = fillnan_mean_facility_gp(df,df_train,\"max_wind_speed\")\n",
    "  df = fillnan_mean_facility_gp(df,df_train,\"direction_peak_wind_speed\")\n",
    "  df = fillnan_mean_facility_gp(df,df_train,\"days_with_fog\")\n",
    "\n",
    "  #<to-do>\n",
    "\n",
    "  return df"
   ]
  },
  {
   "cell_type": "code",
   "execution_count": 8,
   "metadata": {
    "colab": {
     "base_uri": "https://localhost:8080/"
    },
    "executionInfo": {
     "elapsed": 626,
     "status": "ok",
     "timestamp": 1645889403689,
     "user": {
      "displayName": "Ararajuba Data Science Project",
      "photoUrl": "https://lh3.googleusercontent.com/a/default-user=s64",
      "userId": "02004027308564222829"
     },
     "user_tz": 180
    },
    "id": "FZMPZHJsIXnh",
    "outputId": "0712cb7c-1242-4385-87e1-c12547f4d234"
   },
   "outputs": [
    {
     "name": "stdout",
     "output_type": "stream",
     "text": [
      "Archive:  test.csv.zip\n",
      "  inflating: test.csv                \n",
      "Archive:  train.csv.zip\n",
      "  inflating: train.csv               \n"
     ]
    }
   ],
   "source": [
    "!unzip -o test.csv.zip\n",
    "!unzip -o train.csv.zip"
   ]
  },
  {
   "cell_type": "code",
   "execution_count": 9,
   "metadata": {
    "colab": {
     "base_uri": "https://localhost:8080/"
    },
    "executionInfo": {
     "elapsed": 394,
     "status": "ok",
     "timestamp": 1645889404075,
     "user": {
      "displayName": "Ararajuba Data Science Project",
      "photoUrl": "https://lh3.googleusercontent.com/a/default-user=s64",
      "userId": "02004027308564222829"
     },
     "user_tz": 180
    },
    "id": "4PFO_YlFIZU7",
    "outputId": "3b30e5b4-debe-4ce9-b3e1-e3f2ac8bed11"
   },
   "outputs": [
    {
     "name": "stdout",
     "output_type": "stream",
     "text": [
      "cache\t     sample_solution.csv  test.csv\ttrain.csv\n",
      "sample_data  submission_1.0.csv   test.csv.zip\ttrain.csv.zip\n"
     ]
    }
   ],
   "source": [
    "!ls"
   ]
  },
  {
   "cell_type": "code",
   "execution_count": 10,
   "metadata": {
    "colab": {
     "base_uri": "https://localhost:8080/"
    },
    "executionInfo": {
     "elapsed": 277,
     "status": "ok",
     "timestamp": 1645889404349,
     "user": {
      "displayName": "Ararajuba Data Science Project",
      "photoUrl": "https://lh3.googleusercontent.com/a/default-user=s64",
      "userId": "02004027308564222829"
     },
     "user_tz": 180
    },
    "id": "E3bW-0NQIn9t",
    "outputId": "d0476abd-0170-4be1-e2f3-04ab96847b83"
   },
   "outputs": [
    {
     "name": "stdout",
     "output_type": "stream",
     "text": [
      "Dimenções  train.csv (filas, columnas)  :  (75757, 64)\n",
      "Dimenções  test.csv (filas, columnas)  :  (9705, 63)\n",
      "Dimenções  sample_solution.csv (filas, columnas)  :  (9705, 2)\n"
     ]
    }
   ],
   "source": [
    "df_training          = ler_arquivos('train.csv')\n",
    "df_test              = ler_arquivos('test.csv')\n",
    "df_samplesubmission  = ler_arquivos('sample_solution.csv')"
   ]
  },
  {
   "cell_type": "code",
   "execution_count": 11,
   "metadata": {
    "colab": {
     "base_uri": "https://localhost:8080/",
     "height": 0
    },
    "executionInfo": {
     "elapsed": 495,
     "status": "ok",
     "timestamp": 1645889404842,
     "user": {
      "displayName": "Ararajuba Data Science Project",
      "photoUrl": "https://lh3.googleusercontent.com/a/default-user=s64",
      "userId": "02004027308564222829"
     },
     "user_tz": 180
    },
    "id": "2tnMsFQZnBBx",
    "outputId": "a1e9086a-61f4-4f46-db1a-5547ce4337da"
   },
   "outputs": [
    {
     "data": {
      "application/vnd.google.colaboratory.module+javascript": "\n      import \"https://ssl.gstatic.com/colaboratory/data_table/81f25a011006ed3d/data_table.js\";\n\n      window.createDataTable({\n        data: [[{\n            'v': 0,\n            'f': \"0\",\n        },\n{\n            'v': 75757,\n            'f': \"75757\",\n        },\n{\n            'v': 0.0,\n            'f': \"0.0\",\n        }]],\n        columns: [[\"number\", \"index\"], [\"number\", \"id\"], [\"number\", \"site_eui\"]],\n        columnOptions: [{\"width\": \"1px\", \"className\": \"index_column\"}],\n        rowsPerPage: 25,\n        helpUrl: \"https://colab.research.google.com/notebooks/data_table.ipynb\",\n        suppressOutputScrolling: true,\n        minimumWidth: undefined,\n      });\n    ",
      "text/html": [
       "\n",
       "  <div id=\"df-d8f9ed60-b6ab-483e-8f5e-94541d44058a\">\n",
       "    <div class=\"colab-df-container\">\n",
       "      <div>\n",
       "<style scoped>\n",
       "    .dataframe tbody tr th:only-of-type {\n",
       "        vertical-align: middle;\n",
       "    }\n",
       "\n",
       "    .dataframe tbody tr th {\n",
       "        vertical-align: top;\n",
       "    }\n",
       "\n",
       "    .dataframe thead th {\n",
       "        text-align: right;\n",
       "    }\n",
       "</style>\n",
       "<table border=\"1\" class=\"dataframe\">\n",
       "  <thead>\n",
       "    <tr style=\"text-align: right;\">\n",
       "      <th></th>\n",
       "      <th>id</th>\n",
       "      <th>site_eui</th>\n",
       "    </tr>\n",
       "  </thead>\n",
       "  <tbody>\n",
       "    <tr>\n",
       "      <th>0</th>\n",
       "      <td>75757</td>\n",
       "      <td>0.0</td>\n",
       "    </tr>\n",
       "  </tbody>\n",
       "</table>\n",
       "</div>\n",
       "      <button class=\"colab-df-convert\" onclick=\"convertToInteractive('df-d8f9ed60-b6ab-483e-8f5e-94541d44058a')\"\n",
       "              title=\"Convert this dataframe to an interactive table.\"\n",
       "              style=\"display:none;\">\n",
       "        \n",
       "  <svg xmlns=\"http://www.w3.org/2000/svg\" height=\"24px\"viewBox=\"0 0 24 24\"\n",
       "       width=\"24px\">\n",
       "    <path d=\"M0 0h24v24H0V0z\" fill=\"none\"/>\n",
       "    <path d=\"M18.56 5.44l.94 2.06.94-2.06 2.06-.94-2.06-.94-.94-2.06-.94 2.06-2.06.94zm-11 1L8.5 8.5l.94-2.06 2.06-.94-2.06-.94L8.5 2.5l-.94 2.06-2.06.94zm10 10l.94 2.06.94-2.06 2.06-.94-2.06-.94-.94-2.06-.94 2.06-2.06.94z\"/><path d=\"M17.41 7.96l-1.37-1.37c-.4-.4-.92-.59-1.43-.59-.52 0-1.04.2-1.43.59L10.3 9.45l-7.72 7.72c-.78.78-.78 2.05 0 2.83L4 21.41c.39.39.9.59 1.41.59.51 0 1.02-.2 1.41-.59l7.78-7.78 2.81-2.81c.8-.78.8-2.07 0-2.86zM5.41 20L4 18.59l7.72-7.72 1.47 1.35L5.41 20z\"/>\n",
       "  </svg>\n",
       "      </button>\n",
       "      \n",
       "  <style>\n",
       "    .colab-df-container {\n",
       "      display:flex;\n",
       "      flex-wrap:wrap;\n",
       "      gap: 12px;\n",
       "    }\n",
       "\n",
       "    .colab-df-convert {\n",
       "      background-color: #E8F0FE;\n",
       "      border: none;\n",
       "      border-radius: 50%;\n",
       "      cursor: pointer;\n",
       "      display: none;\n",
       "      fill: #1967D2;\n",
       "      height: 32px;\n",
       "      padding: 0 0 0 0;\n",
       "      width: 32px;\n",
       "    }\n",
       "\n",
       "    .colab-df-convert:hover {\n",
       "      background-color: #E2EBFA;\n",
       "      box-shadow: 0px 1px 2px rgba(60, 64, 67, 0.3), 0px 1px 3px 1px rgba(60, 64, 67, 0.15);\n",
       "      fill: #174EA6;\n",
       "    }\n",
       "\n",
       "    [theme=dark] .colab-df-convert {\n",
       "      background-color: #3B4455;\n",
       "      fill: #D2E3FC;\n",
       "    }\n",
       "\n",
       "    [theme=dark] .colab-df-convert:hover {\n",
       "      background-color: #434B5C;\n",
       "      box-shadow: 0px 1px 3px 1px rgba(0, 0, 0, 0.15);\n",
       "      filter: drop-shadow(0px 1px 2px rgba(0, 0, 0, 0.3));\n",
       "      fill: #FFFFFF;\n",
       "    }\n",
       "  </style>\n",
       "\n",
       "      <script>\n",
       "        const buttonEl =\n",
       "          document.querySelector('#df-d8f9ed60-b6ab-483e-8f5e-94541d44058a button.colab-df-convert');\n",
       "        buttonEl.style.display =\n",
       "          google.colab.kernel.accessAllowed ? 'block' : 'none';\n",
       "\n",
       "        async function convertToInteractive(key) {\n",
       "          const element = document.querySelector('#df-d8f9ed60-b6ab-483e-8f5e-94541d44058a');\n",
       "          const dataTable =\n",
       "            await google.colab.kernel.invokeFunction('convertToInteractive',\n",
       "                                                     [key], {});\n",
       "          if (!dataTable) return;\n",
       "\n",
       "          const docLinkHtml = 'Like what you see? Visit the ' +\n",
       "            '<a target=\"_blank\" href=https://colab.research.google.com/notebooks/data_table.ipynb>data table notebook</a>'\n",
       "            + ' to learn more about interactive tables.';\n",
       "          element.innerHTML = '';\n",
       "          dataTable['output_type'] = 'display_data';\n",
       "          await google.colab.output.renderOutput(dataTable, element);\n",
       "          const docLink = document.createElement('div');\n",
       "          docLink.innerHTML = docLinkHtml;\n",
       "          element.appendChild(docLink);\n",
       "        }\n",
       "      </script>\n",
       "    </div>\n",
       "  </div>\n",
       "  "
      ],
      "text/plain": [
       "      id  site_eui\n",
       "0  75757       0.0"
      ]
     },
     "execution_count": 11,
     "metadata": {},
     "output_type": "execute_result"
    }
   ],
   "source": [
    "df_samplesubmission.head(1)"
   ]
  },
  {
   "cell_type": "code",
   "execution_count": 12,
   "metadata": {
    "colab": {
     "base_uri": "https://localhost:8080/",
     "height": 0
    },
    "executionInfo": {
     "elapsed": 14,
     "status": "ok",
     "timestamp": 1645889404843,
     "user": {
      "displayName": "Ararajuba Data Science Project",
      "photoUrl": "https://lh3.googleusercontent.com/a/default-user=s64",
      "userId": "02004027308564222829"
     },
     "user_tz": 180
    },
    "id": "F4mgMj9lJUJN",
    "outputId": "253d4102-18f4-4e1b-877d-27568926c0b9"
   },
   "outputs": [
    {
     "data": {
      "application/vnd.google.colaboratory.module+javascript": "\n      import \"https://ssl.gstatic.com/colaboratory/data_table/81f25a011006ed3d/data_table.js\";\n\n      window.createDataTable({\n        data: [[\"Year_Factor\",\n1,\n1,\n1],\n [\"State_Factor\",\n\"State_1\",\n\"State_1\",\n\"State_1\"],\n [\"building_class\",\n\"Commercial\",\n\"Commercial\",\n\"Commercial\"],\n [\"facility_type\",\n\"Grocery_store_or_food_market\",\n\"Warehouse_Distribution_or_Shipping_center\",\n\"Retail_Enclosed_mall\"],\n [\"floor_area\",\n61242.0,\n274000.0,\n280025.0],\n [\"year_built\",\n1942.0,\n1955.0,\n1951.0],\n [\"energy_star_rating\",\n11.0,\n45.0,\n97.0],\n [\"ELEVATION\",\n2.4,\n1.8,\n1.8],\n [\"january_min_temp\",\n36,\n36,\n36],\n [\"january_avg_temp\",\n50.5,\n50.5,\n50.5],\n [\"january_max_temp\",\n68,\n68,\n68],\n [\"february_min_temp\",\n35,\n35,\n35],\n [\"february_avg_temp\",\n50.58928571,\n50.58928571,\n50.58928571],\n [\"february_max_temp\",\n73,\n73,\n73],\n [\"march_min_temp\",\n40,\n40,\n40],\n [\"march_avg_temp\",\n53.69354839,\n53.69354839,\n53.69354839],\n [\"march_max_temp\",\n80,\n80,\n80],\n [\"april_min_temp\",\n41,\n41,\n41],\n [\"april_avg_temp\",\n55.5,\n55.5,\n55.5],\n [\"april_max_temp\",\n78,\n78,\n78],\n [\"may_min_temp\",\n46,\n46,\n46],\n [\"may_avg_temp\",\n56.85483871,\n56.85483871,\n56.85483871],\n [\"may_max_temp\",\n84,\n84,\n84],\n [\"june_min_temp\",\n50,\n50,\n50],\n [\"june_avg_temp\",\n60.5,\n60.5,\n60.5],\n [\"june_max_temp\",\n90,\n90,\n90],\n [\"july_min_temp\",\n52,\n52,\n52],\n [\"july_avg_temp\",\n62.72580645,\n62.72580645,\n62.72580645],\n [\"july_max_temp\",\n84,\n84,\n84],\n [\"august_min_temp\",\n52,\n52,\n52],\n [\"august_avg_temp\",\n62.16129032,\n62.16129032,\n62.16129032],\n [\"august_max_temp\",\n85,\n85,\n85],\n [\"september_min_temp\",\n52,\n52,\n52],\n [\"september_avg_temp\",\n64.65,\n64.65,\n64.65],\n [\"september_max_temp\",\n90,\n90,\n90],\n [\"october_min_temp\",\n47,\n47,\n47],\n [\"october_avg_temp\",\n63.01612903,\n63.01612903,\n63.01612903],\n [\"october_max_temp\",\n83,\n83,\n83],\n [\"november_min_temp\",\n43,\n43,\n43],\n [\"november_avg_temp\",\n53.8,\n53.8,\n53.8],\n [\"november_max_temp\",\n72,\n72,\n72],\n [\"december_min_temp\",\n36,\n36,\n36],\n [\"december_avg_temp\",\n49.27419355,\n49.27419355,\n49.27419355],\n [\"december_max_temp\",\n71,\n71,\n71],\n [\"cooling_degree_days\",\n115,\n115,\n115],\n [\"heating_degree_days\",\n2960,\n2960,\n2960],\n [\"precipitation_inches\",\n16.59,\n16.59,\n16.59],\n [\"snowfall_inches\",\n0.0,\n0.0,\n0.0],\n [\"snowdepth_inches\",\n0,\n0,\n0],\n [\"avg_temp\",\n56.97260274,\n56.97260274,\n56.97260274],\n [\"days_below_30F\",\n0,\n0,\n0],\n [\"days_below_20F\",\n0,\n0,\n0],\n [\"days_below_10F\",\n0,\n0,\n0],\n [\"days_below_0F\",\n0,\n0,\n0],\n [\"days_above_80F\",\n14,\n14,\n14],\n [\"days_above_90F\",\n0,\n0,\n0],\n [\"days_above_100F\",\n0,\n0,\n0],\n [\"days_above_110F\",\n0,\n0,\n0],\n [\"direction_max_wind_speed\",\n1.0,\n1.0,\n1.0],\n [\"direction_peak_wind_speed\",\n1.0,\nNaN,\nNaN],\n [\"max_wind_speed\",\n1.0,\n1.0,\n1.0],\n [\"days_with_fog\",\nNaN,\n12.0,\n12.0],\n [\"site_eui\",\n248.6826155,\n26.50014971,\n24.69361928],\n [\"id\",\n0,\n1,\n2]],\n        columns: [[\"string\", \"index\"], [\"string\", \"0\"], [\"string\", \"1\"], [\"string\", \"2\"]],\n        columnOptions: [{\"width\": \"1px\", \"className\": \"index_column\"}],\n        rowsPerPage: 25,\n        helpUrl: \"https://colab.research.google.com/notebooks/data_table.ipynb\",\n        suppressOutputScrolling: true,\n        minimumWidth: undefined,\n      });\n    ",
      "text/html": [
       "\n",
       "  <div id=\"df-ed494c01-15a1-4f00-9442-5f9d7619f59c\">\n",
       "    <div class=\"colab-df-container\">\n",
       "      <div>\n",
       "<style scoped>\n",
       "    .dataframe tbody tr th:only-of-type {\n",
       "        vertical-align: middle;\n",
       "    }\n",
       "\n",
       "    .dataframe tbody tr th {\n",
       "        vertical-align: top;\n",
       "    }\n",
       "\n",
       "    .dataframe thead th {\n",
       "        text-align: right;\n",
       "    }\n",
       "</style>\n",
       "<table border=\"1\" class=\"dataframe\">\n",
       "  <thead>\n",
       "    <tr style=\"text-align: right;\">\n",
       "      <th></th>\n",
       "      <th>0</th>\n",
       "      <th>1</th>\n",
       "      <th>2</th>\n",
       "    </tr>\n",
       "  </thead>\n",
       "  <tbody>\n",
       "    <tr>\n",
       "      <th>Year_Factor</th>\n",
       "      <td>1</td>\n",
       "      <td>1</td>\n",
       "      <td>1</td>\n",
       "    </tr>\n",
       "    <tr>\n",
       "      <th>State_Factor</th>\n",
       "      <td>State_1</td>\n",
       "      <td>State_1</td>\n",
       "      <td>State_1</td>\n",
       "    </tr>\n",
       "    <tr>\n",
       "      <th>building_class</th>\n",
       "      <td>Commercial</td>\n",
       "      <td>Commercial</td>\n",
       "      <td>Commercial</td>\n",
       "    </tr>\n",
       "    <tr>\n",
       "      <th>facility_type</th>\n",
       "      <td>Grocery_store_or_food_market</td>\n",
       "      <td>Warehouse_Distribution_or_Shipping_center</td>\n",
       "      <td>Retail_Enclosed_mall</td>\n",
       "    </tr>\n",
       "    <tr>\n",
       "      <th>floor_area</th>\n",
       "      <td>61242.0</td>\n",
       "      <td>274000.0</td>\n",
       "      <td>280025.0</td>\n",
       "    </tr>\n",
       "    <tr>\n",
       "      <th>...</th>\n",
       "      <td>...</td>\n",
       "      <td>...</td>\n",
       "      <td>...</td>\n",
       "    </tr>\n",
       "    <tr>\n",
       "      <th>direction_peak_wind_speed</th>\n",
       "      <td>1.0</td>\n",
       "      <td>NaN</td>\n",
       "      <td>NaN</td>\n",
       "    </tr>\n",
       "    <tr>\n",
       "      <th>max_wind_speed</th>\n",
       "      <td>1.0</td>\n",
       "      <td>1.0</td>\n",
       "      <td>1.0</td>\n",
       "    </tr>\n",
       "    <tr>\n",
       "      <th>days_with_fog</th>\n",
       "      <td>NaN</td>\n",
       "      <td>12.0</td>\n",
       "      <td>12.0</td>\n",
       "    </tr>\n",
       "    <tr>\n",
       "      <th>site_eui</th>\n",
       "      <td>248.682615</td>\n",
       "      <td>26.50015</td>\n",
       "      <td>24.693619</td>\n",
       "    </tr>\n",
       "    <tr>\n",
       "      <th>id</th>\n",
       "      <td>0</td>\n",
       "      <td>1</td>\n",
       "      <td>2</td>\n",
       "    </tr>\n",
       "  </tbody>\n",
       "</table>\n",
       "<p>64 rows × 3 columns</p>\n",
       "</div>\n",
       "      <button class=\"colab-df-convert\" onclick=\"convertToInteractive('df-ed494c01-15a1-4f00-9442-5f9d7619f59c')\"\n",
       "              title=\"Convert this dataframe to an interactive table.\"\n",
       "              style=\"display:none;\">\n",
       "        \n",
       "  <svg xmlns=\"http://www.w3.org/2000/svg\" height=\"24px\"viewBox=\"0 0 24 24\"\n",
       "       width=\"24px\">\n",
       "    <path d=\"M0 0h24v24H0V0z\" fill=\"none\"/>\n",
       "    <path d=\"M18.56 5.44l.94 2.06.94-2.06 2.06-.94-2.06-.94-.94-2.06-.94 2.06-2.06.94zm-11 1L8.5 8.5l.94-2.06 2.06-.94-2.06-.94L8.5 2.5l-.94 2.06-2.06.94zm10 10l.94 2.06.94-2.06 2.06-.94-2.06-.94-.94-2.06-.94 2.06-2.06.94z\"/><path d=\"M17.41 7.96l-1.37-1.37c-.4-.4-.92-.59-1.43-.59-.52 0-1.04.2-1.43.59L10.3 9.45l-7.72 7.72c-.78.78-.78 2.05 0 2.83L4 21.41c.39.39.9.59 1.41.59.51 0 1.02-.2 1.41-.59l7.78-7.78 2.81-2.81c.8-.78.8-2.07 0-2.86zM5.41 20L4 18.59l7.72-7.72 1.47 1.35L5.41 20z\"/>\n",
       "  </svg>\n",
       "      </button>\n",
       "      \n",
       "  <style>\n",
       "    .colab-df-container {\n",
       "      display:flex;\n",
       "      flex-wrap:wrap;\n",
       "      gap: 12px;\n",
       "    }\n",
       "\n",
       "    .colab-df-convert {\n",
       "      background-color: #E8F0FE;\n",
       "      border: none;\n",
       "      border-radius: 50%;\n",
       "      cursor: pointer;\n",
       "      display: none;\n",
       "      fill: #1967D2;\n",
       "      height: 32px;\n",
       "      padding: 0 0 0 0;\n",
       "      width: 32px;\n",
       "    }\n",
       "\n",
       "    .colab-df-convert:hover {\n",
       "      background-color: #E2EBFA;\n",
       "      box-shadow: 0px 1px 2px rgba(60, 64, 67, 0.3), 0px 1px 3px 1px rgba(60, 64, 67, 0.15);\n",
       "      fill: #174EA6;\n",
       "    }\n",
       "\n",
       "    [theme=dark] .colab-df-convert {\n",
       "      background-color: #3B4455;\n",
       "      fill: #D2E3FC;\n",
       "    }\n",
       "\n",
       "    [theme=dark] .colab-df-convert:hover {\n",
       "      background-color: #434B5C;\n",
       "      box-shadow: 0px 1px 3px 1px rgba(0, 0, 0, 0.15);\n",
       "      filter: drop-shadow(0px 1px 2px rgba(0, 0, 0, 0.3));\n",
       "      fill: #FFFFFF;\n",
       "    }\n",
       "  </style>\n",
       "\n",
       "      <script>\n",
       "        const buttonEl =\n",
       "          document.querySelector('#df-ed494c01-15a1-4f00-9442-5f9d7619f59c button.colab-df-convert');\n",
       "        buttonEl.style.display =\n",
       "          google.colab.kernel.accessAllowed ? 'block' : 'none';\n",
       "\n",
       "        async function convertToInteractive(key) {\n",
       "          const element = document.querySelector('#df-ed494c01-15a1-4f00-9442-5f9d7619f59c');\n",
       "          const dataTable =\n",
       "            await google.colab.kernel.invokeFunction('convertToInteractive',\n",
       "                                                     [key], {});\n",
       "          if (!dataTable) return;\n",
       "\n",
       "          const docLinkHtml = 'Like what you see? Visit the ' +\n",
       "            '<a target=\"_blank\" href=https://colab.research.google.com/notebooks/data_table.ipynb>data table notebook</a>'\n",
       "            + ' to learn more about interactive tables.';\n",
       "          element.innerHTML = '';\n",
       "          dataTable['output_type'] = 'display_data';\n",
       "          await google.colab.output.renderOutput(dataTable, element);\n",
       "          const docLink = document.createElement('div');\n",
       "          docLink.innerHTML = docLinkHtml;\n",
       "          element.appendChild(docLink);\n",
       "        }\n",
       "      </script>\n",
       "    </div>\n",
       "  </div>\n",
       "  "
      ],
      "text/plain": [
       "                                                      0  ...                     2\n",
       "Year_Factor                                           1  ...                     1\n",
       "State_Factor                                    State_1  ...               State_1\n",
       "building_class                               Commercial  ...            Commercial\n",
       "facility_type              Grocery_store_or_food_market  ...  Retail_Enclosed_mall\n",
       "floor_area                                      61242.0  ...              280025.0\n",
       "...                                                 ...  ...                   ...\n",
       "direction_peak_wind_speed                           1.0  ...                   NaN\n",
       "max_wind_speed                                      1.0  ...                   1.0\n",
       "days_with_fog                                       NaN  ...                  12.0\n",
       "site_eui                                     248.682615  ...             24.693619\n",
       "id                                                    0  ...                     2\n",
       "\n",
       "[64 rows x 3 columns]"
      ]
     },
     "execution_count": 12,
     "metadata": {},
     "output_type": "execute_result"
    }
   ],
   "source": [
    "df_training.head(3).transpose()"
   ]
  },
  {
   "cell_type": "code",
   "execution_count": 13,
   "metadata": {
    "colab": {
     "base_uri": "https://localhost:8080/",
     "height": 0
    },
    "executionInfo": {
     "elapsed": 501,
     "status": "ok",
     "timestamp": 1645889405333,
     "user": {
      "displayName": "Ararajuba Data Science Project",
      "photoUrl": "https://lh3.googleusercontent.com/a/default-user=s64",
      "userId": "02004027308564222829"
     },
     "user_tz": 180
    },
    "id": "O85ldLZxJicH",
    "outputId": "eaf4d533-edad-4987-b84b-5e24bb183d3a"
   },
   "outputs": [
    {
     "data": {
      "application/vnd.google.colaboratory.module+javascript": "\n      import \"https://ssl.gstatic.com/colaboratory/data_table/81f25a011006ed3d/data_table.js\";\n\n      window.createDataTable({\n        data: [[\"Year_Factor\",\n{\n            'v': 75757.0,\n            'f': \"75757.0\",\n        },\n{\n            'v': 4.367754794936442,\n            'f': \"4.367754794936442\",\n        },\n{\n            'v': 1.4714414951213257,\n            'f': \"1.4714414951213257\",\n        },\n{\n            'v': 1.0,\n            'f': \"1.0\",\n        },\n{\n            'v': 3.0,\n            'f': \"3.0\",\n        },\n{\n            'v': 5.0,\n            'f': \"5.0\",\n        },\n{\n            'v': 6.0,\n            'f': \"6.0\",\n        },\n{\n            'v': 6.0,\n            'f': \"6.0\",\n        }],\n [\"floor_area\",\n{\n            'v': 75757.0,\n            'f': \"75757.0\",\n        },\n{\n            'v': 165983.86585794052,\n            'f': \"165983.86585794052\",\n        },\n{\n            'v': 246875.79093988513,\n            'f': \"246875.79093988513\",\n        },\n{\n            'v': 943.0,\n            'f': \"943.0\",\n        },\n{\n            'v': 62379.0,\n            'f': \"62379.0\",\n        },\n{\n            'v': 91367.0,\n            'f': \"91367.0\",\n        },\n{\n            'v': 166000.0,\n            'f': \"166000.0\",\n        },\n{\n            'v': 6385382.0,\n            'f': \"6385382.0\",\n        }],\n [\"year_built\",\n{\n            'v': 73920.0,\n            'f': \"73920.0\",\n        },\n{\n            'v': 1952.306764069264,\n            'f': \"1952.306764069264\",\n        },\n{\n            'v': 37.0536190090074,\n            'f': \"37.0536190090074\",\n        },\n{\n            'v': 0.0,\n            'f': \"0.0\",\n        },\n{\n            'v': 1927.0,\n            'f': \"1927.0\",\n        },\n{\n            'v': 1951.0,\n            'f': \"1951.0\",\n        },\n{\n            'v': 1977.0,\n            'f': \"1977.0\",\n        },\n{\n            'v': 2015.0,\n            'f': \"2015.0\",\n        }],\n [\"energy_star_rating\",\n{\n            'v': 49048.0,\n            'f': \"49048.0\",\n        },\n{\n            'v': 61.048605447724675,\n            'f': \"61.048605447724675\",\n        },\n{\n            'v': 28.66368341807874,\n            'f': \"28.66368341807874\",\n        },\n{\n            'v': 0.0,\n            'f': \"0.0\",\n        },\n{\n            'v': 40.0,\n            'f': \"40.0\",\n        },\n{\n            'v': 67.0,\n            'f': \"67.0\",\n        },\n{\n            'v': 85.0,\n            'f': \"85.0\",\n        },\n{\n            'v': 100.0,\n            'f': \"100.0\",\n        }],\n [\"ELEVATION\",\n{\n            'v': 75757.0,\n            'f': \"75757.0\",\n        },\n{\n            'v': 39.50632284803096,\n            'f': \"39.50632284803096\",\n        },\n{\n            'v': 60.656596487849654,\n            'f': \"60.656596487849654\",\n        },\n{\n            'v': -6.4,\n            'f': \"-6.4\",\n        },\n{\n            'v': 11.9,\n            'f': \"11.9\",\n        },\n{\n            'v': 25.0,\n            'f': \"25.0\",\n        },\n{\n            'v': 42.7,\n            'f': \"42.7\",\n        },\n{\n            'v': 1924.5,\n            'f': \"1924.5\",\n        }],\n [\"january_min_temp\",\n{\n            'v': 75757.0,\n            'f': \"75757.0\",\n        },\n{\n            'v': 11.432342885805932,\n            'f': \"11.432342885805932\",\n        },\n{\n            'v': 9.381027445125829,\n            'f': \"9.381027445125829\",\n        },\n{\n            'v': -19.0,\n            'f': \"-19.0\",\n        },\n{\n            'v': 6.0,\n            'f': \"6.0\",\n        },\n{\n            'v': 11.0,\n            'f': \"11.0\",\n        },\n{\n            'v': 13.0,\n            'f': \"13.0\",\n        },\n{\n            'v': 49.0,\n            'f': \"49.0\",\n        }],\n [\"january_avg_temp\",\n{\n            'v': 75757.0,\n            'f': \"75757.0\",\n        },\n{\n            'v': 34.31046822242821,\n            'f': \"34.31046822242821\",\n        },\n{\n            'v': 6.996107839990928,\n            'f': \"6.996107839990928\",\n        },\n{\n            'v': 10.80645161,\n            'f': \"10.80645161\",\n        },\n{\n            'v': 29.82758621,\n            'f': \"29.82758621\",\n        },\n{\n            'v': 34.45161289999999,\n            'f': \"34.45161289999999\",\n        },\n{\n            'v': 37.32258065,\n            'f': \"37.32258065\",\n        },\n{\n            'v': 64.75806452,\n            'f': \"64.75806452\",\n        }],\n [\"january_max_temp\",\n{\n            'v': 75757.0,\n            'f': \"75757.0\",\n        },\n{\n            'v': 59.05495201763534,\n            'f': \"59.05495201763534\",\n        },\n{\n            'v': 5.355457595942111,\n            'f': \"5.355457595942111\",\n        },\n{\n            'v': 42.0,\n            'f': \"42.0\",\n        },\n{\n            'v': 56.0,\n            'f': \"56.0\",\n        },\n{\n            'v': 59.0,\n            'f': \"59.0\",\n        },\n{\n            'v': 62.0,\n            'f': \"62.0\",\n        },\n{\n            'v': 91.0,\n            'f': \"91.0\",\n        }],\n [\"february_min_temp\",\n{\n            'v': 75757.0,\n            'f': \"75757.0\",\n        },\n{\n            'v': 11.72056707630978,\n            'f': \"11.72056707630978\",\n        },\n{\n            'v': 12.577272476205305,\n            'f': \"12.577272476205305\",\n        },\n{\n            'v': -13.0,\n            'f': \"-13.0\",\n        },\n{\n            'v': 2.0,\n            'f': \"2.0\",\n        },\n{\n            'v': 9.0,\n            'f': \"9.0\",\n        },\n{\n            'v': 20.0,\n            'f': \"20.0\",\n        },\n{\n            'v': 48.0,\n            'f': \"48.0\",\n        }],\n [\"february_avg_temp\",\n{\n            'v': 75757.0,\n            'f': \"75757.0\",\n        },\n{\n            'v': 35.526837476778034,\n            'f': \"35.526837476778034\",\n        },\n{\n            'v': 8.866696739241059,\n            'f': \"8.866696739241059\",\n        },\n{\n            'v': 13.25,\n            'f': \"13.25\",\n        },\n{\n            'v': 31.625,\n            'f': \"31.625\",\n        },\n{\n            'v': 34.10714286,\n            'f': \"34.10714286\",\n        },\n{\n            'v': 40.87931034,\n            'f': \"40.87931034\",\n        },\n{\n            'v': 65.10714286,\n            'f': \"65.10714286\",\n        }],\n [\"february_max_temp\",\n{\n            'v': 75757.0,\n            'f': \"75757.0\",\n        },\n{\n            'v': 58.48627849571657,\n            'f': \"58.48627849571657\",\n        },\n{\n            'v': 8.414611017740011,\n            'f': \"8.414611017740011\",\n        },\n{\n            'v': 38.0,\n            'f': \"38.0\",\n        },\n{\n            'v': 55.0,\n            'f': \"55.0\",\n        },\n{\n            'v': 61.0,\n            'f': \"61.0\",\n        },\n{\n            'v': 62.0,\n            'f': \"62.0\",\n        },\n{\n            'v': 89.0,\n            'f': \"89.0\",\n        }],\n [\"march_min_temp\",\n{\n            'v': 75757.0,\n            'f': \"75757.0\",\n        },\n{\n            'v': 21.606280607732618,\n            'f': \"21.606280607732618\",\n        },\n{\n            'v': 10.004303374495247,\n            'f': \"10.004303374495247\",\n        },\n{\n            'v': -9.0,\n            'f': \"-9.0\",\n        },\n{\n            'v': 13.0,\n            'f': \"13.0\",\n        },\n{\n            'v': 25.0,\n            'f': \"25.0\",\n        },\n{\n            'v': 27.0,\n            'f': \"27.0\",\n        },\n{\n            'v': 52.0,\n            'f': \"52.0\",\n        }],\n [\"march_avg_temp\",\n{\n            'v': 75757.0,\n            'f': \"75757.0\",\n        },\n{\n            'v': 44.469291669749026,\n            'f': \"44.469291669749026\",\n        },\n{\n            'v': 6.657142194798374,\n            'f': \"6.657142194798374\",\n        },\n{\n            'v': 25.85483871,\n            'f': \"25.85483871\",\n        },\n{\n            'v': 38.09677419,\n            'f': \"38.09677419\",\n        },\n{\n            'v': 44.51612903,\n            'f': \"44.51612903\",\n        },\n{\n            'v': 49.35483871,\n            'f': \"49.35483871\",\n        },\n{\n            'v': 69.75806452,\n            'f': \"69.75806452\",\n        }],\n [\"march_max_temp\",\n{\n            'v': 75757.0,\n            'f': \"75757.0\",\n        },\n{\n            'v': 70.8978312235173,\n            'f': \"70.8978312235173\",\n        },\n{\n            'v': 7.680981810164216,\n            'f': \"7.680981810164216\",\n        },\n{\n            'v': 53.0,\n            'f': \"53.0\",\n        },\n{\n            'v': 62.0,\n            'f': \"62.0\",\n        },\n{\n            'v': 71.0,\n            'f': \"71.0\",\n        },\n{\n            'v': 78.0,\n            'f': \"78.0\",\n        },\n{\n            'v': 95.0,\n            'f': \"95.0\",\n        }],\n [\"april_min_temp\",\n{\n            'v': 75757.0,\n            'f': \"75757.0\",\n        },\n{\n            'v': 32.03717148250327,\n            'f': \"32.03717148250327\",\n        },\n{\n            'v': 5.577279094422346,\n            'f': \"5.577279094422346\",\n        },\n{\n            'v': 15.0,\n            'f': \"15.0\",\n        },\n{\n            'v': 26.0,\n            'f': \"26.0\",\n        },\n{\n            'v': 32.0,\n            'f': \"32.0\",\n        },\n{\n            'v': 37.0,\n            'f': \"37.0\",\n        },\n{\n            'v': 52.0,\n            'f': \"52.0\",\n        }],\n [\"april_avg_temp\",\n{\n            'v': 75757.0,\n            'f': \"75757.0\",\n        },\n{\n            'v': 53.78486312522969,\n            'f': \"53.78486312522969\",\n        },\n{\n            'v': 2.5004727377991696,\n            'f': \"2.5004727377991696\",\n        },\n{\n            'v': 40.28,\n            'f': \"40.28\",\n        },\n{\n            'v': 52.33333333,\n            'f': \"52.33333333\",\n        },\n{\n            'v': 53.33333333,\n            'f': \"53.33333333\",\n        },\n{\n            'v': 54.76666667,\n            'f': \"54.76666667\",\n        },\n{\n            'v': 74.5,\n            'f': \"74.5\",\n        }],\n [\"april_max_temp\",\n{\n            'v': 75757.0,\n            'f': \"75757.0\",\n        },\n{\n            'v': 82.66193223068495,\n            'f': \"82.66193223068495\",\n        },\n{\n            'v': 4.101027538948882,\n            'f': \"4.101027538948882\",\n        },\n{\n            'v': 62.0,\n            'f': \"62.0\",\n        },\n{\n            'v': 80.0,\n            'f': \"80.0\",\n        },\n{\n            'v': 82.0,\n            'f': \"82.0\",\n        },\n{\n            'v': 87.0,\n            'f': \"87.0\",\n        },\n{\n            'v': 104.0,\n            'f': \"104.0\",\n        }],\n [\"may_min_temp\",\n{\n            'v': 75757.0,\n            'f': \"75757.0\",\n        },\n{\n            'v': 44.70617896696015,\n            'f': \"44.70617896696015\",\n        },\n{\n            'v': 4.200318990788442,\n            'f': \"4.200318990788442\",\n        },\n{\n            'v': 23.0,\n            'f': \"23.0\",\n        },\n{\n            'v': 42.0,\n            'f': \"42.0\",\n        },\n{\n            'v': 45.0,\n            'f': \"45.0\",\n        },\n{\n            'v': 49.0,\n            'f': \"49.0\",\n        },\n{\n            'v': 58.0,\n            'f': \"58.0\",\n        }],\n [\"may_avg_temp\",\n{\n            'v': 75757.0,\n            'f': \"75757.0\",\n        },\n{\n            'v': 63.74254662586361,\n            'f': \"63.74254662586361\",\n        },\n{\n            'v': 2.7929188079758767,\n            'f': \"2.7929188079758767\",\n        },\n{\n            'v': 46.95,\n            'f': \"46.95\",\n        },\n{\n            'v': 62.79032258,\n            'f': \"62.79032258\",\n        },\n{\n            'v': 62.88709677,\n            'f': \"62.88709677\",\n        },\n{\n            'v': 65.09677419,\n            'f': \"65.09677419\",\n        },\n{\n            'v': 82.11290323,\n            'f': \"82.11290323\",\n        }],\n [\"may_max_temp\",\n{\n            'v': 75757.0,\n            'f': \"75757.0\",\n        },\n{\n            'v': 88.9878559077049,\n            'f': \"88.9878559077049\",\n        },\n{\n            'v': 2.864669477240311,\n            'f': \"2.864669477240311\",\n        },\n{\n            'v': 64.0,\n            'f': \"64.0\",\n        },\n{\n            'v': 88.0,\n            'f': \"88.0\",\n        },\n{\n            'v': 89.0,\n            'f': \"89.0\",\n        },\n{\n            'v': 91.0,\n            'f': \"91.0\",\n        },\n{\n            'v': 112.0,\n            'f': \"112.0\",\n        }],\n [\"june_min_temp\",\n{\n            'v': 75757.0,\n            'f': \"75757.0\",\n        },\n{\n            'v': 51.13176340140185,\n            'f': \"51.13176340140185\",\n        },\n{\n            'v': 3.4159260594836574,\n            'f': \"3.4159260594836574\",\n        },\n{\n            'v': 30.0,\n            'f': \"30.0\",\n        },\n{\n            'v': 50.0,\n            'f': \"50.0\",\n        },\n{\n            'v': 52.0,\n            'f': \"52.0\",\n        },\n{\n            'v': 53.0,\n            'f': \"53.0\",\n        },\n{\n            'v': 68.0,\n            'f': \"68.0\",\n        }],\n [\"june_avg_temp\",\n{\n            'v': 75757.0,\n            'f': \"75757.0\",\n        },\n{\n            'v': 71.06638372794873,\n            'f': \"71.06638372794873\",\n        },\n{\n            'v': 2.8616810952519987,\n            'f': \"2.8616810952519987\",\n        },\n{\n            'v': 54.1,\n            'f': \"54.1\",\n        },\n{\n            'v': 70.98333333,\n            'f': \"70.98333333\",\n        },\n{\n            'v': 72.25,\n            'f': \"72.25\",\n        },\n{\n            'v': 72.45,\n            'f': \"72.45\",\n        },\n{\n            'v': 89.55,\n            'f': \"89.55\",\n        }],\n [\"june_max_temp\",\n{\n            'v': 75757.0,\n            'f': \"75757.0\",\n        },\n{\n            'v': 91.4002798421268,\n            'f': \"91.4002798421268\",\n        },\n{\n            'v': 3.604068068623736,\n            'f': \"3.604068068623736\",\n        },\n{\n            'v': 67.0,\n            'f': \"67.0\",\n        },\n{\n            'v': 89.0,\n            'f': \"89.0\",\n        },\n{\n            'v': 90.0,\n            'f': \"90.0\",\n        },\n{\n            'v': 94.0,\n            'f': \"94.0\",\n        },\n{\n            'v': 119.0,\n            'f': \"119.0\",\n        }],\n [\"july_min_temp\",\n{\n            'v': 75757.0,\n            'f': \"75757.0\",\n        },\n{\n            'v': 60.571603944189974,\n            'f': \"60.571603944189974\",\n        },\n{\n            'v': 4.177108992774993,\n            'f': \"4.177108992774993\",\n        },\n{\n            'v': 37.0,\n            'f': \"37.0\",\n        },\n{\n            'v': 57.0,\n            'f': \"57.0\",\n        },\n{\n            'v': 63.0,\n            'f': \"63.0\",\n        },\n{\n            'v': 63.0,\n            'f': \"63.0\",\n        },\n{\n            'v': 74.0,\n            'f': \"74.0\",\n        }],\n [\"july_avg_temp\",\n{\n            'v': 75757.0,\n            'f': \"75757.0\",\n        },\n{\n            'v': 76.59687864684975,\n            'f': \"76.59687864684975\",\n        },\n{\n            'v': 4.0902746688291005,\n            'f': \"4.0902746688291005\",\n        },\n{\n            'v': 54.82258065,\n            'f': \"54.82258065\",\n        },\n{\n            'v': 76.14516129,\n            'f': \"76.14516129\",\n        },\n{\n            'v': 78.67741935,\n            'f': \"78.67741935\",\n        },\n{\n            'v': 78.79032258,\n            'f': \"78.79032258\",\n        },\n{\n            'v': 94.43548387,\n            'f': \"94.43548387\",\n        }],\n [\"july_max_temp\",\n{\n            'v': 75757.0,\n            'f': \"75757.0\",\n        },\n{\n            'v': 95.54394973401799,\n            'f': \"95.54394973401799\",\n        },\n{\n            'v': 4.157117606396056,\n            'f': \"4.157117606396056\",\n        },\n{\n            'v': 65.0,\n            'f': \"65.0\",\n        },\n{\n            'v': 95.0,\n            'f': \"95.0\",\n        },\n{\n            'v': 96.0,\n            'f': \"96.0\",\n        },\n{\n            'v': 98.0,\n            'f': \"98.0\",\n        },\n{\n            'v': 117.0,\n            'f': \"117.0\",\n        }],\n [\"august_min_temp\",\n{\n            'v': 75757.0,\n            'f': \"75757.0\",\n        },\n{\n            'v': 58.51506791451615,\n            'f': \"58.51506791451615\",\n        },\n{\n            'v': 4.441992331221287,\n            'f': \"4.441992331221287\",\n        },\n{\n            'v': 31.0,\n            'f': \"31.0\",\n        },\n{\n            'v': 57.0,\n            'f': \"57.0\",\n        },\n{\n            'v': 61.0,\n            'f': \"61.0\",\n        },\n{\n            'v': 61.0,\n            'f': \"61.0\",\n        },\n{\n            'v': 77.0,\n            'f': \"77.0\",\n        }],\n [\"august_avg_temp\",\n{\n            'v': 75757.0,\n            'f': \"75757.0\",\n        },\n{\n            'v': 75.34874850812244,\n            'f': \"75.34874850812244\",\n        },\n{\n            'v': 3.8188948039819657,\n            'f': \"3.8188948039819657\",\n        },\n{\n            'v': 56.69354839,\n            'f': \"56.69354839\",\n        },\n{\n            'v': 74.51612903,\n            'f': \"74.51612903\",\n        },\n{\n            'v': 75.72580645,\n            'f': \"75.72580645\",\n        },\n{\n            'v': 78.96774194,\n            'f': \"78.96774194\",\n        },\n{\n            'v': 94.90322581,\n            'f': \"94.90322581\",\n        }],\n [\"august_max_temp\",\n{\n            'v': 75757.0,\n            'f': \"75757.0\",\n        },\n{\n            'v': 92.57258075161371,\n            'f': \"92.57258075161371\",\n        },\n{\n            'v': 4.139685329104921,\n            'f': \"4.139685329104921\",\n        },\n{\n            'v': 66.0,\n            'f': \"66.0\",\n        },\n{\n            'v': 90.0,\n            'f': \"90.0\",\n        },\n{\n            'v': 91.0,\n            'f': \"91.0\",\n        },\n{\n            'v': 95.0,\n            'f': \"95.0\",\n        },\n{\n            'v': 116.0,\n            'f': \"116.0\",\n        }],\n [\"september_min_temp\",\n{\n            'v': 75757.0,\n            'f': \"75757.0\",\n        },\n{\n            'v': 50.79168921683805,\n            'f': \"50.79168921683805\",\n        },\n{\n            'v': 4.290884001048441,\n            'f': \"4.290884001048441\",\n        },\n{\n            'v': 26.0,\n            'f': \"26.0\",\n        },\n{\n            'v': 47.0,\n            'f': \"47.0\",\n        },\n{\n            'v': 52.0,\n            'f': \"52.0\",\n        },\n{\n            'v': 54.0,\n            'f': \"54.0\",\n        },\n{\n            'v': 65.0,\n            'f': \"65.0\",\n        }],\n [\"september_avg_temp\",\n{\n            'v': 75757.0,\n            'f': \"75757.0\",\n        },\n{\n            'v': 69.59754538251988,\n            'f': \"69.59754538251988\",\n        },\n{\n            'v': 3.603772765409493,\n            'f': \"3.603772765409493\",\n        },\n{\n            'v': 53.6,\n            'f': \"53.6\",\n        },\n{\n            'v': 68.2,\n            'f': \"68.2\",\n        },\n{\n            'v': 69.73333333,\n            'f': \"69.73333333\",\n        },\n{\n            'v': 71.8,\n            'f': \"71.8\",\n        },\n{\n            'v': 90.11666667,\n            'f': \"90.11666667\",\n        }],\n [\"september_max_temp\",\n{\n            'v': 75757.0,\n            'f': \"75757.0\",\n        },\n{\n            'v': 92.17113930065868,\n            'f': \"92.17113930065868\",\n        },\n{\n            'v': 5.011708371458908,\n            'f': \"5.011708371458908\",\n        },\n{\n            'v': 64.0,\n            'f': \"64.0\",\n        },\n{\n            'v': 91.0,\n            'f': \"91.0\",\n        },\n{\n            'v': 92.0,\n            'f': \"92.0\",\n        },\n{\n            'v': 96.0,\n            'f': \"96.0\",\n        },\n{\n            'v': 111.0,\n            'f': \"111.0\",\n        }],\n [\"october_min_temp\",\n{\n            'v': 75757.0,\n            'f': \"75757.0\",\n        },\n{\n            'v': 38.21091120292514,\n            'f': \"38.21091120292514\",\n        },\n{\n            'v': 5.093898989667668,\n            'f': \"5.093898989667668\",\n        },\n{\n            'v': 18.0,\n            'f': \"18.0\",\n        },\n{\n            'v': 35.0,\n            'f': \"35.0\",\n        },\n{\n            'v': 38.0,\n            'f': \"38.0\",\n        },\n{\n            'v': 40.0,\n            'f': \"40.0\",\n        },\n{\n            'v': 61.0,\n            'f': \"61.0\",\n        }],\n [\"october_avg_temp\",\n{\n            'v': 75757.0,\n            'f': \"75757.0\",\n        },\n{\n            'v': 58.72703818725079,\n            'f': \"58.72703818725079\",\n        },\n{\n            'v': 2.6412995192398965,\n            'f': \"2.6412995192398965\",\n        },\n{\n            'v': 44.69354839,\n            'f': \"44.69354839\",\n        },\n{\n            'v': 58.04838710000001,\n            'f': \"58.04838710000001\",\n        },\n{\n            'v': 58.75806452,\n            'f': \"58.75806452\",\n        },\n{\n            'v': 59.62903226,\n            'f': \"59.62903226\",\n        },\n{\n            'v': 80.74193548,\n            'f': \"80.74193548\",\n        }],\n [\"october_max_temp\",\n{\n            'v': 75757.0,\n            'f': \"75757.0\",\n        },\n{\n            'v': 81.1356706310968,\n            'f': \"81.1356706310968\",\n        },\n{\n            'v': 5.579513199542414,\n            'f': \"5.579513199542414\",\n        },\n{\n            'v': 59.0,\n            'f': \"59.0\",\n        },\n{\n            'v': 78.0,\n            'f': \"78.0\",\n        },\n{\n            'v': 80.0,\n            'f': \"80.0\",\n        },\n{\n            'v': 85.0,\n            'f': \"85.0\",\n        },\n{\n            'v': 108.0,\n            'f': \"108.0\",\n        }],\n [\"november_min_temp\",\n{\n            'v': 75757.0,\n            'f': \"75757.0\",\n        },\n{\n            'v': 28.630397191018652,\n            'f': \"28.630397191018652\",\n        },\n{\n            'v': 7.153243957454346,\n            'f': \"7.153243957454346\",\n        },\n{\n            'v': 4.0,\n            'f': \"4.0\",\n        },\n{\n            'v': 23.0,\n            'f': \"23.0\",\n        },\n{\n            'v': 31.0,\n            'f': \"31.0\",\n        },\n{\n            'v': 34.0,\n            'f': \"34.0\",\n        },\n{\n            'v': 52.0,\n            'f': \"52.0\",\n        }],\n [\"november_avg_temp\",\n{\n            'v': 75757.0,\n            'f': \"75757.0\",\n        },\n{\n            'v': 48.12313272516005,\n            'f': \"48.12313272516005\",\n        },\n{\n            'v': 4.094207182368594,\n            'f': \"4.094207182368594\",\n        },\n{\n            'v': 30.76666667,\n            'f': \"30.76666667\",\n        },\n{\n            'v': 45.25,\n            'f': \"45.25\",\n        },\n{\n            'v': 47.11666667,\n            'f': \"47.11666667\",\n        },\n{\n            'v': 51.33928571,\n            'f': \"51.33928571\",\n        },\n{\n            'v': 67.41666667,\n            'f': \"67.41666667\",\n        }],\n [\"november_max_temp\",\n{\n            'v': 75757.0,\n            'f': \"75757.0\",\n        },\n{\n            'v': 71.20239713821825,\n            'f': \"71.20239713821825\",\n        },\n{\n            'v': 4.373374113762779,\n            'f': \"4.373374113762779\",\n        },\n{\n            'v': 53.0,\n            'f': \"53.0\",\n        },\n{\n            'v': 69.0,\n            'f': \"69.0\",\n        },\n{\n            'v': 72.0,\n            'f': \"72.0\",\n        },\n{\n            'v': 74.0,\n            'f': \"74.0\",\n        },\n{\n            'v': 96.0,\n            'f': \"96.0\",\n        }],\n [\"december_min_temp\",\n{\n            'v': 75757.0,\n            'f': \"75757.0\",\n        },\n{\n            'v': 22.736776799503676,\n            'f': \"22.736776799503676\",\n        },\n{\n            'v': 9.014047378222088,\n            'f': \"9.014047378222088\",\n        },\n{\n            'v': -16.0,\n            'f': \"-16.0\",\n        },\n{\n            'v': 17.0,\n            'f': \"17.0\",\n        },\n{\n            'v': 24.0,\n            'f': \"24.0\",\n        },\n{\n            'v': 28.0,\n            'f': \"28.0\",\n        },\n{\n            'v': 44.0,\n            'f': \"44.0\",\n        }],\n [\"december_avg_temp\",\n{\n            'v': 75757.0,\n            'f': \"75757.0\",\n        },\n{\n            'v': 41.62556914237081,\n            'f': \"41.62556914237081\",\n        },\n{\n            'v': 5.869385777156807,\n            'f': \"5.869385777156807\",\n        },\n{\n            'v': 23.79032258,\n            'f': \"23.79032258\",\n        },\n{\n            'v': 38.53225806,\n            'f': \"38.53225806\",\n        },\n{\n            'v': 40.51612903,\n            'f': \"40.51612903\",\n        },\n{\n            'v': 43.43548387,\n            'f': \"43.43548387\",\n        },\n{\n            'v': 61.79032258,\n            'f': \"61.79032258\",\n        }],\n [\"december_max_temp\",\n{\n            'v': 75757.0,\n            'f': \"75757.0\",\n        },\n{\n            'v': 64.4968517760735,\n            'f': \"64.4968517760735\",\n        },\n{\n            'v': 6.054104339546924,\n            'f': \"6.054104339546924\",\n        },\n{\n            'v': 42.0,\n            'f': \"42.0\",\n        },\n{\n            'v': 60.0,\n            'f': \"60.0\",\n        },\n{\n            'v': 65.0,\n            'f': \"65.0\",\n        },\n{\n            'v': 71.0,\n            'f': \"71.0\",\n        },\n{\n            'v': 86.0,\n            'f': \"86.0\",\n        }],\n [\"cooling_degree_days\",\n{\n            'v': 75757.0,\n            'f': \"75757.0\",\n        },\n{\n            'v': 1202.250445503386,\n            'f': \"1202.250445503386\",\n        },\n{\n            'v': 391.56177996810396,\n            'f': \"391.56177996810396\",\n        },\n{\n            'v': 0.0,\n            'f': \"0.0\",\n        },\n{\n            'v': 1128.0,\n            'f': \"1128.0\",\n        },\n{\n            'v': 1277.0,\n            'f': \"1277.0\",\n        },\n{\n            'v': 1489.0,\n            'f': \"1489.0\",\n        },\n{\n            'v': 4948.0,\n            'f': \"4948.0\",\n        }],\n [\"heating_degree_days\",\n{\n            'v': 75757.0,\n            'f': \"75757.0\",\n        },\n{\n            'v': 4324.957390076164,\n            'f': \"4324.957390076164\",\n        },\n{\n            'v': 824.3667267931061,\n            'f': \"824.3667267931061\",\n        },\n{\n            'v': 398.0,\n            'f': \"398.0\",\n        },\n{\n            'v': 3978.0,\n            'f': \"3978.0\",\n        },\n{\n            'v': 4337.0,\n            'f': \"4337.0\",\n        },\n{\n            'v': 4670.0,\n            'f': \"4670.0\",\n        },\n{\n            'v': 7929.0,\n            'f': \"7929.0\",\n        }],\n [\"precipitation_inches\",\n{\n            'v': 75757.0,\n            'f': \"75757.0\",\n        },\n{\n            'v': 42.430651160943206,\n            'f': \"42.430651160943206\",\n        },\n{\n            'v': 10.592204684658274,\n            'f': \"10.592204684658274\",\n        },\n{\n            'v': 0.0,\n            'f': \"0.0\",\n        },\n{\n            'v': 39.35,\n            'f': \"39.35\",\n        },\n{\n            'v': 42.17,\n            'f': \"42.17\",\n        },\n{\n            'v': 46.32,\n            'f': \"46.32\",\n        },\n{\n            'v': 107.69,\n            'f': \"107.69\",\n        }],\n [\"snowfall_inches\",\n{\n            'v': 75757.0,\n            'f': \"75757.0\",\n        },\n{\n            'v': 29.136379476488205,\n            'f': \"29.136379476488205\",\n        },\n{\n            'v': 17.81089391505664,\n            'f': \"17.81089391505664\",\n        },\n{\n            'v': 0.0,\n            'f': \"0.0\",\n        },\n{\n            'v': 9.6,\n            'f': \"9.6\",\n        },\n{\n            'v': 31.6,\n            'f': \"31.6\",\n        },\n{\n            'v': 49.1,\n            'f': \"49.1\",\n        },\n{\n            'v': 127.3,\n            'f': \"127.3\",\n        }],\n [\"snowdepth_inches\",\n{\n            'v': 75757.0,\n            'f': \"75757.0\",\n        },\n{\n            'v': 164.86245495465766,\n            'f': \"164.86245495465766\",\n        },\n{\n            'v': 175.27586874704522,\n            'f': \"175.27586874704522\",\n        },\n{\n            'v': 0.0,\n            'f': \"0.0\",\n        },\n{\n            'v': 10.0,\n            'f': \"10.0\",\n        },\n{\n            'v': 101.0,\n            'f': \"101.0\",\n        },\n{\n            'v': 377.0,\n            'f': \"377.0\",\n        },\n{\n            'v': 1292.0,\n            'f': \"1292.0\",\n        }],\n [\"avg_temp\",\n{\n            'v': 75757.0,\n            'f': \"75757.0\",\n        },\n{\n            'v': 56.17670472467839,\n            'f': \"56.17670472467839\",\n        },\n{\n            'v': 2.2419396569695023,\n            'f': \"2.2419396569695023\",\n        },\n{\n            'v': 44.51232877,\n            'f': \"44.51232877\",\n        },\n{\n            'v': 55.14754098,\n            'f': \"55.14754098\",\n        },\n{\n            'v': 56.83561644,\n            'f': \"56.83561644\",\n        },\n{\n            'v': 57.21584699,\n            'f': \"57.21584699\",\n        },\n{\n            'v': 77.24520548,\n            'f': \"77.24520548\",\n        }],\n [\"days_below_30F\",\n{\n            'v': 75757.0,\n            'f': \"75757.0\",\n        },\n{\n            'v': 48.756510949483214,\n            'f': \"48.756510949483214\",\n        },\n{\n            'v': 27.587124347442288,\n            'f': \"27.587124347442288\",\n        },\n{\n            'v': 0.0,\n            'f': \"0.0\",\n        },\n{\n            'v': 22.0,\n            'f': \"22.0\",\n        },\n{\n            'v': 50.0,\n            'f': \"50.0\",\n        },\n{\n            'v': 66.0,\n            'f': \"66.0\",\n        },\n{\n            'v': 170.0,\n            'f': \"170.0\",\n        }],\n [\"days_below_20F\",\n{\n            'v': 75757.0,\n            'f': \"75757.0\",\n        },\n{\n            'v': 17.447932204284754,\n            'f': \"17.447932204284754\",\n        },\n{\n            'v': 14.469434579400332,\n            'f': \"14.469434579400332\",\n        },\n{\n            'v': 0.0,\n            'f': \"0.0\",\n        },\n{\n            'v': 5.0,\n            'f': \"5.0\",\n        },\n{\n            'v': 11.0,\n            'f': \"11.0\",\n        },\n{\n            'v': 26.0,\n            'f': \"26.0\",\n        },\n{\n            'v': 93.0,\n            'f': \"93.0\",\n        }],\n [\"days_below_10F\",\n{\n            'v': 75757.0,\n            'f': \"75757.0\",\n        },\n{\n            'v': 4.886531937642726,\n            'f': \"4.886531937642726\",\n        },\n{\n            'v': 7.071221474534494,\n            'f': \"7.071221474534494\",\n        },\n{\n            'v': 0.0,\n            'f': \"0.0\",\n        },\n{\n            'v': 0.0,\n            'f': \"0.0\",\n        },\n{\n            'v': 2.0,\n            'f': \"2.0\",\n        },\n{\n            'v': 7.0,\n            'f': \"7.0\",\n        },\n{\n            'v': 59.0,\n            'f': \"59.0\",\n        }],\n [\"days_below_0F\",\n{\n            'v': 75757.0,\n            'f': \"75757.0\",\n        },\n{\n            'v': 0.8767638634053618,\n            'f': \"0.8767638634053618\",\n        },\n{\n            'v': 2.8942442198912737,\n            'f': \"2.8942442198912737\",\n        },\n{\n            'v': 0.0,\n            'f': \"0.0\",\n        },\n{\n            'v': 0.0,\n            'f': \"0.0\",\n        },\n{\n            'v': 0.0,\n            'f': \"0.0\",\n        },\n{\n            'v': 0.0,\n            'f': \"0.0\",\n        },\n{\n            'v': 31.0,\n            'f': \"31.0\",\n        }],\n [\"days_above_80F\",\n{\n            'v': 75757.0,\n            'f': \"75757.0\",\n        },\n{\n            'v': 82.70980899454835,\n            'f': \"82.70980899454835\",\n        },\n{\n            'v': 25.28291276168643,\n            'f': \"25.28291276168643\",\n        },\n{\n            'v': 0.0,\n            'f': \"0.0\",\n        },\n{\n            'v': 72.0,\n            'f': \"72.0\",\n        },\n{\n            'v': 84.0,\n            'f': \"84.0\",\n        },\n{\n            'v': 97.0,\n            'f': \"97.0\",\n        },\n{\n            'v': 260.0,\n            'f': \"260.0\",\n        }],\n [\"days_above_90F\",\n{\n            'v': 75757.0,\n            'f': \"75757.0\",\n        },\n{\n            'v': 14.058700846126431,\n            'f': \"14.058700846126431\",\n        },\n{\n            'v': 10.943996247939003,\n            'f': \"10.943996247939003\",\n        },\n{\n            'v': 0.0,\n            'f': \"0.0\",\n        },\n{\n            'v': 6.0,\n            'f': \"6.0\",\n        },\n{\n            'v': 12.0,\n            'f': \"12.0\",\n        },\n{\n            'v': 17.0,\n            'f': \"17.0\",\n        },\n{\n            'v': 185.0,\n            'f': \"185.0\",\n        }],\n [\"days_above_100F\",\n{\n            'v': 75757.0,\n            'f': \"75757.0\",\n        },\n{\n            'v': 0.27953852449278616,\n            'f': \"0.27953852449278616\",\n        },\n{\n            'v': 2.2523234059058477,\n            'f': \"2.2523234059058477\",\n        },\n{\n            'v': 0.0,\n            'f': \"0.0\",\n        },\n{\n            'v': 0.0,\n            'f': \"0.0\",\n        },\n{\n            'v': 0.0,\n            'f': \"0.0\",\n        },\n{\n            'v': 0.0,\n            'f': \"0.0\",\n        },\n{\n            'v': 119.0,\n            'f': \"119.0\",\n        }],\n [\"days_above_110F\",\n{\n            'v': 75757.0,\n            'f': \"75757.0\",\n        },\n{\n            'v': 0.002442018559341051,\n            'f': \"0.002442018559341051\",\n        },\n{\n            'v': 0.14213956812501058,\n            'f': \"0.14213956812501058\",\n        },\n{\n            'v': 0.0,\n            'f': \"0.0\",\n        },\n{\n            'v': 0.0,\n            'f': \"0.0\",\n        },\n{\n            'v': 0.0,\n            'f': \"0.0\",\n        },\n{\n            'v': 0.0,\n            'f': \"0.0\",\n        },\n{\n            'v': 16.0,\n            'f': \"16.0\",\n        }],\n [\"direction_max_wind_speed\",\n{\n            'v': 34675.0,\n            'f': \"34675.0\",\n        },\n{\n            'v': 66.55267483777938,\n            'f': \"66.55267483777938\",\n        },\n{\n            'v': 131.14783419356726,\n            'f': \"131.14783419356726\",\n        },\n{\n            'v': 1.0,\n            'f': \"1.0\",\n        },\n{\n            'v': 1.0,\n            'f': \"1.0\",\n        },\n{\n            'v': 1.0,\n            'f': \"1.0\",\n        },\n{\n            'v': 1.0,\n            'f': \"1.0\",\n        },\n{\n            'v': 360.0,\n            'f': \"360.0\",\n        }],\n [\"direction_peak_wind_speed\",\n{\n            'v': 33946.0,\n            'f': \"33946.0\",\n        },\n{\n            'v': 62.7799740764744,\n            'f': \"62.7799740764744\",\n        },\n{\n            'v': 130.30810624043696,\n            'f': \"130.30810624043696\",\n        },\n{\n            'v': 1.0,\n            'f': \"1.0\",\n        },\n{\n            'v': 1.0,\n            'f': \"1.0\",\n        },\n{\n            'v': 1.0,\n            'f': \"1.0\",\n        },\n{\n            'v': 1.0,\n            'f': \"1.0\",\n        },\n{\n            'v': 360.0,\n            'f': \"360.0\",\n        }],\n [\"max_wind_speed\",\n{\n            'v': 34675.0,\n            'f': \"34675.0\",\n        },\n{\n            'v': 4.190601297764961,\n            'f': \"4.190601297764961\",\n        },\n{\n            'v': 6.458789025180083,\n            'f': \"6.458789025180083\",\n        },\n{\n            'v': 1.0,\n            'f': \"1.0\",\n        },\n{\n            'v': 1.0,\n            'f': \"1.0\",\n        },\n{\n            'v': 1.0,\n            'f': \"1.0\",\n        },\n{\n            'v': 1.0,\n            'f': \"1.0\",\n        },\n{\n            'v': 23.3,\n            'f': \"23.3\",\n        }],\n [\"days_with_fog\",\n{\n            'v': 29961.0,\n            'f': \"29961.0\",\n        },\n{\n            'v': 109.14205133340009,\n            'f': \"109.14205133340009\",\n        },\n{\n            'v': 50.69975082742842,\n            'f': \"50.69975082742842\",\n        },\n{\n            'v': 12.0,\n            'f': \"12.0\",\n        },\n{\n            'v': 88.0,\n            'f': \"88.0\",\n        },\n{\n            'v': 104.0,\n            'f': \"104.0\",\n        },\n{\n            'v': 131.0,\n            'f': \"131.0\",\n        },\n{\n            'v': 311.0,\n            'f': \"311.0\",\n        }],\n [\"site_eui\",\n{\n            'v': 75757.0,\n            'f': \"75757.0\",\n        },\n{\n            'v': 82.58469263622104,\n            'f': \"82.58469263622104\",\n        },\n{\n            'v': 58.25540265920906,\n            'f': \"58.25540265920906\",\n        },\n{\n            'v': 1.001169302,\n            'f': \"1.001169302\",\n        },\n{\n            'v': 54.52860056,\n            'f': \"54.52860056\",\n        },\n{\n            'v': 75.29371585,\n            'f': \"75.29371585\",\n        },\n{\n            'v': 97.27753425,\n            'f': \"97.27753425\",\n        },\n{\n            'v': 997.8661202,\n            'f': \"997.8661202\",\n        }],\n [\"id\",\n{\n            'v': 75757.0,\n            'f': \"75757.0\",\n        },\n{\n            'v': 37878.0,\n            'f': \"37878.0\",\n        },\n{\n            'v': 21869.306508590224,\n            'f': \"21869.306508590224\",\n        },\n{\n            'v': 0.0,\n            'f': \"0.0\",\n        },\n{\n            'v': 18939.0,\n            'f': \"18939.0\",\n        },\n{\n            'v': 37878.0,\n            'f': \"37878.0\",\n        },\n{\n            'v': 56817.0,\n            'f': \"56817.0\",\n        },\n{\n            'v': 75756.0,\n            'f': \"75756.0\",\n        }]],\n        columns: [[\"string\", \"index\"], [\"number\", \"count\"], [\"number\", \"mean\"], [\"number\", \"std\"], [\"number\", \"min\"], [\"number\", \"25%\"], [\"number\", \"50%\"], [\"number\", \"75%\"], [\"number\", \"max\"]],\n        columnOptions: [{\"width\": \"1px\", \"className\": \"index_column\"}],\n        rowsPerPage: 25,\n        helpUrl: \"https://colab.research.google.com/notebooks/data_table.ipynb\",\n        suppressOutputScrolling: true,\n        minimumWidth: undefined,\n      });\n    ",
      "text/html": [
       "\n",
       "  <div id=\"df-1f31b727-03bc-4058-8c15-9e2367436b00\">\n",
       "    <div class=\"colab-df-container\">\n",
       "      <div>\n",
       "<style scoped>\n",
       "    .dataframe tbody tr th:only-of-type {\n",
       "        vertical-align: middle;\n",
       "    }\n",
       "\n",
       "    .dataframe tbody tr th {\n",
       "        vertical-align: top;\n",
       "    }\n",
       "\n",
       "    .dataframe thead th {\n",
       "        text-align: right;\n",
       "    }\n",
       "</style>\n",
       "<table border=\"1\" class=\"dataframe\">\n",
       "  <thead>\n",
       "    <tr style=\"text-align: right;\">\n",
       "      <th></th>\n",
       "      <th>count</th>\n",
       "      <th>mean</th>\n",
       "      <th>std</th>\n",
       "      <th>min</th>\n",
       "      <th>25%</th>\n",
       "      <th>50%</th>\n",
       "      <th>75%</th>\n",
       "      <th>max</th>\n",
       "    </tr>\n",
       "  </thead>\n",
       "  <tbody>\n",
       "    <tr>\n",
       "      <th>Year_Factor</th>\n",
       "      <td>75757.0</td>\n",
       "      <td>4.367755</td>\n",
       "      <td>1.471441</td>\n",
       "      <td>1.000000</td>\n",
       "      <td>3.000000</td>\n",
       "      <td>5.000000</td>\n",
       "      <td>6.000000</td>\n",
       "      <td>6.000000e+00</td>\n",
       "    </tr>\n",
       "    <tr>\n",
       "      <th>floor_area</th>\n",
       "      <td>75757.0</td>\n",
       "      <td>165983.865858</td>\n",
       "      <td>246875.790940</td>\n",
       "      <td>943.000000</td>\n",
       "      <td>62379.000000</td>\n",
       "      <td>91367.000000</td>\n",
       "      <td>166000.000000</td>\n",
       "      <td>6.385382e+06</td>\n",
       "    </tr>\n",
       "    <tr>\n",
       "      <th>year_built</th>\n",
       "      <td>73920.0</td>\n",
       "      <td>1952.306764</td>\n",
       "      <td>37.053619</td>\n",
       "      <td>0.000000</td>\n",
       "      <td>1927.000000</td>\n",
       "      <td>1951.000000</td>\n",
       "      <td>1977.000000</td>\n",
       "      <td>2.015000e+03</td>\n",
       "    </tr>\n",
       "    <tr>\n",
       "      <th>energy_star_rating</th>\n",
       "      <td>49048.0</td>\n",
       "      <td>61.048605</td>\n",
       "      <td>28.663683</td>\n",
       "      <td>0.000000</td>\n",
       "      <td>40.000000</td>\n",
       "      <td>67.000000</td>\n",
       "      <td>85.000000</td>\n",
       "      <td>1.000000e+02</td>\n",
       "    </tr>\n",
       "    <tr>\n",
       "      <th>ELEVATION</th>\n",
       "      <td>75757.0</td>\n",
       "      <td>39.506323</td>\n",
       "      <td>60.656596</td>\n",
       "      <td>-6.400000</td>\n",
       "      <td>11.900000</td>\n",
       "      <td>25.000000</td>\n",
       "      <td>42.700000</td>\n",
       "      <td>1.924500e+03</td>\n",
       "    </tr>\n",
       "    <tr>\n",
       "      <th>...</th>\n",
       "      <td>...</td>\n",
       "      <td>...</td>\n",
       "      <td>...</td>\n",
       "      <td>...</td>\n",
       "      <td>...</td>\n",
       "      <td>...</td>\n",
       "      <td>...</td>\n",
       "      <td>...</td>\n",
       "    </tr>\n",
       "    <tr>\n",
       "      <th>direction_peak_wind_speed</th>\n",
       "      <td>33946.0</td>\n",
       "      <td>62.779974</td>\n",
       "      <td>130.308106</td>\n",
       "      <td>1.000000</td>\n",
       "      <td>1.000000</td>\n",
       "      <td>1.000000</td>\n",
       "      <td>1.000000</td>\n",
       "      <td>3.600000e+02</td>\n",
       "    </tr>\n",
       "    <tr>\n",
       "      <th>max_wind_speed</th>\n",
       "      <td>34675.0</td>\n",
       "      <td>4.190601</td>\n",
       "      <td>6.458789</td>\n",
       "      <td>1.000000</td>\n",
       "      <td>1.000000</td>\n",
       "      <td>1.000000</td>\n",
       "      <td>1.000000</td>\n",
       "      <td>2.330000e+01</td>\n",
       "    </tr>\n",
       "    <tr>\n",
       "      <th>days_with_fog</th>\n",
       "      <td>29961.0</td>\n",
       "      <td>109.142051</td>\n",
       "      <td>50.699751</td>\n",
       "      <td>12.000000</td>\n",
       "      <td>88.000000</td>\n",
       "      <td>104.000000</td>\n",
       "      <td>131.000000</td>\n",
       "      <td>3.110000e+02</td>\n",
       "    </tr>\n",
       "    <tr>\n",
       "      <th>site_eui</th>\n",
       "      <td>75757.0</td>\n",
       "      <td>82.584693</td>\n",
       "      <td>58.255403</td>\n",
       "      <td>1.001169</td>\n",
       "      <td>54.528601</td>\n",
       "      <td>75.293716</td>\n",
       "      <td>97.277534</td>\n",
       "      <td>9.978661e+02</td>\n",
       "    </tr>\n",
       "    <tr>\n",
       "      <th>id</th>\n",
       "      <td>75757.0</td>\n",
       "      <td>37878.000000</td>\n",
       "      <td>21869.306509</td>\n",
       "      <td>0.000000</td>\n",
       "      <td>18939.000000</td>\n",
       "      <td>37878.000000</td>\n",
       "      <td>56817.000000</td>\n",
       "      <td>7.575600e+04</td>\n",
       "    </tr>\n",
       "  </tbody>\n",
       "</table>\n",
       "<p>61 rows × 8 columns</p>\n",
       "</div>\n",
       "      <button class=\"colab-df-convert\" onclick=\"convertToInteractive('df-1f31b727-03bc-4058-8c15-9e2367436b00')\"\n",
       "              title=\"Convert this dataframe to an interactive table.\"\n",
       "              style=\"display:none;\">\n",
       "        \n",
       "  <svg xmlns=\"http://www.w3.org/2000/svg\" height=\"24px\"viewBox=\"0 0 24 24\"\n",
       "       width=\"24px\">\n",
       "    <path d=\"M0 0h24v24H0V0z\" fill=\"none\"/>\n",
       "    <path d=\"M18.56 5.44l.94 2.06.94-2.06 2.06-.94-2.06-.94-.94-2.06-.94 2.06-2.06.94zm-11 1L8.5 8.5l.94-2.06 2.06-.94-2.06-.94L8.5 2.5l-.94 2.06-2.06.94zm10 10l.94 2.06.94-2.06 2.06-.94-2.06-.94-.94-2.06-.94 2.06-2.06.94z\"/><path d=\"M17.41 7.96l-1.37-1.37c-.4-.4-.92-.59-1.43-.59-.52 0-1.04.2-1.43.59L10.3 9.45l-7.72 7.72c-.78.78-.78 2.05 0 2.83L4 21.41c.39.39.9.59 1.41.59.51 0 1.02-.2 1.41-.59l7.78-7.78 2.81-2.81c.8-.78.8-2.07 0-2.86zM5.41 20L4 18.59l7.72-7.72 1.47 1.35L5.41 20z\"/>\n",
       "  </svg>\n",
       "      </button>\n",
       "      \n",
       "  <style>\n",
       "    .colab-df-container {\n",
       "      display:flex;\n",
       "      flex-wrap:wrap;\n",
       "      gap: 12px;\n",
       "    }\n",
       "\n",
       "    .colab-df-convert {\n",
       "      background-color: #E8F0FE;\n",
       "      border: none;\n",
       "      border-radius: 50%;\n",
       "      cursor: pointer;\n",
       "      display: none;\n",
       "      fill: #1967D2;\n",
       "      height: 32px;\n",
       "      padding: 0 0 0 0;\n",
       "      width: 32px;\n",
       "    }\n",
       "\n",
       "    .colab-df-convert:hover {\n",
       "      background-color: #E2EBFA;\n",
       "      box-shadow: 0px 1px 2px rgba(60, 64, 67, 0.3), 0px 1px 3px 1px rgba(60, 64, 67, 0.15);\n",
       "      fill: #174EA6;\n",
       "    }\n",
       "\n",
       "    [theme=dark] .colab-df-convert {\n",
       "      background-color: #3B4455;\n",
       "      fill: #D2E3FC;\n",
       "    }\n",
       "\n",
       "    [theme=dark] .colab-df-convert:hover {\n",
       "      background-color: #434B5C;\n",
       "      box-shadow: 0px 1px 3px 1px rgba(0, 0, 0, 0.15);\n",
       "      filter: drop-shadow(0px 1px 2px rgba(0, 0, 0, 0.3));\n",
       "      fill: #FFFFFF;\n",
       "    }\n",
       "  </style>\n",
       "\n",
       "      <script>\n",
       "        const buttonEl =\n",
       "          document.querySelector('#df-1f31b727-03bc-4058-8c15-9e2367436b00 button.colab-df-convert');\n",
       "        buttonEl.style.display =\n",
       "          google.colab.kernel.accessAllowed ? 'block' : 'none';\n",
       "\n",
       "        async function convertToInteractive(key) {\n",
       "          const element = document.querySelector('#df-1f31b727-03bc-4058-8c15-9e2367436b00');\n",
       "          const dataTable =\n",
       "            await google.colab.kernel.invokeFunction('convertToInteractive',\n",
       "                                                     [key], {});\n",
       "          if (!dataTable) return;\n",
       "\n",
       "          const docLinkHtml = 'Like what you see? Visit the ' +\n",
       "            '<a target=\"_blank\" href=https://colab.research.google.com/notebooks/data_table.ipynb>data table notebook</a>'\n",
       "            + ' to learn more about interactive tables.';\n",
       "          element.innerHTML = '';\n",
       "          dataTable['output_type'] = 'display_data';\n",
       "          await google.colab.output.renderOutput(dataTable, element);\n",
       "          const docLink = document.createElement('div');\n",
       "          docLink.innerHTML = docLinkHtml;\n",
       "          element.appendChild(docLink);\n",
       "        }\n",
       "      </script>\n",
       "    </div>\n",
       "  </div>\n",
       "  "
      ],
      "text/plain": [
       "                             count           mean  ...            75%           max\n",
       "Year_Factor                75757.0       4.367755  ...       6.000000  6.000000e+00\n",
       "floor_area                 75757.0  165983.865858  ...  166000.000000  6.385382e+06\n",
       "year_built                 73920.0    1952.306764  ...    1977.000000  2.015000e+03\n",
       "energy_star_rating         49048.0      61.048605  ...      85.000000  1.000000e+02\n",
       "ELEVATION                  75757.0      39.506323  ...      42.700000  1.924500e+03\n",
       "...                            ...            ...  ...            ...           ...\n",
       "direction_peak_wind_speed  33946.0      62.779974  ...       1.000000  3.600000e+02\n",
       "max_wind_speed             34675.0       4.190601  ...       1.000000  2.330000e+01\n",
       "days_with_fog              29961.0     109.142051  ...     131.000000  3.110000e+02\n",
       "site_eui                   75757.0      82.584693  ...      97.277534  9.978661e+02\n",
       "id                         75757.0   37878.000000  ...   56817.000000  7.575600e+04\n",
       "\n",
       "[61 rows x 8 columns]"
      ]
     },
     "execution_count": 13,
     "metadata": {},
     "output_type": "execute_result"
    }
   ],
   "source": [
    "df_training.describe().transpose()"
   ]
  },
  {
   "cell_type": "markdown",
   "metadata": {
    "id": "k6iI3hGIIH_H"
   },
   "source": [
    "# Exploratório"
   ]
  },
  {
   "cell_type": "code",
   "execution_count": 14,
   "metadata": {
    "colab": {
     "base_uri": "https://localhost:8080/",
     "height": 640
    },
    "executionInfo": {
     "elapsed": 27,
     "status": "ok",
     "timestamp": 1645889405335,
     "user": {
      "displayName": "Ararajuba Data Science Project",
      "photoUrl": "https://lh3.googleusercontent.com/a/default-user=s64",
      "userId": "02004027308564222829"
     },
     "user_tz": 180
    },
    "id": "YNX8k9DAKWyy",
    "outputId": "e6f1b34d-9683-46a1-a2a0-eb07e653ed82"
   },
   "outputs": [
    {
     "data": {
      "application/vnd.google.colaboratory.module+javascript": "\n      import \"https://ssl.gstatic.com/colaboratory/data_table/81f25a011006ed3d/data_table.js\";\n\n      window.createDataTable({\n        data: [[\"Year_Factor\",\n\"Year_Factor\",\n{\n            'v': 0.0,\n            'f': \"0.0\",\n        }],\n [\"september_min_temp\",\n\"september_min_temp\",\n{\n            'v': 0.0,\n            'f': \"0.0\",\n        }],\n [\"september_avg_temp\",\n\"september_avg_temp\",\n{\n            'v': 0.0,\n            'f': \"0.0\",\n        }],\n [\"september_max_temp\",\n\"september_max_temp\",\n{\n            'v': 0.0,\n            'f': \"0.0\",\n        }],\n [\"october_min_temp\",\n\"october_min_temp\",\n{\n            'v': 0.0,\n            'f': \"0.0\",\n        }],\n [\"october_avg_temp\",\n\"october_avg_temp\",\n{\n            'v': 0.0,\n            'f': \"0.0\",\n        }],\n [\"october_max_temp\",\n\"october_max_temp\",\n{\n            'v': 0.0,\n            'f': \"0.0\",\n        }],\n [\"november_min_temp\",\n\"november_min_temp\",\n{\n            'v': 0.0,\n            'f': \"0.0\",\n        }],\n [\"november_avg_temp\",\n\"november_avg_temp\",\n{\n            'v': 0.0,\n            'f': \"0.0\",\n        }],\n [\"november_max_temp\",\n\"november_max_temp\",\n{\n            'v': 0.0,\n            'f': \"0.0\",\n        }],\n [\"december_min_temp\",\n\"december_min_temp\",\n{\n            'v': 0.0,\n            'f': \"0.0\",\n        }],\n [\"december_avg_temp\",\n\"december_avg_temp\",\n{\n            'v': 0.0,\n            'f': \"0.0\",\n        }],\n [\"december_max_temp\",\n\"december_max_temp\",\n{\n            'v': 0.0,\n            'f': \"0.0\",\n        }],\n [\"site_eui\",\n\"site_eui\",\n{\n            'v': 0.0,\n            'f': \"0.0\",\n        }],\n [\"cooling_degree_days\",\n\"cooling_degree_days\",\n{\n            'v': 0.0,\n            'f': \"0.0\",\n        }],\n [\"precipitation_inches\",\n\"precipitation_inches\",\n{\n            'v': 0.0,\n            'f': \"0.0\",\n        }],\n [\"snowfall_inches\",\n\"snowfall_inches\",\n{\n            'v': 0.0,\n            'f': \"0.0\",\n        }],\n [\"snowdepth_inches\",\n\"snowdepth_inches\",\n{\n            'v': 0.0,\n            'f': \"0.0\",\n        }],\n [\"avg_temp\",\n\"avg_temp\",\n{\n            'v': 0.0,\n            'f': \"0.0\",\n        }],\n [\"days_below_30F\",\n\"days_below_30F\",\n{\n            'v': 0.0,\n            'f': \"0.0\",\n        }],\n [\"days_below_20F\",\n\"days_below_20F\",\n{\n            'v': 0.0,\n            'f': \"0.0\",\n        }],\n [\"days_below_10F\",\n\"days_below_10F\",\n{\n            'v': 0.0,\n            'f': \"0.0\",\n        }],\n [\"days_below_0F\",\n\"days_below_0F\",\n{\n            'v': 0.0,\n            'f': \"0.0\",\n        }],\n [\"days_above_80F\",\n\"days_above_80F\",\n{\n            'v': 0.0,\n            'f': \"0.0\",\n        }],\n [\"days_above_90F\",\n\"days_above_90F\",\n{\n            'v': 0.0,\n            'f': \"0.0\",\n        }],\n [\"days_above_100F\",\n\"days_above_100F\",\n{\n            'v': 0.0,\n            'f': \"0.0\",\n        }],\n [\"days_above_110F\",\n\"days_above_110F\",\n{\n            'v': 0.0,\n            'f': \"0.0\",\n        }],\n [\"heating_degree_days\",\n\"heating_degree_days\",\n{\n            'v': 0.0,\n            'f': \"0.0\",\n        }],\n [\"august_avg_temp\",\n\"august_avg_temp\",\n{\n            'v': 0.0,\n            'f': \"0.0\",\n        }],\n [\"august_max_temp\",\n\"august_max_temp\",\n{\n            'v': 0.0,\n            'f': \"0.0\",\n        }],\n [\"july_max_temp\",\n\"july_max_temp\",\n{\n            'v': 0.0,\n            'f': \"0.0\",\n        }],\n [\"State_Factor\",\n\"State_Factor\",\n{\n            'v': 0.0,\n            'f': \"0.0\",\n        }],\n [\"building_class\",\n\"building_class\",\n{\n            'v': 0.0,\n            'f': \"0.0\",\n        }],\n [\"facility_type\",\n\"facility_type\",\n{\n            'v': 0.0,\n            'f': \"0.0\",\n        }],\n [\"floor_area\",\n\"floor_area\",\n{\n            'v': 0.0,\n            'f': \"0.0\",\n        }],\n [\"ELEVATION\",\n\"ELEVATION\",\n{\n            'v': 0.0,\n            'f': \"0.0\",\n        }],\n [\"january_min_temp\",\n\"january_min_temp\",\n{\n            'v': 0.0,\n            'f': \"0.0\",\n        }],\n [\"january_avg_temp\",\n\"january_avg_temp\",\n{\n            'v': 0.0,\n            'f': \"0.0\",\n        }],\n [\"january_max_temp\",\n\"january_max_temp\",\n{\n            'v': 0.0,\n            'f': \"0.0\",\n        }],\n [\"february_min_temp\",\n\"february_min_temp\",\n{\n            'v': 0.0,\n            'f': \"0.0\",\n        }],\n [\"august_min_temp\",\n\"august_min_temp\",\n{\n            'v': 0.0,\n            'f': \"0.0\",\n        }],\n [\"february_max_temp\",\n\"february_max_temp\",\n{\n            'v': 0.0,\n            'f': \"0.0\",\n        }],\n [\"march_min_temp\",\n\"march_min_temp\",\n{\n            'v': 0.0,\n            'f': \"0.0\",\n        }],\n [\"february_avg_temp\",\n\"february_avg_temp\",\n{\n            'v': 0.0,\n            'f': \"0.0\",\n        }],\n [\"march_max_temp\",\n\"march_max_temp\",\n{\n            'v': 0.0,\n            'f': \"0.0\",\n        }],\n [\"july_avg_temp\",\n\"july_avg_temp\",\n{\n            'v': 0.0,\n            'f': \"0.0\",\n        }],\n [\"july_min_temp\",\n\"july_min_temp\",\n{\n            'v': 0.0,\n            'f': \"0.0\",\n        }],\n [\"june_max_temp\",\n\"june_max_temp\",\n{\n            'v': 0.0,\n            'f': \"0.0\",\n        }],\n [\"june_avg_temp\",\n\"june_avg_temp\",\n{\n            'v': 0.0,\n            'f': \"0.0\",\n        }],\n [\"march_avg_temp\",\n\"march_avg_temp\",\n{\n            'v': 0.0,\n            'f': \"0.0\",\n        }],\n [\"june_min_temp\",\n\"june_min_temp\",\n{\n            'v': 0.0,\n            'f': \"0.0\",\n        }],\n [\"id\",\n\"id\",\n{\n            'v': 0.0,\n            'f': \"0.0\",\n        }],\n [\"may_avg_temp\",\n\"may_avg_temp\",\n{\n            'v': 0.0,\n            'f': \"0.0\",\n        }],\n [\"may_min_temp\",\n\"may_min_temp\",\n{\n            'v': 0.0,\n            'f': \"0.0\",\n        }],\n [\"april_max_temp\",\n\"april_max_temp\",\n{\n            'v': 0.0,\n            'f': \"0.0\",\n        }],\n [\"april_avg_temp\",\n\"april_avg_temp\",\n{\n            'v': 0.0,\n            'f': \"0.0\",\n        }],\n [\"april_min_temp\",\n\"april_min_temp\",\n{\n            'v': 0.0,\n            'f': \"0.0\",\n        }],\n [\"may_max_temp\",\n\"may_max_temp\",\n{\n            'v': 0.0,\n            'f': \"0.0\",\n        }],\n [\"year_built\",\n\"year_built\",\n{\n            'v': 2.42,\n            'f': \"2.42\",\n        }],\n [\"energy_star_rating\",\n\"energy_star_rating\",\n{\n            'v': 35.26,\n            'f': \"35.26\",\n        }],\n [\"direction_max_wind_speed\",\n\"direction_max_wind_speed\",\n{\n            'v': 54.23,\n            'f': \"54.23\",\n        }],\n [\"max_wind_speed\",\n\"max_wind_speed\",\n{\n            'v': 54.23,\n            'f': \"54.23\",\n        }],\n [\"direction_peak_wind_speed\",\n\"direction_peak_wind_speed\",\n{\n            'v': 55.19,\n            'f': \"55.19\",\n        }],\n [\"days_with_fog\",\n\"days_with_fog\",\n{\n            'v': 60.45,\n            'f': \"60.45\",\n        }]],\n        columns: [[\"string\", \"index\"], [\"string\", \"column_name\"], [\"number\", \"percent_missing\"]],\n        columnOptions: [{\"width\": \"1px\", \"className\": \"index_column\"}],\n        rowsPerPage: 25,\n        helpUrl: \"https://colab.research.google.com/notebooks/data_table.ipynb\",\n        suppressOutputScrolling: true,\n        minimumWidth: undefined,\n      });\n    ",
      "text/html": [
       "\n",
       "  <div id=\"df-48e2500d-f7a0-4bab-9a0d-a7e5a28943d8\">\n",
       "    <div class=\"colab-df-container\">\n",
       "      <div>\n",
       "<style scoped>\n",
       "    .dataframe tbody tr th:only-of-type {\n",
       "        vertical-align: middle;\n",
       "    }\n",
       "\n",
       "    .dataframe tbody tr th {\n",
       "        vertical-align: top;\n",
       "    }\n",
       "\n",
       "    .dataframe thead th {\n",
       "        text-align: right;\n",
       "    }\n",
       "</style>\n",
       "<table border=\"1\" class=\"dataframe\">\n",
       "  <thead>\n",
       "    <tr style=\"text-align: right;\">\n",
       "      <th></th>\n",
       "      <th>column_name</th>\n",
       "      <th>percent_missing</th>\n",
       "    </tr>\n",
       "  </thead>\n",
       "  <tbody>\n",
       "    <tr>\n",
       "      <th>Year_Factor</th>\n",
       "      <td>Year_Factor</td>\n",
       "      <td>0.00</td>\n",
       "    </tr>\n",
       "    <tr>\n",
       "      <th>september_min_temp</th>\n",
       "      <td>september_min_temp</td>\n",
       "      <td>0.00</td>\n",
       "    </tr>\n",
       "    <tr>\n",
       "      <th>september_avg_temp</th>\n",
       "      <td>september_avg_temp</td>\n",
       "      <td>0.00</td>\n",
       "    </tr>\n",
       "    <tr>\n",
       "      <th>september_max_temp</th>\n",
       "      <td>september_max_temp</td>\n",
       "      <td>0.00</td>\n",
       "    </tr>\n",
       "    <tr>\n",
       "      <th>october_min_temp</th>\n",
       "      <td>october_min_temp</td>\n",
       "      <td>0.00</td>\n",
       "    </tr>\n",
       "    <tr>\n",
       "      <th>...</th>\n",
       "      <td>...</td>\n",
       "      <td>...</td>\n",
       "    </tr>\n",
       "    <tr>\n",
       "      <th>energy_star_rating</th>\n",
       "      <td>energy_star_rating</td>\n",
       "      <td>35.26</td>\n",
       "    </tr>\n",
       "    <tr>\n",
       "      <th>direction_max_wind_speed</th>\n",
       "      <td>direction_max_wind_speed</td>\n",
       "      <td>54.23</td>\n",
       "    </tr>\n",
       "    <tr>\n",
       "      <th>max_wind_speed</th>\n",
       "      <td>max_wind_speed</td>\n",
       "      <td>54.23</td>\n",
       "    </tr>\n",
       "    <tr>\n",
       "      <th>direction_peak_wind_speed</th>\n",
       "      <td>direction_peak_wind_speed</td>\n",
       "      <td>55.19</td>\n",
       "    </tr>\n",
       "    <tr>\n",
       "      <th>days_with_fog</th>\n",
       "      <td>days_with_fog</td>\n",
       "      <td>60.45</td>\n",
       "    </tr>\n",
       "  </tbody>\n",
       "</table>\n",
       "<p>64 rows × 2 columns</p>\n",
       "</div>\n",
       "      <button class=\"colab-df-convert\" onclick=\"convertToInteractive('df-48e2500d-f7a0-4bab-9a0d-a7e5a28943d8')\"\n",
       "              title=\"Convert this dataframe to an interactive table.\"\n",
       "              style=\"display:none;\">\n",
       "        \n",
       "  <svg xmlns=\"http://www.w3.org/2000/svg\" height=\"24px\"viewBox=\"0 0 24 24\"\n",
       "       width=\"24px\">\n",
       "    <path d=\"M0 0h24v24H0V0z\" fill=\"none\"/>\n",
       "    <path d=\"M18.56 5.44l.94 2.06.94-2.06 2.06-.94-2.06-.94-.94-2.06-.94 2.06-2.06.94zm-11 1L8.5 8.5l.94-2.06 2.06-.94-2.06-.94L8.5 2.5l-.94 2.06-2.06.94zm10 10l.94 2.06.94-2.06 2.06-.94-2.06-.94-.94-2.06-.94 2.06-2.06.94z\"/><path d=\"M17.41 7.96l-1.37-1.37c-.4-.4-.92-.59-1.43-.59-.52 0-1.04.2-1.43.59L10.3 9.45l-7.72 7.72c-.78.78-.78 2.05 0 2.83L4 21.41c.39.39.9.59 1.41.59.51 0 1.02-.2 1.41-.59l7.78-7.78 2.81-2.81c.8-.78.8-2.07 0-2.86zM5.41 20L4 18.59l7.72-7.72 1.47 1.35L5.41 20z\"/>\n",
       "  </svg>\n",
       "      </button>\n",
       "      \n",
       "  <style>\n",
       "    .colab-df-container {\n",
       "      display:flex;\n",
       "      flex-wrap:wrap;\n",
       "      gap: 12px;\n",
       "    }\n",
       "\n",
       "    .colab-df-convert {\n",
       "      background-color: #E8F0FE;\n",
       "      border: none;\n",
       "      border-radius: 50%;\n",
       "      cursor: pointer;\n",
       "      display: none;\n",
       "      fill: #1967D2;\n",
       "      height: 32px;\n",
       "      padding: 0 0 0 0;\n",
       "      width: 32px;\n",
       "    }\n",
       "\n",
       "    .colab-df-convert:hover {\n",
       "      background-color: #E2EBFA;\n",
       "      box-shadow: 0px 1px 2px rgba(60, 64, 67, 0.3), 0px 1px 3px 1px rgba(60, 64, 67, 0.15);\n",
       "      fill: #174EA6;\n",
       "    }\n",
       "\n",
       "    [theme=dark] .colab-df-convert {\n",
       "      background-color: #3B4455;\n",
       "      fill: #D2E3FC;\n",
       "    }\n",
       "\n",
       "    [theme=dark] .colab-df-convert:hover {\n",
       "      background-color: #434B5C;\n",
       "      box-shadow: 0px 1px 3px 1px rgba(0, 0, 0, 0.15);\n",
       "      filter: drop-shadow(0px 1px 2px rgba(0, 0, 0, 0.3));\n",
       "      fill: #FFFFFF;\n",
       "    }\n",
       "  </style>\n",
       "\n",
       "      <script>\n",
       "        const buttonEl =\n",
       "          document.querySelector('#df-48e2500d-f7a0-4bab-9a0d-a7e5a28943d8 button.colab-df-convert');\n",
       "        buttonEl.style.display =\n",
       "          google.colab.kernel.accessAllowed ? 'block' : 'none';\n",
       "\n",
       "        async function convertToInteractive(key) {\n",
       "          const element = document.querySelector('#df-48e2500d-f7a0-4bab-9a0d-a7e5a28943d8');\n",
       "          const dataTable =\n",
       "            await google.colab.kernel.invokeFunction('convertToInteractive',\n",
       "                                                     [key], {});\n",
       "          if (!dataTable) return;\n",
       "\n",
       "          const docLinkHtml = 'Like what you see? Visit the ' +\n",
       "            '<a target=\"_blank\" href=https://colab.research.google.com/notebooks/data_table.ipynb>data table notebook</a>'\n",
       "            + ' to learn more about interactive tables.';\n",
       "          element.innerHTML = '';\n",
       "          dataTable['output_type'] = 'display_data';\n",
       "          await google.colab.output.renderOutput(dataTable, element);\n",
       "          const docLink = document.createElement('div');\n",
       "          docLink.innerHTML = docLinkHtml;\n",
       "          element.appendChild(docLink);\n",
       "        }\n",
       "      </script>\n",
       "    </div>\n",
       "  </div>\n",
       "  "
      ],
      "text/plain": [
       "                                         column_name  percent_missing\n",
       "Year_Factor                              Year_Factor             0.00\n",
       "september_min_temp                september_min_temp             0.00\n",
       "september_avg_temp                september_avg_temp             0.00\n",
       "september_max_temp                september_max_temp             0.00\n",
       "october_min_temp                    october_min_temp             0.00\n",
       "...                                              ...              ...\n",
       "energy_star_rating                energy_star_rating            35.26\n",
       "direction_max_wind_speed    direction_max_wind_speed            54.23\n",
       "max_wind_speed                        max_wind_speed            54.23\n",
       "direction_peak_wind_speed  direction_peak_wind_speed            55.19\n",
       "days_with_fog                          days_with_fog            60.45\n",
       "\n",
       "[64 rows x 2 columns]"
      ]
     },
     "execution_count": 14,
     "metadata": {},
     "output_type": "execute_result"
    }
   ],
   "source": [
    "missing_values(df_training)"
   ]
  },
  {
   "cell_type": "code",
   "execution_count": 15,
   "metadata": {
    "colab": {
     "base_uri": "https://localhost:8080/",
     "height": 640
    },
    "executionInfo": {
     "elapsed": 26,
     "status": "ok",
     "timestamp": 1645889405337,
     "user": {
      "displayName": "Ararajuba Data Science Project",
      "photoUrl": "https://lh3.googleusercontent.com/a/default-user=s64",
      "userId": "02004027308564222829"
     },
     "user_tz": 180
    },
    "id": "f-CrRG1jKXhX",
    "outputId": "bfe634d8-eef6-4aa2-a018-5fc0c1f8dd90"
   },
   "outputs": [
    {
     "data": {
      "application/vnd.google.colaboratory.module+javascript": "\n      import \"https://ssl.gstatic.com/colaboratory/data_table/81f25a011006ed3d/data_table.js\";\n\n      window.createDataTable({\n        data: [[\"Year_Factor\",\n\"Year_Factor\",\n{\n            'v': 0.0,\n            'f': \"0.0\",\n        }],\n [\"september_min_temp\",\n\"september_min_temp\",\n{\n            'v': 0.0,\n            'f': \"0.0\",\n        }],\n [\"september_avg_temp\",\n\"september_avg_temp\",\n{\n            'v': 0.0,\n            'f': \"0.0\",\n        }],\n [\"september_max_temp\",\n\"september_max_temp\",\n{\n            'v': 0.0,\n            'f': \"0.0\",\n        }],\n [\"october_min_temp\",\n\"october_min_temp\",\n{\n            'v': 0.0,\n            'f': \"0.0\",\n        }],\n [\"october_avg_temp\",\n\"october_avg_temp\",\n{\n            'v': 0.0,\n            'f': \"0.0\",\n        }],\n [\"october_max_temp\",\n\"october_max_temp\",\n{\n            'v': 0.0,\n            'f': \"0.0\",\n        }],\n [\"november_min_temp\",\n\"november_min_temp\",\n{\n            'v': 0.0,\n            'f': \"0.0\",\n        }],\n [\"november_avg_temp\",\n\"november_avg_temp\",\n{\n            'v': 0.0,\n            'f': \"0.0\",\n        }],\n [\"november_max_temp\",\n\"november_max_temp\",\n{\n            'v': 0.0,\n            'f': \"0.0\",\n        }],\n [\"december_min_temp\",\n\"december_min_temp\",\n{\n            'v': 0.0,\n            'f': \"0.0\",\n        }],\n [\"december_avg_temp\",\n\"december_avg_temp\",\n{\n            'v': 0.0,\n            'f': \"0.0\",\n        }],\n [\"december_max_temp\",\n\"december_max_temp\",\n{\n            'v': 0.0,\n            'f': \"0.0\",\n        }],\n [\"august_avg_temp\",\n\"august_avg_temp\",\n{\n            'v': 0.0,\n            'f': \"0.0\",\n        }],\n [\"cooling_degree_days\",\n\"cooling_degree_days\",\n{\n            'v': 0.0,\n            'f': \"0.0\",\n        }],\n [\"precipitation_inches\",\n\"precipitation_inches\",\n{\n            'v': 0.0,\n            'f': \"0.0\",\n        }],\n [\"snowfall_inches\",\n\"snowfall_inches\",\n{\n            'v': 0.0,\n            'f': \"0.0\",\n        }],\n [\"snowdepth_inches\",\n\"snowdepth_inches\",\n{\n            'v': 0.0,\n            'f': \"0.0\",\n        }],\n [\"avg_temp\",\n\"avg_temp\",\n{\n            'v': 0.0,\n            'f': \"0.0\",\n        }],\n [\"days_below_30F\",\n\"days_below_30F\",\n{\n            'v': 0.0,\n            'f': \"0.0\",\n        }],\n [\"days_below_20F\",\n\"days_below_20F\",\n{\n            'v': 0.0,\n            'f': \"0.0\",\n        }],\n [\"days_below_10F\",\n\"days_below_10F\",\n{\n            'v': 0.0,\n            'f': \"0.0\",\n        }],\n [\"days_below_0F\",\n\"days_below_0F\",\n{\n            'v': 0.0,\n            'f': \"0.0\",\n        }],\n [\"days_above_80F\",\n\"days_above_80F\",\n{\n            'v': 0.0,\n            'f': \"0.0\",\n        }],\n [\"days_above_90F\",\n\"days_above_90F\",\n{\n            'v': 0.0,\n            'f': \"0.0\",\n        }],\n [\"days_above_100F\",\n\"days_above_100F\",\n{\n            'v': 0.0,\n            'f': \"0.0\",\n        }],\n [\"days_above_110F\",\n\"days_above_110F\",\n{\n            'v': 0.0,\n            'f': \"0.0\",\n        }],\n [\"heating_degree_days\",\n\"heating_degree_days\",\n{\n            'v': 0.0,\n            'f': \"0.0\",\n        }],\n [\"august_min_temp\",\n\"august_min_temp\",\n{\n            'v': 0.0,\n            'f': \"0.0\",\n        }],\n [\"august_max_temp\",\n\"august_max_temp\",\n{\n            'v': 0.0,\n            'f': \"0.0\",\n        }],\n [\"july_avg_temp\",\n\"july_avg_temp\",\n{\n            'v': 0.0,\n            'f': \"0.0\",\n        }],\n [\"State_Factor\",\n\"State_Factor\",\n{\n            'v': 0.0,\n            'f': \"0.0\",\n        }],\n [\"building_class\",\n\"building_class\",\n{\n            'v': 0.0,\n            'f': \"0.0\",\n        }],\n [\"facility_type\",\n\"facility_type\",\n{\n            'v': 0.0,\n            'f': \"0.0\",\n        }],\n [\"floor_area\",\n\"floor_area\",\n{\n            'v': 0.0,\n            'f': \"0.0\",\n        }],\n [\"ELEVATION\",\n\"ELEVATION\",\n{\n            'v': 0.0,\n            'f': \"0.0\",\n        }],\n [\"january_min_temp\",\n\"january_min_temp\",\n{\n            'v': 0.0,\n            'f': \"0.0\",\n        }],\n [\"january_avg_temp\",\n\"january_avg_temp\",\n{\n            'v': 0.0,\n            'f': \"0.0\",\n        }],\n [\"january_max_temp\",\n\"january_max_temp\",\n{\n            'v': 0.0,\n            'f': \"0.0\",\n        }],\n [\"february_min_temp\",\n\"february_min_temp\",\n{\n            'v': 0.0,\n            'f': \"0.0\",\n        }],\n [\"july_max_temp\",\n\"july_max_temp\",\n{\n            'v': 0.0,\n            'f': \"0.0\",\n        }],\n [\"february_max_temp\",\n\"february_max_temp\",\n{\n            'v': 0.0,\n            'f': \"0.0\",\n        }],\n [\"march_min_temp\",\n\"march_min_temp\",\n{\n            'v': 0.0,\n            'f': \"0.0\",\n        }],\n [\"february_avg_temp\",\n\"february_avg_temp\",\n{\n            'v': 0.0,\n            'f': \"0.0\",\n        }],\n [\"march_max_temp\",\n\"march_max_temp\",\n{\n            'v': 0.0,\n            'f': \"0.0\",\n        }],\n [\"july_min_temp\",\n\"july_min_temp\",\n{\n            'v': 0.0,\n            'f': \"0.0\",\n        }],\n [\"june_max_temp\",\n\"june_max_temp\",\n{\n            'v': 0.0,\n            'f': \"0.0\",\n        }],\n [\"june_avg_temp\",\n\"june_avg_temp\",\n{\n            'v': 0.0,\n            'f': \"0.0\",\n        }],\n [\"march_avg_temp\",\n\"march_avg_temp\",\n{\n            'v': 0.0,\n            'f': \"0.0\",\n        }],\n [\"june_min_temp\",\n\"june_min_temp\",\n{\n            'v': 0.0,\n            'f': \"0.0\",\n        }],\n [\"id\",\n\"id\",\n{\n            'v': 0.0,\n            'f': \"0.0\",\n        }],\n [\"may_avg_temp\",\n\"may_avg_temp\",\n{\n            'v': 0.0,\n            'f': \"0.0\",\n        }],\n [\"may_min_temp\",\n\"may_min_temp\",\n{\n            'v': 0.0,\n            'f': \"0.0\",\n        }],\n [\"april_max_temp\",\n\"april_max_temp\",\n{\n            'v': 0.0,\n            'f': \"0.0\",\n        }],\n [\"april_avg_temp\",\n\"april_avg_temp\",\n{\n            'v': 0.0,\n            'f': \"0.0\",\n        }],\n [\"april_min_temp\",\n\"april_min_temp\",\n{\n            'v': 0.0,\n            'f': \"0.0\",\n        }],\n [\"may_max_temp\",\n\"may_max_temp\",\n{\n            'v': 0.0,\n            'f': \"0.0\",\n        }],\n [\"year_built\",\n\"year_built\",\n{\n            'v': 0.95,\n            'f': \"0.95\",\n        }],\n [\"energy_star_rating\",\n\"energy_star_rating\",\n{\n            'v': 23.23,\n            'f': \"23.23\",\n        }],\n [\"direction_max_wind_speed\",\n\"direction_max_wind_speed\",\n{\n            'v': 88.36,\n            'f': \"88.36\",\n        }],\n [\"direction_peak_wind_speed\",\n\"direction_peak_wind_speed\",\n{\n            'v': 88.36,\n            'f': \"88.36\",\n        }],\n [\"max_wind_speed\",\n\"max_wind_speed\",\n{\n            'v': 88.36,\n            'f': \"88.36\",\n        }],\n [\"days_with_fog\",\n\"days_with_fog\",\n{\n            'v': 93.94,\n            'f': \"93.94\",\n        }]],\n        columns: [[\"string\", \"index\"], [\"string\", \"column_name\"], [\"number\", \"percent_missing\"]],\n        columnOptions: [{\"width\": \"1px\", \"className\": \"index_column\"}],\n        rowsPerPage: 25,\n        helpUrl: \"https://colab.research.google.com/notebooks/data_table.ipynb\",\n        suppressOutputScrolling: true,\n        minimumWidth: undefined,\n      });\n    ",
      "text/html": [
       "\n",
       "  <div id=\"df-9e0f56e6-9908-4e2c-913a-882b4dd724da\">\n",
       "    <div class=\"colab-df-container\">\n",
       "      <div>\n",
       "<style scoped>\n",
       "    .dataframe tbody tr th:only-of-type {\n",
       "        vertical-align: middle;\n",
       "    }\n",
       "\n",
       "    .dataframe tbody tr th {\n",
       "        vertical-align: top;\n",
       "    }\n",
       "\n",
       "    .dataframe thead th {\n",
       "        text-align: right;\n",
       "    }\n",
       "</style>\n",
       "<table border=\"1\" class=\"dataframe\">\n",
       "  <thead>\n",
       "    <tr style=\"text-align: right;\">\n",
       "      <th></th>\n",
       "      <th>column_name</th>\n",
       "      <th>percent_missing</th>\n",
       "    </tr>\n",
       "  </thead>\n",
       "  <tbody>\n",
       "    <tr>\n",
       "      <th>Year_Factor</th>\n",
       "      <td>Year_Factor</td>\n",
       "      <td>0.00</td>\n",
       "    </tr>\n",
       "    <tr>\n",
       "      <th>september_min_temp</th>\n",
       "      <td>september_min_temp</td>\n",
       "      <td>0.00</td>\n",
       "    </tr>\n",
       "    <tr>\n",
       "      <th>september_avg_temp</th>\n",
       "      <td>september_avg_temp</td>\n",
       "      <td>0.00</td>\n",
       "    </tr>\n",
       "    <tr>\n",
       "      <th>september_max_temp</th>\n",
       "      <td>september_max_temp</td>\n",
       "      <td>0.00</td>\n",
       "    </tr>\n",
       "    <tr>\n",
       "      <th>october_min_temp</th>\n",
       "      <td>october_min_temp</td>\n",
       "      <td>0.00</td>\n",
       "    </tr>\n",
       "    <tr>\n",
       "      <th>...</th>\n",
       "      <td>...</td>\n",
       "      <td>...</td>\n",
       "    </tr>\n",
       "    <tr>\n",
       "      <th>energy_star_rating</th>\n",
       "      <td>energy_star_rating</td>\n",
       "      <td>23.23</td>\n",
       "    </tr>\n",
       "    <tr>\n",
       "      <th>direction_max_wind_speed</th>\n",
       "      <td>direction_max_wind_speed</td>\n",
       "      <td>88.36</td>\n",
       "    </tr>\n",
       "    <tr>\n",
       "      <th>direction_peak_wind_speed</th>\n",
       "      <td>direction_peak_wind_speed</td>\n",
       "      <td>88.36</td>\n",
       "    </tr>\n",
       "    <tr>\n",
       "      <th>max_wind_speed</th>\n",
       "      <td>max_wind_speed</td>\n",
       "      <td>88.36</td>\n",
       "    </tr>\n",
       "    <tr>\n",
       "      <th>days_with_fog</th>\n",
       "      <td>days_with_fog</td>\n",
       "      <td>93.94</td>\n",
       "    </tr>\n",
       "  </tbody>\n",
       "</table>\n",
       "<p>63 rows × 2 columns</p>\n",
       "</div>\n",
       "      <button class=\"colab-df-convert\" onclick=\"convertToInteractive('df-9e0f56e6-9908-4e2c-913a-882b4dd724da')\"\n",
       "              title=\"Convert this dataframe to an interactive table.\"\n",
       "              style=\"display:none;\">\n",
       "        \n",
       "  <svg xmlns=\"http://www.w3.org/2000/svg\" height=\"24px\"viewBox=\"0 0 24 24\"\n",
       "       width=\"24px\">\n",
       "    <path d=\"M0 0h24v24H0V0z\" fill=\"none\"/>\n",
       "    <path d=\"M18.56 5.44l.94 2.06.94-2.06 2.06-.94-2.06-.94-.94-2.06-.94 2.06-2.06.94zm-11 1L8.5 8.5l.94-2.06 2.06-.94-2.06-.94L8.5 2.5l-.94 2.06-2.06.94zm10 10l.94 2.06.94-2.06 2.06-.94-2.06-.94-.94-2.06-.94 2.06-2.06.94z\"/><path d=\"M17.41 7.96l-1.37-1.37c-.4-.4-.92-.59-1.43-.59-.52 0-1.04.2-1.43.59L10.3 9.45l-7.72 7.72c-.78.78-.78 2.05 0 2.83L4 21.41c.39.39.9.59 1.41.59.51 0 1.02-.2 1.41-.59l7.78-7.78 2.81-2.81c.8-.78.8-2.07 0-2.86zM5.41 20L4 18.59l7.72-7.72 1.47 1.35L5.41 20z\"/>\n",
       "  </svg>\n",
       "      </button>\n",
       "      \n",
       "  <style>\n",
       "    .colab-df-container {\n",
       "      display:flex;\n",
       "      flex-wrap:wrap;\n",
       "      gap: 12px;\n",
       "    }\n",
       "\n",
       "    .colab-df-convert {\n",
       "      background-color: #E8F0FE;\n",
       "      border: none;\n",
       "      border-radius: 50%;\n",
       "      cursor: pointer;\n",
       "      display: none;\n",
       "      fill: #1967D2;\n",
       "      height: 32px;\n",
       "      padding: 0 0 0 0;\n",
       "      width: 32px;\n",
       "    }\n",
       "\n",
       "    .colab-df-convert:hover {\n",
       "      background-color: #E2EBFA;\n",
       "      box-shadow: 0px 1px 2px rgba(60, 64, 67, 0.3), 0px 1px 3px 1px rgba(60, 64, 67, 0.15);\n",
       "      fill: #174EA6;\n",
       "    }\n",
       "\n",
       "    [theme=dark] .colab-df-convert {\n",
       "      background-color: #3B4455;\n",
       "      fill: #D2E3FC;\n",
       "    }\n",
       "\n",
       "    [theme=dark] .colab-df-convert:hover {\n",
       "      background-color: #434B5C;\n",
       "      box-shadow: 0px 1px 3px 1px rgba(0, 0, 0, 0.15);\n",
       "      filter: drop-shadow(0px 1px 2px rgba(0, 0, 0, 0.3));\n",
       "      fill: #FFFFFF;\n",
       "    }\n",
       "  </style>\n",
       "\n",
       "      <script>\n",
       "        const buttonEl =\n",
       "          document.querySelector('#df-9e0f56e6-9908-4e2c-913a-882b4dd724da button.colab-df-convert');\n",
       "        buttonEl.style.display =\n",
       "          google.colab.kernel.accessAllowed ? 'block' : 'none';\n",
       "\n",
       "        async function convertToInteractive(key) {\n",
       "          const element = document.querySelector('#df-9e0f56e6-9908-4e2c-913a-882b4dd724da');\n",
       "          const dataTable =\n",
       "            await google.colab.kernel.invokeFunction('convertToInteractive',\n",
       "                                                     [key], {});\n",
       "          if (!dataTable) return;\n",
       "\n",
       "          const docLinkHtml = 'Like what you see? Visit the ' +\n",
       "            '<a target=\"_blank\" href=https://colab.research.google.com/notebooks/data_table.ipynb>data table notebook</a>'\n",
       "            + ' to learn more about interactive tables.';\n",
       "          element.innerHTML = '';\n",
       "          dataTable['output_type'] = 'display_data';\n",
       "          await google.colab.output.renderOutput(dataTable, element);\n",
       "          const docLink = document.createElement('div');\n",
       "          docLink.innerHTML = docLinkHtml;\n",
       "          element.appendChild(docLink);\n",
       "        }\n",
       "      </script>\n",
       "    </div>\n",
       "  </div>\n",
       "  "
      ],
      "text/plain": [
       "                                         column_name  percent_missing\n",
       "Year_Factor                              Year_Factor             0.00\n",
       "september_min_temp                september_min_temp             0.00\n",
       "september_avg_temp                september_avg_temp             0.00\n",
       "september_max_temp                september_max_temp             0.00\n",
       "october_min_temp                    october_min_temp             0.00\n",
       "...                                              ...              ...\n",
       "energy_star_rating                energy_star_rating            23.23\n",
       "direction_max_wind_speed    direction_max_wind_speed            88.36\n",
       "direction_peak_wind_speed  direction_peak_wind_speed            88.36\n",
       "max_wind_speed                        max_wind_speed            88.36\n",
       "days_with_fog                          days_with_fog            93.94\n",
       "\n",
       "[63 rows x 2 columns]"
      ]
     },
     "execution_count": 15,
     "metadata": {},
     "output_type": "execute_result"
    }
   ],
   "source": [
    "missing_values(df_test)"
   ]
  },
  {
   "cell_type": "markdown",
   "metadata": {
    "id": "_1qOkumyMHiR"
   },
   "source": [
    "### ***Tratar Dummies***"
   ]
  },
  {
   "cell_type": "code",
   "execution_count": 16,
   "metadata": {
    "colab": {
     "base_uri": "https://localhost:8080/"
    },
    "executionInfo": {
     "elapsed": 548,
     "status": "ok",
     "timestamp": 1645889405862,
     "user": {
      "displayName": "Ararajuba Data Science Project",
      "photoUrl": "https://lh3.googleusercontent.com/a/default-user=s64",
      "userId": "02004027308564222829"
     },
     "user_tz": 180
    },
    "id": "rmo_25DPVtiu",
    "outputId": "f83e279d-4052-4b68-8103-ae5e739bf9b8"
   },
   "outputs": [
    {
     "name": "stdout",
     "output_type": "stream",
     "text": [
      "Dimenções  train.csv (filas, columnas)  :  (75757, 64)\n",
      "Dimenções  test.csv (filas, columnas)  :  (9705, 63)\n",
      "Dimenções  sample_solution.csv (filas, columnas)  :  (9705, 2)\n"
     ]
    }
   ],
   "source": [
    "df_training          = ler_arquivos('train.csv')\n",
    "df_test              = ler_arquivos('test.csv')\n",
    "df_samplesubmission  = ler_arquivos('sample_solution.csv')"
   ]
  },
  {
   "cell_type": "code",
   "execution_count": 17,
   "metadata": {
    "colab": {
     "base_uri": "https://localhost:8080/"
    },
    "executionInfo": {
     "elapsed": 24,
     "status": "ok",
     "timestamp": 1645889405864,
     "user": {
      "displayName": "Ararajuba Data Science Project",
      "photoUrl": "https://lh3.googleusercontent.com/a/default-user=s64",
      "userId": "02004027308564222829"
     },
     "user_tz": 180
    },
    "id": "3N9ehXzvMIZR",
    "outputId": "ec1d7dd4-9128-4e15-a4a1-0a20b8c71e84"
   },
   "outputs": [
    {
     "name": "stdout",
     "output_type": "stream",
     "text": [
      "Features categoricas  ['State_Factor', 'building_class', 'facility_type']\n"
     ]
    }
   ],
   "source": [
    "from IPython.display import display\n",
    "pd.set_option('display.max_columns', 100)\n",
    "pd.options.display.max_columns = 100\n",
    "\n",
    "cat_var = [key for key in dict(df_training.dtypes)\n",
    "             if dict(df_training.dtypes)[key] in ['object'] ]\n",
    "\n",
    "print('Features categoricas ',cat_var)"
   ]
  },
  {
   "cell_type": "code",
   "execution_count": 18,
   "metadata": {
    "colab": {
     "base_uri": "https://localhost:8080/"
    },
    "executionInfo": {
     "elapsed": 21,
     "status": "ok",
     "timestamp": 1645889405865,
     "user": {
      "displayName": "Ararajuba Data Science Project",
      "photoUrl": "https://lh3.googleusercontent.com/a/default-user=s64",
      "userId": "02004027308564222829"
     },
     "user_tz": 180
    },
    "id": "WlOFYKXtMOik",
    "outputId": "0ff75289-6d2b-4355-b129-8f76c1a8d35a"
   },
   "outputs": [
    {
     "data": {
      "text/plain": [
       "array(['State_1', 'State_2', 'State_4', 'State_6', 'State_8', 'State_10',\n",
       "       'State_11'], dtype=object)"
      ]
     },
     "execution_count": 18,
     "metadata": {},
     "output_type": "execute_result"
    }
   ],
   "source": [
    "df_training.State_Factor.unique()"
   ]
  },
  {
   "cell_type": "code",
   "execution_count": 19,
   "metadata": {
    "colab": {
     "base_uri": "https://localhost:8080/"
    },
    "executionInfo": {
     "elapsed": 20,
     "status": "ok",
     "timestamp": 1645889405866,
     "user": {
      "displayName": "Ararajuba Data Science Project",
      "photoUrl": "https://lh3.googleusercontent.com/a/default-user=s64",
      "userId": "02004027308564222829"
     },
     "user_tz": 180
    },
    "id": "ojceLjJEMRTF",
    "outputId": "bf2f418a-d4d4-4a0a-b945-cc9292a7a878"
   },
   "outputs": [
    {
     "data": {
      "text/plain": [
       "array(['Commercial', 'Residential'], dtype=object)"
      ]
     },
     "execution_count": 19,
     "metadata": {},
     "output_type": "execute_result"
    }
   ],
   "source": [
    "df_training.building_class.unique()"
   ]
  },
  {
   "cell_type": "code",
   "execution_count": 20,
   "metadata": {
    "colab": {
     "base_uri": "https://localhost:8080/"
    },
    "executionInfo": {
     "elapsed": 19,
     "status": "ok",
     "timestamp": 1645889405867,
     "user": {
      "displayName": "Ararajuba Data Science Project",
      "photoUrl": "https://lh3.googleusercontent.com/a/default-user=s64",
      "userId": "02004027308564222829"
     },
     "user_tz": 180
    },
    "id": "6LuwacQ5MT1-",
    "outputId": "fef62b31-b6c2-4624-9b83-f8190500d163"
   },
   "outputs": [
    {
     "data": {
      "text/plain": [
       "array(['Grocery_store_or_food_market',\n",
       "       'Warehouse_Distribution_or_Shipping_center',\n",
       "       'Retail_Enclosed_mall', 'Education_Other_classroom',\n",
       "       'Warehouse_Nonrefrigerated', 'Warehouse_Selfstorage',\n",
       "       'Office_Uncategorized', 'Data_Center', 'Commercial_Other',\n",
       "       'Mixed_Use_Predominantly_Commercial',\n",
       "       'Office_Medical_non_diagnostic', 'Education_College_or_university',\n",
       "       'Industrial', 'Laboratory',\n",
       "       'Public_Assembly_Entertainment_culture',\n",
       "       'Retail_Vehicle_dealership_showroom', 'Retail_Uncategorized',\n",
       "       'Lodging_Hotel', 'Retail_Strip_shopping_mall',\n",
       "       'Education_Uncategorized', 'Health_Care_Inpatient',\n",
       "       'Public_Assembly_Drama_theater', 'Public_Assembly_Social_meeting',\n",
       "       'Religious_worship', 'Mixed_Use_Commercial_and_Residential',\n",
       "       'Office_Bank_or_other_financial', 'Parking_Garage',\n",
       "       'Commercial_Unknown', 'Service_Vehicle_service_repair_shop',\n",
       "       'Service_Drycleaning_or_Laundry', 'Public_Assembly_Recreation',\n",
       "       'Service_Uncategorized', 'Warehouse_Refrigerated',\n",
       "       'Food_Service_Uncategorized', 'Health_Care_Uncategorized',\n",
       "       'Food_Service_Other', 'Public_Assembly_Movie_Theater',\n",
       "       'Food_Service_Restaurant_or_cafeteria', 'Food_Sales',\n",
       "       'Public_Assembly_Uncategorized', 'Nursing_Home',\n",
       "       'Health_Care_Outpatient_Clinic', 'Education_Preschool_or_daycare',\n",
       "       '5plus_Unit_Building', 'Multifamily_Uncategorized',\n",
       "       'Lodging_Dormitory_or_fraternity_sorority',\n",
       "       'Public_Assembly_Library', 'Public_Safety_Uncategorized',\n",
       "       'Public_Safety_Fire_or_police_station', 'Office_Mixed_use',\n",
       "       'Public_Assembly_Other', 'Public_Safety_Penitentiary',\n",
       "       'Health_Care_Outpatient_Uncategorized', 'Lodging_Other',\n",
       "       'Mixed_Use_Predominantly_Residential', 'Public_Safety_Courthouse',\n",
       "       'Public_Assembly_Stadium', 'Lodging_Uncategorized',\n",
       "       '2to4_Unit_Building', 'Warehouse_Uncategorized'], dtype=object)"
      ]
     },
     "execution_count": 20,
     "metadata": {},
     "output_type": "execute_result"
    }
   ],
   "source": [
    "df_training.facility_type.unique()"
   ]
  },
  {
   "cell_type": "code",
   "execution_count": 21,
   "metadata": {
    "executionInfo": {
     "elapsed": 17,
     "status": "ok",
     "timestamp": 1645889405868,
     "user": {
      "displayName": "Ararajuba Data Science Project",
      "photoUrl": "https://lh3.googleusercontent.com/a/default-user=s64",
      "userId": "02004027308564222829"
     },
     "user_tz": 180
    },
    "id": "ReCYT0q5NPxK"
   },
   "outputs": [],
   "source": [
    "df_training['State_Factor_'] = df_training['State_Factor']\n",
    "df_test['State_Factor_'] = df_test['State_Factor']\n",
    "\n",
    "df_training_temp = df_training\n",
    "\n",
    "df_training = pd.get_dummies(df_training_temp, columns=['State_Factor'])\n",
    "df_test = pd.get_dummies(df_test, columns=['State_Factor'])"
   ]
  },
  {
   "cell_type": "code",
   "execution_count": 22,
   "metadata": {
    "executionInfo": {
     "elapsed": 18,
     "status": "ok",
     "timestamp": 1645889405869,
     "user": {
      "displayName": "Ararajuba Data Science Project",
      "photoUrl": "https://lh3.googleusercontent.com/a/default-user=s64",
      "userId": "02004027308564222829"
     },
     "user_tz": 180
    },
    "id": "Htsune2jOgle"
   },
   "outputs": [],
   "source": [
    "#df_training['building_class_'] = df_training['building_class']\n",
    "#df_test['building_class_'] = df_test['building_class']\n",
    "#\n",
    "#df_training_temp = df_training\n",
    "#\n",
    "#df_training = pd.get_dummies(df_training_temp, columns=['building_class'])\n",
    "#df_test = pd.get_dummies(df_test, columns=['building_class'])"
   ]
  },
  {
   "cell_type": "code",
   "execution_count": 23,
   "metadata": {
    "executionInfo": {
     "elapsed": 17,
     "status": "ok",
     "timestamp": 1645889405871,
     "user": {
      "displayName": "Ararajuba Data Science Project",
      "photoUrl": "https://lh3.googleusercontent.com/a/default-user=s64",
      "userId": "02004027308564222829"
     },
     "user_tz": 180
    },
    "id": "o8TRqHpiVITC"
   },
   "outputs": [],
   "source": [
    "df_training['building_class_'] = df_training['building_class']\n",
    "df_test['building_class_'] = df_test['building_class']\n",
    "\n",
    "replace_map = {'building_class': {'Commercial': 1, 'Residential': 0}}\n",
    "\n",
    "#labels = df_training['building_class'].astype('category').cat.categories.tolist()\n",
    "#replace_map_comp = {'building_class' : {k: v for k,v in zip(labels,list(range(1,len(labels)+1)))}}\n",
    "\n",
    "df_training.replace(replace_map, inplace=True)\n",
    "df_test.replace(replace_map, inplace=True)"
   ]
  },
  {
   "cell_type": "code",
   "execution_count": 24,
   "metadata": {
    "executionInfo": {
     "elapsed": 425,
     "status": "ok",
     "timestamp": 1645889406280,
     "user": {
      "displayName": "Ararajuba Data Science Project",
      "photoUrl": "https://lh3.googleusercontent.com/a/default-user=s64",
      "userId": "02004027308564222829"
     },
     "user_tz": 180
    },
    "id": "toJH3pETOuEn"
   },
   "outputs": [],
   "source": [
    "df_training['facility_type_']  = df_training['facility_type']\n",
    "df_test['facility_type_'] = df_test['facility_type']\n",
    "\n",
    "replace_map = {'facility_type': { 'Grocery_store_or_food_market': 1,\n",
    "                                  'Warehouse_Distribution_or_Shipping_center' : 2,\n",
    "                                  'Retail_Enclosed_mall' : 3,\n",
    "                                  'Education_Other_classroom' : 4,\n",
    "                                  'Warehouse_Nonrefrigerated': 5,\n",
    "                                  'Warehouse_Selfstorage': 6,\n",
    "                                  'Office_Uncategorized': 7,\n",
    "                                  'Data_Center': 8, \n",
    "                                  'Commercial_Other' :9,\n",
    "                                  'Mixed_Use_Predominantly_Residential' : 10,\n",
    "                                  'Office_Medical_non_diagnostic' : 11, \n",
    "                                  'Education_College_or_university' : 12,\n",
    "                                  'Industrial' : 13, \n",
    "                                  'Laboratory' : 14,\n",
    "                                  'Public_Assembly_Entertainment_culture' : 15,\n",
    "                                  'Retail_Vehicle_dealership_showroom' : 16, \n",
    "                                  'Retail_Uncategorized' : 17,\n",
    "                                  'Lodging_Hotel': 18, \n",
    "                                  'Retail_Strip_shopping_mall': 19,\n",
    "                                  'Education_Uncategorized': 20, \n",
    "                                  'Health_Care_Inpatient' : 21,\n",
    "                                  'Public_Assembly_Drama_theater' : 22, \n",
    "                                  'Public_Assembly_Social_meeting' : 23,\n",
    "                                  'Religious_worship' : 24, \n",
    "                                  'Mixed_Use_Commercial_and_Residential' : 25,\n",
    "                                  'Office_Bank_or_other_financial' : 26, \n",
    "                                  'Parking_Garage' : 27,\n",
    "                                  'Commercial_Unknown' : 28, \n",
    "                                  'Service_Vehicle_service_repair_shop' : 29,\n",
    "                                  'Service_Drycleaning_or_Laundry': 30, \n",
    "                                  'Public_Assembly_Recreation': 31,\n",
    "                                  'Service_Uncategorized': 32, \n",
    "                                  'Warehouse_Refrigerated': 33,\n",
    "                                  'Food_Service_Uncategorized' : 34, \n",
    "                                  'Health_Care_Uncategorized' : 35,\n",
    "                                  'Food_Service_Other' : 36, \n",
    "                                  'Public_Assembly_Movie_Theater' : 37,\n",
    "                                  'Food_Service_Restaurant_or_cafeteria' : 38, \n",
    "                                  'Food_Sales' : 39,\n",
    "                                  'Public_Assembly_Uncategorized' : 40, \n",
    "                                  'Nursing_Home' : 41,\n",
    "                                  'Health_Care_Outpatient_Clinic' : 42, \n",
    "                                  'Education_Preschool_or_daycare' : 43,\n",
    "                                  '5plus_Unit_Building' : 44, \n",
    "                                  'Multifamily_Uncategorized' : 45,\n",
    "                                  'Lodging_Dormitory_or_fraternity_sorority': 46,\n",
    "                                  'Public_Assembly_Library': 47, \n",
    "                                  'Public_Safety_Uncategorized': 48,\n",
    "                                  'Public_Safety_Fire_or_police_station' : 49, \n",
    "                                  'Office_Mixed_use' : 50,\n",
    "                                  'Public_Assembly_Other' : 51, \n",
    "                                  'Public_Safety_Penitentiary' : 52,\n",
    "                                  'Health_Care_Outpatient_Uncategorized' : 53, \n",
    "                                  'Lodging_Other' : 54,\n",
    "                                  'Mixed_Use_Preadominantly_Residential' : 55, \n",
    "                                  'Public_Safety_Courthouse' : 56,\n",
    "                                  'Public_Assembly_Stadium' : 57, \n",
    "                                  'Lodging_Uncategorized' : 58,\n",
    "                                  '2to4_Unit_Building' : 59, \n",
    "                                  'Warehouse_Uncategorized' : 60\n",
    "                                 }\n",
    "               }\n",
    "#labels = df_training['facility_type'].astype('category').cat.categories.tolist()\n",
    "#replace_map_comp = {'facility_type' : {k: v for k,v in zip(labels,list(range(1,len(labels)+1)))}}\n",
    "\n",
    "df_training.replace(replace_map, inplace=True)\n",
    "df_test.replace(replace_map, inplace=True)"
   ]
  },
  {
   "cell_type": "code",
   "execution_count": 25,
   "metadata": {
    "executionInfo": {
     "elapsed": 15,
     "status": "ok",
     "timestamp": 1645889406281,
     "user": {
      "displayName": "Ararajuba Data Science Project",
      "photoUrl": "https://lh3.googleusercontent.com/a/default-user=s64",
      "userId": "02004027308564222829"
     },
     "user_tz": 180
    },
    "id": "kQzjcA0J-UzK"
   },
   "outputs": [],
   "source": [
    "df_training['facility_type_gp']  = df_training['facility_type_']\n",
    "df_test['facility_type_gp'] = df_test['facility_type_']\n",
    "\n",
    "replace_map = {'facility_type_gp': { \n",
    "                                      'Mixed_Use_Preadominantly_Residential' : 1, \n",
    "                                      'Mixed_Use_Predominantly_Residential' : 1,\n",
    "                                      'Office_Medical_non_diagnostic' : 1, \n",
    "                                      'Office_Uncategorized': 1,\n",
    "                                      'Mixed_Use_Commercial_and_Residential' : 1,\n",
    "                                      'Office_Bank_or_other_financial' : 1, \n",
    "                                      'Office_Mixed_use' : 1,         \n",
    "\n",
    "                                      'Education_Uncategorized': 2, \n",
    "                                      'Education_College_or_university' : 2,\n",
    "                                      'Education_Other_classroom' : 2,\n",
    "                                      'Education_Preschool_or_daycare' : 2,\n",
    "                                      'Religious_worship' : 2,\n",
    "\n",
    "                                      'Warehouse_Nonrefrigerated': 3,\n",
    "                                      'Warehouse_Selfstorage': 3,\n",
    "                                      'Grocery_store_or_food_market': 3,\n",
    "                                      'Warehouse_Distribution_or_Shipping_center' : 3,\n",
    "                                      'Retail_Uncategorized' : 3,                                  \n",
    "                                      'Warehouse_Refrigerated': 3,\n",
    "                                      'Food_Service_Restaurant_or_cafeteria' : 3, \n",
    "                                      'Food_Sales' : 3,\n",
    "                                      'Food_Service_Uncategorized' : 3, \n",
    "                                      'Warehouse_Uncategorized' : 3,     \n",
    "                                      'Food_Service_Other' : 3, \n",
    "\n",
    "                                      'Public_Assembly_Entertainment_culture' : 4,\n",
    "                                      'Public_Assembly_Drama_theater' : 4, \n",
    "                                      'Public_Assembly_Social_meeting' : 4,\n",
    "                                      'Public_Assembly_Recreation': 4,\n",
    "                                      'Public_Assembly_Movie_Theater' : 4,\n",
    "                                      'Public_Assembly_Uncategorized' : 4,\n",
    "                                      'Public_Assembly_Library': 4,      \n",
    "                                      'Public_Safety_Uncategorized': 4,\n",
    "                                      'Public_Safety_Fire_or_police_station' : 4, \n",
    "                                      'Public_Safety_Courthouse' : 4,\n",
    "                                      'Public_Assembly_Stadium' : 4, \n",
    "                                      'Public_Assembly_Other' : 4, \n",
    "                                      'Public_Safety_Penitentiary' : 4,\n",
    "\n",
    "                                      'Lodging_Hotel': 5, \n",
    "                                      'Retail_Strip_shopping_mall': 5,\n",
    "                                      'Lodging_Uncategorized' : 5,\n",
    "                                      'Lodging_Other' : 5,\n",
    "                                      'Lodging_Dormitory_or_fraternity_sorority': 5,\n",
    "\n",
    "                                      'Health_Care_Inpatient' : 6,\n",
    "                                      'Health_Care_Uncategorized' : 6,\n",
    "                                      'Health_Care_Outpatient_Clinic' : 6, \n",
    "                                      'Health_Care_Outpatient_Uncategorized' : 6, \n",
    "                                      'Nursing_Home' : 6,\n",
    "                                      'Multifamily_Uncategorized' : 6,\n",
    "\n",
    "                                      'Data_Center': 7, \n",
    "                                      'Industrial' : 7, \n",
    "                                      'Laboratory' : 7,\n",
    "                                      'Parking_Garage' : 7,\n",
    "                                      'Commercial_Unknown' : 7, \n",
    "                                      'Commercial_Other' :7,\n",
    "                                      'Service_Drycleaning_or_Laundry': 7, \n",
    "                                      'Retail_Enclosed_mall' : 7,\n",
    "                                      'Mixed_Use_Predominantly_Commercial' : 7,\n",
    "                                      'Service_Uncategorized': 7, \n",
    "                                      'Retail_Vehicle_dealership_showroom' : 7, \n",
    "                                      'Service_Vehicle_service_repair_shop' : 7,\n",
    "                                      '5plus_Unit_Building' : 7, \n",
    "                                      '2to4_Unit_Building' : 7, \n",
    "\n",
    "                                 }\n",
    "               }\n",
    "\n",
    "#labels = df_training['facility_type_gp'].astype('category').cat.categories.tolist()\n",
    "#replace_map_comp = {'facility_type_gp' : {k: v for k,v in zip(labels,list(range(1,len(labels)+1)))}}\n",
    "\n",
    "df_training.replace(replace_map, inplace=True)\n",
    "df_test.replace(replace_map, inplace=True)"
   ]
  },
  {
   "cell_type": "code",
   "execution_count": 26,
   "metadata": {
    "executionInfo": {
     "elapsed": 14,
     "status": "ok",
     "timestamp": 1645889406281,
     "user": {
      "displayName": "Ararajuba Data Science Project",
      "photoUrl": "https://lh3.googleusercontent.com/a/default-user=s64",
      "userId": "02004027308564222829"
     },
     "user_tz": 180
    },
    "id": "HYgqYLxaB11o"
   },
   "outputs": [],
   "source": [
    "df_training['facility_type_gp_']  = df_training['facility_type_gp']\n",
    "df_test['facility_type_gp_'] = df_test['facility_type_gp']\n",
    "\n",
    "replace_map = {'facility_type_gp_': { \n",
    "                                      1 : 'Offices', \n",
    "                                      2 : 'Education or Religious', \n",
    "                                      3 : 'Food, Warehouse and Grocery', \n",
    "                                      4 : 'Publics', \n",
    "                                      5 : 'Lodging and Hotels', \n",
    "                                      6 : 'Health Care', \n",
    "                                      7 : 'Industrial, Commercial and Others'\n",
    "                                 }\n",
    "               }\n",
    "\n",
    "df_training.replace(replace_map, inplace=True)\n",
    "df_test.replace(replace_map, inplace=True)"
   ]
  },
  {
   "cell_type": "code",
   "execution_count": 27,
   "metadata": {
    "colab": {
     "base_uri": "https://localhost:8080/"
    },
    "executionInfo": {
     "elapsed": 13,
     "status": "ok",
     "timestamp": 1645889406282,
     "user": {
      "displayName": "Ararajuba Data Science Project",
      "photoUrl": "https://lh3.googleusercontent.com/a/default-user=s64",
      "userId": "02004027308564222829"
     },
     "user_tz": 180
    },
    "id": "l9MCZ8F1E42W",
    "outputId": "07f587f7-92fb-4ab9-bcf9-c3a0d28725e0"
   },
   "outputs": [
    {
     "data": {
      "text/plain": [
       "array(['Food, Warehouse and Grocery', 'Industrial, Commercial and Others',\n",
       "       'Education or Religious', 'Offices', 'Publics',\n",
       "       'Lodging and Hotels', 'Health Care'], dtype=object)"
      ]
     },
     "execution_count": 27,
     "metadata": {},
     "output_type": "execute_result"
    }
   ],
   "source": [
    "df_training.facility_type_gp_.unique()"
   ]
  },
  {
   "cell_type": "code",
   "execution_count": 28,
   "metadata": {
    "colab": {
     "base_uri": "https://localhost:8080/"
    },
    "executionInfo": {
     "elapsed": 9,
     "status": "ok",
     "timestamp": 1645889406282,
     "user": {
      "displayName": "Ararajuba Data Science Project",
      "photoUrl": "https://lh3.googleusercontent.com/a/default-user=s64",
      "userId": "02004027308564222829"
     },
     "user_tz": 180
    },
    "id": "2ia7bB1ARhHi",
    "outputId": "611a6593-7e97-40cb-8e1c-2f8db356cb1e"
   },
   "outputs": [
    {
     "name": "stdout",
     "output_type": "stream",
     "text": [
      "Features categoricas  ['facility_type', 'State_Factor_', 'building_class_', 'facility_type_', 'facility_type_gp_']\n"
     ]
    }
   ],
   "source": [
    "#Deve retornar apenas as categorias com \"*_\"\n",
    "cat_var = [key for key in dict(df_training.dtypes)\n",
    "             if dict(df_training.dtypes)[key] in ['object'] ]\n",
    "\n",
    "print('Features categoricas ',cat_var)"
   ]
  },
  {
   "cell_type": "code",
   "execution_count": 29,
   "metadata": {
    "colab": {
     "base_uri": "https://localhost:8080/"
    },
    "executionInfo": {
     "elapsed": 572,
     "status": "ok",
     "timestamp": 1645889406848,
     "user": {
      "displayName": "Ararajuba Data Science Project",
      "photoUrl": "https://lh3.googleusercontent.com/a/default-user=s64",
      "userId": "02004027308564222829"
     },
     "user_tz": 180
    },
    "id": "YFCsPPSdRo5W",
    "outputId": "63ba205a-7fb0-4038-da98-b2aed04166e3"
   },
   "outputs": [
    {
     "name": "stdout",
     "output_type": "stream",
     "text": [
      "Training (75757, 75)\n",
      "Solution (9705, 73)\n"
     ]
    }
   ],
   "source": [
    "print('Training', df_training.shape)\n",
    "print('Solution', df_test.shape) #-1 variável targuet"
   ]
  },
  {
   "cell_type": "code",
   "execution_count": 30,
   "metadata": {
    "executionInfo": {
     "elapsed": 38,
     "status": "ok",
     "timestamp": 1645889406850,
     "user": {
      "displayName": "Ararajuba Data Science Project",
      "photoUrl": "https://lh3.googleusercontent.com/a/default-user=s64",
      "userId": "02004027308564222829"
     },
     "user_tz": 180
    },
    "id": "c5ClSEGOR3W8"
   },
   "outputs": [],
   "source": [
    "df_test = df_test.reindex(columns = df_training.columns, fill_value=0)"
   ]
  },
  {
   "cell_type": "code",
   "execution_count": 31,
   "metadata": {
    "colab": {
     "base_uri": "https://localhost:8080/"
    },
    "executionInfo": {
     "elapsed": 37,
     "status": "ok",
     "timestamp": 1645889406851,
     "user": {
      "displayName": "Ararajuba Data Science Project",
      "photoUrl": "https://lh3.googleusercontent.com/a/default-user=s64",
      "userId": "02004027308564222829"
     },
     "user_tz": 180
    },
    "id": "ds-lFa_uR65P",
    "outputId": "b1d87b70-2fc3-4f32-e5e1-aeba66e3a195"
   },
   "outputs": [
    {
     "name": "stdout",
     "output_type": "stream",
     "text": [
      "Training (75757, 75)\n",
      "Solution (9705, 75)\n"
     ]
    }
   ],
   "source": [
    "print('Training', df_training.shape)\n",
    "print('Solution', df_test.shape)"
   ]
  },
  {
   "cell_type": "markdown",
   "metadata": {
    "id": "hhUBmi-dTIeC"
   },
   "source": [
    "## Data Discovery"
   ]
  },
  {
   "cell_type": "markdown",
   "metadata": {
    "id": "KmHXvP5tXzJe"
   },
   "source": [
    "Observando a variável de tipo de empreendimento (**building_class**)\n",
    "\n",
    "Podemos ver uma diferença significativa em:\n",
    "  \n",
    "  * Tipo de instalação (facility_type)\n",
    "  * Tamanho da área (floor_area)\n",
    "  * Classificação energética do empreendimento (energy_star_rating)\n",
    "  * Temperatura mínima e média em Janeiro (january_min_temp e january_avg_temp)\n",
    "  * Temperatura mínima, máxima e média em Fevereiro \n",
    "  * Temperatura mínima, máxima e média em Abril \n",
    "  * Temperatura média e máxima em Junho \n",
    "  * Temperatura mínima, média e máxima em Julho \n",
    "  * Temperatura mínima, média e máxima em Agosto\n",
    "  * Temperatura média em Dezembro\n",
    "  * Grau de resfriamento por dia (cooler_degree_days tmp > 65 Fr)\n",
    "  * Grau de aquicimento por dia (heating_degree_days tmp < 65 Fr)  \n"
   ]
  },
  {
   "cell_type": "code",
   "execution_count": 35,
   "metadata": {
    "colab": {
     "base_uri": "https://localhost:8080/"
    },
    "executionInfo": {
     "elapsed": 480,
     "status": "ok",
     "timestamp": 1645889425998,
     "user": {
      "displayName": "Ararajuba Data Science Project",
      "photoUrl": "https://lh3.googleusercontent.com/a/default-user=s64",
      "userId": "02004027308564222829"
     },
     "user_tz": 180
    },
    "id": "nGvotEJETncz",
    "outputId": "79ce84ae-0439-479b-cdd9-48d458d4b9f1"
   },
   "outputs": [
    {
     "name": "stdout",
     "output_type": "stream",
     "text": [
      "Features non categoricas  ['Year_Factor', 'building_class', 'floor_area', 'year_built', 'energy_star_rating', 'ELEVATION', 'january_min_temp', 'january_avg_temp', 'january_max_temp', 'february_min_temp', 'february_avg_temp', 'february_max_temp', 'march_min_temp', 'march_avg_temp', 'march_max_temp', 'april_min_temp', 'april_avg_temp', 'april_max_temp', 'may_min_temp', 'may_avg_temp', 'may_max_temp', 'june_min_temp', 'june_avg_temp', 'june_max_temp', 'july_min_temp', 'july_avg_temp', 'july_max_temp', 'august_min_temp', 'august_avg_temp', 'august_max_temp', 'september_min_temp', 'september_avg_temp', 'september_max_temp', 'october_min_temp', 'october_avg_temp', 'october_max_temp', 'november_min_temp', 'november_avg_temp', 'november_max_temp', 'december_min_temp', 'december_avg_temp', 'december_max_temp', 'cooling_degree_days', 'heating_degree_days', 'precipitation_inches', 'snowfall_inches', 'snowdepth_inches', 'avg_temp', 'days_below_30F', 'days_below_20F', 'days_below_10F', 'days_below_0F', 'days_above_80F', 'days_above_90F', 'days_above_100F', 'days_above_110F', 'direction_max_wind_speed', 'direction_peak_wind_speed', 'max_wind_speed', 'days_with_fog', 'site_eui', 'id', 'State_Factor_State_1', 'State_Factor_State_10', 'State_Factor_State_11', 'State_Factor_State_2', 'State_Factor_State_4', 'State_Factor_State_6', 'State_Factor_State_8', 'facility_type_gp']\n"
     ]
    }
   ],
   "source": [
    "df_training.columns\n",
    "\n",
    "#Deve retornar apenas as categorias com \"*_\"\n",
    "non_cat_var = [key for key in dict(df_training.dtypes)\n",
    "             if dict(df_training.dtypes)[key] not in ['object'] ]\n",
    "\n",
    "print('Features non categoricas ',non_cat_var)"
   ]
  },
  {
   "cell_type": "code",
   "execution_count": 36,
   "metadata": {
    "executionInfo": {
     "elapsed": 23,
     "status": "ok",
     "timestamp": 1645889426523,
     "user": {
      "displayName": "Ararajuba Data Science Project",
      "photoUrl": "https://lh3.googleusercontent.com/a/default-user=s64",
      "userId": "02004027308564222829"
     },
     "user_tz": 180
    },
    "id": "kFm0XTOkTPVN"
   },
   "outputs": [],
   "source": [
    "# Construindo Boxplots por target com alta mudança na mediana\n",
    "#df_training_temp = pd.melt(df_training[non_cat_var], \n",
    "#                                        id_vars='facility_type_gp')\n",
    "\n",
    "# sharey=False (Escala livre)\n",
    "#g = sns.FacetGrid(df_training_temp, col=\"variable\", sharey=False, col_wrap=5,  height=3.5)\n",
    "#g.map_dataframe(sns.boxplot, x=\"facility_type_gp\", y=\"value\", showfliers=False)"
   ]
  },
  {
   "cell_type": "code",
   "execution_count": 37,
   "metadata": {
    "colab": {
     "base_uri": "https://localhost:8080/",
     "height": 0
    },
    "executionInfo": {
     "elapsed": 23,
     "status": "ok",
     "timestamp": 1645889426524,
     "user": {
      "displayName": "Ararajuba Data Science Project",
      "photoUrl": "https://lh3.googleusercontent.com/a/default-user=s64",
      "userId": "02004027308564222829"
     },
     "user_tz": 180
    },
    "id": "q9llkRaoURPS",
    "outputId": "a606495a-fe9e-4dce-c20b-972be0a48e9d"
   },
   "outputs": [
    {
     "data": {
      "text/plain": [
       "<matplotlib.axes._subplots.AxesSubplot at 0x7ff6db484b90>"
      ]
     },
     "execution_count": 37,
     "metadata": {},
     "output_type": "execute_result"
    },
    {
     "data": {
      "image/png": "[encoded data removed]",
      "text/plain": [
       "<Figure size 432x288 with 1 Axes>"
      ]
     },
     "metadata": {
      "needs_background": "light"
     },
     "output_type": "display_data"
    }
   ],
   "source": [
    "tab = df_training['building_class_'].value_counts()\n",
    "\n",
    "#Gráfico de Barras\n",
    "tab.plot(kind='bar')"
   ]
  },
  {
   "cell_type": "code",
   "execution_count": 38,
   "metadata": {
    "colab": {
     "base_uri": "https://localhost:8080/",
     "height": 0
    },
    "executionInfo": {
     "elapsed": 772,
     "status": "ok",
     "timestamp": 1645889427278,
     "user": {
      "displayName": "Ararajuba Data Science Project",
      "photoUrl": "https://lh3.googleusercontent.com/a/default-user=s64",
      "userId": "02004027308564222829"
     },
     "user_tz": 180
    },
    "id": "SUu3fxkZH3Zj",
    "outputId": "5c6123ac-a8d8-4fbd-f732-5c7a2fe88bcc"
   },
   "outputs": [
    {
     "data": {
      "text/plain": [
       "<matplotlib.axes._subplots.AxesSubplot at 0x7ff6db376150>"
      ]
     },
     "execution_count": 38,
     "metadata": {},
     "output_type": "execute_result"
    },
    {
     "data": {
      "image/png": "[encoded data removed]",
      "text/plain": [
       "<Figure size 432x288 with 1 Axes>"
      ]
     },
     "metadata": {
      "needs_background": "light"
     },
     "output_type": "display_data"
    }
   ],
   "source": [
    "tab = df_training['facility_type_gp_'].value_counts()\n",
    "\n",
    "#Gráfico de Barras\n",
    "tab.plot(kind='bar')"
   ]
  },
  {
   "cell_type": "code",
   "execution_count": 39,
   "metadata": {
    "colab": {
     "base_uri": "https://localhost:8080/",
     "height": 0
    },
    "executionInfo": {
     "elapsed": 2867,
     "status": "ok",
     "timestamp": 1645889430139,
     "user": {
      "displayName": "Ararajuba Data Science Project",
      "photoUrl": "https://lh3.googleusercontent.com/a/default-user=s64",
      "userId": "02004027308564222829"
     },
     "user_tz": 180
    },
    "id": "2zVCDfW3DVjx",
    "outputId": "c883d498-02d9-4764-cf06-f451e229f670"
   },
   "outputs": [
    {
     "data": {
      "text/plain": [
       "<matplotlib.axes._subplots.AxesSubplot at 0x7ff6daecb8d0>"
      ]
     },
     "execution_count": 39,
     "metadata": {},
     "output_type": "execute_result"
    },
    {
     "data": {
      "image/png": "[encoded data removed]",
      "text/plain": [
       "<Figure size 432x288 with 2 Axes>"
      ]
     },
     "metadata": {
      "needs_background": "light"
     },
     "output_type": "display_data"
    }
   ],
   "source": [
    "# Mapa de calor da matriz de correlação, usando seaboarn (sns)\n",
    "df_training_cor = df_training\n",
    "\n",
    "sns.heatmap(df_training_cor.corr())"
   ]
  },
  {
   "cell_type": "code",
   "execution_count": 40,
   "metadata": {
    "colab": {
     "base_uri": "https://localhost:8080/",
     "height": 0,
     "output_embedded_package_id": "1TclUyBvCDJWU1Td8B-MD_xTD5l5pGiTY"
    },
    "executionInfo": {
     "elapsed": 36674,
     "status": "ok",
     "timestamp": 1645889466802,
     "user": {
      "displayName": "Ararajuba Data Science Project",
      "photoUrl": "https://lh3.googleusercontent.com/a/default-user=s64",
      "userId": "02004027308564222829"
     },
     "user_tz": 180
    },
    "id": "HBFyVHPFDiA9",
    "outputId": "86638c38-6ee6-4da1-90c8-8b3bcddf807e"
   },
   "outputs": [
    {
     "data": {
      "text/plain": [
       "Output hidden; open in https://colab.research.google.com to view."
      ]
     },
     "metadata": {},
     "output_type": "display_data"
    }
   ],
   "source": [
    "df = df_training_cor\n",
    "\n",
    "#get correlations of each features in dataset\n",
    "corrmat = df.corr(method ='pearson')\n",
    "top_corr_features = corrmat.index\n",
    "plt.figure(figsize=(50,50))\n",
    "\n",
    "#plot heat map\n",
    "g=sns.heatmap(df[top_corr_features].corr(),annot=True,cmap=\"RdYlGn\")"
   ]
  },
  {
   "cell_type": "code",
   "execution_count": 41,
   "metadata": {
    "colab": {
     "base_uri": "https://localhost:8080/"
    },
    "executionInfo": {
     "elapsed": 31,
     "status": "ok",
     "timestamp": 1645889466804,
     "user": {
      "displayName": "Ararajuba Data Science Project",
      "photoUrl": "https://lh3.googleusercontent.com/a/default-user=s64",
      "userId": "02004027308564222829"
     },
     "user_tz": 180
    },
    "id": "8D-U8zloFF6c",
    "outputId": "22d7ae40-7f4a-4b29-976a-78c7d6bd30b5"
   },
   "outputs": [
    {
     "data": {
      "text/plain": [
       "Health Care                          0.538287\n",
       "Offices                              0.182571\n",
       "Industrial, Commercial and Others    0.084995\n",
       "Education or Religious               0.080943\n",
       "Food, Warehouse and Grocery          0.061064\n",
       "Lodging and Hotels                   0.039072\n",
       "Publics                              0.013068\n",
       "Name: facility_type_gp_, dtype: float64"
      ]
     },
     "execution_count": 41,
     "metadata": {},
     "output_type": "execute_result"
    }
   ],
   "source": [
    "df_training.facility_type_gp_.value_counts(normalize=True)"
   ]
  },
  {
   "cell_type": "code",
   "execution_count": 42,
   "metadata": {
    "colab": {
     "base_uri": "https://localhost:8080/"
    },
    "executionInfo": {
     "elapsed": 29,
     "status": "ok",
     "timestamp": 1645889466805,
     "user": {
      "displayName": "Ararajuba Data Science Project",
      "photoUrl": "https://lh3.googleusercontent.com/a/default-user=s64",
      "userId": "02004027308564222829"
     },
     "user_tz": 180
    },
    "id": "7uRGGFwzFQaL",
    "outputId": "e3437b15-ba2f-4f33-fd09-d1d6e0e93814"
   },
   "outputs": [
    {
     "data": {
      "text/plain": [
       "Health Care                          0.251108\n",
       "Industrial, Commercial and Others    0.232045\n",
       "Offices                              0.231221\n",
       "Education or Religious               0.126945\n",
       "Food, Warehouse and Grocery          0.089129\n",
       "Lodging and Hotels                   0.053168\n",
       "Publics                              0.016383\n",
       "Name: facility_type_gp_, dtype: float64"
      ]
     },
     "execution_count": 42,
     "metadata": {},
     "output_type": "execute_result"
    }
   ],
   "source": [
    "df_test.facility_type_gp_.value_counts(normalize=True)"
   ]
  },
  {
   "cell_type": "code",
   "execution_count": 43,
   "metadata": {
    "executionInfo": {
     "elapsed": 1000,
     "status": "ok",
     "timestamp": 1645889467777,
     "user": {
      "displayName": "Ararajuba Data Science Project",
      "photoUrl": "https://lh3.googleusercontent.com/a/default-user=s64",
      "userId": "02004027308564222829"
     },
     "user_tz": 180
    },
    "id": "hfYYR-NAG6s6"
   },
   "outputs": [],
   "source": [
    " #Primeiro dataset para substituir os missing e o segundo o que irá obter as médias ou medianas (colocamos sempre o dataset de treino para incluir a media)\n",
    "df_training_test =  normalizar_dataset(df_training,df_training)\n",
    "df_test_test = normalizar_dataset(df_test,df_training)"
   ]
  },
  {
   "cell_type": "code",
   "execution_count": 44,
   "metadata": {
    "colab": {
     "base_uri": "https://localhost:8080/",
     "height": 0
    },
    "executionInfo": {
     "elapsed": 36,
     "status": "ok",
     "timestamp": 1645889467778,
     "user": {
      "displayName": "Ararajuba Data Science Project",
      "photoUrl": "https://lh3.googleusercontent.com/a/default-user=s64",
      "userId": "02004027308564222829"
     },
     "user_tz": 180
    },
    "id": "LFpbm8GUHJxi",
    "outputId": "821d876b-5c93-4720-90a1-bad215c82175"
   },
   "outputs": [
    {
     "data": {
      "application/vnd.google.colaboratory.intrinsic+json": {
       "type": "string"
      },
      "text/plain": [
       "'site_eui'"
      ]
     },
     "execution_count": 44,
     "metadata": {},
     "output_type": "execute_result"
    }
   ],
   "source": [
    "alvo"
   ]
  },
  {
   "cell_type": "code",
   "execution_count": 45,
   "metadata": {
    "colab": {
     "base_uri": "https://localhost:8080/"
    },
    "executionInfo": {
     "elapsed": 32,
     "status": "ok",
     "timestamp": 1645889467778,
     "user": {
      "displayName": "Ararajuba Data Science Project",
      "photoUrl": "https://lh3.googleusercontent.com/a/default-user=s64",
      "userId": "02004027308564222829"
     },
     "user_tz": 180
    },
    "id": "xypNWaP8HFgb",
    "outputId": "d168e2cb-73f0-420c-a9e8-bb80ac4bc748"
   },
   "outputs": [
    {
     "name": "stdout",
     "output_type": "stream",
     "text": [
      "Top 60 features Corr+:  Index(['site_eui', 'snowfall_inches', 'heating_degree_days', 'days_below_30F',\n",
      "       'july_avg_temp', 'cooling_degree_days', 'june_avg_temp',\n",
      "       'State_Factor_State_6', 'days_below_20F', 'august_avg_temp',\n",
      "       'precipitation_inches', 'snowdepth_inches', 'september_avg_temp',\n",
      "       'july_min_temp', 'september_max_temp', 'august_min_temp',\n",
      "       'days_above_80F', 'days_below_10F', 'floor_area', 'may_avg_temp',\n",
      "       'days_below_0F', 'september_min_temp', 'december_max_temp',\n",
      "       'State_Factor_State_4', 'facility_type_gp', 'july_max_temp',\n",
      "       'building_class', 'june_min_temp', 'may_max_temp',\n",
      "       'direction_peak_wind_speed', 'max_wind_speed',\n",
      "       'direction_max_wind_speed', 'august_max_temp', 'october_max_temp',\n",
      "       'State_Factor_State_8', 'year_built', 'november_max_temp', 'ELEVATION',\n",
      "       'may_min_temp', 'State_Factor_State_10', 'days_above_90F',\n",
      "       'days_above_110F', 'State_Factor_State_2', 'id', 'june_max_temp',\n",
      "       'days_with_fog', 'october_avg_temp', 'Year_Factor', 'days_above_100F',\n",
      "       'december_avg_temp', 'december_min_temp', 'march_max_temp',\n",
      "       'november_avg_temp', 'april_max_temp', 'avg_temp', 'october_min_temp',\n",
      "       'january_max_temp', 'State_Factor_State_1', 'november_min_temp',\n",
      "       'february_max_temp'],\n",
      "      dtype='object')\n",
      "Top 60 features Corr-:  Index(['energy_star_rating', 'january_min_temp', 'january_avg_temp',\n",
      "       'february_avg_temp', 'State_Factor_State_11', 'february_min_temp',\n",
      "       'march_avg_temp', 'march_min_temp', 'april_avg_temp', 'april_min_temp',\n",
      "       'february_max_temp', 'november_min_temp', 'State_Factor_State_1',\n",
      "       'january_max_temp', 'october_min_temp', 'avg_temp', 'april_max_temp',\n",
      "       'november_avg_temp', 'march_max_temp', 'december_min_temp',\n",
      "       'december_avg_temp', 'days_above_100F', 'Year_Factor',\n",
      "       'october_avg_temp', 'days_with_fog', 'june_max_temp', 'id',\n",
      "       'State_Factor_State_2', 'days_above_110F', 'days_above_90F',\n",
      "       'State_Factor_State_10', 'may_min_temp', 'ELEVATION',\n",
      "       'november_max_temp', 'year_built', 'State_Factor_State_8',\n",
      "       'october_max_temp', 'august_max_temp', 'direction_max_wind_speed',\n",
      "       'max_wind_speed', 'direction_peak_wind_speed', 'may_max_temp',\n",
      "       'june_min_temp', 'building_class', 'july_max_temp', 'facility_type_gp',\n",
      "       'State_Factor_State_4', 'december_max_temp', 'september_min_temp',\n",
      "       'days_below_0F', 'may_avg_temp', 'floor_area', 'days_below_10F',\n",
      "       'days_above_80F', 'august_min_temp', 'september_max_temp',\n",
      "       'july_min_temp', 'september_avg_temp', 'snowdepth_inches',\n",
      "       'precipitation_inches'],\n",
      "      dtype='object')\n"
     ]
    }
   ],
   "source": [
    "df = df_training_test\n",
    "\n",
    "target = df_training_test[alvo]\n",
    "\n",
    "df.drop(alvo, axis=1, inplace=True)\n",
    "df.insert(len(df.columns), alvo, target)\n",
    "\n",
    "#get correlations of each features in dataset\n",
    "corrmat = df.corr(method ='pearson')\n",
    "\n",
    "df_correlacao_negativa = corrmat.sort_values(alvo, ascending=True)\n",
    "df_corr_top_corr_neg = df_correlacao_negativa.head(60)\n",
    "\n",
    "df_correlacao_positiva = corrmat.sort_values(alvo, ascending=False)\n",
    "df_corr_top_corr_posit = df_correlacao_positiva.head(60)\n",
    "\n",
    "print(\"Top 60 features Corr+: \", df_corr_top_corr_posit.index)\n",
    "print(\"Top 60 features Corr-: \", df_corr_top_corr_neg.index)"
   ]
  },
  {
   "cell_type": "code",
   "execution_count": 46,
   "metadata": {
    "colab": {
     "base_uri": "https://localhost:8080/"
    },
    "executionInfo": {
     "elapsed": 30,
     "status": "ok",
     "timestamp": 1645889467779,
     "user": {
      "displayName": "Ararajuba Data Science Project",
      "photoUrl": "https://lh3.googleusercontent.com/a/default-user=s64",
      "userId": "02004027308564222829"
     },
     "user_tz": 180
    },
    "id": "EVOCA1RUILt2",
    "outputId": "82df67e8-9c28-4880-8c42-80cc160797b3"
   },
   "outputs": [
    {
     "name": "stdout",
     "output_type": "stream",
     "text": [
      "Features categoricas  ['facility_type', 'State_Factor_', 'building_class_', 'facility_type_', 'facility_type_gp_']\n"
     ]
    }
   ],
   "source": [
    "#Deve retornar apenas as categorias com \"*_\"\n",
    "cat_var = [key for key in dict(df_training_test.dtypes)\n",
    "             if dict(df_training_test.dtypes)[key] in ['object'] ]\n",
    "\n",
    "print('Features categoricas ',cat_var)"
   ]
  },
  {
   "cell_type": "code",
   "execution_count": 47,
   "metadata": {
    "executionInfo": {
     "elapsed": 28,
     "status": "ok",
     "timestamp": 1645889467779,
     "user": {
      "displayName": "Ararajuba Data Science Project",
      "photoUrl": "https://lh3.googleusercontent.com/a/default-user=s64",
      "userId": "02004027308564222829"
     },
     "user_tz": 180
    },
    "id": "uy0s0IUhIOAK"
   },
   "outputs": [],
   "source": [
    "df_training_test  = df_training_test.drop(cat_var,axis = 1)\n",
    "df_test_test = df_test_test.drop(cat_var,axis = 1)"
   ]
  },
  {
   "cell_type": "code",
   "execution_count": 48,
   "metadata": {
    "colab": {
     "base_uri": "https://localhost:8080/",
     "height": 0
    },
    "executionInfo": {
     "elapsed": 29,
     "status": "ok",
     "timestamp": 1645889467780,
     "user": {
      "displayName": "Ararajuba Data Science Project",
      "photoUrl": "https://lh3.googleusercontent.com/a/default-user=s64",
      "userId": "02004027308564222829"
     },
     "user_tz": 180
    },
    "id": "tPJOw7zRISZk",
    "outputId": "dba9290d-84df-4aa8-f877-00eaa92e00e9"
   },
   "outputs": [
    {
     "data": {
      "application/vnd.google.colaboratory.module+javascript": "\n      import \"https://ssl.gstatic.com/colaboratory/data_table/81f25a011006ed3d/data_table.js\";\n\n      window.createDataTable({\n        data: [[\"Year_Factor\",\n\"Year_Factor\",\n{\n            'v': 0.0,\n            'f': \"0.0\",\n        }],\n [\"november_avg_temp\",\n\"november_avg_temp\",\n{\n            'v': 0.0,\n            'f': \"0.0\",\n        }],\n [\"november_max_temp\",\n\"november_max_temp\",\n{\n            'v': 0.0,\n            'f': \"0.0\",\n        }],\n [\"december_min_temp\",\n\"december_min_temp\",\n{\n            'v': 0.0,\n            'f': \"0.0\",\n        }],\n [\"december_avg_temp\",\n\"december_avg_temp\",\n{\n            'v': 0.0,\n            'f': \"0.0\",\n        }],\n [\"december_max_temp\",\n\"december_max_temp\",\n{\n            'v': 0.0,\n            'f': \"0.0\",\n        }],\n [\"cooling_degree_days\",\n\"cooling_degree_days\",\n{\n            'v': 0.0,\n            'f': \"0.0\",\n        }],\n [\"heating_degree_days\",\n\"heating_degree_days\",\n{\n            'v': 0.0,\n            'f': \"0.0\",\n        }],\n [\"precipitation_inches\",\n\"precipitation_inches\",\n{\n            'v': 0.0,\n            'f': \"0.0\",\n        }],\n [\"snowfall_inches\",\n\"snowfall_inches\",\n{\n            'v': 0.0,\n            'f': \"0.0\",\n        }],\n [\"snowdepth_inches\",\n\"snowdepth_inches\",\n{\n            'v': 0.0,\n            'f': \"0.0\",\n        }],\n [\"avg_temp\",\n\"avg_temp\",\n{\n            'v': 0.0,\n            'f': \"0.0\",\n        }],\n [\"days_below_30F\",\n\"days_below_30F\",\n{\n            'v': 0.0,\n            'f': \"0.0\",\n        }],\n [\"days_below_20F\",\n\"days_below_20F\",\n{\n            'v': 0.0,\n            'f': \"0.0\",\n        }],\n [\"days_below_10F\",\n\"days_below_10F\",\n{\n            'v': 0.0,\n            'f': \"0.0\",\n        }],\n [\"days_below_0F\",\n\"days_below_0F\",\n{\n            'v': 0.0,\n            'f': \"0.0\",\n        }],\n [\"days_above_80F\",\n\"days_above_80F\",\n{\n            'v': 0.0,\n            'f': \"0.0\",\n        }],\n [\"days_above_90F\",\n\"days_above_90F\",\n{\n            'v': 0.0,\n            'f': \"0.0\",\n        }],\n [\"State_Factor_State_8\",\n\"State_Factor_State_8\",\n{\n            'v': 0.0,\n            'f': \"0.0\",\n        }],\n [\"State_Factor_State_6\",\n\"State_Factor_State_6\",\n{\n            'v': 0.0,\n            'f': \"0.0\",\n        }],\n [\"State_Factor_State_4\",\n\"State_Factor_State_4\",\n{\n            'v': 0.0,\n            'f': \"0.0\",\n        }],\n [\"State_Factor_State_2\",\n\"State_Factor_State_2\",\n{\n            'v': 0.0,\n            'f': \"0.0\",\n        }],\n [\"State_Factor_State_11\",\n\"State_Factor_State_11\",\n{\n            'v': 0.0,\n            'f': \"0.0\",\n        }],\n [\"State_Factor_State_10\",\n\"State_Factor_State_10\",\n{\n            'v': 0.0,\n            'f': \"0.0\",\n        }],\n [\"november_min_temp\",\n\"november_min_temp\",\n{\n            'v': 0.0,\n            'f': \"0.0\",\n        }],\n [\"State_Factor_State_1\",\n\"State_Factor_State_1\",\n{\n            'v': 0.0,\n            'f': \"0.0\",\n        }],\n [\"days_with_fog\",\n\"days_with_fog\",\n{\n            'v': 0.0,\n            'f': \"0.0\",\n        }],\n [\"max_wind_speed\",\n\"max_wind_speed\",\n{\n            'v': 0.0,\n            'f': \"0.0\",\n        }],\n [\"direction_peak_wind_speed\",\n\"direction_peak_wind_speed\",\n{\n            'v': 0.0,\n            'f': \"0.0\",\n        }],\n [\"direction_max_wind_speed\",\n\"direction_max_wind_speed\",\n{\n            'v': 0.0,\n            'f': \"0.0\",\n        }],\n [\"days_above_110F\",\n\"days_above_110F\",\n{\n            'v': 0.0,\n            'f': \"0.0\",\n        }],\n [\"days_above_100F\",\n\"days_above_100F\",\n{\n            'v': 0.0,\n            'f': \"0.0\",\n        }],\n [\"id\",\n\"id\",\n{\n            'v': 0.0,\n            'f': \"0.0\",\n        }],\n [\"october_max_temp\",\n\"october_max_temp\",\n{\n            'v': 0.0,\n            'f': \"0.0\",\n        }],\n [\"october_avg_temp\",\n\"october_avg_temp\",\n{\n            'v': 0.0,\n            'f': \"0.0\",\n        }],\n [\"october_min_temp\",\n\"october_min_temp\",\n{\n            'v': 0.0,\n            'f': \"0.0\",\n        }],\n [\"march_max_temp\",\n\"march_max_temp\",\n{\n            'v': 0.0,\n            'f': \"0.0\",\n        }],\n [\"march_avg_temp\",\n\"march_avg_temp\",\n{\n            'v': 0.0,\n            'f': \"0.0\",\n        }],\n [\"march_min_temp\",\n\"march_min_temp\",\n{\n            'v': 0.0,\n            'f': \"0.0\",\n        }],\n [\"february_max_temp\",\n\"february_max_temp\",\n{\n            'v': 0.0,\n            'f': \"0.0\",\n        }],\n [\"february_avg_temp\",\n\"february_avg_temp\",\n{\n            'v': 0.0,\n            'f': \"0.0\",\n        }],\n [\"february_min_temp\",\n\"february_min_temp\",\n{\n            'v': 0.0,\n            'f': \"0.0\",\n        }],\n [\"april_min_temp\",\n\"april_min_temp\",\n{\n            'v': 0.0,\n            'f': \"0.0\",\n        }],\n [\"january_max_temp\",\n\"january_max_temp\",\n{\n            'v': 0.0,\n            'f': \"0.0\",\n        }],\n [\"january_min_temp\",\n\"january_min_temp\",\n{\n            'v': 0.0,\n            'f': \"0.0\",\n        }],\n [\"ELEVATION\",\n\"ELEVATION\",\n{\n            'v': 0.0,\n            'f': \"0.0\",\n        }],\n [\"energy_star_rating\",\n\"energy_star_rating\",\n{\n            'v': 0.0,\n            'f': \"0.0\",\n        }],\n [\"year_built\",\n\"year_built\",\n{\n            'v': 0.0,\n            'f': \"0.0\",\n        }],\n [\"floor_area\",\n\"floor_area\",\n{\n            'v': 0.0,\n            'f': \"0.0\",\n        }],\n [\"building_class\",\n\"building_class\",\n{\n            'v': 0.0,\n            'f': \"0.0\",\n        }],\n [\"january_avg_temp\",\n\"january_avg_temp\",\n{\n            'v': 0.0,\n            'f': \"0.0\",\n        }],\n [\"facility_type_gp\",\n\"facility_type_gp\",\n{\n            'v': 0.0,\n            'f': \"0.0\",\n        }],\n [\"april_avg_temp\",\n\"april_avg_temp\",\n{\n            'v': 0.0,\n            'f': \"0.0\",\n        }],\n [\"may_min_temp\",\n\"may_min_temp\",\n{\n            'v': 0.0,\n            'f': \"0.0\",\n        }],\n [\"september_max_temp\",\n\"september_max_temp\",\n{\n            'v': 0.0,\n            'f': \"0.0\",\n        }],\n [\"september_avg_temp\",\n\"september_avg_temp\",\n{\n            'v': 0.0,\n            'f': \"0.0\",\n        }],\n [\"september_min_temp\",\n\"september_min_temp\",\n{\n            'v': 0.0,\n            'f': \"0.0\",\n        }],\n [\"august_max_temp\",\n\"august_max_temp\",\n{\n            'v': 0.0,\n            'f': \"0.0\",\n        }],\n [\"august_avg_temp\",\n\"august_avg_temp\",\n{\n            'v': 0.0,\n            'f': \"0.0\",\n        }],\n [\"august_min_temp\",\n\"august_min_temp\",\n{\n            'v': 0.0,\n            'f': \"0.0\",\n        }],\n [\"april_max_temp\",\n\"april_max_temp\",\n{\n            'v': 0.0,\n            'f': \"0.0\",\n        }],\n [\"july_max_temp\",\n\"july_max_temp\",\n{\n            'v': 0.0,\n            'f': \"0.0\",\n        }],\n [\"july_min_temp\",\n\"july_min_temp\",\n{\n            'v': 0.0,\n            'f': \"0.0\",\n        }],\n [\"june_max_temp\",\n\"june_max_temp\",\n{\n            'v': 0.0,\n            'f': \"0.0\",\n        }],\n [\"june_avg_temp\",\n\"june_avg_temp\",\n{\n            'v': 0.0,\n            'f': \"0.0\",\n        }],\n [\"june_min_temp\",\n\"june_min_temp\",\n{\n            'v': 0.0,\n            'f': \"0.0\",\n        }],\n [\"may_max_temp\",\n\"may_max_temp\",\n{\n            'v': 0.0,\n            'f': \"0.0\",\n        }],\n [\"may_avg_temp\",\n\"may_avg_temp\",\n{\n            'v': 0.0,\n            'f': \"0.0\",\n        }],\n [\"july_avg_temp\",\n\"july_avg_temp\",\n{\n            'v': 0.0,\n            'f': \"0.0\",\n        }],\n [\"site_eui\",\n\"site_eui\",\n{\n            'v': 0.0,\n            'f': \"0.0\",\n        }]],\n        columns: [[\"string\", \"index\"], [\"string\", \"column_name\"], [\"number\", \"percent_missing\"]],\n        columnOptions: [{\"width\": \"1px\", \"className\": \"index_column\"}],\n        rowsPerPage: 25,\n        helpUrl: \"https://colab.research.google.com/notebooks/data_table.ipynb\",\n        suppressOutputScrolling: true,\n        minimumWidth: undefined,\n      });\n    ",
      "text/html": [
       "\n",
       "  <div id=\"df-6d46226a-533e-46d9-b179-8cd63ac50baa\">\n",
       "    <div class=\"colab-df-container\">\n",
       "      <div>\n",
       "<style scoped>\n",
       "    .dataframe tbody tr th:only-of-type {\n",
       "        vertical-align: middle;\n",
       "    }\n",
       "\n",
       "    .dataframe tbody tr th {\n",
       "        vertical-align: top;\n",
       "    }\n",
       "\n",
       "    .dataframe thead th {\n",
       "        text-align: right;\n",
       "    }\n",
       "</style>\n",
       "<table border=\"1\" class=\"dataframe\">\n",
       "  <thead>\n",
       "    <tr style=\"text-align: right;\">\n",
       "      <th></th>\n",
       "      <th>column_name</th>\n",
       "      <th>percent_missing</th>\n",
       "    </tr>\n",
       "  </thead>\n",
       "  <tbody>\n",
       "    <tr>\n",
       "      <th>Year_Factor</th>\n",
       "      <td>Year_Factor</td>\n",
       "      <td>0.0</td>\n",
       "    </tr>\n",
       "    <tr>\n",
       "      <th>november_avg_temp</th>\n",
       "      <td>november_avg_temp</td>\n",
       "      <td>0.0</td>\n",
       "    </tr>\n",
       "    <tr>\n",
       "      <th>november_max_temp</th>\n",
       "      <td>november_max_temp</td>\n",
       "      <td>0.0</td>\n",
       "    </tr>\n",
       "    <tr>\n",
       "      <th>december_min_temp</th>\n",
       "      <td>december_min_temp</td>\n",
       "      <td>0.0</td>\n",
       "    </tr>\n",
       "    <tr>\n",
       "      <th>december_avg_temp</th>\n",
       "      <td>december_avg_temp</td>\n",
       "      <td>0.0</td>\n",
       "    </tr>\n",
       "    <tr>\n",
       "      <th>...</th>\n",
       "      <td>...</td>\n",
       "      <td>...</td>\n",
       "    </tr>\n",
       "    <tr>\n",
       "      <th>june_min_temp</th>\n",
       "      <td>june_min_temp</td>\n",
       "      <td>0.0</td>\n",
       "    </tr>\n",
       "    <tr>\n",
       "      <th>may_max_temp</th>\n",
       "      <td>may_max_temp</td>\n",
       "      <td>0.0</td>\n",
       "    </tr>\n",
       "    <tr>\n",
       "      <th>may_avg_temp</th>\n",
       "      <td>may_avg_temp</td>\n",
       "      <td>0.0</td>\n",
       "    </tr>\n",
       "    <tr>\n",
       "      <th>july_avg_temp</th>\n",
       "      <td>july_avg_temp</td>\n",
       "      <td>0.0</td>\n",
       "    </tr>\n",
       "    <tr>\n",
       "      <th>site_eui</th>\n",
       "      <td>site_eui</td>\n",
       "      <td>0.0</td>\n",
       "    </tr>\n",
       "  </tbody>\n",
       "</table>\n",
       "<p>70 rows × 2 columns</p>\n",
       "</div>\n",
       "      <button class=\"colab-df-convert\" onclick=\"convertToInteractive('df-6d46226a-533e-46d9-b179-8cd63ac50baa')\"\n",
       "              title=\"Convert this dataframe to an interactive table.\"\n",
       "              style=\"display:none;\">\n",
       "        \n",
       "  <svg xmlns=\"http://www.w3.org/2000/svg\" height=\"24px\"viewBox=\"0 0 24 24\"\n",
       "       width=\"24px\">\n",
       "    <path d=\"M0 0h24v24H0V0z\" fill=\"none\"/>\n",
       "    <path d=\"M18.56 5.44l.94 2.06.94-2.06 2.06-.94-2.06-.94-.94-2.06-.94 2.06-2.06.94zm-11 1L8.5 8.5l.94-2.06 2.06-.94-2.06-.94L8.5 2.5l-.94 2.06-2.06.94zm10 10l.94 2.06.94-2.06 2.06-.94-2.06-.94-.94-2.06-.94 2.06-2.06.94z\"/><path d=\"M17.41 7.96l-1.37-1.37c-.4-.4-.92-.59-1.43-.59-.52 0-1.04.2-1.43.59L10.3 9.45l-7.72 7.72c-.78.78-.78 2.05 0 2.83L4 21.41c.39.39.9.59 1.41.59.51 0 1.02-.2 1.41-.59l7.78-7.78 2.81-2.81c.8-.78.8-2.07 0-2.86zM5.41 20L4 18.59l7.72-7.72 1.47 1.35L5.41 20z\"/>\n",
       "  </svg>\n",
       "      </button>\n",
       "      \n",
       "  <style>\n",
       "    .colab-df-container {\n",
       "      display:flex;\n",
       "      flex-wrap:wrap;\n",
       "      gap: 12px;\n",
       "    }\n",
       "\n",
       "    .colab-df-convert {\n",
       "      background-color: #E8F0FE;\n",
       "      border: none;\n",
       "      border-radius: 50%;\n",
       "      cursor: pointer;\n",
       "      display: none;\n",
       "      fill: #1967D2;\n",
       "      height: 32px;\n",
       "      padding: 0 0 0 0;\n",
       "      width: 32px;\n",
       "    }\n",
       "\n",
       "    .colab-df-convert:hover {\n",
       "      background-color: #E2EBFA;\n",
       "      box-shadow: 0px 1px 2px rgba(60, 64, 67, 0.3), 0px 1px 3px 1px rgba(60, 64, 67, 0.15);\n",
       "      fill: #174EA6;\n",
       "    }\n",
       "\n",
       "    [theme=dark] .colab-df-convert {\n",
       "      background-color: #3B4455;\n",
       "      fill: #D2E3FC;\n",
       "    }\n",
       "\n",
       "    [theme=dark] .colab-df-convert:hover {\n",
       "      background-color: #434B5C;\n",
       "      box-shadow: 0px 1px 3px 1px rgba(0, 0, 0, 0.15);\n",
       "      filter: drop-shadow(0px 1px 2px rgba(0, 0, 0, 0.3));\n",
       "      fill: #FFFFFF;\n",
       "    }\n",
       "  </style>\n",
       "\n",
       "      <script>\n",
       "        const buttonEl =\n",
       "          document.querySelector('#df-6d46226a-533e-46d9-b179-8cd63ac50baa button.colab-df-convert');\n",
       "        buttonEl.style.display =\n",
       "          google.colab.kernel.accessAllowed ? 'block' : 'none';\n",
       "\n",
       "        async function convertToInteractive(key) {\n",
       "          const element = document.querySelector('#df-6d46226a-533e-46d9-b179-8cd63ac50baa');\n",
       "          const dataTable =\n",
       "            await google.colab.kernel.invokeFunction('convertToInteractive',\n",
       "                                                     [key], {});\n",
       "          if (!dataTable) return;\n",
       "\n",
       "          const docLinkHtml = 'Like what you see? Visit the ' +\n",
       "            '<a target=\"_blank\" href=https://colab.research.google.com/notebooks/data_table.ipynb>data table notebook</a>'\n",
       "            + ' to learn more about interactive tables.';\n",
       "          element.innerHTML = '';\n",
       "          dataTable['output_type'] = 'display_data';\n",
       "          await google.colab.output.renderOutput(dataTable, element);\n",
       "          const docLink = document.createElement('div');\n",
       "          docLink.innerHTML = docLinkHtml;\n",
       "          element.appendChild(docLink);\n",
       "        }\n",
       "      </script>\n",
       "    </div>\n",
       "  </div>\n",
       "  "
      ],
      "text/plain": [
       "                         column_name  percent_missing\n",
       "Year_Factor              Year_Factor              0.0\n",
       "november_avg_temp  november_avg_temp              0.0\n",
       "november_max_temp  november_max_temp              0.0\n",
       "december_min_temp  december_min_temp              0.0\n",
       "december_avg_temp  december_avg_temp              0.0\n",
       "...                              ...              ...\n",
       "june_min_temp          june_min_temp              0.0\n",
       "may_max_temp            may_max_temp              0.0\n",
       "may_avg_temp            may_avg_temp              0.0\n",
       "july_avg_temp          july_avg_temp              0.0\n",
       "site_eui                    site_eui              0.0\n",
       "\n",
       "[70 rows x 2 columns]"
      ]
     },
     "execution_count": 48,
     "metadata": {},
     "output_type": "execute_result"
    }
   ],
   "source": [
    "missing_values(df_training_test)"
   ]
  },
  {
   "cell_type": "code",
   "execution_count": 49,
   "metadata": {
    "colab": {
     "base_uri": "https://localhost:8080/",
     "height": 0
    },
    "executionInfo": {
     "elapsed": 26,
     "status": "ok",
     "timestamp": 1645889467780,
     "user": {
      "displayName": "Ararajuba Data Science Project",
      "photoUrl": "https://lh3.googleusercontent.com/a/default-user=s64",
      "userId": "02004027308564222829"
     },
     "user_tz": 180
    },
    "id": "6-Pi5it_ITJz",
    "outputId": "21f1b599-fac2-4b12-b837-4bcf61223223"
   },
   "outputs": [
    {
     "data": {
      "application/vnd.google.colaboratory.module+javascript": "\n      import \"https://ssl.gstatic.com/colaboratory/data_table/81f25a011006ed3d/data_table.js\";\n\n      window.createDataTable({\n        data: [[\"Year_Factor\",\n\"Year_Factor\",\n{\n            'v': 0.0,\n            'f': \"0.0\",\n        }],\n [\"november_avg_temp\",\n\"november_avg_temp\",\n{\n            'v': 0.0,\n            'f': \"0.0\",\n        }],\n [\"november_max_temp\",\n\"november_max_temp\",\n{\n            'v': 0.0,\n            'f': \"0.0\",\n        }],\n [\"december_min_temp\",\n\"december_min_temp\",\n{\n            'v': 0.0,\n            'f': \"0.0\",\n        }],\n [\"december_avg_temp\",\n\"december_avg_temp\",\n{\n            'v': 0.0,\n            'f': \"0.0\",\n        }],\n [\"december_max_temp\",\n\"december_max_temp\",\n{\n            'v': 0.0,\n            'f': \"0.0\",\n        }],\n [\"cooling_degree_days\",\n\"cooling_degree_days\",\n{\n            'v': 0.0,\n            'f': \"0.0\",\n        }],\n [\"heating_degree_days\",\n\"heating_degree_days\",\n{\n            'v': 0.0,\n            'f': \"0.0\",\n        }],\n [\"precipitation_inches\",\n\"precipitation_inches\",\n{\n            'v': 0.0,\n            'f': \"0.0\",\n        }],\n [\"snowfall_inches\",\n\"snowfall_inches\",\n{\n            'v': 0.0,\n            'f': \"0.0\",\n        }],\n [\"snowdepth_inches\",\n\"snowdepth_inches\",\n{\n            'v': 0.0,\n            'f': \"0.0\",\n        }],\n [\"avg_temp\",\n\"avg_temp\",\n{\n            'v': 0.0,\n            'f': \"0.0\",\n        }],\n [\"days_below_30F\",\n\"days_below_30F\",\n{\n            'v': 0.0,\n            'f': \"0.0\",\n        }],\n [\"days_below_20F\",\n\"days_below_20F\",\n{\n            'v': 0.0,\n            'f': \"0.0\",\n        }],\n [\"days_below_10F\",\n\"days_below_10F\",\n{\n            'v': 0.0,\n            'f': \"0.0\",\n        }],\n [\"days_below_0F\",\n\"days_below_0F\",\n{\n            'v': 0.0,\n            'f': \"0.0\",\n        }],\n [\"days_above_80F\",\n\"days_above_80F\",\n{\n            'v': 0.0,\n            'f': \"0.0\",\n        }],\n [\"days_above_90F\",\n\"days_above_90F\",\n{\n            'v': 0.0,\n            'f': \"0.0\",\n        }],\n [\"State_Factor_State_6\",\n\"State_Factor_State_6\",\n{\n            'v': 0.0,\n            'f': \"0.0\",\n        }],\n [\"State_Factor_State_4\",\n\"State_Factor_State_4\",\n{\n            'v': 0.0,\n            'f': \"0.0\",\n        }],\n [\"State_Factor_State_2\",\n\"State_Factor_State_2\",\n{\n            'v': 0.0,\n            'f': \"0.0\",\n        }],\n [\"State_Factor_State_11\",\n\"State_Factor_State_11\",\n{\n            'v': 0.0,\n            'f': \"0.0\",\n        }],\n [\"State_Factor_State_10\",\n\"State_Factor_State_10\",\n{\n            'v': 0.0,\n            'f': \"0.0\",\n        }],\n [\"State_Factor_State_1\",\n\"State_Factor_State_1\",\n{\n            'v': 0.0,\n            'f': \"0.0\",\n        }],\n [\"november_min_temp\",\n\"november_min_temp\",\n{\n            'v': 0.0,\n            'f': \"0.0\",\n        }],\n [\"id\",\n\"id\",\n{\n            'v': 0.0,\n            'f': \"0.0\",\n        }],\n [\"days_with_fog\",\n\"days_with_fog\",\n{\n            'v': 0.0,\n            'f': \"0.0\",\n        }],\n [\"max_wind_speed\",\n\"max_wind_speed\",\n{\n            'v': 0.0,\n            'f': \"0.0\",\n        }],\n [\"direction_peak_wind_speed\",\n\"direction_peak_wind_speed\",\n{\n            'v': 0.0,\n            'f': \"0.0\",\n        }],\n [\"direction_max_wind_speed\",\n\"direction_max_wind_speed\",\n{\n            'v': 0.0,\n            'f': \"0.0\",\n        }],\n [\"days_above_110F\",\n\"days_above_110F\",\n{\n            'v': 0.0,\n            'f': \"0.0\",\n        }],\n [\"days_above_100F\",\n\"days_above_100F\",\n{\n            'v': 0.0,\n            'f': \"0.0\",\n        }],\n [\"site_eui\",\n\"site_eui\",\n{\n            'v': 0.0,\n            'f': \"0.0\",\n        }],\n [\"october_max_temp\",\n\"october_max_temp\",\n{\n            'v': 0.0,\n            'f': \"0.0\",\n        }],\n [\"october_avg_temp\",\n\"october_avg_temp\",\n{\n            'v': 0.0,\n            'f': \"0.0\",\n        }],\n [\"october_min_temp\",\n\"october_min_temp\",\n{\n            'v': 0.0,\n            'f': \"0.0\",\n        }],\n [\"march_max_temp\",\n\"march_max_temp\",\n{\n            'v': 0.0,\n            'f': \"0.0\",\n        }],\n [\"march_avg_temp\",\n\"march_avg_temp\",\n{\n            'v': 0.0,\n            'f': \"0.0\",\n        }],\n [\"march_min_temp\",\n\"march_min_temp\",\n{\n            'v': 0.0,\n            'f': \"0.0\",\n        }],\n [\"february_max_temp\",\n\"february_max_temp\",\n{\n            'v': 0.0,\n            'f': \"0.0\",\n        }],\n [\"february_avg_temp\",\n\"february_avg_temp\",\n{\n            'v': 0.0,\n            'f': \"0.0\",\n        }],\n [\"february_min_temp\",\n\"february_min_temp\",\n{\n            'v': 0.0,\n            'f': \"0.0\",\n        }],\n [\"april_min_temp\",\n\"april_min_temp\",\n{\n            'v': 0.0,\n            'f': \"0.0\",\n        }],\n [\"january_max_temp\",\n\"january_max_temp\",\n{\n            'v': 0.0,\n            'f': \"0.0\",\n        }],\n [\"january_min_temp\",\n\"january_min_temp\",\n{\n            'v': 0.0,\n            'f': \"0.0\",\n        }],\n [\"ELEVATION\",\n\"ELEVATION\",\n{\n            'v': 0.0,\n            'f': \"0.0\",\n        }],\n [\"energy_star_rating\",\n\"energy_star_rating\",\n{\n            'v': 0.0,\n            'f': \"0.0\",\n        }],\n [\"year_built\",\n\"year_built\",\n{\n            'v': 0.0,\n            'f': \"0.0\",\n        }],\n [\"floor_area\",\n\"floor_area\",\n{\n            'v': 0.0,\n            'f': \"0.0\",\n        }],\n [\"building_class\",\n\"building_class\",\n{\n            'v': 0.0,\n            'f': \"0.0\",\n        }],\n [\"january_avg_temp\",\n\"january_avg_temp\",\n{\n            'v': 0.0,\n            'f': \"0.0\",\n        }],\n [\"State_Factor_State_8\",\n\"State_Factor_State_8\",\n{\n            'v': 0.0,\n            'f': \"0.0\",\n        }],\n [\"april_avg_temp\",\n\"april_avg_temp\",\n{\n            'v': 0.0,\n            'f': \"0.0\",\n        }],\n [\"may_min_temp\",\n\"may_min_temp\",\n{\n            'v': 0.0,\n            'f': \"0.0\",\n        }],\n [\"september_max_temp\",\n\"september_max_temp\",\n{\n            'v': 0.0,\n            'f': \"0.0\",\n        }],\n [\"september_avg_temp\",\n\"september_avg_temp\",\n{\n            'v': 0.0,\n            'f': \"0.0\",\n        }],\n [\"september_min_temp\",\n\"september_min_temp\",\n{\n            'v': 0.0,\n            'f': \"0.0\",\n        }],\n [\"august_max_temp\",\n\"august_max_temp\",\n{\n            'v': 0.0,\n            'f': \"0.0\",\n        }],\n [\"august_avg_temp\",\n\"august_avg_temp\",\n{\n            'v': 0.0,\n            'f': \"0.0\",\n        }],\n [\"august_min_temp\",\n\"august_min_temp\",\n{\n            'v': 0.0,\n            'f': \"0.0\",\n        }],\n [\"april_max_temp\",\n\"april_max_temp\",\n{\n            'v': 0.0,\n            'f': \"0.0\",\n        }],\n [\"july_max_temp\",\n\"july_max_temp\",\n{\n            'v': 0.0,\n            'f': \"0.0\",\n        }],\n [\"july_min_temp\",\n\"july_min_temp\",\n{\n            'v': 0.0,\n            'f': \"0.0\",\n        }],\n [\"june_max_temp\",\n\"june_max_temp\",\n{\n            'v': 0.0,\n            'f': \"0.0\",\n        }],\n [\"june_avg_temp\",\n\"june_avg_temp\",\n{\n            'v': 0.0,\n            'f': \"0.0\",\n        }],\n [\"june_min_temp\",\n\"june_min_temp\",\n{\n            'v': 0.0,\n            'f': \"0.0\",\n        }],\n [\"may_max_temp\",\n\"may_max_temp\",\n{\n            'v': 0.0,\n            'f': \"0.0\",\n        }],\n [\"may_avg_temp\",\n\"may_avg_temp\",\n{\n            'v': 0.0,\n            'f': \"0.0\",\n        }],\n [\"july_avg_temp\",\n\"july_avg_temp\",\n{\n            'v': 0.0,\n            'f': \"0.0\",\n        }],\n [\"facility_type_gp\",\n\"facility_type_gp\",\n{\n            'v': 0.0,\n            'f': \"0.0\",\n        }]],\n        columns: [[\"string\", \"index\"], [\"string\", \"column_name\"], [\"number\", \"percent_missing\"]],\n        columnOptions: [{\"width\": \"1px\", \"className\": \"index_column\"}],\n        rowsPerPage: 25,\n        helpUrl: \"https://colab.research.google.com/notebooks/data_table.ipynb\",\n        suppressOutputScrolling: true,\n        minimumWidth: undefined,\n      });\n    ",
      "text/html": [
       "\n",
       "  <div id=\"df-34412a78-15fb-4449-9089-0b69cee19989\">\n",
       "    <div class=\"colab-df-container\">\n",
       "      <div>\n",
       "<style scoped>\n",
       "    .dataframe tbody tr th:only-of-type {\n",
       "        vertical-align: middle;\n",
       "    }\n",
       "\n",
       "    .dataframe tbody tr th {\n",
       "        vertical-align: top;\n",
       "    }\n",
       "\n",
       "    .dataframe thead th {\n",
       "        text-align: right;\n",
       "    }\n",
       "</style>\n",
       "<table border=\"1\" class=\"dataframe\">\n",
       "  <thead>\n",
       "    <tr style=\"text-align: right;\">\n",
       "      <th></th>\n",
       "      <th>column_name</th>\n",
       "      <th>percent_missing</th>\n",
       "    </tr>\n",
       "  </thead>\n",
       "  <tbody>\n",
       "    <tr>\n",
       "      <th>Year_Factor</th>\n",
       "      <td>Year_Factor</td>\n",
       "      <td>0.0</td>\n",
       "    </tr>\n",
       "    <tr>\n",
       "      <th>november_avg_temp</th>\n",
       "      <td>november_avg_temp</td>\n",
       "      <td>0.0</td>\n",
       "    </tr>\n",
       "    <tr>\n",
       "      <th>november_max_temp</th>\n",
       "      <td>november_max_temp</td>\n",
       "      <td>0.0</td>\n",
       "    </tr>\n",
       "    <tr>\n",
       "      <th>december_min_temp</th>\n",
       "      <td>december_min_temp</td>\n",
       "      <td>0.0</td>\n",
       "    </tr>\n",
       "    <tr>\n",
       "      <th>december_avg_temp</th>\n",
       "      <td>december_avg_temp</td>\n",
       "      <td>0.0</td>\n",
       "    </tr>\n",
       "    <tr>\n",
       "      <th>...</th>\n",
       "      <td>...</td>\n",
       "      <td>...</td>\n",
       "    </tr>\n",
       "    <tr>\n",
       "      <th>june_min_temp</th>\n",
       "      <td>june_min_temp</td>\n",
       "      <td>0.0</td>\n",
       "    </tr>\n",
       "    <tr>\n",
       "      <th>may_max_temp</th>\n",
       "      <td>may_max_temp</td>\n",
       "      <td>0.0</td>\n",
       "    </tr>\n",
       "    <tr>\n",
       "      <th>may_avg_temp</th>\n",
       "      <td>may_avg_temp</td>\n",
       "      <td>0.0</td>\n",
       "    </tr>\n",
       "    <tr>\n",
       "      <th>july_avg_temp</th>\n",
       "      <td>july_avg_temp</td>\n",
       "      <td>0.0</td>\n",
       "    </tr>\n",
       "    <tr>\n",
       "      <th>facility_type_gp</th>\n",
       "      <td>facility_type_gp</td>\n",
       "      <td>0.0</td>\n",
       "    </tr>\n",
       "  </tbody>\n",
       "</table>\n",
       "<p>70 rows × 2 columns</p>\n",
       "</div>\n",
       "      <button class=\"colab-df-convert\" onclick=\"convertToInteractive('df-34412a78-15fb-4449-9089-0b69cee19989')\"\n",
       "              title=\"Convert this dataframe to an interactive table.\"\n",
       "              style=\"display:none;\">\n",
       "        \n",
       "  <svg xmlns=\"http://www.w3.org/2000/svg\" height=\"24px\"viewBox=\"0 0 24 24\"\n",
       "       width=\"24px\">\n",
       "    <path d=\"M0 0h24v24H0V0z\" fill=\"none\"/>\n",
       "    <path d=\"M18.56 5.44l.94 2.06.94-2.06 2.06-.94-2.06-.94-.94-2.06-.94 2.06-2.06.94zm-11 1L8.5 8.5l.94-2.06 2.06-.94-2.06-.94L8.5 2.5l-.94 2.06-2.06.94zm10 10l.94 2.06.94-2.06 2.06-.94-2.06-.94-.94-2.06-.94 2.06-2.06.94z\"/><path d=\"M17.41 7.96l-1.37-1.37c-.4-.4-.92-.59-1.43-.59-.52 0-1.04.2-1.43.59L10.3 9.45l-7.72 7.72c-.78.78-.78 2.05 0 2.83L4 21.41c.39.39.9.59 1.41.59.51 0 1.02-.2 1.41-.59l7.78-7.78 2.81-2.81c.8-.78.8-2.07 0-2.86zM5.41 20L4 18.59l7.72-7.72 1.47 1.35L5.41 20z\"/>\n",
       "  </svg>\n",
       "      </button>\n",
       "      \n",
       "  <style>\n",
       "    .colab-df-container {\n",
       "      display:flex;\n",
       "      flex-wrap:wrap;\n",
       "      gap: 12px;\n",
       "    }\n",
       "\n",
       "    .colab-df-convert {\n",
       "      background-color: #E8F0FE;\n",
       "      border: none;\n",
       "      border-radius: 50%;\n",
       "      cursor: pointer;\n",
       "      display: none;\n",
       "      fill: #1967D2;\n",
       "      height: 32px;\n",
       "      padding: 0 0 0 0;\n",
       "      width: 32px;\n",
       "    }\n",
       "\n",
       "    .colab-df-convert:hover {\n",
       "      background-color: #E2EBFA;\n",
       "      box-shadow: 0px 1px 2px rgba(60, 64, 67, 0.3), 0px 1px 3px 1px rgba(60, 64, 67, 0.15);\n",
       "      fill: #174EA6;\n",
       "    }\n",
       "\n",
       "    [theme=dark] .colab-df-convert {\n",
       "      background-color: #3B4455;\n",
       "      fill: #D2E3FC;\n",
       "    }\n",
       "\n",
       "    [theme=dark] .colab-df-convert:hover {\n",
       "      background-color: #434B5C;\n",
       "      box-shadow: 0px 1px 3px 1px rgba(0, 0, 0, 0.15);\n",
       "      filter: drop-shadow(0px 1px 2px rgba(0, 0, 0, 0.3));\n",
       "      fill: #FFFFFF;\n",
       "    }\n",
       "  </style>\n",
       "\n",
       "      <script>\n",
       "        const buttonEl =\n",
       "          document.querySelector('#df-34412a78-15fb-4449-9089-0b69cee19989 button.colab-df-convert');\n",
       "        buttonEl.style.display =\n",
       "          google.colab.kernel.accessAllowed ? 'block' : 'none';\n",
       "\n",
       "        async function convertToInteractive(key) {\n",
       "          const element = document.querySelector('#df-34412a78-15fb-4449-9089-0b69cee19989');\n",
       "          const dataTable =\n",
       "            await google.colab.kernel.invokeFunction('convertToInteractive',\n",
       "                                                     [key], {});\n",
       "          if (!dataTable) return;\n",
       "\n",
       "          const docLinkHtml = 'Like what you see? Visit the ' +\n",
       "            '<a target=\"_blank\" href=https://colab.research.google.com/notebooks/data_table.ipynb>data table notebook</a>'\n",
       "            + ' to learn more about interactive tables.';\n",
       "          element.innerHTML = '';\n",
       "          dataTable['output_type'] = 'display_data';\n",
       "          await google.colab.output.renderOutput(dataTable, element);\n",
       "          const docLink = document.createElement('div');\n",
       "          docLink.innerHTML = docLinkHtml;\n",
       "          element.appendChild(docLink);\n",
       "        }\n",
       "      </script>\n",
       "    </div>\n",
       "  </div>\n",
       "  "
      ],
      "text/plain": [
       "                         column_name  percent_missing\n",
       "Year_Factor              Year_Factor              0.0\n",
       "november_avg_temp  november_avg_temp              0.0\n",
       "november_max_temp  november_max_temp              0.0\n",
       "december_min_temp  december_min_temp              0.0\n",
       "december_avg_temp  december_avg_temp              0.0\n",
       "...                              ...              ...\n",
       "june_min_temp          june_min_temp              0.0\n",
       "may_max_temp            may_max_temp              0.0\n",
       "may_avg_temp            may_avg_temp              0.0\n",
       "july_avg_temp          july_avg_temp              0.0\n",
       "facility_type_gp    facility_type_gp              0.0\n",
       "\n",
       "[70 rows x 2 columns]"
      ]
     },
     "execution_count": 49,
     "metadata": {},
     "output_type": "execute_result"
    }
   ],
   "source": [
    "missing_values(df_test_test)"
   ]
  },
  {
   "cell_type": "code",
   "execution_count": 50,
   "metadata": {
    "colab": {
     "base_uri": "https://localhost:8080/"
    },
    "executionInfo": {
     "elapsed": 25,
     "status": "ok",
     "timestamp": 1645889467781,
     "user": {
      "displayName": "Ararajuba Data Science Project",
      "photoUrl": "https://lh3.googleusercontent.com/a/default-user=s64",
      "userId": "02004027308564222829"
     },
     "user_tz": 180
    },
    "id": "awe5m8xXIYq7",
    "outputId": "324b961c-0b49-457b-9083-5bad598337ab"
   },
   "outputs": [
    {
     "name": "stdout",
     "output_type": "stream",
     "text": [
      "(75757, 70)\n",
      "(9705, 70)\n"
     ]
    }
   ],
   "source": [
    "print(df_training_test.shape)\n",
    "print(df_test_test.shape)"
   ]
  },
  {
   "cell_type": "markdown",
   "metadata": {
    "id": "wN7weiYh_Ltv"
   },
   "source": [
    "# **Aplicação do Modelo**\n"
   ]
  },
  {
   "cell_type": "markdown",
   "metadata": {
    "id": "Jfo78iQ6L-Rs"
   },
   "source": [
    "#### **Configuração**"
   ]
  },
  {
   "cell_type": "markdown",
   "metadata": {
    "id": "dhKDafto1AQa"
   },
   "source": [
    "**Divisão do modelo**"
   ]
  },
  {
   "cell_type": "code",
   "execution_count": 51,
   "metadata": {
    "colab": {
     "base_uri": "https://localhost:8080/",
     "height": 35
    },
    "executionInfo": {
     "elapsed": 23,
     "status": "ok",
     "timestamp": 1645889467782,
     "user": {
      "displayName": "Ararajuba Data Science Project",
      "photoUrl": "https://lh3.googleusercontent.com/a/default-user=s64",
      "userId": "02004027308564222829"
     },
     "user_tz": 180
    },
    "id": "jDGaNaaSgdPA",
    "outputId": "53b48c44-ad01-4f13-971d-e01010aff4e2"
   },
   "outputs": [
    {
     "data": {
      "application/vnd.google.colaboratory.intrinsic+json": {
       "type": "string"
      },
      "text/plain": [
       "'site_eui'"
      ]
     },
     "execution_count": 51,
     "metadata": {},
     "output_type": "execute_result"
    }
   ],
   "source": [
    "alvo"
   ]
  },
  {
   "cell_type": "code",
   "execution_count": 52,
   "metadata": {
    "executionInfo": {
     "elapsed": 21,
     "status": "ok",
     "timestamp": 1645889467782,
     "user": {
      "displayName": "Ararajuba Data Science Project",
      "photoUrl": "https://lh3.googleusercontent.com/a/default-user=s64",
      "userId": "02004027308564222829"
     },
     "user_tz": 180
    },
    "id": "Xs3mXlF5tmLk"
   },
   "outputs": [],
   "source": [
    "SEED = 14\n",
    "np.random.seed(SEED)\n",
    "cv = StratifiedKFold(n_splits = 5, shuffle = True)\n",
    "\n",
    "def intervalo_prec(results):\n",
    "    mean = results.mean()\n",
    "    dv = results.std()\n",
    "    print('Precisão média: {:.2f}%'.format(mean*100))\n",
    "    print('Intervalo de Precisão: [{:.2f}% ~ {:.2f}%]'\n",
    "          .format((mean - 2*dv)*100, (mean + 2*dv)*100))\n",
    "\n",
    "#semente   \n",
    "random_state = 14\n",
    "estimator = 160\n",
    "\n",
    "# creating independent features X and dependant feature Y\n",
    "y = df_training_test[alvo]\n",
    "X = df_training_test.drop(alvo,axis = 1)\n",
    "\n",
    "# Split into training and validation set\n",
    "X_train, X_test, y_train, y_test = train_test_split(X, y, test_size = 0.20, random_state=1)\n",
    "\n",
    "#Balanceamento não efetivo\n",
    "#X_train, y_train = sm.fit_sample(X_train,y_train)"
   ]
  },
  {
   "cell_type": "markdown",
   "metadata": {
    "id": "zO7UlqjP_lFQ"
   },
   "source": [
    "### 1º Modelo - **Regressão Linear**"
   ]
  },
  {
   "cell_type": "code",
   "execution_count": null,
   "metadata": {
    "colab": {
     "base_uri": "https://localhost:8080/"
    },
    "executionInfo": {
     "elapsed": 399,
     "status": "ok",
     "timestamp": 1644370775565,
     "user": {
      "displayName": "Ararajuba Data Science Project",
      "photoUrl": "https://lh3.googleusercontent.com/a/default-user=s64",
      "userId": "02004027308564222829"
     },
     "user_tz": 180
    },
    "id": "S0vCle185lH6",
    "outputId": "657e3e1e-a162-44ea-de9c-8c5bee196be5"
   },
   "outputs": [
    {
     "name": "stderr",
     "output_type": "stream",
     "text": [
      "/usr/local/lib/python3.7/dist-packages/statsmodels/tools/_testing.py:19: FutureWarning: pandas.util.testing is deprecated. Use the functions in the public API at pandas.testing instead.\n",
      "  import pandas.util.testing as tm\n"
     ]
    }
   ],
   "source": [
    "import statsmodels.formula.api as smf"
   ]
  },
  {
   "cell_type": "code",
   "execution_count": null,
   "metadata": {
    "colab": {
     "base_uri": "https://localhost:8080/",
     "height": 104
    },
    "executionInfo": {
     "elapsed": 321,
     "status": "ok",
     "timestamp": 1644370814482,
     "user": {
      "displayName": "Ararajuba Data Science Project",
      "photoUrl": "https://lh3.googleusercontent.com/a/default-user=s64",
      "userId": "02004027308564222829"
     },
     "user_tz": 180
    },
    "id": "_m5r12m2KdNB",
    "outputId": "074288ef-2421-4f19-a5c8-457c3481d878"
   },
   "outputs": [
    {
     "data": {
      "application/vnd.google.colaboratory.intrinsic+json": {
       "type": "string"
      },
      "text/plain": [
       "'Year_Factor+building_class+floor_area+year_built+energy_star_rating+ELEVATION+january_min_temp+january_avg_temp+january_max_temp+february_min_temp+february_avg_temp+february_max_temp+march_min_temp+march_avg_temp+march_max_temp+april_min_temp+april_avg_temp+april_max_temp+may_min_temp+may_avg_temp+may_max_temp+june_min_temp+june_avg_temp+june_max_temp+july_min_temp+july_avg_temp+july_max_temp+august_min_temp+august_avg_temp+august_max_temp+september_min_temp+september_avg_temp+september_max_temp+october_min_temp+october_avg_temp+october_max_temp+november_min_temp+november_avg_temp+november_max_temp+december_min_temp+december_avg_temp+december_max_temp+cooling_degree_days+heating_degree_days+precipitation_inches+snowfall_inches+snowdepth_inches+avg_temp+days_below_30F+days_below_20F+days_below_10F+days_below_0F+days_above_80F+days_above_90F+days_above_100F+days_above_110F+direction_max_wind_speed+direction_peak_wind_speed+max_wind_speed+days_with_fog+id+State_Factor_State_1+State_Factor_State_10+State_Factor_State_11+State_Factor_State_2+State_Factor_State_4+State_Factor_State_6+State_Factor_State_8+facility_type_gp+site_eui'"
      ]
     },
     "execution_count": 71,
     "metadata": {},
     "output_type": "execute_result"
    }
   ],
   "source": [
    "all_columns = \"+\".join(df_training_test.columns)\n",
    "all_columns"
   ]
  },
  {
   "cell_type": "code",
   "execution_count": null,
   "metadata": {
    "colab": {
     "base_uri": "https://localhost:8080/",
     "height": 1000
    },
    "executionInfo": {
     "elapsed": 3398,
     "status": "ok",
     "timestamp": 1644370843468,
     "user": {
      "displayName": "Ararajuba Data Science Project",
      "photoUrl": "https://lh3.googleusercontent.com/a/default-user=s64",
      "userId": "02004027308564222829"
     },
     "user_tz": 180
    },
    "id": "jWFRq20j5m_p",
    "outputId": "64fd09be-f852-4989-8440-dabc7de908eb"
   },
   "outputs": [
    {
     "data": {
      "text/html": [
       "<table class=\"simpletable\">\n",
       "<caption>OLS Regression Results</caption>\n",
       "<tr>\n",
       "  <th>Dep. Variable:</th>        <td>site_eui</td>     <th>  R-squared:         </th>  <td>   0.193</td>  \n",
       "</tr>\n",
       "<tr>\n",
       "  <th>Model:</th>                   <td>OLS</td>       <th>  Adj. R-squared:    </th>  <td>   0.192</td>  \n",
       "</tr>\n",
       "<tr>\n",
       "  <th>Method:</th>             <td>Least Squares</td>  <th>  F-statistic:       </th>  <td>   266.0</td>  \n",
       "</tr>\n",
       "<tr>\n",
       "  <th>Date:</th>             <td>Wed, 09 Feb 2022</td> <th>  Prob (F-statistic):</th>   <td>  0.00</td>   \n",
       "</tr>\n",
       "<tr>\n",
       "  <th>Time:</th>                 <td>01:40:42</td>     <th>  Log-Likelihood:    </th> <td>-4.0732e+05</td>\n",
       "</tr>\n",
       "<tr>\n",
       "  <th>No. Observations:</th>      <td> 75757</td>      <th>  AIC:               </th>  <td>8.148e+05</td> \n",
       "</tr>\n",
       "<tr>\n",
       "  <th>Df Residuals:</th>          <td> 75688</td>      <th>  BIC:               </th>  <td>8.154e+05</td> \n",
       "</tr>\n",
       "<tr>\n",
       "  <th>Df Model:</th>              <td>    68</td>      <th>                     </th>      <td> </td>     \n",
       "</tr>\n",
       "<tr>\n",
       "  <th>Covariance Type:</th>      <td>nonrobust</td>    <th>                     </th>      <td> </td>     \n",
       "</tr>\n",
       "</table>\n",
       "<table class=\"simpletable\">\n",
       "<tr>\n",
       "              <td></td>                 <th>coef</th>     <th>std err</th>      <th>t</th>      <th>P>|t|</th>  <th>[0.025</th>    <th>0.975]</th>  \n",
       "</tr>\n",
       "<tr>\n",
       "  <th>Intercept</th>                 <td>  548.7884</td> <td> 1347.302</td> <td>    0.407</td> <td> 0.684</td> <td>-2091.917</td> <td> 3189.494</td>\n",
       "</tr>\n",
       "<tr>\n",
       "  <th>Year_Factor</th>               <td>   -1.2692</td> <td>    2.148</td> <td>   -0.591</td> <td> 0.555</td> <td>   -5.478</td> <td>    2.940</td>\n",
       "</tr>\n",
       "<tr>\n",
       "  <th>building_class</th>            <td>   32.4554</td> <td>    0.632</td> <td>   51.335</td> <td> 0.000</td> <td>   31.216</td> <td>   33.695</td>\n",
       "</tr>\n",
       "<tr>\n",
       "  <th>floor_area</th>                <td> 1.286e-05</td> <td> 8.11e-07</td> <td>   15.855</td> <td> 0.000</td> <td> 1.13e-05</td> <td> 1.45e-05</td>\n",
       "</tr>\n",
       "<tr>\n",
       "  <th>year_built</th>                <td>    0.0011</td> <td>    0.005</td> <td>    0.208</td> <td> 0.835</td> <td>   -0.009</td> <td>    0.012</td>\n",
       "</tr>\n",
       "<tr>\n",
       "  <th>energy_star_rating</th>        <td>   -0.8785</td> <td>    0.008</td> <td> -105.387</td> <td> 0.000</td> <td>   -0.895</td> <td>   -0.862</td>\n",
       "</tr>\n",
       "<tr>\n",
       "  <th>ELEVATION</th>                 <td>   -0.0229</td> <td>    0.005</td> <td>   -4.306</td> <td> 0.000</td> <td>   -0.033</td> <td>   -0.012</td>\n",
       "</tr>\n",
       "<tr>\n",
       "  <th>january_min_temp</th>          <td>    0.9195</td> <td>    0.661</td> <td>    1.391</td> <td> 0.164</td> <td>   -0.376</td> <td>    2.215</td>\n",
       "</tr>\n",
       "<tr>\n",
       "  <th>january_avg_temp</th>          <td>    6.7894</td> <td>    3.245</td> <td>    2.092</td> <td> 0.036</td> <td>    0.429</td> <td>   13.150</td>\n",
       "</tr>\n",
       "<tr>\n",
       "  <th>january_max_temp</th>          <td>   -1.2413</td> <td>    0.637</td> <td>   -1.948</td> <td> 0.051</td> <td>   -2.490</td> <td>    0.007</td>\n",
       "</tr>\n",
       "<tr>\n",
       "  <th>february_min_temp</th>         <td>   -0.0057</td> <td>    0.550</td> <td>   -0.010</td> <td> 0.992</td> <td>   -1.083</td> <td>    1.071</td>\n",
       "</tr>\n",
       "<tr>\n",
       "  <th>february_avg_temp</th>         <td>    1.4583</td> <td>    2.543</td> <td>    0.573</td> <td> 0.566</td> <td>   -3.526</td> <td>    6.442</td>\n",
       "</tr>\n",
       "<tr>\n",
       "  <th>february_max_temp</th>         <td>    0.0270</td> <td>    0.848</td> <td>    0.032</td> <td> 0.975</td> <td>   -1.636</td> <td>    1.690</td>\n",
       "</tr>\n",
       "<tr>\n",
       "  <th>march_min_temp</th>            <td>   -0.5257</td> <td>    0.692</td> <td>   -0.760</td> <td> 0.447</td> <td>   -1.881</td> <td>    0.830</td>\n",
       "</tr>\n",
       "<tr>\n",
       "  <th>march_avg_temp</th>            <td>    1.3187</td> <td>    2.565</td> <td>    0.514</td> <td> 0.607</td> <td>   -3.709</td> <td>    6.347</td>\n",
       "</tr>\n",
       "<tr>\n",
       "  <th>march_max_temp</th>            <td>    1.0792</td> <td>    0.622</td> <td>    1.736</td> <td> 0.083</td> <td>   -0.139</td> <td>    2.298</td>\n",
       "</tr>\n",
       "<tr>\n",
       "  <th>april_min_temp</th>            <td>    0.6152</td> <td>    0.795</td> <td>    0.774</td> <td> 0.439</td> <td>   -0.943</td> <td>    2.174</td>\n",
       "</tr>\n",
       "<tr>\n",
       "  <th>april_avg_temp</th>            <td>    4.3938</td> <td>    2.539</td> <td>    1.730</td> <td> 0.084</td> <td>   -0.583</td> <td>    9.371</td>\n",
       "</tr>\n",
       "<tr>\n",
       "  <th>april_max_temp</th>            <td>   -0.2135</td> <td>    0.836</td> <td>   -0.255</td> <td> 0.798</td> <td>   -1.853</td> <td>    1.426</td>\n",
       "</tr>\n",
       "<tr>\n",
       "  <th>may_min_temp</th>              <td>   -0.3907</td> <td>    0.711</td> <td>   -0.549</td> <td> 0.583</td> <td>   -1.784</td> <td>    1.003</td>\n",
       "</tr>\n",
       "<tr>\n",
       "  <th>may_avg_temp</th>              <td>    2.1911</td> <td>    2.753</td> <td>    0.796</td> <td> 0.426</td> <td>   -3.204</td> <td>    7.586</td>\n",
       "</tr>\n",
       "<tr>\n",
       "  <th>may_max_temp</th>              <td>   -0.7365</td> <td>    0.789</td> <td>   -0.933</td> <td> 0.351</td> <td>   -2.283</td> <td>    0.810</td>\n",
       "</tr>\n",
       "<tr>\n",
       "  <th>june_min_temp</th>             <td>   -0.4522</td> <td>    1.064</td> <td>   -0.425</td> <td> 0.671</td> <td>   -2.538</td> <td>    1.633</td>\n",
       "</tr>\n",
       "<tr>\n",
       "  <th>june_avg_temp</th>             <td>    5.5388</td> <td>    4.580</td> <td>    1.209</td> <td> 0.227</td> <td>   -3.438</td> <td>   14.515</td>\n",
       "</tr>\n",
       "<tr>\n",
       "  <th>june_max_temp</th>             <td>    1.3099</td> <td>    0.801</td> <td>    1.635</td> <td> 0.102</td> <td>   -0.261</td> <td>    2.881</td>\n",
       "</tr>\n",
       "<tr>\n",
       "  <th>july_min_temp</th>             <td>    0.5660</td> <td>    1.232</td> <td>    0.459</td> <td> 0.646</td> <td>   -1.849</td> <td>    2.981</td>\n",
       "</tr>\n",
       "<tr>\n",
       "  <th>july_avg_temp</th>             <td>   -3.8966</td> <td>    2.418</td> <td>   -1.612</td> <td> 0.107</td> <td>   -8.635</td> <td>    0.842</td>\n",
       "</tr>\n",
       "<tr>\n",
       "  <th>july_max_temp</th>             <td>    1.3828</td> <td>    0.732</td> <td>    1.889</td> <td> 0.059</td> <td>   -0.052</td> <td>    2.818</td>\n",
       "</tr>\n",
       "<tr>\n",
       "  <th>august_min_temp</th>           <td>    0.5970</td> <td>    0.864</td> <td>    0.691</td> <td> 0.490</td> <td>   -1.097</td> <td>    2.291</td>\n",
       "</tr>\n",
       "<tr>\n",
       "  <th>august_avg_temp</th>           <td>    9.3020</td> <td>    2.665</td> <td>    3.491</td> <td> 0.000</td> <td>    4.079</td> <td>   14.525</td>\n",
       "</tr>\n",
       "<tr>\n",
       "  <th>august_max_temp</th>           <td>   -0.6129</td> <td>    0.700</td> <td>   -0.876</td> <td> 0.381</td> <td>   -1.985</td> <td>    0.759</td>\n",
       "</tr>\n",
       "<tr>\n",
       "  <th>september_min_temp</th>        <td>   -1.6138</td> <td>    0.824</td> <td>   -1.960</td> <td> 0.050</td> <td>   -3.228</td> <td>    0.000</td>\n",
       "</tr>\n",
       "<tr>\n",
       "  <th>september_avg_temp</th>        <td>    1.0191</td> <td>    2.912</td> <td>    0.350</td> <td> 0.726</td> <td>   -4.688</td> <td>    6.726</td>\n",
       "</tr>\n",
       "<tr>\n",
       "  <th>september_max_temp</th>        <td>   -0.5052</td> <td>    0.548</td> <td>   -0.922</td> <td> 0.357</td> <td>   -1.580</td> <td>    0.569</td>\n",
       "</tr>\n",
       "<tr>\n",
       "  <th>october_min_temp</th>          <td>    0.8187</td> <td>    0.670</td> <td>    1.222</td> <td> 0.222</td> <td>   -0.494</td> <td>    2.131</td>\n",
       "</tr>\n",
       "<tr>\n",
       "  <th>october_avg_temp</th>          <td>    5.5844</td> <td>    3.025</td> <td>    1.846</td> <td> 0.065</td> <td>   -0.345</td> <td>   11.514</td>\n",
       "</tr>\n",
       "<tr>\n",
       "  <th>october_max_temp</th>          <td>   -0.5520</td> <td>    0.601</td> <td>   -0.919</td> <td> 0.358</td> <td>   -1.729</td> <td>    0.625</td>\n",
       "</tr>\n",
       "<tr>\n",
       "  <th>november_min_temp</th>         <td>    0.4773</td> <td>    0.738</td> <td>    0.647</td> <td> 0.518</td> <td>   -0.969</td> <td>    1.924</td>\n",
       "</tr>\n",
       "<tr>\n",
       "  <th>november_avg_temp</th>         <td>    2.8218</td> <td>    3.481</td> <td>    0.811</td> <td> 0.418</td> <td>   -4.001</td> <td>    9.645</td>\n",
       "</tr>\n",
       "<tr>\n",
       "  <th>november_max_temp</th>         <td>   -0.4262</td> <td>    0.721</td> <td>   -0.591</td> <td> 0.554</td> <td>   -1.839</td> <td>    0.987</td>\n",
       "</tr>\n",
       "<tr>\n",
       "  <th>december_min_temp</th>         <td>   -0.5458</td> <td>    0.753</td> <td>   -0.725</td> <td> 0.469</td> <td>   -2.022</td> <td>    0.931</td>\n",
       "</tr>\n",
       "<tr>\n",
       "  <th>december_avg_temp</th>         <td>    2.2581</td> <td>    3.080</td> <td>    0.733</td> <td> 0.463</td> <td>   -3.779</td> <td>    8.295</td>\n",
       "</tr>\n",
       "<tr>\n",
       "  <th>december_max_temp</th>         <td>    1.0230</td> <td>    0.678</td> <td>    1.510</td> <td> 0.131</td> <td>   -0.305</td> <td>    2.351</td>\n",
       "</tr>\n",
       "<tr>\n",
       "  <th>cooling_degree_days</th>       <td>    0.0446</td> <td>    0.065</td> <td>    0.685</td> <td> 0.494</td> <td>   -0.083</td> <td>    0.172</td>\n",
       "</tr>\n",
       "<tr>\n",
       "  <th>heating_degree_days</th>       <td>   -0.0257</td> <td>    0.065</td> <td>   -0.393</td> <td> 0.694</td> <td>   -0.154</td> <td>    0.102</td>\n",
       "</tr>\n",
       "<tr>\n",
       "  <th>precipitation_inches</th>      <td>    0.5701</td> <td>    0.232</td> <td>    2.457</td> <td> 0.014</td> <td>    0.115</td> <td>    1.025</td>\n",
       "</tr>\n",
       "<tr>\n",
       "  <th>snowfall_inches</th>           <td>   -0.6250</td> <td>    0.273</td> <td>   -2.288</td> <td> 0.022</td> <td>   -1.161</td> <td>   -0.090</td>\n",
       "</tr>\n",
       "<tr>\n",
       "  <th>snowdepth_inches</th>          <td>    0.0458</td> <td>    0.020</td> <td>    2.278</td> <td> 0.023</td> <td>    0.006</td> <td>    0.085</td>\n",
       "</tr>\n",
       "<tr>\n",
       "  <th>avg_temp</th>                  <td>  -48.2358</td> <td>   36.172</td> <td>   -1.333</td> <td> 0.182</td> <td> -119.133</td> <td>   22.662</td>\n",
       "</tr>\n",
       "<tr>\n",
       "  <th>days_below_30F</th>            <td>    0.1266</td> <td>    0.157</td> <td>    0.805</td> <td> 0.421</td> <td>   -0.181</td> <td>    0.435</td>\n",
       "</tr>\n",
       "<tr>\n",
       "  <th>days_below_20F</th>            <td>    0.6866</td> <td>    0.419</td> <td>    1.637</td> <td> 0.102</td> <td>   -0.135</td> <td>    1.509</td>\n",
       "</tr>\n",
       "<tr>\n",
       "  <th>days_below_10F</th>            <td>   -1.4070</td> <td>    0.673</td> <td>   -2.092</td> <td> 0.036</td> <td>   -2.725</td> <td>   -0.089</td>\n",
       "</tr>\n",
       "<tr>\n",
       "  <th>days_below_0F</th>             <td>    0.8620</td> <td>    0.714</td> <td>    1.207</td> <td> 0.227</td> <td>   -0.538</td> <td>    2.262</td>\n",
       "</tr>\n",
       "<tr>\n",
       "  <th>days_above_80F</th>            <td>   -0.1418</td> <td>    0.134</td> <td>   -1.054</td> <td> 0.292</td> <td>   -0.405</td> <td>    0.122</td>\n",
       "</tr>\n",
       "<tr>\n",
       "  <th>days_above_90F</th>            <td>    0.1122</td> <td>    0.174</td> <td>    0.643</td> <td> 0.520</td> <td>   -0.230</td> <td>    0.454</td>\n",
       "</tr>\n",
       "<tr>\n",
       "  <th>days_above_100F</th>           <td>   -0.8237</td> <td>    0.427</td> <td>   -1.928</td> <td> 0.054</td> <td>   -1.661</td> <td>    0.014</td>\n",
       "</tr>\n",
       "<tr>\n",
       "  <th>days_above_110F</th>           <td>    0.9803</td> <td>    2.868</td> <td>    0.342</td> <td> 0.733</td> <td>   -4.642</td> <td>    6.602</td>\n",
       "</tr>\n",
       "<tr>\n",
       "  <th>direction_max_wind_speed</th>  <td>   -0.0679</td> <td>    0.021</td> <td>   -3.243</td> <td> 0.001</td> <td>   -0.109</td> <td>   -0.027</td>\n",
       "</tr>\n",
       "<tr>\n",
       "  <th>direction_peak_wind_speed</th> <td>    0.0319</td> <td>    0.008</td> <td>    4.213</td> <td> 0.000</td> <td>    0.017</td> <td>    0.047</td>\n",
       "</tr>\n",
       "<tr>\n",
       "  <th>max_wind_speed</th>            <td>    0.8915</td> <td>    0.341</td> <td>    2.617</td> <td> 0.009</td> <td>    0.224</td> <td>    1.559</td>\n",
       "</tr>\n",
       "<tr>\n",
       "  <th>days_with_fog</th>             <td>   -0.0441</td> <td>    0.008</td> <td>   -5.314</td> <td> 0.000</td> <td>   -0.060</td> <td>   -0.028</td>\n",
       "</tr>\n",
       "<tr>\n",
       "  <th>id</th>                        <td>    0.0005</td> <td> 7.95e-05</td> <td>    5.733</td> <td> 0.000</td> <td>    0.000</td> <td>    0.001</td>\n",
       "</tr>\n",
       "<tr>\n",
       "  <th>State_Factor_State_1</th>      <td>   81.5060</td> <td>  191.441</td> <td>    0.426</td> <td> 0.670</td> <td> -293.717</td> <td>  456.729</td>\n",
       "</tr>\n",
       "<tr>\n",
       "  <th>State_Factor_State_10</th>     <td>   73.2996</td> <td>  198.318</td> <td>    0.370</td> <td> 0.712</td> <td> -315.404</td> <td>  462.003</td>\n",
       "</tr>\n",
       "<tr>\n",
       "  <th>State_Factor_State_11</th>     <td>   13.4893</td> <td>  187.103</td> <td>    0.072</td> <td> 0.943</td> <td> -353.231</td> <td>  380.210</td>\n",
       "</tr>\n",
       "<tr>\n",
       "  <th>State_Factor_State_2</th>      <td>   83.8184</td> <td>  194.045</td> <td>    0.432</td> <td> 0.666</td> <td> -296.509</td> <td>  464.146</td>\n",
       "</tr>\n",
       "<tr>\n",
       "  <th>State_Factor_State_4</th>      <td>  110.3999</td> <td>  193.115</td> <td>    0.572</td> <td> 0.568</td> <td> -268.104</td> <td>  488.904</td>\n",
       "</tr>\n",
       "<tr>\n",
       "  <th>State_Factor_State_6</th>      <td>  100.4296</td> <td>  191.809</td> <td>    0.524</td> <td> 0.601</td> <td> -275.516</td> <td>  476.375</td>\n",
       "</tr>\n",
       "<tr>\n",
       "  <th>State_Factor_State_8</th>      <td>   85.8455</td> <td>  194.770</td> <td>    0.441</td> <td> 0.659</td> <td> -295.902</td> <td>  467.593</td>\n",
       "</tr>\n",
       "<tr>\n",
       "  <th>facility_type_gp</th>          <td>    4.7474</td> <td>    0.138</td> <td>   34.294</td> <td> 0.000</td> <td>    4.476</td> <td>    5.019</td>\n",
       "</tr>\n",
       "</table>\n",
       "<table class=\"simpletable\">\n",
       "<tr>\n",
       "  <th>Omnibus:</th>       <td>83454.334</td> <th>  Durbin-Watson:     </th>   <td>   1.786</td>  \n",
       "</tr>\n",
       "<tr>\n",
       "  <th>Prob(Omnibus):</th>  <td> 0.000</td>   <th>  Jarque-Bera (JB):  </th> <td>10988260.600</td>\n",
       "</tr>\n",
       "<tr>\n",
       "  <th>Skew:</th>           <td> 5.528</td>   <th>  Prob(JB):          </th>   <td>    0.00</td>  \n",
       "</tr>\n",
       "<tr>\n",
       "  <th>Kurtosis:</th>       <td>60.956</td>   <th>  Cond. No.          </th>   <td>2.41e+15</td>  \n",
       "</tr>\n",
       "</table><br/><br/>Warnings:<br/>[1] Standard Errors assume that the covariance matrix of the errors is correctly specified.<br/>[2] The smallest eigenvalue is 1.16e-15. This might indicate that there are<br/>strong multicollinearity problems or that the design matrix is singular."
      ],
      "text/plain": [
       "<class 'statsmodels.iolib.summary.Summary'>\n",
       "\"\"\"\n",
       "                            OLS Regression Results                            \n",
       "==============================================================================\n",
       "Dep. Variable:               site_eui   R-squared:                       0.193\n",
       "Model:                            OLS   Adj. R-squared:                  0.192\n",
       "Method:                 Least Squares   F-statistic:                     266.0\n",
       "Date:                Wed, 09 Feb 2022   Prob (F-statistic):               0.00\n",
       "Time:                        01:40:42   Log-Likelihood:            -4.0732e+05\n",
       "No. Observations:               75757   AIC:                         8.148e+05\n",
       "Df Residuals:                   75688   BIC:                         8.154e+05\n",
       "Df Model:                          68                                         \n",
       "Covariance Type:            nonrobust                                         \n",
       "=============================================================================================\n",
       "                                coef    std err          t      P>|t|      [0.025      0.975]\n",
       "---------------------------------------------------------------------------------------------\n",
       "Intercept                   548.7884   1347.302      0.407      0.684   -2091.917    3189.494\n",
       "Year_Factor                  -1.2692      2.148     -0.591      0.555      -5.478       2.940\n",
       "building_class               32.4554      0.632     51.335      0.000      31.216      33.695\n",
       "floor_area                 1.286e-05   8.11e-07     15.855      0.000    1.13e-05    1.45e-05\n",
       "year_built                    0.0011      0.005      0.208      0.835      -0.009       0.012\n",
       "energy_star_rating           -0.8785      0.008   -105.387      0.000      -0.895      -0.862\n",
       "ELEVATION                    -0.0229      0.005     -4.306      0.000      -0.033      -0.012\n",
       "january_min_temp              0.9195      0.661      1.391      0.164      -0.376       2.215\n",
       "january_avg_temp              6.7894      3.245      2.092      0.036       0.429      13.150\n",
       "january_max_temp             -1.2413      0.637     -1.948      0.051      -2.490       0.007\n",
       "february_min_temp            -0.0057      0.550     -0.010      0.992      -1.083       1.071\n",
       "february_avg_temp             1.4583      2.543      0.573      0.566      -3.526       6.442\n",
       "february_max_temp             0.0270      0.848      0.032      0.975      -1.636       1.690\n",
       "march_min_temp               -0.5257      0.692     -0.760      0.447      -1.881       0.830\n",
       "march_avg_temp                1.3187      2.565      0.514      0.607      -3.709       6.347\n",
       "march_max_temp                1.0792      0.622      1.736      0.083      -0.139       2.298\n",
       "april_min_temp                0.6152      0.795      0.774      0.439      -0.943       2.174\n",
       "april_avg_temp                4.3938      2.539      1.730      0.084      -0.583       9.371\n",
       "april_max_temp               -0.2135      0.836     -0.255      0.798      -1.853       1.426\n",
       "may_min_temp                 -0.3907      0.711     -0.549      0.583      -1.784       1.003\n",
       "may_avg_temp                  2.1911      2.753      0.796      0.426      -3.204       7.586\n",
       "may_max_temp                 -0.7365      0.789     -0.933      0.351      -2.283       0.810\n",
       "june_min_temp                -0.4522      1.064     -0.425      0.671      -2.538       1.633\n",
       "june_avg_temp                 5.5388      4.580      1.209      0.227      -3.438      14.515\n",
       "june_max_temp                 1.3099      0.801      1.635      0.102      -0.261       2.881\n",
       "july_min_temp                 0.5660      1.232      0.459      0.646      -1.849       2.981\n",
       "july_avg_temp                -3.8966      2.418     -1.612      0.107      -8.635       0.842\n",
       "july_max_temp                 1.3828      0.732      1.889      0.059      -0.052       2.818\n",
       "august_min_temp               0.5970      0.864      0.691      0.490      -1.097       2.291\n",
       "august_avg_temp               9.3020      2.665      3.491      0.000       4.079      14.525\n",
       "august_max_temp              -0.6129      0.700     -0.876      0.381      -1.985       0.759\n",
       "september_min_temp           -1.6138      0.824     -1.960      0.050      -3.228       0.000\n",
       "september_avg_temp            1.0191      2.912      0.350      0.726      -4.688       6.726\n",
       "september_max_temp           -0.5052      0.548     -0.922      0.357      -1.580       0.569\n",
       "october_min_temp              0.8187      0.670      1.222      0.222      -0.494       2.131\n",
       "october_avg_temp              5.5844      3.025      1.846      0.065      -0.345      11.514\n",
       "october_max_temp             -0.5520      0.601     -0.919      0.358      -1.729       0.625\n",
       "november_min_temp             0.4773      0.738      0.647      0.518      -0.969       1.924\n",
       "november_avg_temp             2.8218      3.481      0.811      0.418      -4.001       9.645\n",
       "november_max_temp            -0.4262      0.721     -0.591      0.554      -1.839       0.987\n",
       "december_min_temp            -0.5458      0.753     -0.725      0.469      -2.022       0.931\n",
       "december_avg_temp             2.2581      3.080      0.733      0.463      -3.779       8.295\n",
       "december_max_temp             1.0230      0.678      1.510      0.131      -0.305       2.351\n",
       "cooling_degree_days           0.0446      0.065      0.685      0.494      -0.083       0.172\n",
       "heating_degree_days          -0.0257      0.065     -0.393      0.694      -0.154       0.102\n",
       "precipitation_inches          0.5701      0.232      2.457      0.014       0.115       1.025\n",
       "snowfall_inches              -0.6250      0.273     -2.288      0.022      -1.161      -0.090\n",
       "snowdepth_inches              0.0458      0.020      2.278      0.023       0.006       0.085\n",
       "avg_temp                    -48.2358     36.172     -1.333      0.182    -119.133      22.662\n",
       "days_below_30F                0.1266      0.157      0.805      0.421      -0.181       0.435\n",
       "days_below_20F                0.6866      0.419      1.637      0.102      -0.135       1.509\n",
       "days_below_10F               -1.4070      0.673     -2.092      0.036      -2.725      -0.089\n",
       "days_below_0F                 0.8620      0.714      1.207      0.227      -0.538       2.262\n",
       "days_above_80F               -0.1418      0.134     -1.054      0.292      -0.405       0.122\n",
       "days_above_90F                0.1122      0.174      0.643      0.520      -0.230       0.454\n",
       "days_above_100F              -0.8237      0.427     -1.928      0.054      -1.661       0.014\n",
       "days_above_110F               0.9803      2.868      0.342      0.733      -4.642       6.602\n",
       "direction_max_wind_speed     -0.0679      0.021     -3.243      0.001      -0.109      -0.027\n",
       "direction_peak_wind_speed     0.0319      0.008      4.213      0.000       0.017       0.047\n",
       "max_wind_speed                0.8915      0.341      2.617      0.009       0.224       1.559\n",
       "days_with_fog                -0.0441      0.008     -5.314      0.000      -0.060      -0.028\n",
       "id                            0.0005   7.95e-05      5.733      0.000       0.000       0.001\n",
       "State_Factor_State_1         81.5060    191.441      0.426      0.670    -293.717     456.729\n",
       "State_Factor_State_10        73.2996    198.318      0.370      0.712    -315.404     462.003\n",
       "State_Factor_State_11        13.4893    187.103      0.072      0.943    -353.231     380.210\n",
       "State_Factor_State_2         83.8184    194.045      0.432      0.666    -296.509     464.146\n",
       "State_Factor_State_4        110.3999    193.115      0.572      0.568    -268.104     488.904\n",
       "State_Factor_State_6        100.4296    191.809      0.524      0.601    -275.516     476.375\n",
       "State_Factor_State_8         85.8455    194.770      0.441      0.659    -295.902     467.593\n",
       "facility_type_gp              4.7474      0.138     34.294      0.000       4.476       5.019\n",
       "==============================================================================\n",
       "Omnibus:                    83454.334   Durbin-Watson:                   1.786\n",
       "Prob(Omnibus):                  0.000   Jarque-Bera (JB):         10988260.600\n",
       "Skew:                           5.528   Prob(JB):                         0.00\n",
       "Kurtosis:                      60.956   Cond. No.                     2.41e+15\n",
       "==============================================================================\n",
       "\n",
       "Warnings:\n",
       "[1] Standard Errors assume that the covariance matrix of the errors is correctly specified.\n",
       "[2] The smallest eigenvalue is 1.16e-15. This might indicate that there are\n",
       "strong multicollinearity problems or that the design matrix is singular.\n",
       "\"\"\""
      ]
     },
     "execution_count": 72,
     "metadata": {},
     "output_type": "execute_result"
    }
   ],
   "source": [
    "# Ajuste do modelo de Regressão Linear\n",
    "lm_esc = smf.ols(formula='site_eui ~ Year_Factor+building_class+floor_area+year_built+energy_star_rating+ELEVATION+january_min_temp+january_avg_temp+january_max_temp+february_min_temp+february_avg_temp+february_max_temp+march_min_temp+march_avg_temp+march_max_temp+april_min_temp+april_avg_temp+april_max_temp+may_min_temp+may_avg_temp+may_max_temp+june_min_temp+june_avg_temp+june_max_temp+july_min_temp+july_avg_temp+july_max_temp+august_min_temp+august_avg_temp+august_max_temp+september_min_temp+september_avg_temp+september_max_temp+october_min_temp+october_avg_temp+october_max_temp+november_min_temp+november_avg_temp+november_max_temp+december_min_temp+december_avg_temp+december_max_temp+cooling_degree_days+heating_degree_days+precipitation_inches+snowfall_inches+snowdepth_inches+avg_temp+days_below_30F+days_below_20F+days_below_10F+days_below_0F+days_above_80F+days_above_90F+days_above_100F+days_above_110F+direction_max_wind_speed+direction_peak_wind_speed+max_wind_speed+days_with_fog+id+State_Factor_State_1+State_Factor_State_10+State_Factor_State_11+State_Factor_State_2+State_Factor_State_4+State_Factor_State_6+State_Factor_State_8+facility_type_gp', \n",
    "                 data=df_training_test).fit()\n",
    "\n",
    "# Saída do modelo\n",
    "lm_esc.summary()"
   ]
  },
  {
   "cell_type": "code",
   "execution_count": 100,
   "metadata": {
    "colab": {
     "base_uri": "https://localhost:8080/"
    },
    "executionInfo": {
     "elapsed": 308,
     "status": "ok",
     "timestamp": 1645887941367,
     "user": {
      "displayName": "Ararajuba Data Science Project",
      "photoUrl": "https://lh3.googleusercontent.com/a/default-user=s64",
      "userId": "02004027308564222829"
     },
     "user_tz": 180
    },
    "id": "wbTjqDu9PIC8",
    "outputId": "101e2e0c-adc8-42d8-ab1f-d91eae16ab87"
   },
   "outputs": [
    {
     "name": "stdout",
     "output_type": "stream",
     "text": [
      "(75757, 70)\n",
      "(9705, 70)\n"
     ]
    }
   ],
   "source": [
    "#Primeiro modelo\n",
    "print(df_training_test.shape)\n",
    "print(df_test_test.shape)"
   ]
  },
  {
   "cell_type": "markdown",
   "metadata": {
    "id": "M0DR3P6btnU8"
   },
   "source": [
    "### 2º Modelo - **Voting Regression**"
   ]
  },
  {
   "cell_type": "code",
   "execution_count": 62,
   "metadata": {
    "executionInfo": {
     "elapsed": 211386,
     "status": "ok",
     "timestamp": 1645890201505,
     "user": {
      "displayName": "Ararajuba Data Science Project",
      "photoUrl": "https://lh3.googleusercontent.com/a/default-user=s64",
      "userId": "02004027308564222829"
     },
     "user_tz": 180
    },
    "id": "BQcfWpOfuLxy"
   },
   "outputs": [],
   "source": [
    "from sklearn.ensemble import GradientBoostingRegressor\n",
    "from sklearn.ensemble import RandomForestRegressor\n",
    "from sklearn.ensemble import VotingRegressor\n",
    "\n",
    "#Gradient Boosting Classifier\n",
    "GBR = GradientBoostingRegressor(random_state=random_state)\n",
    "\n",
    "# Random Forest Classifier\n",
    "RFR = RandomForestRegressor(n_estimators=estimator) # TO-DO Ajustar com valor adequado\n",
    "\n",
    "# Voting Classifier with soft voting \n",
    "vtc = VotingRegressor(estimators=[('rfc', RFR),('gbc',GBR)])\n",
    "vtc = vtc.fit(X_train, y_train)\n",
    "\n",
    "vtc_predict_y = vtc.predict(X_test)\n",
    "\n",
    "#results = cross_val_score(vtc, X_train, y_train, cv = cv, \n",
    "#                          scoring = 'precision')\n",
    "#intervalo_prec(results)"
   ]
  },
  {
   "cell_type": "code",
   "execution_count": 75,
   "metadata": {
    "colab": {
     "base_uri": "https://localhost:8080/"
    },
    "executionInfo": {
     "elapsed": 342,
     "status": "ok",
     "timestamp": 1645887103724,
     "user": {
      "displayName": "Ararajuba Data Science Project",
      "photoUrl": "https://lh3.googleusercontent.com/a/default-user=s64",
      "userId": "02004027308564222829"
     },
     "user_tz": 180
    },
    "id": "Hlst1-S0d3kw",
    "outputId": "9099c6e5-8282-4885-8e4c-68cc28760085"
   },
   "outputs": [
    {
     "name": "stdout",
     "output_type": "stream",
     "text": [
      "(15152, 69)\n",
      "(60605, 69)\n",
      "(15152,)\n",
      "(60605,)\n"
     ]
    }
   ],
   "source": [
    "print(X_test.shape)\n",
    "print(X_train.shape)\n",
    "print(y_test.shape)\n",
    "print(y_train.shape)"
   ]
  },
  {
   "cell_type": "code",
   "execution_count": 63,
   "metadata": {
    "colab": {
     "base_uri": "https://localhost:8080/"
    },
    "executionInfo": {
     "elapsed": 25,
     "status": "ok",
     "timestamp": 1645890201505,
     "user": {
      "displayName": "Ararajuba Data Science Project",
      "photoUrl": "https://lh3.googleusercontent.com/a/default-user=s64",
      "userId": "02004027308564222829"
     },
     "user_tz": 180
    },
    "id": "a5T9JM_xcQk0",
    "outputId": "f56f4609-e5e7-4a88-92c0-23abe4f90a27"
   },
   "outputs": [
    {
     "name": "stdout",
     "output_type": "stream",
     "text": [
      "R²:  2975.4119999723084\n"
     ]
    }
   ],
   "source": [
    "import matplotlib.pyplot as plt\n",
    "import numpy as np\n",
    "from sklearn import datasets, linear_model\n",
    "\n",
    "# aplicamos o modelo de regressão linear usando LinearRegression()\n",
    "modelo = linear_model.LinearRegression()\n",
    "\n",
    "# treinamos o modelo usando os dados de treinamento\n",
    "modelo.fit(X_train, y_train)\n",
    "\n",
    "# erro quadrático médio\n",
    "r2 = np.mean((modelo.predict(X_test) - y_test) ** 2)\n",
    "\n",
    "print('R²: ',r2)"
   ]
  },
  {
   "cell_type": "code",
   "execution_count": 64,
   "metadata": {
    "colab": {
     "base_uri": "https://localhost:8080/"
    },
    "executionInfo": {
     "elapsed": 13,
     "status": "ok",
     "timestamp": 1645890202063,
     "user": {
      "displayName": "Ararajuba Data Science Project",
      "photoUrl": "https://lh3.googleusercontent.com/a/default-user=s64",
      "userId": "02004027308564222829"
     },
     "user_tz": 180
    },
    "id": "27NGsfuLcQnW",
    "outputId": "0f3d3c25-528a-4cec-f4fb-2472932a458e"
   },
   "outputs": [
    {
     "data": {
      "text/plain": [
       "0.1843508519472371"
      ]
     },
     "execution_count": 64,
     "metadata": {},
     "output_type": "execute_result"
    }
   ],
   "source": [
    "# variância\n",
    "modelo.score(X_test, y_test)"
   ]
  },
  {
   "cell_type": "code",
   "execution_count": 138,
   "metadata": {
    "colab": {
     "base_uri": "https://localhost:8080/"
    },
    "executionInfo": {
     "elapsed": 4,
     "status": "ok",
     "timestamp": 1645889229963,
     "user": {
      "displayName": "Ararajuba Data Science Project",
      "photoUrl": "https://lh3.googleusercontent.com/a/default-user=s64",
      "userId": "02004027308564222829"
     },
     "user_tz": 180
    },
    "id": "gchtbiC_pEPu",
    "outputId": "cbf12104-1840-4e1f-fbcd-5ea310e391d4"
   },
   "outputs": [
    {
     "name": "stdout",
     "output_type": "stream",
     "text": [
      "(15152, 69)\n"
     ]
    }
   ],
   "source": [
    "print(X_test.shape)\n",
    "print(X_test.shape)"
   ]
  },
  {
   "cell_type": "code",
   "execution_count": 140,
   "metadata": {
    "colab": {
     "base_uri": "https://localhost:8080/",
     "height": 251
    },
    "executionInfo": {
     "elapsed": 866,
     "status": "ok",
     "timestamp": 1645889248780,
     "user": {
      "displayName": "Ararajuba Data Science Project",
      "photoUrl": "https://lh3.googleusercontent.com/a/default-user=s64",
      "userId": "02004027308564222829"
     },
     "user_tz": 180
    },
    "id": "oBAncbR2cQqG",
    "outputId": "1fb264f5-f277-4a5b-812b-d33ff7673a93"
   },
   "outputs": [
    {
     "data": {
      "image/png": "[encoded data removed]",
      "text/plain": [
       "<Figure size 432x288 with 1 Axes>"
      ]
     },
     "metadata": {},
     "output_type": "display_data"
    }
   ],
   "source": [
    "# plotamos os resultados definindo algumas características do gráfico\n",
    "#plt.scatter(X_test,  df_test_test,  color='black')\n",
    "plt.plot( df_test_test, modelo.predict( df_test_test), color='blue', linewidth=3)\n",
    "\n",
    "plt.xticks(())\n",
    "plt.yticks(())\n",
    "  \n",
    "plt.show()"
   ]
  },
  {
   "cell_type": "code",
   "execution_count": 82,
   "metadata": {
    "colab": {
     "base_uri": "https://localhost:8080/"
    },
    "executionInfo": {
     "elapsed": 321,
     "status": "ok",
     "timestamp": 1645887252784,
     "user": {
      "displayName": "Ararajuba Data Science Project",
      "photoUrl": "https://lh3.googleusercontent.com/a/default-user=s64",
      "userId": "02004027308564222829"
     },
     "user_tz": 180
    },
    "id": "zvqm7ZO0cQtK",
    "outputId": "d199e956-5d47-4c59-dc26-facf3e5daa87"
   },
   "outputs": [
    {
     "data": {
      "text/plain": [
       "array([-1.10203588e+00,  3.21352808e+01,  1.29886712e-05,  2.68324393e-03,\n",
       "       -8.72481961e-01, -2.81281087e-02,  6.17106145e-01,  5.70881108e+00,\n",
       "       -1.31199769e+00,  7.37432454e-02, -7.08982830e-01,  1.25067157e+00,\n",
       "        5.45317843e-02,  1.51697323e+00,  6.61081588e-01,  4.19289806e-01,\n",
       "        5.96288780e+00, -4.17873562e-01, -1.38148266e+00,  5.96192018e-01,\n",
       "       -7.92546006e-01,  2.14426283e-01,  4.47651383e+00,  7.84488899e-01,\n",
       "       -7.44553689e-01, -2.45655674e+00,  1.05134831e+00, -2.62585122e-01,\n",
       "        9.29263529e+00, -4.11209762e-01, -8.27606701e-01,  2.23189348e-01,\n",
       "       -4.19402636e-01,  6.45743362e-01,  5.42175934e+00, -8.21203166e-01,\n",
       "       -3.12433727e-02,  1.72579972e+00, -1.79081201e-01,  1.77667959e-01,\n",
       "        1.56316716e+00,  9.23375912e-01,  5.17208390e-02, -4.22426492e-02,\n",
       "        6.71343910e-01, -6.32253531e-01,  3.78785035e-02, -4.53593001e+01,\n",
       "       -3.54648364e-02,  1.14894006e+00, -1.12900184e+00, -2.50540432e-01,\n",
       "       -1.58247563e-01,  1.65245212e-02, -7.73547001e-01,  1.59981569e+00,\n",
       "       -8.26171828e-02,  3.69849961e-02,  1.10691785e+00, -5.19858931e-02,\n",
       "        4.48563129e-04,  5.69041686e+00, -1.15157460e+01, -5.42172750e+01,\n",
       "       -6.43134320e+00,  3.37597119e+01,  2.86308631e+01,  4.08337223e+00,\n",
       "        4.79334110e+00])"
      ]
     },
     "execution_count": 82,
     "metadata": {},
     "output_type": "execute_result"
    }
   ],
   "source": [
    "modelo.coef_"
   ]
  },
  {
   "cell_type": "code",
   "execution_count": 88,
   "metadata": {
    "executionInfo": {
     "elapsed": 294,
     "status": "ok",
     "timestamp": 1645887442657,
     "user": {
      "displayName": "Ararajuba Data Science Project",
      "photoUrl": "https://lh3.googleusercontent.com/a/default-user=s64",
      "userId": "02004027308564222829"
     },
     "user_tz": 180
    },
    "id": "Bo_vIybLiPHH"
   },
   "outputs": [],
   "source": [
    " results = modelo.predict(X_test)"
   ]
  },
  {
   "cell_type": "code",
   "execution_count": 90,
   "metadata": {
    "colab": {
     "base_uri": "https://localhost:8080/"
    },
    "executionInfo": {
     "elapsed": 244,
     "status": "ok",
     "timestamp": 1645887455701,
     "user": {
      "displayName": "Ararajuba Data Science Project",
      "photoUrl": "https://lh3.googleusercontent.com/a/default-user=s64",
      "userId": "02004027308564222829"
     },
     "user_tz": 180
    },
    "id": "hv-s7vIliVu1",
    "outputId": "2bde7549-ad72-44d1-f21f-b316cf484a66"
   },
   "outputs": [
    {
     "data": {
      "text/plain": [
       "array([46.3818477 , 57.51653373, 59.03307858, ..., 65.75746044,\n",
       "       81.61329132, 80.40595637])"
      ]
     },
     "execution_count": 90,
     "metadata": {},
     "output_type": "execute_result"
    }
   ],
   "source": [
    "results"
   ]
  },
  {
   "cell_type": "code",
   "execution_count": 110,
   "metadata": {
    "colab": {
     "base_uri": "https://localhost:8080/"
    },
    "executionInfo": {
     "elapsed": 310,
     "status": "ok",
     "timestamp": 1645888269158,
     "user": {
      "displayName": "Ararajuba Data Science Project",
      "photoUrl": "https://lh3.googleusercontent.com/a/default-user=s64",
      "userId": "02004027308564222829"
     },
     "user_tz": 180
    },
    "id": "oU3h-d2Zldvo",
    "outputId": "af73f2ab-2988-4e65-871c-b2bf627ccc77"
   },
   "outputs": [
    {
     "name": "stdout",
     "output_type": "stream",
     "text": [
      "Training (75757, 75)\n",
      "Solution (9705, 74)\n"
     ]
    }
   ],
   "source": [
    "print('Training', df_training.shape)\n",
    "print('Solution', df_test.shape)"
   ]
  },
  {
   "cell_type": "markdown",
   "metadata": {
    "id": "FWsfq-PivGmo"
   },
   "source": [
    "## **Comparação dos Modelos** "
   ]
  },
  {
   "cell_type": "code",
   "execution_count": null,
   "metadata": {
    "colab": {
     "background_save": true
    },
    "id": "Hq2TGjJQx9u7",
    "outputId": "d04c7f4a-3ac5-4a22-85cb-119564793a2e"
   },
   "outputs": [
    {
     "name": "stdout",
     "output_type": "stream",
     "text": [
      "======================= Voting C ========================\n",
      "\n",
      "ACURÁCIA:                 0.8294\n",
      "SENSIBILIDADE:            0.3967\n",
      "PRECISÃO:                 0.6794\n",
      "F1-SCORE:                 0.5009\n",
      "ERRO QUADRADO AJUSTADO:   0.3091\n",
      "ROC SCORE:                0.6726\n",
      "MATRIZ DE CONFUSÃO:      \n",
      " [[19361  1052]\n",
      " [ 3390  2229]]\n",
      "===================== Random Forest =====================\n",
      "\n",
      "ACURÁCIA:                 0.8248\n",
      "SENSIBILIDADE:            0.3542\n",
      "PRECISÃO:                 0.6813\n",
      "F1-SCORE:                 0.466\n",
      "ERRO QUADRADO AJUSTADO:   0.2827\n",
      "ROC SCORE:                0.6543\n",
      "MATRIZ DE CONFUSÃO:      \n",
      " [[19482   931]\n",
      " [ 3629  1990]]\n",
      "===================== Voting C_v4 =======================\n",
      "\n",
      "ACURÁCIA:                 0.8274\n",
      "SENSIBILIDADE:            0.3817\n",
      "PRECISÃO:                 0.6902\n",
      "F1-SCORE:                 0.4915\n",
      "ERRO QUADRADO AJUSTADO:   0.3015\n",
      "ROC SCORE:                0.6669\n",
      "MATRIZ DE CONFUSÃO:      \n",
      " [[19366   975]\n",
      " [ 3519  2172]]\n",
      "\n",
      "\n",
      "**********************      ROC      **********************\n",
      "\n",
      "\n"
     ]
    },
    {
     "data": {
      "image/png": "[encoded data removed]",
      "text/plain": [
       "<Figure size 432x288 with 1 Axes>"
      ]
     },
     "metadata": {},
     "output_type": "display_data"
    }
   ],
   "source": [
    "print('======================= Voting C ========================\\n')\n",
    "model_performance(vtc, X_test, y_test, vtc_predict_y)\n",
    "print('===================== Random Forest =====================\\n')\n",
    "model_performance(rf1, X_test, y_test, rf1_y_val_pred)\n",
    "print('===================== Voting C_v4 =======================\\n')\n",
    "model_performance(vtc4, X_test_v4, y_test_v4, vtc4_predict_y)\n",
    "\n",
    "print('\\n\\n**********************      ROC      **********************\\n\\n')\n",
    "ax = plt.gca()\n",
    "\n",
    "resp = metrics.plot_roc_curve(vtc, X_test, y_test, ax=ax)\n",
    "resp = metrics.plot_roc_curve(rf1, X_test, y_test, ax=ax)\n",
    "resp = metrics.plot_roc_curve(vtc4, X_test_v4, y_test_v4, ax=ax)\n",
    "plt.show()\n",
    "\n",
    "#BEST: 0.84\n",
    "#KAGLE 0.83432"
   ]
  },
  {
   "cell_type": "markdown",
   "metadata": {
    "id": "ayOYfsNWvdRB"
   },
   "source": [
    "## **Selecionar Modelo para Submissão Final**"
   ]
  },
  {
   "cell_type": "code",
   "execution_count": 135,
   "metadata": {
    "colab": {
     "base_uri": "https://localhost:8080/"
    },
    "executionInfo": {
     "elapsed": 289,
     "status": "ok",
     "timestamp": 1645889180249,
     "user": {
      "displayName": "Ararajuba Data Science Project",
      "photoUrl": "https://lh3.googleusercontent.com/a/default-user=s64",
      "userId": "02004027308564222829"
     },
     "user_tz": 180
    },
    "id": "YEMeMrGNZmWN",
    "outputId": "af67f45f-25fc-45e5-ba53-7dd7cb17b363"
   },
   "outputs": [
    {
     "name": "stdout",
     "output_type": "stream",
     "text": [
      "(75757, 70)\n",
      "(9705, 63)\n",
      "(9705, 2)\n"
     ]
    }
   ],
   "source": [
    "print(df_training_test.shape)\n",
    "print(df_test.shape)\n",
    "print(df_samplesubmission.shape)"
   ]
  },
  {
   "cell_type": "code",
   "execution_count": 92,
   "metadata": {
    "colab": {
     "base_uri": "https://localhost:8080/",
     "height": 196
    },
    "executionInfo": {
     "elapsed": 317,
     "status": "ok",
     "timestamp": 1645887581741,
     "user": {
      "displayName": "Ararajuba Data Science Project",
      "photoUrl": "https://lh3.googleusercontent.com/a/default-user=s64",
      "userId": "02004027308564222829"
     },
     "user_tz": 180
    },
    "id": "Y848czTpi1XA",
    "outputId": "2dbfca45-315c-40a2-9520-818900fb217e"
   },
   "outputs": [
    {
     "data": {
      "application/vnd.google.colaboratory.module+javascript": "\n      import \"https://ssl.gstatic.com/colaboratory/data_table/81f25a011006ed3d/data_table.js\";\n\n      window.createDataTable({\n        data: [[{\n            'v': 0,\n            'f': \"0\",\n        },\n{\n            'v': 75757,\n            'f': \"75757\",\n        },\n{\n            'v': 0.0,\n            'f': \"0.0\",\n        }],\n [{\n            'v': 1,\n            'f': \"1\",\n        },\n{\n            'v': 75758,\n            'f': \"75758\",\n        },\n{\n            'v': 0.0,\n            'f': \"0.0\",\n        }],\n [{\n            'v': 2,\n            'f': \"2\",\n        },\n{\n            'v': 75759,\n            'f': \"75759\",\n        },\n{\n            'v': 0.0,\n            'f': \"0.0\",\n        }],\n [{\n            'v': 3,\n            'f': \"3\",\n        },\n{\n            'v': 75760,\n            'f': \"75760\",\n        },\n{\n            'v': 0.0,\n            'f': \"0.0\",\n        }],\n [{\n            'v': 4,\n            'f': \"4\",\n        },\n{\n            'v': 75761,\n            'f': \"75761\",\n        },\n{\n            'v': 0.0,\n            'f': \"0.0\",\n        }]],\n        columns: [[\"number\", \"index\"], [\"number\", \"id\"], [\"number\", \"site_eui\"]],\n        columnOptions: [{\"width\": \"1px\", \"className\": \"index_column\"}],\n        rowsPerPage: 25,\n        helpUrl: \"https://colab.research.google.com/notebooks/data_table.ipynb\",\n        suppressOutputScrolling: true,\n        minimumWidth: undefined,\n      });\n    ",
      "text/html": [
       "\n",
       "  <div id=\"df-a7abbbf1-1b81-4b0a-b1a8-dbb5010f8e63\">\n",
       "    <div class=\"colab-df-container\">\n",
       "      <div>\n",
       "<style scoped>\n",
       "    .dataframe tbody tr th:only-of-type {\n",
       "        vertical-align: middle;\n",
       "    }\n",
       "\n",
       "    .dataframe tbody tr th {\n",
       "        vertical-align: top;\n",
       "    }\n",
       "\n",
       "    .dataframe thead th {\n",
       "        text-align: right;\n",
       "    }\n",
       "</style>\n",
       "<table border=\"1\" class=\"dataframe\">\n",
       "  <thead>\n",
       "    <tr style=\"text-align: right;\">\n",
       "      <th></th>\n",
       "      <th>id</th>\n",
       "      <th>site_eui</th>\n",
       "    </tr>\n",
       "  </thead>\n",
       "  <tbody>\n",
       "    <tr>\n",
       "      <th>0</th>\n",
       "      <td>75757</td>\n",
       "      <td>0.0</td>\n",
       "    </tr>\n",
       "    <tr>\n",
       "      <th>1</th>\n",
       "      <td>75758</td>\n",
       "      <td>0.0</td>\n",
       "    </tr>\n",
       "    <tr>\n",
       "      <th>2</th>\n",
       "      <td>75759</td>\n",
       "      <td>0.0</td>\n",
       "    </tr>\n",
       "    <tr>\n",
       "      <th>3</th>\n",
       "      <td>75760</td>\n",
       "      <td>0.0</td>\n",
       "    </tr>\n",
       "    <tr>\n",
       "      <th>4</th>\n",
       "      <td>75761</td>\n",
       "      <td>0.0</td>\n",
       "    </tr>\n",
       "  </tbody>\n",
       "</table>\n",
       "</div>\n",
       "      <button class=\"colab-df-convert\" onclick=\"convertToInteractive('df-a7abbbf1-1b81-4b0a-b1a8-dbb5010f8e63')\"\n",
       "              title=\"Convert this dataframe to an interactive table.\"\n",
       "              style=\"display:none;\">\n",
       "        \n",
       "  <svg xmlns=\"http://www.w3.org/2000/svg\" height=\"24px\"viewBox=\"0 0 24 24\"\n",
       "       width=\"24px\">\n",
       "    <path d=\"M0 0h24v24H0V0z\" fill=\"none\"/>\n",
       "    <path d=\"M18.56 5.44l.94 2.06.94-2.06 2.06-.94-2.06-.94-.94-2.06-.94 2.06-2.06.94zm-11 1L8.5 8.5l.94-2.06 2.06-.94-2.06-.94L8.5 2.5l-.94 2.06-2.06.94zm10 10l.94 2.06.94-2.06 2.06-.94-2.06-.94-.94-2.06-.94 2.06-2.06.94z\"/><path d=\"M17.41 7.96l-1.37-1.37c-.4-.4-.92-.59-1.43-.59-.52 0-1.04.2-1.43.59L10.3 9.45l-7.72 7.72c-.78.78-.78 2.05 0 2.83L4 21.41c.39.39.9.59 1.41.59.51 0 1.02-.2 1.41-.59l7.78-7.78 2.81-2.81c.8-.78.8-2.07 0-2.86zM5.41 20L4 18.59l7.72-7.72 1.47 1.35L5.41 20z\"/>\n",
       "  </svg>\n",
       "      </button>\n",
       "      \n",
       "  <style>\n",
       "    .colab-df-container {\n",
       "      display:flex;\n",
       "      flex-wrap:wrap;\n",
       "      gap: 12px;\n",
       "    }\n",
       "\n",
       "    .colab-df-convert {\n",
       "      background-color: #E8F0FE;\n",
       "      border: none;\n",
       "      border-radius: 50%;\n",
       "      cursor: pointer;\n",
       "      display: none;\n",
       "      fill: #1967D2;\n",
       "      height: 32px;\n",
       "      padding: 0 0 0 0;\n",
       "      width: 32px;\n",
       "    }\n",
       "\n",
       "    .colab-df-convert:hover {\n",
       "      background-color: #E2EBFA;\n",
       "      box-shadow: 0px 1px 2px rgba(60, 64, 67, 0.3), 0px 1px 3px 1px rgba(60, 64, 67, 0.15);\n",
       "      fill: #174EA6;\n",
       "    }\n",
       "\n",
       "    [theme=dark] .colab-df-convert {\n",
       "      background-color: #3B4455;\n",
       "      fill: #D2E3FC;\n",
       "    }\n",
       "\n",
       "    [theme=dark] .colab-df-convert:hover {\n",
       "      background-color: #434B5C;\n",
       "      box-shadow: 0px 1px 3px 1px rgba(0, 0, 0, 0.15);\n",
       "      filter: drop-shadow(0px 1px 2px rgba(0, 0, 0, 0.3));\n",
       "      fill: #FFFFFF;\n",
       "    }\n",
       "  </style>\n",
       "\n",
       "      <script>\n",
       "        const buttonEl =\n",
       "          document.querySelector('#df-a7abbbf1-1b81-4b0a-b1a8-dbb5010f8e63 button.colab-df-convert');\n",
       "        buttonEl.style.display =\n",
       "          google.colab.kernel.accessAllowed ? 'block' : 'none';\n",
       "\n",
       "        async function convertToInteractive(key) {\n",
       "          const element = document.querySelector('#df-a7abbbf1-1b81-4b0a-b1a8-dbb5010f8e63');\n",
       "          const dataTable =\n",
       "            await google.colab.kernel.invokeFunction('convertToInteractive',\n",
       "                                                     [key], {});\n",
       "          if (!dataTable) return;\n",
       "\n",
       "          const docLinkHtml = 'Like what you see? Visit the ' +\n",
       "            '<a target=\"_blank\" href=https://colab.research.google.com/notebooks/data_table.ipynb>data table notebook</a>'\n",
       "            + ' to learn more about interactive tables.';\n",
       "          element.innerHTML = '';\n",
       "          dataTable['output_type'] = 'display_data';\n",
       "          await google.colab.output.renderOutput(dataTable, element);\n",
       "          const docLink = document.createElement('div');\n",
       "          docLink.innerHTML = docLinkHtml;\n",
       "          element.appendChild(docLink);\n",
       "        }\n",
       "      </script>\n",
       "    </div>\n",
       "  </div>\n",
       "  "
      ],
      "text/plain": [
       "      id  site_eui\n",
       "0  75757       0.0\n",
       "1  75758       0.0\n",
       "2  75759       0.0\n",
       "3  75760       0.0\n",
       "4  75761       0.0"
      ]
     },
     "execution_count": 92,
     "metadata": {},
     "output_type": "execute_result"
    }
   ],
   "source": [
    "df_samplesubmission.head()"
   ]
  },
  {
   "cell_type": "code",
   "execution_count": 57,
   "metadata": {
    "executionInfo": {
     "elapsed": 254,
     "status": "ok",
     "timestamp": 1645889873952,
     "user": {
      "displayName": "Ararajuba Data Science Project",
      "photoUrl": "https://lh3.googleusercontent.com/a/default-user=s64",
      "userId": "02004027308564222829"
     },
     "user_tz": 180
    },
    "id": "qIxzfA78aQHb"
   },
   "outputs": [],
   "source": [
    "test = df_test_test\n",
    "test1 = test.copy()\n",
    "\n",
    "test.drop('site_eui',axis = 1, inplace=True, errors='ignore')\n",
    "test1.drop('site_eui',axis = 1, inplace=True, errors='ignore')"
   ]
  },
  {
   "cell_type": "code",
   "execution_count": null,
   "metadata": {
    "id": "g6mTiEBfP0ej"
   },
   "outputs": [],
   "source": [
    "#test = df_unlabeled_test_v4\n",
    "#test1 = test.copy()\n",
    "#\n",
    "#test.drop('diabetes_mellitus',axis = 1, inplace=True, errors='ignore')\n",
    "#test1.drop('diabetes_mellitus',axis = 1, inplace=True, errors='ignore')"
   ]
  },
  {
   "cell_type": "code",
   "execution_count": 65,
   "metadata": {
    "colab": {
     "base_uri": "https://localhost:8080/",
     "height": 196
    },
    "executionInfo": {
     "elapsed": 7,
     "status": "ok",
     "timestamp": 1645890202064,
     "user": {
      "displayName": "Ararajuba Data Science Project",
      "photoUrl": "https://lh3.googleusercontent.com/a/default-user=s64",
      "userId": "02004027308564222829"
     },
     "user_tz": 180
    },
    "id": "TxWJCFI4vcOz",
    "outputId": "77a04551-2e66-4ec2-9c7a-53629bbdfb04"
   },
   "outputs": [
    {
     "data": {
      "application/vnd.google.colaboratory.module+javascript": "\n      import \"https://ssl.gstatic.com/colaboratory/data_table/81f25a011006ed3d/data_table.js\";\n\n      window.createDataTable({\n        data: [[{\n            'v': 0,\n            'f': \"0\",\n        },\n{\n            'v': 75757,\n            'f': \"75757\",\n        },\n{\n            'v': 113.61872676723056,\n            'f': \"113.61872676723056\",\n        }],\n [{\n            'v': 1,\n            'f': \"1\",\n        },\n{\n            'v': 75758,\n            'f': \"75758\",\n        },\n{\n            'v': 96.52256640033079,\n            'f': \"96.52256640033079\",\n        }],\n [{\n            'v': 2,\n            'f': \"2\",\n        },\n{\n            'v': 75759,\n            'f': \"75759\",\n        },\n{\n            'v': 143.15568984683864,\n            'f': \"143.15568984683864\",\n        }],\n [{\n            'v': 3,\n            'f': \"3\",\n        },\n{\n            'v': 75760,\n            'f': \"75760\",\n        },\n{\n            'v': 116.14298915275026,\n            'f': \"116.14298915275026\",\n        }],\n [{\n            'v': 4,\n            'f': \"4\",\n        },\n{\n            'v': 75761,\n            'f': \"75761\",\n        },\n{\n            'v': 122.81627430870901,\n            'f': \"122.81627430870901\",\n        }]],\n        columns: [[\"number\", \"index\"], [\"number\", \"id\"], [\"number\", \"site_eui\"]],\n        columnOptions: [{\"width\": \"1px\", \"className\": \"index_column\"}],\n        rowsPerPage: 25,\n        helpUrl: \"https://colab.research.google.com/notebooks/data_table.ipynb\",\n        suppressOutputScrolling: true,\n        minimumWidth: undefined,\n      });\n    ",
      "text/html": [
       "\n",
       "  <div id=\"df-059bcb9c-4bbe-4d8a-a397-4d4a967d050e\">\n",
       "    <div class=\"colab-df-container\">\n",
       "      <div>\n",
       "<style scoped>\n",
       "    .dataframe tbody tr th:only-of-type {\n",
       "        vertical-align: middle;\n",
       "    }\n",
       "\n",
       "    .dataframe tbody tr th {\n",
       "        vertical-align: top;\n",
       "    }\n",
       "\n",
       "    .dataframe thead th {\n",
       "        text-align: right;\n",
       "    }\n",
       "</style>\n",
       "<table border=\"1\" class=\"dataframe\">\n",
       "  <thead>\n",
       "    <tr style=\"text-align: right;\">\n",
       "      <th></th>\n",
       "      <th>id</th>\n",
       "      <th>site_eui</th>\n",
       "    </tr>\n",
       "  </thead>\n",
       "  <tbody>\n",
       "    <tr>\n",
       "      <th>0</th>\n",
       "      <td>75757</td>\n",
       "      <td>113.618727</td>\n",
       "    </tr>\n",
       "    <tr>\n",
       "      <th>1</th>\n",
       "      <td>75758</td>\n",
       "      <td>96.522566</td>\n",
       "    </tr>\n",
       "    <tr>\n",
       "      <th>2</th>\n",
       "      <td>75759</td>\n",
       "      <td>143.155690</td>\n",
       "    </tr>\n",
       "    <tr>\n",
       "      <th>3</th>\n",
       "      <td>75760</td>\n",
       "      <td>116.142989</td>\n",
       "    </tr>\n",
       "    <tr>\n",
       "      <th>4</th>\n",
       "      <td>75761</td>\n",
       "      <td>122.816274</td>\n",
       "    </tr>\n",
       "  </tbody>\n",
       "</table>\n",
       "</div>\n",
       "      <button class=\"colab-df-convert\" onclick=\"convertToInteractive('df-059bcb9c-4bbe-4d8a-a397-4d4a967d050e')\"\n",
       "              title=\"Convert this dataframe to an interactive table.\"\n",
       "              style=\"display:none;\">\n",
       "        \n",
       "  <svg xmlns=\"http://www.w3.org/2000/svg\" height=\"24px\"viewBox=\"0 0 24 24\"\n",
       "       width=\"24px\">\n",
       "    <path d=\"M0 0h24v24H0V0z\" fill=\"none\"/>\n",
       "    <path d=\"M18.56 5.44l.94 2.06.94-2.06 2.06-.94-2.06-.94-.94-2.06-.94 2.06-2.06.94zm-11 1L8.5 8.5l.94-2.06 2.06-.94-2.06-.94L8.5 2.5l-.94 2.06-2.06.94zm10 10l.94 2.06.94-2.06 2.06-.94-2.06-.94-.94-2.06-.94 2.06-2.06.94z\"/><path d=\"M17.41 7.96l-1.37-1.37c-.4-.4-.92-.59-1.43-.59-.52 0-1.04.2-1.43.59L10.3 9.45l-7.72 7.72c-.78.78-.78 2.05 0 2.83L4 21.41c.39.39.9.59 1.41.59.51 0 1.02-.2 1.41-.59l7.78-7.78 2.81-2.81c.8-.78.8-2.07 0-2.86zM5.41 20L4 18.59l7.72-7.72 1.47 1.35L5.41 20z\"/>\n",
       "  </svg>\n",
       "      </button>\n",
       "      \n",
       "  <style>\n",
       "    .colab-df-container {\n",
       "      display:flex;\n",
       "      flex-wrap:wrap;\n",
       "      gap: 12px;\n",
       "    }\n",
       "\n",
       "    .colab-df-convert {\n",
       "      background-color: #E8F0FE;\n",
       "      border: none;\n",
       "      border-radius: 50%;\n",
       "      cursor: pointer;\n",
       "      display: none;\n",
       "      fill: #1967D2;\n",
       "      height: 32px;\n",
       "      padding: 0 0 0 0;\n",
       "      width: 32px;\n",
       "    }\n",
       "\n",
       "    .colab-df-convert:hover {\n",
       "      background-color: #E2EBFA;\n",
       "      box-shadow: 0px 1px 2px rgba(60, 64, 67, 0.3), 0px 1px 3px 1px rgba(60, 64, 67, 0.15);\n",
       "      fill: #174EA6;\n",
       "    }\n",
       "\n",
       "    [theme=dark] .colab-df-convert {\n",
       "      background-color: #3B4455;\n",
       "      fill: #D2E3FC;\n",
       "    }\n",
       "\n",
       "    [theme=dark] .colab-df-convert:hover {\n",
       "      background-color: #434B5C;\n",
       "      box-shadow: 0px 1px 3px 1px rgba(0, 0, 0, 0.15);\n",
       "      filter: drop-shadow(0px 1px 2px rgba(0, 0, 0, 0.3));\n",
       "      fill: #FFFFFF;\n",
       "    }\n",
       "  </style>\n",
       "\n",
       "      <script>\n",
       "        const buttonEl =\n",
       "          document.querySelector('#df-059bcb9c-4bbe-4d8a-a397-4d4a967d050e button.colab-df-convert');\n",
       "        buttonEl.style.display =\n",
       "          google.colab.kernel.accessAllowed ? 'block' : 'none';\n",
       "\n",
       "        async function convertToInteractive(key) {\n",
       "          const element = document.querySelector('#df-059bcb9c-4bbe-4d8a-a397-4d4a967d050e');\n",
       "          const dataTable =\n",
       "            await google.colab.kernel.invokeFunction('convertToInteractive',\n",
       "                                                     [key], {});\n",
       "          if (!dataTable) return;\n",
       "\n",
       "          const docLinkHtml = 'Like what you see? Visit the ' +\n",
       "            '<a target=\"_blank\" href=https://colab.research.google.com/notebooks/data_table.ipynb>data table notebook</a>'\n",
       "            + ' to learn more about interactive tables.';\n",
       "          element.innerHTML = '';\n",
       "          dataTable['output_type'] = 'display_data';\n",
       "          await google.colab.output.renderOutput(dataTable, element);\n",
       "          const docLink = document.createElement('div');\n",
       "          docLink.innerHTML = docLinkHtml;\n",
       "          element.appendChild(docLink);\n",
       "        }\n",
       "      </script>\n",
       "    </div>\n",
       "  </div>\n",
       "  "
      ],
      "text/plain": [
       "      id    site_eui\n",
       "0  75757  113.618727\n",
       "1  75758   96.522566\n",
       "2  75759  143.155690\n",
       "3  75760  116.142989\n",
       "4  75761  122.816274"
      ]
     },
     "execution_count": 65,
     "metadata": {},
     "output_type": "execute_result"
    }
   ],
   "source": [
    "file = 'submission_1.0.csv' #Submissão v1 com ajuste agrupamento de facility e modelo de regressão simples\n",
    "\n",
    "test = df_test_test\n",
    "test1 = test.copy()\n",
    "\n",
    "test1[\"site_eui\"] = modelo.predict(test)\n",
    "test1[[\"id\",\"site_eui\"]].to_csv(file,index=False)\n",
    "test1[[\"id\",\"site_eui\"]].head()"
   ]
  },
  {
   "cell_type": "code",
   "execution_count": 66,
   "metadata": {
    "colab": {
     "base_uri": "https://localhost:8080/"
    },
    "executionInfo": {
     "elapsed": 7027,
     "status": "ok",
     "timestamp": 1645890246881,
     "user": {
      "displayName": "Ararajuba Data Science Project",
      "photoUrl": "https://lh3.googleusercontent.com/a/default-user=s64",
      "userId": "02004027308564222829"
     },
     "user_tz": 180
    },
    "id": "J09hnqCWsMPh",
    "outputId": "d32fe0cb-29e6-4598-d5a3-1b26f4413537"
   },
   "outputs": [
    {
     "name": "stdout",
     "output_type": "stream",
     "text": [
      "Warning: Looks like you're using an outdated API Version, please consider updating (server 1.5.12 / client 1.5.4)\n",
      "100% 233k/233k [00:04<00:00, 48.5kB/s]\n",
      "Successfully submitted to WiDS Datathon 2022"
     ]
    }
   ],
   "source": [
    "!kaggle competitions submit -c widsdatathon2022 -f submission_1.0.csv -m \"Submissão v1 com ajuste agrupamento de facility e modelo de regressão simples\""
   ]
  },
  {
   "cell_type": "code",
   "execution_count": 68,
   "metadata": {
    "colab": {
     "base_uri": "https://localhost:8080/",
     "height": 196
    },
    "executionInfo": {
     "elapsed": 753,
     "status": "ok",
     "timestamp": 1645890279134,
     "user": {
      "displayName": "Ararajuba Data Science Project",
      "photoUrl": "https://lh3.googleusercontent.com/a/default-user=s64",
      "userId": "02004027308564222829"
     },
     "user_tz": 180
    },
    "id": "mp7UldPYrHQp",
    "outputId": "65d34cf8-6547-4779-d2d5-37860ea96230"
   },
   "outputs": [
    {
     "data": {
      "application/vnd.google.colaboratory.module+javascript": "\n      import \"https://ssl.gstatic.com/colaboratory/data_table/81f25a011006ed3d/data_table.js\";\n\n      window.createDataTable({\n        data: [[{\n            'v': 0,\n            'f': \"0\",\n        },\n{\n            'v': 75757,\n            'f': \"75757\",\n        },\n{\n            'v': 147.790728027231,\n            'f': \"147.790728027231\",\n        }],\n [{\n            'v': 1,\n            'f': \"1\",\n        },\n{\n            'v': 75758,\n            'f': \"75758\",\n        },\n{\n            'v': 87.30898442783953,\n            'f': \"87.30898442783953\",\n        }],\n [{\n            'v': 2,\n            'f': \"2\",\n        },\n{\n            'v': 75759,\n            'f': \"75759\",\n        },\n{\n            'v': 157.03861648154236,\n            'f': \"157.03861648154236\",\n        }],\n [{\n            'v': 3,\n            'f': \"3\",\n        },\n{\n            'v': 75760,\n            'f': \"75760\",\n        },\n{\n            'v': 149.48242711677364,\n            'f': \"149.48242711677364\",\n        }],\n [{\n            'v': 4,\n            'f': \"4\",\n        },\n{\n            'v': 75761,\n            'f': \"75761\",\n        },\n{\n            'v': 93.73050554568297,\n            'f': \"93.73050554568297\",\n        }]],\n        columns: [[\"number\", \"index\"], [\"number\", \"id\"], [\"number\", \"site_eui\"]],\n        columnOptions: [{\"width\": \"1px\", \"className\": \"index_column\"}],\n        rowsPerPage: 25,\n        helpUrl: \"https://colab.research.google.com/notebooks/data_table.ipynb\",\n        suppressOutputScrolling: true,\n        minimumWidth: undefined,\n      });\n    ",
      "text/html": [
       "\n",
       "  <div id=\"df-572825c8-ec1d-4482-9ad9-8d940b6c12a7\">\n",
       "    <div class=\"colab-df-container\">\n",
       "      <div>\n",
       "<style scoped>\n",
       "    .dataframe tbody tr th:only-of-type {\n",
       "        vertical-align: middle;\n",
       "    }\n",
       "\n",
       "    .dataframe tbody tr th {\n",
       "        vertical-align: top;\n",
       "    }\n",
       "\n",
       "    .dataframe thead th {\n",
       "        text-align: right;\n",
       "    }\n",
       "</style>\n",
       "<table border=\"1\" class=\"dataframe\">\n",
       "  <thead>\n",
       "    <tr style=\"text-align: right;\">\n",
       "      <th></th>\n",
       "      <th>id</th>\n",
       "      <th>site_eui</th>\n",
       "    </tr>\n",
       "  </thead>\n",
       "  <tbody>\n",
       "    <tr>\n",
       "      <th>0</th>\n",
       "      <td>75757</td>\n",
       "      <td>147.790728</td>\n",
       "    </tr>\n",
       "    <tr>\n",
       "      <th>1</th>\n",
       "      <td>75758</td>\n",
       "      <td>87.308984</td>\n",
       "    </tr>\n",
       "    <tr>\n",
       "      <th>2</th>\n",
       "      <td>75759</td>\n",
       "      <td>157.038616</td>\n",
       "    </tr>\n",
       "    <tr>\n",
       "      <th>3</th>\n",
       "      <td>75760</td>\n",
       "      <td>149.482427</td>\n",
       "    </tr>\n",
       "    <tr>\n",
       "      <th>4</th>\n",
       "      <td>75761</td>\n",
       "      <td>93.730506</td>\n",
       "    </tr>\n",
       "  </tbody>\n",
       "</table>\n",
       "</div>\n",
       "      <button class=\"colab-df-convert\" onclick=\"convertToInteractive('df-572825c8-ec1d-4482-9ad9-8d940b6c12a7')\"\n",
       "              title=\"Convert this dataframe to an interactive table.\"\n",
       "              style=\"display:none;\">\n",
       "        \n",
       "  <svg xmlns=\"http://www.w3.org/2000/svg\" height=\"24px\"viewBox=\"0 0 24 24\"\n",
       "       width=\"24px\">\n",
       "    <path d=\"M0 0h24v24H0V0z\" fill=\"none\"/>\n",
       "    <path d=\"M18.56 5.44l.94 2.06.94-2.06 2.06-.94-2.06-.94-.94-2.06-.94 2.06-2.06.94zm-11 1L8.5 8.5l.94-2.06 2.06-.94-2.06-.94L8.5 2.5l-.94 2.06-2.06.94zm10 10l.94 2.06.94-2.06 2.06-.94-2.06-.94-.94-2.06-.94 2.06-2.06.94z\"/><path d=\"M17.41 7.96l-1.37-1.37c-.4-.4-.92-.59-1.43-.59-.52 0-1.04.2-1.43.59L10.3 9.45l-7.72 7.72c-.78.78-.78 2.05 0 2.83L4 21.41c.39.39.9.59 1.41.59.51 0 1.02-.2 1.41-.59l7.78-7.78 2.81-2.81c.8-.78.8-2.07 0-2.86zM5.41 20L4 18.59l7.72-7.72 1.47 1.35L5.41 20z\"/>\n",
       "  </svg>\n",
       "      </button>\n",
       "      \n",
       "  <style>\n",
       "    .colab-df-container {\n",
       "      display:flex;\n",
       "      flex-wrap:wrap;\n",
       "      gap: 12px;\n",
       "    }\n",
       "\n",
       "    .colab-df-convert {\n",
       "      background-color: #E8F0FE;\n",
       "      border: none;\n",
       "      border-radius: 50%;\n",
       "      cursor: pointer;\n",
       "      display: none;\n",
       "      fill: #1967D2;\n",
       "      height: 32px;\n",
       "      padding: 0 0 0 0;\n",
       "      width: 32px;\n",
       "    }\n",
       "\n",
       "    .colab-df-convert:hover {\n",
       "      background-color: #E2EBFA;\n",
       "      box-shadow: 0px 1px 2px rgba(60, 64, 67, 0.3), 0px 1px 3px 1px rgba(60, 64, 67, 0.15);\n",
       "      fill: #174EA6;\n",
       "    }\n",
       "\n",
       "    [theme=dark] .colab-df-convert {\n",
       "      background-color: #3B4455;\n",
       "      fill: #D2E3FC;\n",
       "    }\n",
       "\n",
       "    [theme=dark] .colab-df-convert:hover {\n",
       "      background-color: #434B5C;\n",
       "      box-shadow: 0px 1px 3px 1px rgba(0, 0, 0, 0.15);\n",
       "      filter: drop-shadow(0px 1px 2px rgba(0, 0, 0, 0.3));\n",
       "      fill: #FFFFFF;\n",
       "    }\n",
       "  </style>\n",
       "\n",
       "      <script>\n",
       "        const buttonEl =\n",
       "          document.querySelector('#df-572825c8-ec1d-4482-9ad9-8d940b6c12a7 button.colab-df-convert');\n",
       "        buttonEl.style.display =\n",
       "          google.colab.kernel.accessAllowed ? 'block' : 'none';\n",
       "\n",
       "        async function convertToInteractive(key) {\n",
       "          const element = document.querySelector('#df-572825c8-ec1d-4482-9ad9-8d940b6c12a7');\n",
       "          const dataTable =\n",
       "            await google.colab.kernel.invokeFunction('convertToInteractive',\n",
       "                                                     [key], {});\n",
       "          if (!dataTable) return;\n",
       "\n",
       "          const docLinkHtml = 'Like what you see? Visit the ' +\n",
       "            '<a target=\"_blank\" href=https://colab.research.google.com/notebooks/data_table.ipynb>data table notebook</a>'\n",
       "            + ' to learn more about interactive tables.';\n",
       "          element.innerHTML = '';\n",
       "          dataTable['output_type'] = 'display_data';\n",
       "          await google.colab.output.renderOutput(dataTable, element);\n",
       "          const docLink = document.createElement('div');\n",
       "          docLink.innerHTML = docLinkHtml;\n",
       "          element.appendChild(docLink);\n",
       "        }\n",
       "      </script>\n",
       "    </div>\n",
       "  </div>\n",
       "  "
      ],
      "text/plain": [
       "      id    site_eui\n",
       "0  75757  147.790728\n",
       "1  75758   87.308984\n",
       "2  75759  157.038616\n",
       "3  75760  149.482427\n",
       "4  75761   93.730506"
      ]
     },
     "execution_count": 68,
     "metadata": {},
     "output_type": "execute_result"
    }
   ],
   "source": [
    "file = 'submission_2.0.csv' #Submissão v2 com ajuste agrupamento de facility e Votting Regression\n",
    "\n",
    "test = df_test_test\n",
    "test1 = test.copy()\n",
    "\n",
    "test1[\"site_eui\"] = vtc.predict(test)\n",
    "test1[[\"id\",\"site_eui\"]].to_csv(file,index=False)\n",
    "test1[[\"id\",\"site_eui\"]].head()"
   ]
  },
  {
   "cell_type": "code",
   "execution_count": 69,
   "metadata": {
    "colab": {
     "base_uri": "https://localhost:8080/"
    },
    "executionInfo": {
     "elapsed": 7730,
     "status": "ok",
     "timestamp": 1645890292971,
     "user": {
      "displayName": "Ararajuba Data Science Project",
      "photoUrl": "https://lh3.googleusercontent.com/a/default-user=s64",
      "userId": "02004027308564222829"
     },
     "user_tz": 180
    },
    "id": "CMtSCQSP4p3S",
    "outputId": "3262bfc9-47a6-47e6-cfcc-9619bd8d9c0f"
   },
   "outputs": [
    {
     "name": "stdout",
     "output_type": "stream",
     "text": [
      "Warning: Looks like you're using an outdated API Version, please consider updating (server 1.5.12 / client 1.5.4)\n",
      "100% 233k/233k [00:05<00:00, 42.0kB/s]\n",
      "Successfully submitted to WiDS Datathon 2022"
     ]
    }
   ],
   "source": [
    "!kaggle competitions submit -c widsdatathon2022 -f submission_2.0.csv -m \"Submissão v2 com ajuste agrupamento de facility e Votting Regression\""
   ]
  }
 ],
 "metadata": {
  "colab": {
   "authorship_tag": "ABX9TyOCL0QbpjRNR5qw6r+CTd5W",
   "collapsed_sections": [
    "MYbdSnqYHvTa"
   ],
   "name": "CML_wids_2022.ipynb",
   "provenance": []
  },
  "kernelspec": {
   "display_name": "Python 3",
   "language": "python",
   "name": "python3"
  },
  "language_info": {
   "codemirror_mode": {
    "name": "ipython",
    "version": 3
   },
   "file_extension": ".py",
   "mimetype": "text/x-python",
   "name": "python",
   "nbconvert_exporter": "python",
   "pygments_lexer": "ipython3",
   "version": "3.8.3"
  }
 },
 "nbformat": 4,
 "nbformat_minor": 1
}
